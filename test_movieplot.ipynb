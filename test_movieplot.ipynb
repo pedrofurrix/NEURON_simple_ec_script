{
 "cells": [
  {
   "cell_type": "code",
   "execution_count": 1,
   "metadata": {},
   "outputs": [
    {
     "name": "stdout",
     "output_type": "stream",
     "text": [
      "c:\\Users\\Pc\\Documents\\Charite\\NEURON\\Extracellular_test\\Homogeneous_E-field\n",
      "c:\\Users\\Pc\\Documents\\Charite\\NEURON\\Extracellular_test\\Homogeneous_E-field\\mechanisms\\nrnmech.dll\n",
      "1 299\n",
      "After any change to cell geometry or nseg, be sure to invoke setpointers()\n"
     ]
    },
    {
     "data": {
      "text/plain": [
       "0.0"
      ]
     },
     "execution_count": 1,
     "metadata": {},
     "output_type": "execute_result"
    }
   ],
   "source": [
    "# Import neuron\n",
    "from neuron import h,gui\n",
    "\n",
    "# Import Mechanisms\n",
    "import os\n",
    "current_directory = os.getcwd()\n",
    "print(current_directory)\n",
    "path = os.path.join(current_directory, \"mechanisms\", \"nrnmech.dll\")\n",
    "print(path)\n",
    "h.nrn_load_dll(path)\n",
    "\n",
    "# Import utilities \n",
    "from neuron.units import ms,mV,um,V,m \n",
    "import matplotlib.pyplot as plt \n",
    "import numpy as np \n",
    "h.load_file(\"stdrun.hoc\")\n",
    "h.cvode_active(0) #turn off variable time step\n",
    "# h.load_file(\"anatscale.hoc\")\n",
    "\n",
    "\n",
    "#Local Field Potential calculation\n",
    "#h.load_file(\"./functions/field.hoc\")\n",
    "\n",
    "##### Import cell model\n",
    "from functions.ballandstick import BallAndStick,BallAndStick_pas\n",
    "cell=BallAndStick(0,0,0,0,0,0)\n",
    "print(cell.soma.nseg,cell.dend.nseg)\n",
    "\n",
    "# Interpolate and set pointers between xtra and extracellular\n",
    "h.load_file(\"./functions/interpxyz.hoc\")\n",
    "h.load_file(\"./functions/setpointers.hoc\")\n",
    "\n",
    "\n",
    "\n",
    "from functions.calcrx import setelec,homogenous,set_uniform_field_between_plates\n",
    "\n",
    "v_plate=40*V #- potential difference between the plates\n",
    "distance=1*m #distance\n",
    "field_orientation=np.array([1,0,0])#along the x axis\n",
    "ref_point=[0,0,0] #reference point with a 0 e_extracellular\n",
    "\n",
    "set_uniform_field_between_plates(v_plate,distance,field_orientation,ref_point)\n",
    "\n",
    "\n",
    "dt=1*ms\n",
    "simtime=1000*ms\n",
    "depth=0\n",
    "modfreq=0\n",
    "v_init=-65*mV\n",
    "\n",
    "h.dt=dt\n",
    "h.v_init=v_init\n",
    "\n",
    "\n",
    "# import functions.stim as stim\n",
    "# ton=20\n",
    "# amp=1000\n",
    "# dur=900\n",
    "# freq=10\n",
    "# depth=1\n",
    "# modfreq=5\n",
    "# times,stim1=stim.ampmodulation_wiki(ton,amp,depth,dt,dur,simtime,freq,modfreq)\n",
    "\n",
    "#test with IClamp\n",
    "teststim=h.IClamp(cell.soma(0.5))\n",
    "teststim.delay=1\n",
    "teststim.amp=100\n",
    "teststim.dur=250\n",
    "\n",
    "teststim2=h.IClamp(cell.dend(1))\n",
    "teststim2.delay=300\n",
    "teststim2.amp=100\n",
    "teststim2.dur=250\n",
    "\n",
    "t=h.Vector().record(h._ref_t)\n",
    "is_xtra=h.Vector().record(h._ref_is_xtra)\n",
    "soma_v=h.Vector().record(cell.soma(0.5)._ref_v)\n",
    "dend_v=h.Vector().record(cell.dend(0.5)._ref_v)\n",
    "extracellular_v_soma = h.Vector().record(cell.soma(0.5)._ref_vext[0])\n",
    "\n",
    "\n",
    "#Attempt1\n",
    "# from functions.shapeplot_movie import movie_v\n",
    "\n",
    "# callback=movie_v(cell)\n",
    "\n",
    "# h.load_file(\"movierun.hoc\")\n",
    "\n",
    "# h.movierun()\n",
    "\n",
    "#Attempt 2 \n",
    "# from functions.gpt_shapeplot import morphology_voltage_movie\n",
    "# fig, callback = morphology_voltage_movie(cell)\n",
    "# from functions.gpt_shapeplot import update_plot,plot_final\n",
    "\n",
    "# v_over_time,callback= update_plot(cell)\n",
    "\n",
    "\n",
    "#Attempt 3\n",
    "# h.finitialize(v_init)\n",
    "# h.continuerun(simtime)\n",
    "# print(v_over_time)\n",
    "# fig=plot_final(cell,v_over_time)\n",
    "# fig.write_html(\"./data/final_voltage_plot.html\")\n",
    "\n",
    "#Attempt 4\n",
    "ps=h.PlotShape(True)\n",
    "ps.variable(\"v\")\n",
    "h.fast_flush_list.append(ps)\n",
    "ps.exec_menu(\"Shape Plot\")\n",
    "\n",
    "\n",
    "# ps.plot(plt)\n",
    "# plt.show()"
   ]
  },
  {
   "cell_type": "code",
   "execution_count": null,
   "metadata": {},
   "outputs": [
    {
     "name": "stdout",
     "output_type": "stream",
     "text": [
      "Changed dt\n"
     ]
    },
    {
     "data": {
      "text/plain": [
       "0.0"
      ]
     },
     "execution_count": 2,
     "metadata": {},
     "output_type": "execute_result"
    },
    {
     "ename": "",
     "evalue": "",
     "output_type": "error",
     "traceback": [
      "\u001b[1;31mThe Kernel crashed while executing code in the current cell or a previous cell. \n",
      "\u001b[1;31mPlease review the code in the cell(s) to identify a possible cause of the failure. \n",
      "\u001b[1;31mClick <a href='https://aka.ms/vscodeJupyterKernelCrash'>here</a> for more info. \n",
      "\u001b[1;31mView Jupyter <a href='command:jupyter.viewOutput'>log</a> for further details."
     ]
    }
   ],
   "source": [
    "h.load_file(\"movierun.hoc\")\n",
    "h.movierun(simtime)"
   ]
  }
 ],
 "metadata": {
  "kernelspec": {
   "display_name": ".venv",
   "language": "python",
   "name": "python3"
  },
  "language_info": {
   "codemirror_mode": {
    "name": "ipython",
    "version": 3
   },
   "file_extension": ".py",
   "mimetype": "text/x-python",
   "name": "python",
   "nbconvert_exporter": "python",
   "pygments_lexer": "ipython3",
   "version": "3.12.5"
  }
 },
 "nbformat": 4,
 "nbformat_minor": 2
}
