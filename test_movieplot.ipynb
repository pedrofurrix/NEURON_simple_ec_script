{
 "cells": [
  {
   "cell_type": "code",
   "execution_count": null,
   "metadata": {},
   "outputs": [
    {
     "name": "stdout",
     "output_type": "stream",
     "text": [
      "c:\\Users\\Pc\\Documents\\Charite\\NEURON\\Extracellular_test\\Homogeneous_Efield\n",
      "c:\\Users\\Pc\\Documents\\Charite\\NEURON\\Extracellular_test\\Homogeneous_Efield\\mechanisms\\nrnmech.dll\n",
      "1 151\n",
      "After any change to cell geometry or nseg, be sure to invoke setpointers()\n",
      "c:\\Users\\Pc\\Documents\\Charite\\NEURON\\Extracellular_test\\Homogeneous_Efield\n"
     ]
    },
    {
     "data": {
      "text/plain": [
       "0.0"
      ]
     },
     "execution_count": 1,
     "metadata": {},
     "output_type": "execute_result"
    }
   ],
   "source": [
    "# Import neuron\n",
    "from neuron import h,gui\n",
    "\n",
    "# Import Mechanisms\n",
    "import os\n",
    "current_directory = os.getcwd()\n",
    "print(current_directory)\n",
    "path = os.path.join(current_directory, \"mechanisms\", \"nrnmech.dll\")\n",
    "print(path)\n",
    "h.nrn_load_dll(path)\n",
    "\n",
    "# Import utilities \n",
    "from neuron.units import ms,mV,um,V,m \n",
    "import matplotlib.pyplot as plt \n",
    "import numpy as np \n",
    "h.load_file(\"stdrun.hoc\")\n",
    "h.cvode_active(0) #turn off variable time step\n",
    "# h.load_file(\"anatscale.hoc\")\n",
    "import pandas as pd\n",
    "\n",
    "\n",
    "#Local Field Potential calculation\n",
    "#h.load_file(\"./functions/field.hoc\")\n",
    "\n",
    "##### Import cell model\n",
    "from functions.ballandstick import BallAndStick,BallAndStick_pas,BallAndStick2\n",
    "cell=BallAndStick2(0,0,0,0,0,0)\n",
    "print(cell.soma.nseg,cell.dend.nseg)\n",
    "\n",
    "# Interpolate and set pointers between xtra and extracellular\n",
    "h.load_file(\"./functions/interpxyz.hoc\")\n",
    "h.load_file(\"./functions/setpointers.hoc\")\n",
    "\n",
    "\n",
    "\n",
    "\n",
    "from functions.calcrx import setelec,homogenous,set_uniform_field_between_plates\n",
    "\n",
    "# plot=setelec([50],[50],[50])\n",
    "\n",
    "v_plate=40*V #- potential difference between the plates\n",
    "distance=1*m #distance\n",
    "field_orientation=np.array([1,0,0])#along the x axis\n",
    "ref_point=[0,0,0] #reference point with a 0 e_extracellular\n",
    "\n",
    "set_uniform_field_between_plates(v_plate,distance,field_orientation,ref_point)\n",
    "\n",
    "\n",
    "dt=1*ms\n",
    "simtime=1000*ms\n",
    "depth=0\n",
    "modfreq=0\n",
    "v_init=-65*mV\n",
    "\n",
    "h.dt=dt\n",
    "h.v_init=v_init\n",
    "\n",
    "\n",
    "import functions.stim as stim\n",
    "ton=20\n",
    "amp=3000\n",
    "dur=900\n",
    "freq=10\n",
    "depth=1\n",
    "modfreq=0\n",
    "times,stim1=stim.ampmodulation_wiki(ton,amp,depth,dt,dur,simtime,freq,modfreq)\n",
    "\n",
    "simparams=[dt,simtime]\n",
    "stimparams=[v_plate,ton,amp,dur,freq,depth,modfreq]\n",
    "run_id=0\n",
    "\n",
    "#Save parameters to a file\n",
    "from functions.savedata import saveparams\n",
    "folder=saveparams(run_id,cell,simparams,stimparams)\n",
    "\n",
    "# test with IClamp\n",
    "teststim=h.IClamp(cell.soma(0.5))\n",
    "teststim.delay=1\n",
    "teststim.amp=100\n",
    "teststim.dur=100\n",
    "\n",
    "teststim2=h.IClamp(cell.soma(1))\n",
    "teststim2.delay=500\n",
    "teststim2.amp=500\n",
    "teststim2.dur=250\n",
    "\n",
    "t=h.Vector().record(h._ref_t)\n",
    "is_xtra=h.Vector().record(h._ref_is_xtra)\n",
    "soma_v=h.Vector().record(cell.soma(0.5)._ref_v)\n",
    "dend_v=h.Vector().record(cell.dend(0.5)._ref_v)\n",
    "extracellular_v_soma = h.Vector().record(cell.soma(0.5)._ref_vext[0])\n",
    "\n",
    "from functions.savedata import save_locations\n",
    "save_locations(folder,cell)\n",
    "\n",
    "#Attempt1\n",
    "# from functions.shapeplot_movie import movie_v\n",
    "\n",
    "# callback=movie_v(cell)\n",
    "\n",
    "# h.load_file(\"movierun.hoc\")\n",
    "\n",
    "# h.movierun()\n",
    "\n",
    "#Attempt 2 \n",
    "# from functions.gpt_shapeplot import morphology_voltage_movie\n",
    "# # fig, callback = morphology_voltage_movie(cell)\n",
    "# tmin=10\n",
    "# tmax=50\n",
    "# fig, callback=morphology_voltage_movie(cell, folder,tmin=tmin, tmax=tmax)\n",
    "# from functions.gpt_shapeplot import update_plot,plot_final\n",
    "\n",
    "# v_over_time,callback= update_plot(cell)\n",
    "\n",
    "\n",
    "#Attempt 3\n",
    "# h.finitialize(v_init)\n",
    "# h.continuerun(simtime)\n",
    "# print(v_over_time)\n",
    "# fig=plot_final(cell,v_over_time)\n",
    "# fig.write_html(\"./data/final_voltage_plot.html\")\n",
    "\n",
    "# Attempt 4\n",
    "\n",
    "ps=h.PlotShape(True)\n",
    "ps.variable(\"v\")\n",
    "h.fast_flush_list.append(ps)\n",
    "ps.exec_menu(\"Shape Plot\")\n",
    "ps.exec_menu(\"Show Diam\")\n",
    "\n",
    "from functions.shapeplot_movie import plot_view_mark,shape_plot,SP_highlight, plot_view_color\n",
    "\n",
    "ps=plot_view_mark()\n",
    "fig=shape_plot(cell,\"rx_xtra\")\n",
    "SP_highlight(cell)\n",
    "ps.plot(plt)\n",
    "# plt.show()\n",
    "tmin=100\n",
    "tmax=120\n",
    "results={}\n",
    "ps,callback=plot_view_color(folder,cell,results,tmin,tmax)\n"
   ]
  },
  {
   "cell_type": "code",
   "execution_count": 2,
   "metadata": {},
   "outputs": [],
   "source": [
    "# import functions.calculate_max as calcmax\n",
    "# results,file, callback = calcmax.master_callback(cell, folder, run_id,1)\n",
    "import functions.maxv_shplot as maxshplot\n",
    "max_shift, callback=maxshplot.max_shift(cell)\n",
    "# from functions.shapeplot_movie import save_changing_rvp\n",
    "# tmin=10\n",
    "# tmax=20\n",
    "# results_file=os.path.join(folder,\"results.csv\")\n",
    "# results=pd.read_csv()\n",
    "# callback=save_changing_rvp(cell=cell,results=results,folder=folder,tmin=tmin,tmax=tmax)"
   ]
  },
  {
   "cell_type": "code",
   "execution_count": 5,
   "metadata": {},
   "outputs": [
    {
     "data": {
      "text/plain": [
       "0.0"
      ]
     },
     "execution_count": 5,
     "metadata": {},
     "output_type": "execute_result"
    }
   ],
   "source": [
    "h.load_file(\"movierun.hoc\")\n",
    "h.movierun(simtime)\n",
    "\n",
    "# h.finitialize(v_init)\n",
    "# h.continuerun(simtime)\n",
    "# # file.close()"
   ]
  },
  {
   "cell_type": "code",
   "execution_count": null,
   "metadata": {},
   "outputs": [
    {
     "name": "stdout",
     "output_type": "stream",
     "text": [
      "{'max_v': 95.35448581039788, 'min_v': 0.0, 'max_seg': BallAndStick2[0].dend2(0.996689), 'min_seg': BallAndStick2[0].soma(0.5), 'max_sec': BallAndStick2[0].dend2, 'min_sec': BallAndStick2[0].soma}\n",
      "minseg =BallAndStick2[0].soma(0.5)\n",
      " maxseg=BallAndStick2[0].dend2(0.996689)\n"
     ]
    }
   ],
   "source": [
    "# print(results)\n",
    "\n",
    "# from functions.shapeplot_movie import save_changing_rvp\n",
    "# tmin=10\n",
    "# tmax=20\n",
    "# # results_file=os.path.join(folder,\"results.csv\")\n",
    "# # results=pd.read_csv()\n",
    "# callback=save_changing_rvp(cell=cell,results={},folder=folder,tmin=tmin,tmax=tmax)"
   ]
  },
  {
   "cell_type": "code",
   "execution_count": null,
   "metadata": {},
   "outputs": [
    {
     "data": {
      "application/vnd.plotly.v1+json": {
       "config": {
        "plotlyServerURL": "https://plot.ly"
       },
       "data": [
        {
         "hovertemplate": "BallAndStick2[0].soma(0.5)<br>-65.000",
         "line": {
          "color": "#1fe0ff",
          "width": 2
         },
         "mode": "lines",
         "name": "",
         "type": "scatter3d",
         "uid": "2158b53d-48bb-4792-b0ed-b5b0509aa854",
         "x": [
          0,
          50,
          100
         ],
         "y": [
          0,
          0,
          0
         ],
         "z": [
          0,
          0,
          0
         ]
        },
        {
         "hovertemplate": "BallAndStick2[0].dend(0.00331126)<br>-65.000",
         "line": {
          "color": "#1fe0ff",
          "width": 2
         },
         "mode": "lines",
         "name": "",
         "type": "scatter3d",
         "uid": "b2b7b62d-58d5-4a71-aad1-f03c135c6101",
         "x": [
          100,
          133.11258278145695
         ],
         "y": [
          0,
          0
         ],
         "z": [
          0,
          0
         ]
        },
        {
         "hovertemplate": "BallAndStick2[0].dend(0.00993377)<br>-65.000",
         "line": {
          "color": "#1fe0ff",
          "width": 2
         },
         "mode": "lines",
         "name": "",
         "type": "scatter3d",
         "uid": "b3374f66-3615-4177-8f4f-6ae679bd7aa9",
         "x": [
          133.11258278145695,
          166.2251655629139
         ],
         "y": [
          0,
          0
         ],
         "z": [
          0,
          0
         ]
        },
        {
         "hovertemplate": "BallAndStick2[0].dend(0.0165563)<br>-65.000",
         "line": {
          "color": "#1fe0ff",
          "width": 2
         },
         "mode": "lines",
         "name": "",
         "type": "scatter3d",
         "uid": "f886ab60-db1e-4087-8204-f322ec659744",
         "x": [
          166.2251655629139,
          199.33774834437085
         ],
         "y": [
          0,
          0
         ],
         "z": [
          0,
          0
         ]
        },
        {
         "hovertemplate": "BallAndStick2[0].dend(0.0231788)<br>-65.000",
         "line": {
          "color": "#1fe0ff",
          "width": 2
         },
         "mode": "lines",
         "name": "",
         "type": "scatter3d",
         "uid": "f768f1c9-2b53-471e-a2ec-95b14e49b6d1",
         "x": [
          199.33774834437085,
          232.4503311258278
         ],
         "y": [
          0,
          0
         ],
         "z": [
          0,
          0
         ]
        },
        {
         "hovertemplate": "BallAndStick2[0].dend(0.0298013)<br>-65.000",
         "line": {
          "color": "#1fe0ff",
          "width": 2
         },
         "mode": "lines",
         "name": "",
         "type": "scatter3d",
         "uid": "d6e88ead-ca95-429b-9909-32a782530928",
         "x": [
          232.4503311258278,
          265.5629139072847
         ],
         "y": [
          0,
          0
         ],
         "z": [
          0,
          0
         ]
        },
        {
         "hovertemplate": "BallAndStick2[0].dend(0.0364238)<br>-65.000",
         "line": {
          "color": "#1fe0ff",
          "width": 2
         },
         "mode": "lines",
         "name": "",
         "type": "scatter3d",
         "uid": "8a30236a-0998-4b73-9abe-c92646c8a8b1",
         "x": [
          265.5629139072847,
          298.6754966887417
         ],
         "y": [
          0,
          0
         ],
         "z": [
          0,
          0
         ]
        },
        {
         "hovertemplate": "BallAndStick2[0].dend(0.0430464)<br>-65.000",
         "line": {
          "color": "#1fe0ff",
          "width": 2
         },
         "mode": "lines",
         "name": "",
         "type": "scatter3d",
         "uid": "f2c1ee77-ecba-477e-8793-97698f05f7cb",
         "x": [
          298.6754966887417,
          331.7880794701987
         ],
         "y": [
          0,
          0
         ],
         "z": [
          0,
          0
         ]
        },
        {
         "hovertemplate": "BallAndStick2[0].dend(0.0496689)<br>-65.000",
         "line": {
          "color": "#1fe0ff",
          "width": 2
         },
         "mode": "lines",
         "name": "",
         "type": "scatter3d",
         "uid": "fc05f86e-e3d6-41c0-a11f-159c9affd7c9",
         "x": [
          331.7880794701987,
          364.9006622516556
         ],
         "y": [
          0,
          0
         ],
         "z": [
          0,
          0
         ]
        },
        {
         "hovertemplate": "BallAndStick2[0].dend(0.0562914)<br>-65.000",
         "line": {
          "color": "#1fe0ff",
          "width": 2
         },
         "mode": "lines",
         "name": "",
         "type": "scatter3d",
         "uid": "a83438b5-4565-4043-a34d-de5c001868f7",
         "x": [
          364.9006622516556,
          398.0132450331125
         ],
         "y": [
          0,
          0
         ],
         "z": [
          0,
          0
         ]
        },
        {
         "hovertemplate": "BallAndStick2[0].dend(0.0629139)<br>-65.000",
         "line": {
          "color": "#1fe0ff",
          "width": 2
         },
         "mode": "lines",
         "name": "",
         "type": "scatter3d",
         "uid": "8fce7a05-ae73-41c5-9695-f567e855cfe3",
         "x": [
          398.0132450331125,
          431.1258278145695
         ],
         "y": [
          0,
          0
         ],
         "z": [
          0,
          0
         ]
        },
        {
         "hovertemplate": "BallAndStick2[0].dend(0.0695364)<br>-65.000",
         "line": {
          "color": "#1fe0ff",
          "width": 2
         },
         "mode": "lines",
         "name": "",
         "type": "scatter3d",
         "uid": "b09b4299-52d5-4287-b3c4-53d1ffc5517c",
         "x": [
          431.1258278145695,
          464.2384105960265
         ],
         "y": [
          0,
          0
         ],
         "z": [
          0,
          0
         ]
        },
        {
         "hovertemplate": "BallAndStick2[0].dend(0.0761589)<br>-65.000",
         "line": {
          "color": "#1fe0ff",
          "width": 2
         },
         "mode": "lines",
         "name": "",
         "type": "scatter3d",
         "uid": "bbe27586-5c65-428c-bf2f-91e4faf410b8",
         "x": [
          464.2384105960265,
          497.3509933774834
         ],
         "y": [
          0,
          0
         ],
         "z": [
          0,
          0
         ]
        },
        {
         "hovertemplate": "BallAndStick2[0].dend(0.0827815)<br>-65.000",
         "line": {
          "color": "#1fe0ff",
          "width": 2
         },
         "mode": "lines",
         "name": "",
         "type": "scatter3d",
         "uid": "61922a6f-ed49-485b-b5b9-19c17daea011",
         "x": [
          497.3509933774834,
          530.4635761589403
         ],
         "y": [
          0,
          0
         ],
         "z": [
          0,
          0
         ]
        },
        {
         "hovertemplate": "BallAndStick2[0].dend(0.089404)<br>-65.000",
         "line": {
          "color": "#1fe0ff",
          "width": 2
         },
         "mode": "lines",
         "name": "",
         "type": "scatter3d",
         "uid": "f3bb4c06-3ab2-4c9e-8df1-519aacabfa92",
         "x": [
          530.4635761589403,
          563.5761589403974
         ],
         "y": [
          0,
          0
         ],
         "z": [
          0,
          0
         ]
        },
        {
         "hovertemplate": "BallAndStick2[0].dend(0.0960265)<br>-65.000",
         "line": {
          "color": "#1fe0ff",
          "width": 2
         },
         "mode": "lines",
         "name": "",
         "type": "scatter3d",
         "uid": "88e739b0-1931-4367-bff2-9fa301147cf7",
         "x": [
          563.5761589403974,
          596.6887417218543
         ],
         "y": [
          0,
          0
         ],
         "z": [
          0,
          0
         ]
        },
        {
         "hovertemplate": "BallAndStick2[0].dend(0.102649)<br>-65.000",
         "line": {
          "color": "#1fe0ff",
          "width": 2
         },
         "mode": "lines",
         "name": "",
         "type": "scatter3d",
         "uid": "344d9a43-4ed1-40ae-bc4d-9f093e9d0687",
         "x": [
          596.6887417218543,
          629.8013245033112
         ],
         "y": [
          0,
          0
         ],
         "z": [
          0,
          0
         ]
        },
        {
         "hovertemplate": "BallAndStick2[0].dend(0.109272)<br>-65.000",
         "line": {
          "color": "#1fe0ff",
          "width": 2
         },
         "mode": "lines",
         "name": "",
         "type": "scatter3d",
         "uid": "5cfab157-247d-4a5a-a3f3-c75aaf2a7162",
         "x": [
          629.8013245033112,
          662.9139072847681
         ],
         "y": [
          0,
          0
         ],
         "z": [
          0,
          0
         ]
        },
        {
         "hovertemplate": "BallAndStick2[0].dend(0.115894)<br>-65.000",
         "line": {
          "color": "#1fe0ff",
          "width": 2
         },
         "mode": "lines",
         "name": "",
         "type": "scatter3d",
         "uid": "4925d07c-bddf-4eee-8e4d-ad7c334633bf",
         "x": [
          662.9139072847681,
          696.026490066225
         ],
         "y": [
          0,
          0
         ],
         "z": [
          0,
          0
         ]
        },
        {
         "hovertemplate": "BallAndStick2[0].dend(0.122517)<br>-65.000",
         "line": {
          "color": "#1fe0ff",
          "width": 2
         },
         "mode": "lines",
         "name": "",
         "type": "scatter3d",
         "uid": "c5ef1218-622a-4434-9b6a-93e374c739d6",
         "x": [
          696.026490066225,
          729.1390728476821
         ],
         "y": [
          0,
          0
         ],
         "z": [
          0,
          0
         ]
        },
        {
         "hovertemplate": "BallAndStick2[0].dend(0.129139)<br>-65.000",
         "line": {
          "color": "#1fe0ff",
          "width": 2
         },
         "mode": "lines",
         "name": "",
         "type": "scatter3d",
         "uid": "c6b7aedb-9c86-4e62-a779-0766208e27ed",
         "x": [
          729.1390728476821,
          762.251655629139
         ],
         "y": [
          0,
          0
         ],
         "z": [
          0,
          0
         ]
        },
        {
         "hovertemplate": "BallAndStick2[0].dend(0.135762)<br>-65.000",
         "line": {
          "color": "#1fe0ff",
          "width": 2
         },
         "mode": "lines",
         "name": "",
         "type": "scatter3d",
         "uid": "146ad5f3-b96b-4547-8dcd-c5dc1855779b",
         "x": [
          762.251655629139,
          795.3642384105959
         ],
         "y": [
          0,
          0
         ],
         "z": [
          0,
          0
         ]
        },
        {
         "hovertemplate": "BallAndStick2[0].dend(0.142384)<br>-65.000",
         "line": {
          "color": "#1fe0ff",
          "width": 2
         },
         "mode": "lines",
         "name": "",
         "type": "scatter3d",
         "uid": "58ae51a1-431e-4003-b800-ce37d048098b",
         "x": [
          795.3642384105959,
          828.476821192053
         ],
         "y": [
          0,
          0
         ],
         "z": [
          0,
          0
         ]
        },
        {
         "hovertemplate": "BallAndStick2[0].dend(0.149007)<br>-65.000",
         "line": {
          "color": "#1fe0ff",
          "width": 2
         },
         "mode": "lines",
         "name": "",
         "type": "scatter3d",
         "uid": "53cc19e5-3ab2-4c74-949b-a5ae7b222d03",
         "x": [
          828.476821192053,
          861.5894039735099
         ],
         "y": [
          0,
          0
         ],
         "z": [
          0,
          0
         ]
        },
        {
         "hovertemplate": "BallAndStick2[0].dend(0.155629)<br>-65.000",
         "line": {
          "color": "#1fe0ff",
          "width": 2
         },
         "mode": "lines",
         "name": "",
         "type": "scatter3d",
         "uid": "3acf7b15-8ddd-46f2-a937-5ed6a9bbbba2",
         "x": [
          861.5894039735099,
          894.7019867549668
         ],
         "y": [
          0,
          0
         ],
         "z": [
          0,
          0
         ]
        },
        {
         "hovertemplate": "BallAndStick2[0].dend(0.162252)<br>-65.000",
         "line": {
          "color": "#1fe0ff",
          "width": 2
         },
         "mode": "lines",
         "name": "",
         "type": "scatter3d",
         "uid": "c00574c3-8627-4573-b8b7-777025bc68b0",
         "x": [
          894.7019867549668,
          927.8145695364237
         ],
         "y": [
          0,
          0
         ],
         "z": [
          0,
          0
         ]
        },
        {
         "hovertemplate": "BallAndStick2[0].dend(0.168874)<br>-65.000",
         "line": {
          "color": "#1fe0ff",
          "width": 2
         },
         "mode": "lines",
         "name": "",
         "type": "scatter3d",
         "uid": "fd20e804-a772-4b3d-8b2a-6c3987d135c3",
         "x": [
          927.8145695364237,
          960.9271523178807
         ],
         "y": [
          0,
          0
         ],
         "z": [
          0,
          0
         ]
        },
        {
         "hovertemplate": "BallAndStick2[0].dend(0.175497)<br>-65.000",
         "line": {
          "color": "#1fe0ff",
          "width": 2
         },
         "mode": "lines",
         "name": "",
         "type": "scatter3d",
         "uid": "49b67c97-ecd2-40aa-9dc3-3ca41d12fa11",
         "x": [
          960.9271523178807,
          994.0397350993377
         ],
         "y": [
          0,
          0
         ],
         "z": [
          0,
          0
         ]
        },
        {
         "hovertemplate": "BallAndStick2[0].dend(0.182119)<br>-65.000",
         "line": {
          "color": "#1fe0ff",
          "width": 2
         },
         "mode": "lines",
         "name": "",
         "type": "scatter3d",
         "uid": "a5033d15-f48e-4aff-80e7-b2fb3bcec078",
         "x": [
          994.0397350993377,
          1027.1523178807947
         ],
         "y": [
          0,
          0
         ],
         "z": [
          0,
          0
         ]
        },
        {
         "hovertemplate": "BallAndStick2[0].dend(0.188742)<br>-65.000",
         "line": {
          "color": "#1fe0ff",
          "width": 2
         },
         "mode": "lines",
         "name": "",
         "type": "scatter3d",
         "uid": "169b08d7-0f3f-49e1-9280-90b25c6e459a",
         "x": [
          1027.1523178807947,
          1060.2649006622514
         ],
         "y": [
          0,
          0
         ],
         "z": [
          0,
          0
         ]
        },
        {
         "hovertemplate": "BallAndStick2[0].dend(0.195364)<br>-65.000",
         "line": {
          "color": "#1fe0ff",
          "width": 2
         },
         "mode": "lines",
         "name": "",
         "type": "scatter3d",
         "uid": "e92bcf01-7e30-4f1a-a1b1-2b8cfcf5eace",
         "x": [
          1060.2649006622514,
          1093.3774834437086
         ],
         "y": [
          0,
          0
         ],
         "z": [
          0,
          0
         ]
        },
        {
         "hovertemplate": "BallAndStick2[0].dend(0.201987)<br>-65.000",
         "line": {
          "color": "#1fe0ff",
          "width": 2
         },
         "mode": "lines",
         "name": "",
         "type": "scatter3d",
         "uid": "3c76778f-14e1-40d2-8e33-af823eee19c9",
         "x": [
          1093.3774834437086,
          1126.4900662251655
         ],
         "y": [
          0,
          0
         ],
         "z": [
          0,
          0
         ]
        },
        {
         "hovertemplate": "BallAndStick2[0].dend(0.208609)<br>-65.000",
         "line": {
          "color": "#1fe0ff",
          "width": 2
         },
         "mode": "lines",
         "name": "",
         "type": "scatter3d",
         "uid": "90419151-b127-4983-bbf7-5b099bb10a0b",
         "x": [
          1126.4900662251655,
          1159.6026490066224
         ],
         "y": [
          0,
          0
         ],
         "z": [
          0,
          0
         ]
        },
        {
         "hovertemplate": "BallAndStick2[0].dend(0.215232)<br>-65.000",
         "line": {
          "color": "#1fe0ff",
          "width": 2
         },
         "mode": "lines",
         "name": "",
         "type": "scatter3d",
         "uid": "f7f79500-7a9d-4988-b85d-35cfa36a72cb",
         "x": [
          1159.6026490066224,
          1192.7152317880793
         ],
         "y": [
          0,
          0
         ],
         "z": [
          0,
          0
         ]
        },
        {
         "hovertemplate": "BallAndStick2[0].dend(0.221854)<br>-65.000",
         "line": {
          "color": "#1fe0ff",
          "width": 2
         },
         "mode": "lines",
         "name": "",
         "type": "scatter3d",
         "uid": "e8165cf0-02da-4b78-be57-78793b449dd1",
         "x": [
          1192.7152317880793,
          1225.8278145695363
         ],
         "y": [
          0,
          0
         ],
         "z": [
          0,
          0
         ]
        },
        {
         "hovertemplate": "BallAndStick2[0].dend(0.228477)<br>-65.000",
         "line": {
          "color": "#1fe0ff",
          "width": 2
         },
         "mode": "lines",
         "name": "",
         "type": "scatter3d",
         "uid": "6fb5e50d-edc3-489b-8f1b-031e15303d63",
         "x": [
          1225.8278145695363,
          1258.9403973509932
         ],
         "y": [
          0,
          0
         ],
         "z": [
          0,
          0
         ]
        },
        {
         "hovertemplate": "BallAndStick2[0].dend(0.235099)<br>-65.000",
         "line": {
          "color": "#1fe0ff",
          "width": 2
         },
         "mode": "lines",
         "name": "",
         "type": "scatter3d",
         "uid": "d5b31281-6296-4c98-b113-17e04b9805fe",
         "x": [
          1258.9403973509932,
          1292.05298013245
         ],
         "y": [
          0,
          0
         ],
         "z": [
          0,
          0
         ]
        },
        {
         "hovertemplate": "BallAndStick2[0].dend(0.241722)<br>-65.000",
         "line": {
          "color": "#1fe0ff",
          "width": 2
         },
         "mode": "lines",
         "name": "",
         "type": "scatter3d",
         "uid": "e83a4d58-e06b-4bad-a9b9-931487838683",
         "x": [
          1292.05298013245,
          1325.1655629139073
         ],
         "y": [
          0,
          0
         ],
         "z": [
          0,
          0
         ]
        },
        {
         "hovertemplate": "BallAndStick2[0].dend(0.248344)<br>-65.000",
         "line": {
          "color": "#1fe0ff",
          "width": 2
         },
         "mode": "lines",
         "name": "",
         "type": "scatter3d",
         "uid": "103d29df-49e2-40d2-a8a7-d2379679a0c9",
         "x": [
          1325.1655629139073,
          1358.2781456953642
         ],
         "y": [
          0,
          0
         ],
         "z": [
          0,
          0
         ]
        },
        {
         "hovertemplate": "BallAndStick2[0].dend(0.254967)<br>-65.000",
         "line": {
          "color": "#1fe0ff",
          "width": 2
         },
         "mode": "lines",
         "name": "",
         "type": "scatter3d",
         "uid": "19786edd-4c54-4f85-87fd-fd1fa390a5f1",
         "x": [
          1358.2781456953642,
          1391.390728476821
         ],
         "y": [
          0,
          0
         ],
         "z": [
          0,
          0
         ]
        },
        {
         "hovertemplate": "BallAndStick2[0].dend(0.261589)<br>-65.000",
         "line": {
          "color": "#1fe0ff",
          "width": 2
         },
         "mode": "lines",
         "name": "",
         "type": "scatter3d",
         "uid": "7047677d-3701-49c4-9138-14362458c73a",
         "x": [
          1391.390728476821,
          1424.503311258278
         ],
         "y": [
          0,
          0
         ],
         "z": [
          0,
          0
         ]
        },
        {
         "hovertemplate": "BallAndStick2[0].dend(0.268212)<br>-65.000",
         "line": {
          "color": "#1fe0ff",
          "width": 2
         },
         "mode": "lines",
         "name": "",
         "type": "scatter3d",
         "uid": "5796f254-24f9-42bd-b7cb-f3af4937eaf0",
         "x": [
          1424.503311258278,
          1457.615894039735
         ],
         "y": [
          0,
          0
         ],
         "z": [
          0,
          0
         ]
        },
        {
         "hovertemplate": "BallAndStick2[0].dend(0.274834)<br>-65.000",
         "line": {
          "color": "#1fe0ff",
          "width": 2
         },
         "mode": "lines",
         "name": "",
         "type": "scatter3d",
         "uid": "afde668b-acce-49ff-8de9-6361bedf5909",
         "x": [
          1457.615894039735,
          1490.7284768211919
         ],
         "y": [
          0,
          0
         ],
         "z": [
          0,
          0
         ]
        },
        {
         "hovertemplate": "BallAndStick2[0].dend(0.281457)<br>-65.000",
         "line": {
          "color": "#1fe0ff",
          "width": 2
         },
         "mode": "lines",
         "name": "",
         "type": "scatter3d",
         "uid": "7f9e1896-3240-4e6f-a257-7c75e2c26bf0",
         "x": [
          1490.7284768211919,
          1523.8410596026488
         ],
         "y": [
          0,
          0
         ],
         "z": [
          0,
          0
         ]
        },
        {
         "hovertemplate": "BallAndStick2[0].dend(0.288079)<br>-65.000",
         "line": {
          "color": "#1fe0ff",
          "width": 2
         },
         "mode": "lines",
         "name": "",
         "type": "scatter3d",
         "uid": "4b34b5ad-cc5b-45ea-b6bd-07975097361a",
         "x": [
          1523.8410596026488,
          1556.953642384106
         ],
         "y": [
          0,
          0
         ],
         "z": [
          0,
          0
         ]
        },
        {
         "hovertemplate": "BallAndStick2[0].dend(0.294702)<br>-65.000",
         "line": {
          "color": "#1fe0ff",
          "width": 2
         },
         "mode": "lines",
         "name": "",
         "type": "scatter3d",
         "uid": "ce30faca-7e24-4101-a85a-66b6504f5a77",
         "x": [
          1556.953642384106,
          1590.0662251655629
         ],
         "y": [
          0,
          0
         ],
         "z": [
          0,
          0
         ]
        },
        {
         "hovertemplate": "BallAndStick2[0].dend(0.301325)<br>-65.000",
         "line": {
          "color": "#1fe0ff",
          "width": 2
         },
         "mode": "lines",
         "name": "",
         "type": "scatter3d",
         "uid": "4529d043-a87e-474f-9ff6-c748a3c2388f",
         "x": [
          1590.0662251655629,
          1623.1788079470198
         ],
         "y": [
          0,
          0
         ],
         "z": [
          0,
          0
         ]
        },
        {
         "hovertemplate": "BallAndStick2[0].dend(0.307947)<br>-65.000",
         "line": {
          "color": "#1fe0ff",
          "width": 2
         },
         "mode": "lines",
         "name": "",
         "type": "scatter3d",
         "uid": "5794ed1c-eedd-4f3f-af49-61a9850d73b1",
         "x": [
          1623.1788079470198,
          1656.2913907284767
         ],
         "y": [
          0,
          0
         ],
         "z": [
          0,
          0
         ]
        },
        {
         "hovertemplate": "BallAndStick2[0].dend(0.31457)<br>-65.000",
         "line": {
          "color": "#1fe0ff",
          "width": 2
         },
         "mode": "lines",
         "name": "",
         "type": "scatter3d",
         "uid": "adfdb589-cbe1-4f98-ac51-0c47657386c8",
         "x": [
          1656.2913907284767,
          1689.4039735099336
         ],
         "y": [
          0,
          0
         ],
         "z": [
          0,
          0
         ]
        },
        {
         "hovertemplate": "BallAndStick2[0].dend(0.321192)<br>-65.000",
         "line": {
          "color": "#1fe0ff",
          "width": 2
         },
         "mode": "lines",
         "name": "",
         "type": "scatter3d",
         "uid": "4a9131e5-8830-4a50-8ebc-84c2a30c57ee",
         "x": [
          1689.4039735099336,
          1722.5165562913905
         ],
         "y": [
          0,
          0
         ],
         "z": [
          0,
          0
         ]
        },
        {
         "hovertemplate": "BallAndStick2[0].dend(0.327815)<br>-65.000",
         "line": {
          "color": "#1fe0ff",
          "width": 2
         },
         "mode": "lines",
         "name": "",
         "type": "scatter3d",
         "uid": "8e838e5f-d6fe-4716-a0f0-ac6b2ba200f9",
         "x": [
          1722.5165562913905,
          1755.6291390728475
         ],
         "y": [
          0,
          0
         ],
         "z": [
          0,
          0
         ]
        },
        {
         "hovertemplate": "BallAndStick2[0].dend(0.334437)<br>-65.000",
         "line": {
          "color": "#1fe0ff",
          "width": 2
         },
         "mode": "lines",
         "name": "",
         "type": "scatter3d",
         "uid": "4759f9db-7744-48a0-b5d4-ac42805e2ee3",
         "x": [
          1755.6291390728475,
          1788.7417218543044
         ],
         "y": [
          0,
          0
         ],
         "z": [
          0,
          0
         ]
        },
        {
         "hovertemplate": "BallAndStick2[0].dend(0.34106)<br>-65.000",
         "line": {
          "color": "#1fe0ff",
          "width": 2
         },
         "mode": "lines",
         "name": "",
         "type": "scatter3d",
         "uid": "ed176366-efa0-4bd6-851a-faebea859750",
         "x": [
          1788.7417218543044,
          1821.8543046357613
         ],
         "y": [
          0,
          0
         ],
         "z": [
          0,
          0
         ]
        },
        {
         "hovertemplate": "BallAndStick2[0].dend(0.347682)<br>-65.000",
         "line": {
          "color": "#1fe0ff",
          "width": 2
         },
         "mode": "lines",
         "name": "",
         "type": "scatter3d",
         "uid": "0ad84607-c1ee-4e0e-8fb6-171c49800ca6",
         "x": [
          1821.8543046357613,
          1854.9668874172185
         ],
         "y": [
          0,
          0
         ],
         "z": [
          0,
          0
         ]
        },
        {
         "hovertemplate": "BallAndStick2[0].dend(0.354305)<br>-65.000",
         "line": {
          "color": "#1fe0ff",
          "width": 2
         },
         "mode": "lines",
         "name": "",
         "type": "scatter3d",
         "uid": "3bf3ec7d-bbf4-481e-ab57-877ea00edf24",
         "x": [
          1854.9668874172185,
          1888.0794701986754
         ],
         "y": [
          0,
          0
         ],
         "z": [
          0,
          0
         ]
        },
        {
         "hovertemplate": "BallAndStick2[0].dend(0.360927)<br>-65.000",
         "line": {
          "color": "#1fe0ff",
          "width": 2
         },
         "mode": "lines",
         "name": "",
         "type": "scatter3d",
         "uid": "8bf15b00-ceeb-494d-8e46-57df1fc5dc87",
         "x": [
          1888.0794701986754,
          1921.1920529801323
         ],
         "y": [
          0,
          0
         ],
         "z": [
          0,
          0
         ]
        },
        {
         "hovertemplate": "BallAndStick2[0].dend(0.36755)<br>-65.000",
         "line": {
          "color": "#1fe0ff",
          "width": 2
         },
         "mode": "lines",
         "name": "",
         "type": "scatter3d",
         "uid": "36bb0470-71bc-465e-b4e7-52808505bca5",
         "x": [
          1921.1920529801323,
          1954.3046357615892
         ],
         "y": [
          0,
          0
         ],
         "z": [
          0,
          0
         ]
        },
        {
         "hovertemplate": "BallAndStick2[0].dend(0.374172)<br>-65.000",
         "line": {
          "color": "#1fe0ff",
          "width": 2
         },
         "mode": "lines",
         "name": "",
         "type": "scatter3d",
         "uid": "043b3da8-4024-4ea9-8a0a-f094f51aecbb",
         "x": [
          1954.3046357615892,
          1987.4172185430461
         ],
         "y": [
          0,
          0
         ],
         "z": [
          0,
          0
         ]
        },
        {
         "hovertemplate": "BallAndStick2[0].dend(0.380795)<br>-65.000",
         "line": {
          "color": "#1fe0ff",
          "width": 2
         },
         "mode": "lines",
         "name": "",
         "type": "scatter3d",
         "uid": "632da6ee-8932-4122-8015-f837e706eb1e",
         "x": [
          1987.4172185430461,
          2020.529801324503
         ],
         "y": [
          0,
          0
         ],
         "z": [
          0,
          0
         ]
        },
        {
         "hovertemplate": "BallAndStick2[0].dend(0.387417)<br>-65.000",
         "line": {
          "color": "#1fe0ff",
          "width": 2
         },
         "mode": "lines",
         "name": "",
         "type": "scatter3d",
         "uid": "0e9d4dce-3555-4d26-8438-8642cc87afe0",
         "x": [
          2020.529801324503,
          2053.64238410596
         ],
         "y": [
          0,
          0
         ],
         "z": [
          0,
          0
         ]
        },
        {
         "hovertemplate": "BallAndStick2[0].dend(0.39404)<br>-65.000",
         "line": {
          "color": "#1fe0ff",
          "width": 2
         },
         "mode": "lines",
         "name": "",
         "type": "scatter3d",
         "uid": "893fa9bf-cd47-4302-8b84-2120ace4f29e",
         "x": [
          2053.64238410596,
          2086.754966887417
         ],
         "y": [
          0,
          0
         ],
         "z": [
          0,
          0
         ]
        },
        {
         "hovertemplate": "BallAndStick2[0].dend(0.400662)<br>-65.000",
         "line": {
          "color": "#1fe0ff",
          "width": 2
         },
         "mode": "lines",
         "name": "",
         "type": "scatter3d",
         "uid": "fb496039-bea3-4c3a-b48b-5a1957fdf1ef",
         "x": [
          2086.754966887417,
          2119.867549668874
         ],
         "y": [
          0,
          0
         ],
         "z": [
          0,
          0
         ]
        },
        {
         "hovertemplate": "BallAndStick2[0].dend(0.407285)<br>-65.000",
         "line": {
          "color": "#1fe0ff",
          "width": 2
         },
         "mode": "lines",
         "name": "",
         "type": "scatter3d",
         "uid": "d0f77276-3c0f-4005-8973-e991d54935b0",
         "x": [
          2119.867549668874,
          2152.980132450331
         ],
         "y": [
          0,
          0
         ],
         "z": [
          0,
          0
         ]
        },
        {
         "hovertemplate": "BallAndStick2[0].dend(0.413907)<br>-65.000",
         "line": {
          "color": "#1fe0ff",
          "width": 2
         },
         "mode": "lines",
         "name": "",
         "type": "scatter3d",
         "uid": "01c0e0e3-4db7-45e8-9833-991f41cc8a6c",
         "x": [
          2152.980132450331,
          2186.0927152317877
         ],
         "y": [
          0,
          0
         ],
         "z": [
          0,
          0
         ]
        },
        {
         "hovertemplate": "BallAndStick2[0].dend(0.42053)<br>-65.000",
         "line": {
          "color": "#1fe0ff",
          "width": 2
         },
         "mode": "lines",
         "name": "",
         "type": "scatter3d",
         "uid": "13cc6fb6-3b47-4117-937f-400bab0b2b41",
         "x": [
          2186.0927152317877,
          2219.205298013245
         ],
         "y": [
          0,
          0
         ],
         "z": [
          0,
          0
         ]
        },
        {
         "hovertemplate": "BallAndStick2[0].dend(0.427152)<br>-65.000",
         "line": {
          "color": "#1fe0ff",
          "width": 2
         },
         "mode": "lines",
         "name": "",
         "type": "scatter3d",
         "uid": "48e7814f-d20b-4af6-b3bc-ca2f433e1b1a",
         "x": [
          2219.205298013245,
          2252.317880794702
         ],
         "y": [
          0,
          0
         ],
         "z": [
          0,
          0
         ]
        },
        {
         "hovertemplate": "BallAndStick2[0].dend(0.433775)<br>-65.000",
         "line": {
          "color": "#1fe0ff",
          "width": 2
         },
         "mode": "lines",
         "name": "",
         "type": "scatter3d",
         "uid": "bf465a8f-105a-4600-82d2-fd60ff03459b",
         "x": [
          2252.317880794702,
          2285.4304635761587
         ],
         "y": [
          0,
          0
         ],
         "z": [
          0,
          0
         ]
        },
        {
         "hovertemplate": "BallAndStick2[0].dend(0.440397)<br>-65.000",
         "line": {
          "color": "#1fe0ff",
          "width": 2
         },
         "mode": "lines",
         "name": "",
         "type": "scatter3d",
         "uid": "cffaa2ff-4c4f-4c8c-8788-78d5e364f57e",
         "x": [
          2285.4304635761587,
          2318.543046357616
         ],
         "y": [
          0,
          0
         ],
         "z": [
          0,
          0
         ]
        },
        {
         "hovertemplate": "BallAndStick2[0].dend(0.44702)<br>-65.000",
         "line": {
          "color": "#1fe0ff",
          "width": 2
         },
         "mode": "lines",
         "name": "",
         "type": "scatter3d",
         "uid": "940f4d19-3155-46f5-8a7d-8210eae6e1e1",
         "x": [
          2318.543046357616,
          2351.6556291390725
         ],
         "y": [
          0,
          0
         ],
         "z": [
          0,
          0
         ]
        },
        {
         "hovertemplate": "BallAndStick2[0].dend(0.453642)<br>-65.000",
         "line": {
          "color": "#1fe0ff",
          "width": 2
         },
         "mode": "lines",
         "name": "",
         "type": "scatter3d",
         "uid": "8bdd6311-4381-4b1f-891a-072e2512e8cf",
         "x": [
          2351.6556291390725,
          2384.7682119205297
         ],
         "y": [
          0,
          0
         ],
         "z": [
          0,
          0
         ]
        },
        {
         "hovertemplate": "BallAndStick2[0].dend(0.460265)<br>-65.000",
         "line": {
          "color": "#1fe0ff",
          "width": 2
         },
         "mode": "lines",
         "name": "",
         "type": "scatter3d",
         "uid": "ac63c5d7-b7ad-4671-9ae7-b7c9ad67c444",
         "x": [
          2384.7682119205297,
          2417.8807947019864
         ],
         "y": [
          0,
          0
         ],
         "z": [
          0,
          0
         ]
        },
        {
         "hovertemplate": "BallAndStick2[0].dend(0.466887)<br>-65.000",
         "line": {
          "color": "#1fe0ff",
          "width": 2
         },
         "mode": "lines",
         "name": "",
         "type": "scatter3d",
         "uid": "6af8dd38-96dc-402c-b7b6-62c0d89084a4",
         "x": [
          2417.8807947019864,
          2450.9933774834435
         ],
         "y": [
          0,
          0
         ],
         "z": [
          0,
          0
         ]
        },
        {
         "hovertemplate": "BallAndStick2[0].dend(0.47351)<br>-65.000",
         "line": {
          "color": "#1fe0ff",
          "width": 2
         },
         "mode": "lines",
         "name": "",
         "type": "scatter3d",
         "uid": "c8c1b925-b21a-44d2-935b-b131776c95e4",
         "x": [
          2450.9933774834435,
          2484.1059602649
         ],
         "y": [
          0,
          0
         ],
         "z": [
          0,
          0
         ]
        },
        {
         "hovertemplate": "BallAndStick2[0].dend(0.480132)<br>-65.000",
         "line": {
          "color": "#1fe0ff",
          "width": 2
         },
         "mode": "lines",
         "name": "",
         "type": "scatter3d",
         "uid": "b2fa67aa-3908-471f-b448-d550b5077808",
         "x": [
          2484.1059602649,
          2517.2185430463574
         ],
         "y": [
          0,
          0
         ],
         "z": [
          0,
          0
         ]
        },
        {
         "hovertemplate": "BallAndStick2[0].dend(0.486755)<br>-65.000",
         "line": {
          "color": "#1fe0ff",
          "width": 2
         },
         "mode": "lines",
         "name": "",
         "type": "scatter3d",
         "uid": "290718a4-19e2-43cd-9343-065aede9c065",
         "x": [
          2517.2185430463574,
          2550.3311258278145
         ],
         "y": [
          0,
          0
         ],
         "z": [
          0,
          0
         ]
        },
        {
         "hovertemplate": "BallAndStick2[0].dend(0.493377)<br>-65.000",
         "line": {
          "color": "#1fe0ff",
          "width": 2
         },
         "mode": "lines",
         "name": "",
         "type": "scatter3d",
         "uid": "29721852-1558-4a69-b133-ce3adea58f23",
         "x": [
          2550.3311258278145,
          2583.443708609271
         ],
         "y": [
          0,
          0
         ],
         "z": [
          0,
          0
         ]
        },
        {
         "hovertemplate": "BallAndStick2[0].dend(0.5)<br>-65.000",
         "line": {
          "color": "#1fe0ff",
          "width": 2
         },
         "mode": "lines",
         "name": "",
         "type": "scatter3d",
         "uid": "2274b285-d768-4cd1-9ce2-b1d540ac8f74",
         "x": [
          2583.443708609271,
          2600,
          2616.5562913907283
         ],
         "y": [
          0,
          0,
          0
         ],
         "z": [
          0,
          0,
          0
         ]
        },
        {
         "hovertemplate": "BallAndStick2[0].dend(0.506623)<br>-65.000",
         "line": {
          "color": "#1fe0ff",
          "width": 2
         },
         "mode": "lines",
         "name": "",
         "type": "scatter3d",
         "uid": "ea3a69d3-ac7c-4aa4-aa47-4fe184066456",
         "x": [
          2616.5562913907283,
          2649.668874172185
         ],
         "y": [
          0,
          0
         ],
         "z": [
          0,
          0
         ]
        },
        {
         "hovertemplate": "BallAndStick2[0].dend(0.513245)<br>-65.000",
         "line": {
          "color": "#1fe0ff",
          "width": 2
         },
         "mode": "lines",
         "name": "",
         "type": "scatter3d",
         "uid": "0762437a-79e7-45ae-abd5-90c4fe412e15",
         "x": [
          2649.668874172185,
          2682.781456953642
         ],
         "y": [
          0,
          0
         ],
         "z": [
          0,
          0
         ]
        },
        {
         "hovertemplate": "BallAndStick2[0].dend(0.519868)<br>-65.000",
         "line": {
          "color": "#1fe0ff",
          "width": 2
         },
         "mode": "lines",
         "name": "",
         "type": "scatter3d",
         "uid": "71cedd93-1e8b-4fda-ab8f-f32c3d279eb0",
         "x": [
          2682.781456953642,
          2715.894039735099
         ],
         "y": [
          0,
          0
         ],
         "z": [
          0,
          0
         ]
        },
        {
         "hovertemplate": "BallAndStick2[0].dend(0.52649)<br>-65.000",
         "line": {
          "color": "#1fe0ff",
          "width": 2
         },
         "mode": "lines",
         "name": "",
         "type": "scatter3d",
         "uid": "00196979-d061-4cb0-ab70-4a5aa4013166",
         "x": [
          2715.894039735099,
          2749.006622516556
         ],
         "y": [
          0,
          0
         ],
         "z": [
          0,
          0
         ]
        },
        {
         "hovertemplate": "BallAndStick2[0].dend(0.533113)<br>-65.000",
         "line": {
          "color": "#1fe0ff",
          "width": 2
         },
         "mode": "lines",
         "name": "",
         "type": "scatter3d",
         "uid": "4e599b69-b353-4ddf-a2a4-06b1037a170b",
         "x": [
          2749.006622516556,
          2782.119205298013
         ],
         "y": [
          0,
          0
         ],
         "z": [
          0,
          0
         ]
        },
        {
         "hovertemplate": "BallAndStick2[0].dend(0.539735)<br>-65.000",
         "line": {
          "color": "#1fe0ff",
          "width": 2
         },
         "mode": "lines",
         "name": "",
         "type": "scatter3d",
         "uid": "37550272-73af-4216-9102-959ea5ff0d79",
         "x": [
          2782.119205298013,
          2815.23178807947
         ],
         "y": [
          0,
          0
         ],
         "z": [
          0,
          0
         ]
        },
        {
         "hovertemplate": "BallAndStick2[0].dend(0.546358)<br>-65.000",
         "line": {
          "color": "#1fe0ff",
          "width": 2
         },
         "mode": "lines",
         "name": "",
         "type": "scatter3d",
         "uid": "1025b8eb-761d-45e2-b42d-bcdd507172e7",
         "x": [
          2815.23178807947,
          2848.344370860927
         ],
         "y": [
          0,
          0
         ],
         "z": [
          0,
          0
         ]
        },
        {
         "hovertemplate": "BallAndStick2[0].dend(0.55298)<br>-65.000",
         "line": {
          "color": "#1fe0ff",
          "width": 2
         },
         "mode": "lines",
         "name": "",
         "type": "scatter3d",
         "uid": "06ae3a93-4024-44a4-a329-99111d4d2086",
         "x": [
          2848.344370860927,
          2881.4569536423837
         ],
         "y": [
          0,
          0
         ],
         "z": [
          0,
          0
         ]
        },
        {
         "hovertemplate": "BallAndStick2[0].dend(0.559603)<br>-65.000",
         "line": {
          "color": "#1fe0ff",
          "width": 2
         },
         "mode": "lines",
         "name": "",
         "type": "scatter3d",
         "uid": "ac400071-69df-4bec-82cb-ce4c4f115b91",
         "x": [
          2881.4569536423837,
          2914.569536423841
         ],
         "y": [
          0,
          0
         ],
         "z": [
          0,
          0
         ]
        },
        {
         "hovertemplate": "BallAndStick2[0].dend(0.566225)<br>-65.000",
         "line": {
          "color": "#1fe0ff",
          "width": 2
         },
         "mode": "lines",
         "name": "",
         "type": "scatter3d",
         "uid": "e976c8bc-323d-41d6-9cd0-c3ccf9ca350c",
         "x": [
          2914.569536423841,
          2947.6821192052976
         ],
         "y": [
          0,
          0
         ],
         "z": [
          0,
          0
         ]
        },
        {
         "hovertemplate": "BallAndStick2[0].dend(0.572848)<br>-65.000",
         "line": {
          "color": "#1fe0ff",
          "width": 2
         },
         "mode": "lines",
         "name": "",
         "type": "scatter3d",
         "uid": "18399384-d7a9-4dcd-9b36-d9b33fa79e17",
         "x": [
          2947.6821192052976,
          2980.7947019867547
         ],
         "y": [
          0,
          0
         ],
         "z": [
          0,
          0
         ]
        },
        {
         "hovertemplate": "BallAndStick2[0].dend(0.57947)<br>-65.000",
         "line": {
          "color": "#1fe0ff",
          "width": 2
         },
         "mode": "lines",
         "name": "",
         "type": "scatter3d",
         "uid": "5f2095ae-853d-4618-a31e-8f8d5d275e3a",
         "x": [
          2980.7947019867547,
          3013.907284768212
         ],
         "y": [
          0,
          0
         ],
         "z": [
          0,
          0
         ]
        },
        {
         "hovertemplate": "BallAndStick2[0].dend(0.586093)<br>-65.000",
         "line": {
          "color": "#1fe0ff",
          "width": 2
         },
         "mode": "lines",
         "name": "",
         "type": "scatter3d",
         "uid": "bf54c0ab-d19b-458c-befa-4d95a3b5854f",
         "x": [
          3013.907284768212,
          3047.0198675496686
         ],
         "y": [
          0,
          0
         ],
         "z": [
          0,
          0
         ]
        },
        {
         "hovertemplate": "BallAndStick2[0].dend(0.592715)<br>-65.000",
         "line": {
          "color": "#1fe0ff",
          "width": 2
         },
         "mode": "lines",
         "name": "",
         "type": "scatter3d",
         "uid": "cb91442e-29d4-4db9-8093-866c22bf226d",
         "x": [
          3047.0198675496686,
          3080.1324503311257
         ],
         "y": [
          0,
          0
         ],
         "z": [
          0,
          0
         ]
        },
        {
         "hovertemplate": "BallAndStick2[0].dend(0.599338)<br>-65.000",
         "line": {
          "color": "#1fe0ff",
          "width": 2
         },
         "mode": "lines",
         "name": "",
         "type": "scatter3d",
         "uid": "7f28ec8c-7032-4b61-bdc9-ae9140f0e33f",
         "x": [
          3080.1324503311257,
          3113.2450331125824
         ],
         "y": [
          0,
          0
         ],
         "z": [
          0,
          0
         ]
        },
        {
         "hovertemplate": "BallAndStick2[0].dend(0.60596)<br>-65.000",
         "line": {
          "color": "#1fe0ff",
          "width": 2
         },
         "mode": "lines",
         "name": "",
         "type": "scatter3d",
         "uid": "66811a65-c224-4a9a-917e-2a384b157247",
         "x": [
          3113.2450331125824,
          3146.3576158940396
         ],
         "y": [
          0,
          0
         ],
         "z": [
          0,
          0
         ]
        },
        {
         "hovertemplate": "BallAndStick2[0].dend(0.612583)<br>-65.000",
         "line": {
          "color": "#1fe0ff",
          "width": 2
         },
         "mode": "lines",
         "name": "",
         "type": "scatter3d",
         "uid": "9193f025-a66f-4e2c-b609-56b94e0ae5db",
         "x": [
          3146.3576158940396,
          3179.4701986754962
         ],
         "y": [
          0,
          0
         ],
         "z": [
          0,
          0
         ]
        },
        {
         "hovertemplate": "BallAndStick2[0].dend(0.619205)<br>-65.000",
         "line": {
          "color": "#1fe0ff",
          "width": 2
         },
         "mode": "lines",
         "name": "",
         "type": "scatter3d",
         "uid": "898b892b-fb98-44cc-b08e-5c145196033e",
         "x": [
          3179.4701986754962,
          3212.5827814569534
         ],
         "y": [
          0,
          0
         ],
         "z": [
          0,
          0
         ]
        },
        {
         "hovertemplate": "BallAndStick2[0].dend(0.625828)<br>-65.000",
         "line": {
          "color": "#1fe0ff",
          "width": 2
         },
         "mode": "lines",
         "name": "",
         "type": "scatter3d",
         "uid": "ac3a1b7f-c72e-4937-a885-94a6eed80ab0",
         "x": [
          3212.5827814569534,
          3245.69536423841
         ],
         "y": [
          0,
          0
         ],
         "z": [
          0,
          0
         ]
        },
        {
         "hovertemplate": "BallAndStick2[0].dend(0.63245)<br>-65.000",
         "line": {
          "color": "#1fe0ff",
          "width": 2
         },
         "mode": "lines",
         "name": "",
         "type": "scatter3d",
         "uid": "43474220-7c58-44ad-817b-193c97e1a3ee",
         "x": [
          3245.69536423841,
          3278.8079470198672
         ],
         "y": [
          0,
          0
         ],
         "z": [
          0,
          0
         ]
        },
        {
         "hovertemplate": "BallAndStick2[0].dend(0.639073)<br>-65.000",
         "line": {
          "color": "#1fe0ff",
          "width": 2
         },
         "mode": "lines",
         "name": "",
         "type": "scatter3d",
         "uid": "bd6b9498-116e-4a03-bde5-6c1d2077945e",
         "x": [
          3278.8079470198672,
          3311.9205298013244
         ],
         "y": [
          0,
          0
         ],
         "z": [
          0,
          0
         ]
        },
        {
         "hovertemplate": "BallAndStick2[0].dend(0.645695)<br>-65.000",
         "line": {
          "color": "#1fe0ff",
          "width": 2
         },
         "mode": "lines",
         "name": "",
         "type": "scatter3d",
         "uid": "363923be-3ce4-4928-afb4-388ec3ad50e4",
         "x": [
          3311.9205298013244,
          3345.033112582781
         ],
         "y": [
          0,
          0
         ],
         "z": [
          0,
          0
         ]
        },
        {
         "hovertemplate": "BallAndStick2[0].dend(0.652318)<br>-65.000",
         "line": {
          "color": "#1fe0ff",
          "width": 2
         },
         "mode": "lines",
         "name": "",
         "type": "scatter3d",
         "uid": "32223840-1253-4e7f-a11f-cdfa7bd0a218",
         "x": [
          3345.033112582781,
          3378.1456953642382
         ],
         "y": [
          0,
          0
         ],
         "z": [
          0,
          0
         ]
        },
        {
         "hovertemplate": "BallAndStick2[0].dend(0.65894)<br>-65.000",
         "line": {
          "color": "#1fe0ff",
          "width": 2
         },
         "mode": "lines",
         "name": "",
         "type": "scatter3d",
         "uid": "284b1a73-bd8e-46b4-8f4f-62b526052d31",
         "x": [
          3378.1456953642382,
          3411.258278145695
         ],
         "y": [
          0,
          0
         ],
         "z": [
          0,
          0
         ]
        },
        {
         "hovertemplate": "BallAndStick2[0].dend(0.665563)<br>-65.000",
         "line": {
          "color": "#1fe0ff",
          "width": 2
         },
         "mode": "lines",
         "name": "",
         "type": "scatter3d",
         "uid": "9cfe0cb6-0e56-4b93-8e07-d7dd93549b3b",
         "x": [
          3411.258278145695,
          3444.370860927152
         ],
         "y": [
          0,
          0
         ],
         "z": [
          0,
          0
         ]
        },
        {
         "hovertemplate": "BallAndStick2[0].dend(0.672185)<br>-65.000",
         "line": {
          "color": "#1fe0ff",
          "width": 2
         },
         "mode": "lines",
         "name": "",
         "type": "scatter3d",
         "uid": "f543256a-752a-4c5c-8896-1e8c8d262f7f",
         "x": [
          3444.370860927152,
          3477.483443708609
         ],
         "y": [
          0,
          0
         ],
         "z": [
          0,
          0
         ]
        },
        {
         "hovertemplate": "BallAndStick2[0].dend(0.678808)<br>-65.000",
         "line": {
          "color": "#1fe0ff",
          "width": 2
         },
         "mode": "lines",
         "name": "",
         "type": "scatter3d",
         "uid": "df66fd4a-7d98-4393-95c5-e14dd2464281",
         "x": [
          3477.483443708609,
          3510.596026490066
         ],
         "y": [
          0,
          0
         ],
         "z": [
          0,
          0
         ]
        },
        {
         "hovertemplate": "BallAndStick2[0].dend(0.68543)<br>-65.000",
         "line": {
          "color": "#1fe0ff",
          "width": 2
         },
         "mode": "lines",
         "name": "",
         "type": "scatter3d",
         "uid": "beaf335b-b60f-4607-bbeb-ba8f07fbf091",
         "x": [
          3510.596026490066,
          3543.7086092715226
         ],
         "y": [
          0,
          0
         ],
         "z": [
          0,
          0
         ]
        },
        {
         "hovertemplate": "BallAndStick2[0].dend(0.692053)<br>-65.000",
         "line": {
          "color": "#1fe0ff",
          "width": 2
         },
         "mode": "lines",
         "name": "",
         "type": "scatter3d",
         "uid": "f950068e-0664-4097-bb65-fb494c44fe75",
         "x": [
          3543.7086092715226,
          3576.8211920529798
         ],
         "y": [
          0,
          0
         ],
         "z": [
          0,
          0
         ]
        },
        {
         "hovertemplate": "BallAndStick2[0].dend(0.698675)<br>-65.000",
         "line": {
          "color": "#1fe0ff",
          "width": 2
         },
         "mode": "lines",
         "name": "",
         "type": "scatter3d",
         "uid": "e6d2ced1-71aa-4f38-8837-829eb5983d13",
         "x": [
          3576.8211920529798,
          3609.933774834437
         ],
         "y": [
          0,
          0
         ],
         "z": [
          0,
          0
         ]
        },
        {
         "hovertemplate": "BallAndStick2[0].dend(0.705298)<br>-65.000",
         "line": {
          "color": "#1fe0ff",
          "width": 2
         },
         "mode": "lines",
         "name": "",
         "type": "scatter3d",
         "uid": "e2e39600-4ed4-4269-839f-3a350b4a0eb8",
         "x": [
          3609.933774834437,
          3643.0463576158936
         ],
         "y": [
          0,
          0
         ],
         "z": [
          0,
          0
         ]
        },
        {
         "hovertemplate": "BallAndStick2[0].dend(0.711921)<br>-65.000",
         "line": {
          "color": "#1fe0ff",
          "width": 2
         },
         "mode": "lines",
         "name": "",
         "type": "scatter3d",
         "uid": "869c94ca-1e27-447d-9787-744032c1d619",
         "x": [
          3643.0463576158936,
          3676.1589403973508
         ],
         "y": [
          0,
          0
         ],
         "z": [
          0,
          0
         ]
        },
        {
         "hovertemplate": "BallAndStick2[0].dend(0.718543)<br>-65.000",
         "line": {
          "color": "#1fe0ff",
          "width": 2
         },
         "mode": "lines",
         "name": "",
         "type": "scatter3d",
         "uid": "7221826a-e505-4ea8-9a69-dfacd7f9bfc2",
         "x": [
          3676.1589403973508,
          3709.2715231788075
         ],
         "y": [
          0,
          0
         ],
         "z": [
          0,
          0
         ]
        },
        {
         "hovertemplate": "BallAndStick2[0].dend(0.725166)<br>-65.000",
         "line": {
          "color": "#1fe0ff",
          "width": 2
         },
         "mode": "lines",
         "name": "",
         "type": "scatter3d",
         "uid": "67a13526-2097-4c73-830e-18b9c05aac73",
         "x": [
          3709.2715231788075,
          3742.3841059602646
         ],
         "y": [
          0,
          0
         ],
         "z": [
          0,
          0
         ]
        },
        {
         "hovertemplate": "BallAndStick2[0].dend(0.731788)<br>-65.000",
         "line": {
          "color": "#1fe0ff",
          "width": 2
         },
         "mode": "lines",
         "name": "",
         "type": "scatter3d",
         "uid": "771ff86f-dedc-4c1f-a29a-34afa6953052",
         "x": [
          3742.3841059602646,
          3775.4966887417213
         ],
         "y": [
          0,
          0
         ],
         "z": [
          0,
          0
         ]
        },
        {
         "hovertemplate": "BallAndStick2[0].dend(0.738411)<br>-65.000",
         "line": {
          "color": "#1fe0ff",
          "width": 2
         },
         "mode": "lines",
         "name": "",
         "type": "scatter3d",
         "uid": "d1f466bb-7435-4fee-bc03-cf0df512a776",
         "x": [
          3775.4966887417213,
          3808.6092715231784
         ],
         "y": [
          0,
          0
         ],
         "z": [
          0,
          0
         ]
        },
        {
         "hovertemplate": "BallAndStick2[0].dend(0.745033)<br>-65.000",
         "line": {
          "color": "#1fe0ff",
          "width": 2
         },
         "mode": "lines",
         "name": "",
         "type": "scatter3d",
         "uid": "7580431b-c6aa-4d04-810f-72fbe116f059",
         "x": [
          3808.6092715231784,
          3841.7218543046356
         ],
         "y": [
          0,
          0
         ],
         "z": [
          0,
          0
         ]
        },
        {
         "hovertemplate": "BallAndStick2[0].dend(0.751656)<br>-65.000",
         "line": {
          "color": "#1fe0ff",
          "width": 2
         },
         "mode": "lines",
         "name": "",
         "type": "scatter3d",
         "uid": "977147a9-6b58-4edd-ad66-d6ed2524df93",
         "x": [
          3841.7218543046356,
          3874.8344370860923
         ],
         "y": [
          0,
          0
         ],
         "z": [
          0,
          0
         ]
        },
        {
         "hovertemplate": "BallAndStick2[0].dend(0.758278)<br>-65.000",
         "line": {
          "color": "#1fe0ff",
          "width": 2
         },
         "mode": "lines",
         "name": "",
         "type": "scatter3d",
         "uid": "02952d25-21c0-4812-abf8-e41a8b4d8e2e",
         "x": [
          3874.8344370860923,
          3907.9470198675494
         ],
         "y": [
          0,
          0
         ],
         "z": [
          0,
          0
         ]
        },
        {
         "hovertemplate": "BallAndStick2[0].dend(0.764901)<br>-65.000",
         "line": {
          "color": "#1fe0ff",
          "width": 2
         },
         "mode": "lines",
         "name": "",
         "type": "scatter3d",
         "uid": "a991511d-d457-41bd-bcbb-6af71d61b226",
         "x": [
          3907.9470198675494,
          3941.059602649006
         ],
         "y": [
          0,
          0
         ],
         "z": [
          0,
          0
         ]
        },
        {
         "hovertemplate": "BallAndStick2[0].dend(0.771523)<br>-65.000",
         "line": {
          "color": "#1fe0ff",
          "width": 2
         },
         "mode": "lines",
         "name": "",
         "type": "scatter3d",
         "uid": "107255da-2567-409e-8fc8-afff08ad35fe",
         "x": [
          3941.059602649006,
          3974.1721854304633
         ],
         "y": [
          0,
          0
         ],
         "z": [
          0,
          0
         ]
        },
        {
         "hovertemplate": "BallAndStick2[0].dend(0.778146)<br>-65.000",
         "line": {
          "color": "#1fe0ff",
          "width": 2
         },
         "mode": "lines",
         "name": "",
         "type": "scatter3d",
         "uid": "37d12343-7515-4451-8c28-3fc757c5b8e6",
         "x": [
          3974.1721854304633,
          4007.28476821192
         ],
         "y": [
          0,
          0
         ],
         "z": [
          0,
          0
         ]
        },
        {
         "hovertemplate": "BallAndStick2[0].dend(0.784768)<br>-65.000",
         "line": {
          "color": "#1fe0ff",
          "width": 2
         },
         "mode": "lines",
         "name": "",
         "type": "scatter3d",
         "uid": "f5752dde-f99c-41a6-9d58-aabc6a9aae12",
         "x": [
          4007.28476821192,
          4040.397350993377
         ],
         "y": [
          0,
          0
         ],
         "z": [
          0,
          0
         ]
        },
        {
         "hovertemplate": "BallAndStick2[0].dend(0.791391)<br>-65.000",
         "line": {
          "color": "#1fe0ff",
          "width": 2
         },
         "mode": "lines",
         "name": "",
         "type": "scatter3d",
         "uid": "fb68c99c-7f3f-4896-a582-8b619675a686",
         "x": [
          4040.397350993377,
          4073.5099337748343
         ],
         "y": [
          0,
          0
         ],
         "z": [
          0,
          0
         ]
        },
        {
         "hovertemplate": "BallAndStick2[0].dend(0.798013)<br>-65.000",
         "line": {
          "color": "#1fe0ff",
          "width": 2
         },
         "mode": "lines",
         "name": "",
         "type": "scatter3d",
         "uid": "0cb4b7ff-5dd4-4bae-b69c-6bc9043b7ead",
         "x": [
          4073.5099337748343,
          4106.622516556291
         ],
         "y": [
          0,
          0
         ],
         "z": [
          0,
          0
         ]
        },
        {
         "hovertemplate": "BallAndStick2[0].dend(0.804636)<br>-65.000",
         "line": {
          "color": "#1fe0ff",
          "width": 2
         },
         "mode": "lines",
         "name": "",
         "type": "scatter3d",
         "uid": "9f8d50b4-0171-45ea-9bd0-90057134849e",
         "x": [
          4106.622516556291,
          4139.735099337748
         ],
         "y": [
          0,
          0
         ],
         "z": [
          0,
          0
         ]
        },
        {
         "hovertemplate": "BallAndStick2[0].dend(0.811258)<br>-65.000",
         "line": {
          "color": "#1fe0ff",
          "width": 2
         },
         "mode": "lines",
         "name": "",
         "type": "scatter3d",
         "uid": "4a151514-3b96-4cd9-a20b-0d265745f169",
         "x": [
          4139.735099337748,
          4172.847682119205
         ],
         "y": [
          0,
          0
         ],
         "z": [
          0,
          0
         ]
        },
        {
         "hovertemplate": "BallAndStick2[0].dend(0.817881)<br>-65.000",
         "line": {
          "color": "#1fe0ff",
          "width": 2
         },
         "mode": "lines",
         "name": "",
         "type": "scatter3d",
         "uid": "f0adc80b-dcc9-4518-809d-cf0b36dc27ad",
         "x": [
          4172.847682119205,
          4205.960264900662
         ],
         "y": [
          0,
          0
         ],
         "z": [
          0,
          0
         ]
        },
        {
         "hovertemplate": "BallAndStick2[0].dend(0.824503)<br>-65.000",
         "line": {
          "color": "#1fe0ff",
          "width": 2
         },
         "mode": "lines",
         "name": "",
         "type": "scatter3d",
         "uid": "b4e7c83d-551d-413b-b108-6110f84226fb",
         "x": [
          4205.960264900662,
          4239.072847682119
         ],
         "y": [
          0,
          0
         ],
         "z": [
          0,
          0
         ]
        },
        {
         "hovertemplate": "BallAndStick2[0].dend(0.831126)<br>-65.000",
         "line": {
          "color": "#1fe0ff",
          "width": 2
         },
         "mode": "lines",
         "name": "",
         "type": "scatter3d",
         "uid": "79e54502-d716-4fcc-9324-c3fefec4b49b",
         "x": [
          4239.072847682119,
          4272.185430463575
         ],
         "y": [
          0,
          0
         ],
         "z": [
          0,
          0
         ]
        },
        {
         "hovertemplate": "BallAndStick2[0].dend(0.837748)<br>-65.000",
         "line": {
          "color": "#1fe0ff",
          "width": 2
         },
         "mode": "lines",
         "name": "",
         "type": "scatter3d",
         "uid": "0bfde5ad-8585-459e-b646-57c84d10203b",
         "x": [
          4272.185430463575,
          4305.298013245033
         ],
         "y": [
          0,
          0
         ],
         "z": [
          0,
          0
         ]
        },
        {
         "hovertemplate": "BallAndStick2[0].dend(0.844371)<br>-65.000",
         "line": {
          "color": "#1fe0ff",
          "width": 2
         },
         "mode": "lines",
         "name": "",
         "type": "scatter3d",
         "uid": "92285628-0804-40dd-b022-18e705e7ab8d",
         "x": [
          4305.298013245033,
          4338.41059602649
         ],
         "y": [
          0,
          0
         ],
         "z": [
          0,
          0
         ]
        },
        {
         "hovertemplate": "BallAndStick2[0].dend(0.850993)<br>-65.000",
         "line": {
          "color": "#1fe0ff",
          "width": 2
         },
         "mode": "lines",
         "name": "",
         "type": "scatter3d",
         "uid": "eda7f6ef-997d-4da2-8238-68d271aba5ec",
         "x": [
          4338.41059602649,
          4371.523178807946
         ],
         "y": [
          0,
          0
         ],
         "z": [
          0,
          0
         ]
        },
        {
         "hovertemplate": "BallAndStick2[0].dend(0.857616)<br>-65.000",
         "line": {
          "color": "#1fe0ff",
          "width": 2
         },
         "mode": "lines",
         "name": "",
         "type": "scatter3d",
         "uid": "0478ce16-1d42-4008-a9cd-bbc0eca9134e",
         "x": [
          4371.523178807946,
          4404.635761589404
         ],
         "y": [
          0,
          0
         ],
         "z": [
          0,
          0
         ]
        },
        {
         "hovertemplate": "BallAndStick2[0].dend(0.864238)<br>-65.000",
         "line": {
          "color": "#1fe0ff",
          "width": 2
         },
         "mode": "lines",
         "name": "",
         "type": "scatter3d",
         "uid": "955c890e-05e5-4a20-9008-71592e7d1075",
         "x": [
          4404.635761589404,
          4437.748344370861
         ],
         "y": [
          0,
          0
         ],
         "z": [
          0,
          0
         ]
        },
        {
         "hovertemplate": "BallAndStick2[0].dend(0.870861)<br>-65.000",
         "line": {
          "color": "#1fe0ff",
          "width": 2
         },
         "mode": "lines",
         "name": "",
         "type": "scatter3d",
         "uid": "23365634-d2c6-45cc-a139-bfa8bbc94bce",
         "x": [
          4437.748344370861,
          4470.860927152317
         ],
         "y": [
          0,
          0
         ],
         "z": [
          0,
          0
         ]
        },
        {
         "hovertemplate": "BallAndStick2[0].dend(0.877483)<br>-65.000",
         "line": {
          "color": "#1fe0ff",
          "width": 2
         },
         "mode": "lines",
         "name": "",
         "type": "scatter3d",
         "uid": "86202838-cb33-4d5c-b2ca-0d02ec62c36f",
         "x": [
          4470.860927152317,
          4503.973509933774
         ],
         "y": [
          0,
          0
         ],
         "z": [
          0,
          0
         ]
        },
        {
         "hovertemplate": "BallAndStick2[0].dend(0.884106)<br>-65.000",
         "line": {
          "color": "#1fe0ff",
          "width": 2
         },
         "mode": "lines",
         "name": "",
         "type": "scatter3d",
         "uid": "34a114a4-b7ee-4ed5-8c4e-16d3f2cf97d5",
         "x": [
          4503.973509933774,
          4537.086092715232
         ],
         "y": [
          0,
          0
         ],
         "z": [
          0,
          0
         ]
        },
        {
         "hovertemplate": "BallAndStick2[0].dend(0.890728)<br>-65.000",
         "line": {
          "color": "#1fe0ff",
          "width": 2
         },
         "mode": "lines",
         "name": "",
         "type": "scatter3d",
         "uid": "b21f4905-8652-4d01-9680-3a51e34bfb5c",
         "x": [
          4537.086092715232,
          4570.198675496688
         ],
         "y": [
          0,
          0
         ],
         "z": [
          0,
          0
         ]
        },
        {
         "hovertemplate": "BallAndStick2[0].dend(0.897351)<br>-65.000",
         "line": {
          "color": "#1fe0ff",
          "width": 2
         },
         "mode": "lines",
         "name": "",
         "type": "scatter3d",
         "uid": "33127488-72f5-4569-a9a7-1e4ed71cd141",
         "x": [
          4570.198675496688,
          4603.311258278145
         ],
         "y": [
          0,
          0
         ],
         "z": [
          0,
          0
         ]
        },
        {
         "hovertemplate": "BallAndStick2[0].dend(0.903974)<br>-65.000",
         "line": {
          "color": "#1fe0ff",
          "width": 2
         },
         "mode": "lines",
         "name": "",
         "type": "scatter3d",
         "uid": "8fc5fd6f-e7ff-4cfc-b205-939de0668719",
         "x": [
          4603.311258278145,
          4636.423841059603
         ],
         "y": [
          0,
          0
         ],
         "z": [
          0,
          0
         ]
        },
        {
         "hovertemplate": "BallAndStick2[0].dend(0.910596)<br>-65.000",
         "line": {
          "color": "#1fe0ff",
          "width": 2
         },
         "mode": "lines",
         "name": "",
         "type": "scatter3d",
         "uid": "5433eb4c-c4f1-49f5-b9fe-5bdcaaa0d9f9",
         "x": [
          4636.423841059603,
          4669.536423841059
         ],
         "y": [
          0,
          0
         ],
         "z": [
          0,
          0
         ]
        },
        {
         "hovertemplate": "BallAndStick2[0].dend(0.917219)<br>-65.000",
         "line": {
          "color": "#1fe0ff",
          "width": 2
         },
         "mode": "lines",
         "name": "",
         "type": "scatter3d",
         "uid": "8fbf9ea1-dcf7-4a82-8e13-574673b84054",
         "x": [
          4669.536423841059,
          4702.649006622516
         ],
         "y": [
          0,
          0
         ],
         "z": [
          0,
          0
         ]
        },
        {
         "hovertemplate": "BallAndStick2[0].dend(0.923841)<br>-65.000",
         "line": {
          "color": "#1fe0ff",
          "width": 2
         },
         "mode": "lines",
         "name": "",
         "type": "scatter3d",
         "uid": "04bd46d6-1f6b-432c-9124-c737c3360585",
         "x": [
          4702.649006622516,
          4735.761589403973
         ],
         "y": [
          0,
          0
         ],
         "z": [
          0,
          0
         ]
        },
        {
         "hovertemplate": "BallAndStick2[0].dend(0.930464)<br>-65.000",
         "line": {
          "color": "#1fe0ff",
          "width": 2
         },
         "mode": "lines",
         "name": "",
         "type": "scatter3d",
         "uid": "8d240500-7728-46ad-af4a-d3867eb05bbe",
         "x": [
          4735.761589403973,
          4768.87417218543
         ],
         "y": [
          0,
          0
         ],
         "z": [
          0,
          0
         ]
        },
        {
         "hovertemplate": "BallAndStick2[0].dend(0.937086)<br>-65.000",
         "line": {
          "color": "#1fe0ff",
          "width": 2
         },
         "mode": "lines",
         "name": "",
         "type": "scatter3d",
         "uid": "f1bbe2a3-304d-404d-ae9a-73400144aca8",
         "x": [
          4768.87417218543,
          4801.986754966887
         ],
         "y": [
          0,
          0
         ],
         "z": [
          0,
          0
         ]
        },
        {
         "hovertemplate": "BallAndStick2[0].dend(0.943709)<br>-65.000",
         "line": {
          "color": "#1fe0ff",
          "width": 2
         },
         "mode": "lines",
         "name": "",
         "type": "scatter3d",
         "uid": "90707aef-fac8-49f4-aab4-0973f0e95465",
         "x": [
          4801.986754966887,
          4835.099337748344
         ],
         "y": [
          0,
          0
         ],
         "z": [
          0,
          0
         ]
        },
        {
         "hovertemplate": "BallAndStick2[0].dend(0.950331)<br>-65.000",
         "line": {
          "color": "#1fe0ff",
          "width": 2
         },
         "mode": "lines",
         "name": "",
         "type": "scatter3d",
         "uid": "3c5303fd-1fff-484d-953b-6092e8ad6a74",
         "x": [
          4835.099337748344,
          4868.2119205298
         ],
         "y": [
          0,
          0
         ],
         "z": [
          0,
          0
         ]
        },
        {
         "hovertemplate": "BallAndStick2[0].dend(0.956954)<br>-65.000",
         "line": {
          "color": "#1fe0ff",
          "width": 2
         },
         "mode": "lines",
         "name": "",
         "type": "scatter3d",
         "uid": "72baecb2-7136-4d20-bcbf-edb11d26876a",
         "x": [
          4868.2119205298,
          4901.324503311258
         ],
         "y": [
          0,
          0
         ],
         "z": [
          0,
          0
         ]
        },
        {
         "hovertemplate": "BallAndStick2[0].dend(0.963576)<br>-65.000",
         "line": {
          "color": "#1fe0ff",
          "width": 2
         },
         "mode": "lines",
         "name": "",
         "type": "scatter3d",
         "uid": "6411325c-ed4b-40ea-90d2-96ac93c93f14",
         "x": [
          4901.324503311258,
          4934.437086092715
         ],
         "y": [
          0,
          0
         ],
         "z": [
          0,
          0
         ]
        },
        {
         "hovertemplate": "BallAndStick2[0].dend(0.970199)<br>-65.000",
         "line": {
          "color": "#1fe0ff",
          "width": 2
         },
         "mode": "lines",
         "name": "",
         "type": "scatter3d",
         "uid": "f061c169-907d-4ea3-9d3f-56d2ad4cc5ff",
         "x": [
          4934.437086092715,
          4967.549668874171
         ],
         "y": [
          0,
          0
         ],
         "z": [
          0,
          0
         ]
        },
        {
         "hovertemplate": "BallAndStick2[0].dend(0.976821)<br>-65.000",
         "line": {
          "color": "#1fe0ff",
          "width": 2
         },
         "mode": "lines",
         "name": "",
         "type": "scatter3d",
         "uid": "4d9c67d4-95ad-4b98-a51f-16b30add96d1",
         "x": [
          4967.549668874171,
          5000.662251655629
         ],
         "y": [
          0,
          0
         ],
         "z": [
          0,
          0
         ]
        },
        {
         "hovertemplate": "BallAndStick2[0].dend(0.983444)<br>-65.000",
         "line": {
          "color": "#1fe0ff",
          "width": 2
         },
         "mode": "lines",
         "name": "",
         "type": "scatter3d",
         "uid": "84f01a00-545d-4435-a2aa-41b9e2b0bed9",
         "x": [
          5000.662251655629,
          5033.774834437086
         ],
         "y": [
          0,
          0
         ],
         "z": [
          0,
          0
         ]
        },
        {
         "hovertemplate": "BallAndStick2[0].dend(0.990066)<br>-65.000",
         "line": {
          "color": "#1fe0ff",
          "width": 2
         },
         "mode": "lines",
         "name": "",
         "type": "scatter3d",
         "uid": "7f1045e6-efed-47e1-99e8-be1c2bcfe36b",
         "x": [
          5033.774834437086,
          5066.887417218542
         ],
         "y": [
          0,
          0
         ],
         "z": [
          0,
          0
         ]
        },
        {
         "hovertemplate": "BallAndStick2[0].dend(0.996689)<br>-65.000",
         "line": {
          "color": "#1fe0ff",
          "width": 2
         },
         "mode": "lines",
         "name": "",
         "type": "scatter3d",
         "uid": "246bdfc9-d4a3-405f-b4e9-a38d8cb71e20",
         "x": [
          5066.887417218542,
          5099.999999999999
         ],
         "y": [
          0,
          0
         ],
         "z": [
          0,
          0
         ]
        },
        {
         "hovertemplate": "BallAndStick2[0].dend2(0.00331126)<br>-65.000",
         "line": {
          "color": "#1fe0ff",
          "width": 2
         },
         "mode": "lines",
         "name": "",
         "type": "scatter3d",
         "uid": "93993b42-7e4d-407f-8040-962913046076",
         "x": [
          5100,
          5133.112582781457
         ],
         "y": [
          0,
          0
         ],
         "z": [
          0,
          0
         ]
        },
        {
         "hovertemplate": "BallAndStick2[0].dend2(0.00993377)<br>-65.000",
         "line": {
          "color": "#1fe0ff",
          "width": 2
         },
         "mode": "lines",
         "name": "",
         "type": "scatter3d",
         "uid": "f50c5c96-a2c6-4de1-861d-b6decc489280",
         "x": [
          5133.112582781457,
          5166.225165562914
         ],
         "y": [
          0,
          0
         ],
         "z": [
          0,
          0
         ]
        },
        {
         "hovertemplate": "BallAndStick2[0].dend2(0.0165563)<br>-65.000",
         "line": {
          "color": "#1fe0ff",
          "width": 2
         },
         "mode": "lines",
         "name": "",
         "type": "scatter3d",
         "uid": "50f0b092-3df2-4f83-bdf0-84bc3228d075",
         "x": [
          5166.225165562914,
          5199.337748344371
         ],
         "y": [
          0,
          0
         ],
         "z": [
          0,
          0
         ]
        },
        {
         "hovertemplate": "BallAndStick2[0].dend2(0.0231788)<br>-65.000",
         "line": {
          "color": "#1fe0ff",
          "width": 2
         },
         "mode": "lines",
         "name": "",
         "type": "scatter3d",
         "uid": "4a603c65-0424-4bbe-9d80-dd2635ec133b",
         "x": [
          5199.337748344371,
          5232.450331125828
         ],
         "y": [
          0,
          0
         ],
         "z": [
          0,
          0
         ]
        },
        {
         "hovertemplate": "BallAndStick2[0].dend2(0.0298013)<br>-65.000",
         "line": {
          "color": "#1fe0ff",
          "width": 2
         },
         "mode": "lines",
         "name": "",
         "type": "scatter3d",
         "uid": "7c853951-75ae-41e8-afcd-b555323e7fd2",
         "x": [
          5232.450331125828,
          5265.562913907284
         ],
         "y": [
          0,
          0
         ],
         "z": [
          0,
          0
         ]
        },
        {
         "hovertemplate": "BallAndStick2[0].dend2(0.0364238)<br>-65.000",
         "line": {
          "color": "#1fe0ff",
          "width": 2
         },
         "mode": "lines",
         "name": "",
         "type": "scatter3d",
         "uid": "b0c94825-ffd3-4e48-9b28-0fbda005193a",
         "x": [
          5265.562913907284,
          5298.675496688742
         ],
         "y": [
          0,
          0
         ],
         "z": [
          0,
          0
         ]
        },
        {
         "hovertemplate": "BallAndStick2[0].dend2(0.0430464)<br>-65.000",
         "line": {
          "color": "#1fe0ff",
          "width": 2
         },
         "mode": "lines",
         "name": "",
         "type": "scatter3d",
         "uid": "e2482608-be39-4315-b2dd-049528078bc5",
         "x": [
          5298.675496688742,
          5331.788079470199
         ],
         "y": [
          0,
          0
         ],
         "z": [
          0,
          0
         ]
        },
        {
         "hovertemplate": "BallAndStick2[0].dend2(0.0496689)<br>-65.000",
         "line": {
          "color": "#1fe0ff",
          "width": 2
         },
         "mode": "lines",
         "name": "",
         "type": "scatter3d",
         "uid": "14c57042-c1ae-4068-b2ab-52526ad1f462",
         "x": [
          5331.788079470199,
          5364.900662251655
         ],
         "y": [
          0,
          0
         ],
         "z": [
          0,
          0
         ]
        },
        {
         "hovertemplate": "BallAndStick2[0].dend2(0.0562914)<br>-65.000",
         "line": {
          "color": "#1fe0ff",
          "width": 2
         },
         "mode": "lines",
         "name": "",
         "type": "scatter3d",
         "uid": "f2adfdf6-c6e9-46d6-834c-a9254261a89d",
         "x": [
          5364.900662251655,
          5398.013245033113
         ],
         "y": [
          0,
          0
         ],
         "z": [
          0,
          0
         ]
        },
        {
         "hovertemplate": "BallAndStick2[0].dend2(0.0629139)<br>-65.000",
         "line": {
          "color": "#1fe0ff",
          "width": 2
         },
         "mode": "lines",
         "name": "",
         "type": "scatter3d",
         "uid": "898ed624-e15d-49d5-967f-fbd7e79838fb",
         "x": [
          5398.013245033113,
          5431.12582781457
         ],
         "y": [
          0,
          0
         ],
         "z": [
          0,
          0
         ]
        },
        {
         "hovertemplate": "BallAndStick2[0].dend2(0.0695364)<br>-65.000",
         "line": {
          "color": "#1fe0ff",
          "width": 2
         },
         "mode": "lines",
         "name": "",
         "type": "scatter3d",
         "uid": "7054b465-b0e1-463f-b12e-8aaf467888b5",
         "x": [
          5431.12582781457,
          5464.238410596026
         ],
         "y": [
          0,
          0
         ],
         "z": [
          0,
          0
         ]
        },
        {
         "hovertemplate": "BallAndStick2[0].dend2(0.0761589)<br>-65.000",
         "line": {
          "color": "#1fe0ff",
          "width": 2
         },
         "mode": "lines",
         "name": "",
         "type": "scatter3d",
         "uid": "449805da-3883-4a6e-94d7-8cbc116c4df2",
         "x": [
          5464.238410596026,
          5497.350993377483
         ],
         "y": [
          0,
          0
         ],
         "z": [
          0,
          0
         ]
        },
        {
         "hovertemplate": "BallAndStick2[0].dend2(0.0827815)<br>-65.000",
         "line": {
          "color": "#1fe0ff",
          "width": 2
         },
         "mode": "lines",
         "name": "",
         "type": "scatter3d",
         "uid": "00c8fcb8-8fd2-4df3-aeaf-f03d2e6129bd",
         "x": [
          5497.350993377483,
          5530.463576158941
         ],
         "y": [
          0,
          0
         ],
         "z": [
          0,
          0
         ]
        },
        {
         "hovertemplate": "BallAndStick2[0].dend2(0.089404)<br>-65.000",
         "line": {
          "color": "#1fe0ff",
          "width": 2
         },
         "mode": "lines",
         "name": "",
         "type": "scatter3d",
         "uid": "e52fd503-275a-4579-bf8d-eacc252fb15a",
         "x": [
          5530.463576158941,
          5563.576158940397
         ],
         "y": [
          0,
          0
         ],
         "z": [
          0,
          0
         ]
        },
        {
         "hovertemplate": "BallAndStick2[0].dend2(0.0960265)<br>-65.000",
         "line": {
          "color": "#1fe0ff",
          "width": 2
         },
         "mode": "lines",
         "name": "",
         "type": "scatter3d",
         "uid": "1cebdd63-2acf-4048-b4ae-80c9f55e6a9f",
         "x": [
          5563.576158940397,
          5596.688741721854
         ],
         "y": [
          0,
          0
         ],
         "z": [
          0,
          0
         ]
        },
        {
         "hovertemplate": "BallAndStick2[0].dend2(0.102649)<br>-65.000",
         "line": {
          "color": "#1fe0ff",
          "width": 2
         },
         "mode": "lines",
         "name": "",
         "type": "scatter3d",
         "uid": "049515fd-c07e-46a8-862d-9a8ee40d0ee3",
         "x": [
          5596.688741721854,
          5629.801324503311
         ],
         "y": [
          0,
          0
         ],
         "z": [
          0,
          0
         ]
        },
        {
         "hovertemplate": "BallAndStick2[0].dend2(0.109272)<br>-65.000",
         "line": {
          "color": "#1fe0ff",
          "width": 2
         },
         "mode": "lines",
         "name": "",
         "type": "scatter3d",
         "uid": "d97ecf2a-f0e6-4288-a8ef-afbc0d9b2705",
         "x": [
          5629.801324503311,
          5662.913907284768
         ],
         "y": [
          0,
          0
         ],
         "z": [
          0,
          0
         ]
        },
        {
         "hovertemplate": "BallAndStick2[0].dend2(0.115894)<br>-65.000",
         "line": {
          "color": "#1fe0ff",
          "width": 2
         },
         "mode": "lines",
         "name": "",
         "type": "scatter3d",
         "uid": "41889942-0147-4489-8a40-8925cd99c11d",
         "x": [
          5662.913907284768,
          5696.026490066225
         ],
         "y": [
          0,
          0
         ],
         "z": [
          0,
          0
         ]
        },
        {
         "hovertemplate": "BallAndStick2[0].dend2(0.122517)<br>-65.000",
         "line": {
          "color": "#1fe0ff",
          "width": 2
         },
         "mode": "lines",
         "name": "",
         "type": "scatter3d",
         "uid": "f4950c43-0822-4bf1-8fcd-fbe3fff225b4",
         "x": [
          5696.026490066225,
          5729.139072847682
         ],
         "y": [
          0,
          0
         ],
         "z": [
          0,
          0
         ]
        },
        {
         "hovertemplate": "BallAndStick2[0].dend2(0.129139)<br>-65.000",
         "line": {
          "color": "#1fe0ff",
          "width": 2
         },
         "mode": "lines",
         "name": "",
         "type": "scatter3d",
         "uid": "2f961414-0c1c-499a-b12f-d99d217782cd",
         "x": [
          5729.139072847682,
          5762.251655629139
         ],
         "y": [
          0,
          0
         ],
         "z": [
          0,
          0
         ]
        },
        {
         "hovertemplate": "BallAndStick2[0].dend2(0.135762)<br>-65.000",
         "line": {
          "color": "#1fe0ff",
          "width": 2
         },
         "mode": "lines",
         "name": "",
         "type": "scatter3d",
         "uid": "d870b915-bcda-4ce4-91b8-3a2a40a224a1",
         "x": [
          5762.251655629139,
          5795.364238410596
         ],
         "y": [
          0,
          0
         ],
         "z": [
          0,
          0
         ]
        },
        {
         "hovertemplate": "BallAndStick2[0].dend2(0.142384)<br>-65.000",
         "line": {
          "color": "#1fe0ff",
          "width": 2
         },
         "mode": "lines",
         "name": "",
         "type": "scatter3d",
         "uid": "7cd00aa2-8f7b-49fd-af4b-9a01aa1481b5",
         "x": [
          5795.364238410596,
          5828.476821192053
         ],
         "y": [
          0,
          0
         ],
         "z": [
          0,
          0
         ]
        },
        {
         "hovertemplate": "BallAndStick2[0].dend2(0.149007)<br>-65.000",
         "line": {
          "color": "#1fe0ff",
          "width": 2
         },
         "mode": "lines",
         "name": "",
         "type": "scatter3d",
         "uid": "80307f6d-1320-4c81-9d4a-2beee2656d41",
         "x": [
          5828.476821192053,
          5861.58940397351
         ],
         "y": [
          0,
          0
         ],
         "z": [
          0,
          0
         ]
        },
        {
         "hovertemplate": "BallAndStick2[0].dend2(0.155629)<br>-65.000",
         "line": {
          "color": "#1fe0ff",
          "width": 2
         },
         "mode": "lines",
         "name": "",
         "type": "scatter3d",
         "uid": "fd9c6aad-f241-4385-a8cb-5aca4321539a",
         "x": [
          5861.58940397351,
          5894.701986754967
         ],
         "y": [
          0,
          0
         ],
         "z": [
          0,
          0
         ]
        },
        {
         "hovertemplate": "BallAndStick2[0].dend2(0.162252)<br>-65.000",
         "line": {
          "color": "#1fe0ff",
          "width": 2
         },
         "mode": "lines",
         "name": "",
         "type": "scatter3d",
         "uid": "183e2bff-d680-48ab-a245-1a21a08e5ac6",
         "x": [
          5894.701986754967,
          5927.814569536424
         ],
         "y": [
          0,
          0
         ],
         "z": [
          0,
          0
         ]
        },
        {
         "hovertemplate": "BallAndStick2[0].dend2(0.168874)<br>-65.000",
         "line": {
          "color": "#1fe0ff",
          "width": 2
         },
         "mode": "lines",
         "name": "",
         "type": "scatter3d",
         "uid": "e291239c-b457-4a4a-a806-fb82a5b47be9",
         "x": [
          5927.814569536424,
          5960.92715231788
         ],
         "y": [
          0,
          0
         ],
         "z": [
          0,
          0
         ]
        },
        {
         "hovertemplate": "BallAndStick2[0].dend2(0.175497)<br>-65.000",
         "line": {
          "color": "#1fe0ff",
          "width": 2
         },
         "mode": "lines",
         "name": "",
         "type": "scatter3d",
         "uid": "5bdaa8e9-5142-4604-9a55-8e91505b6e07",
         "x": [
          5960.92715231788,
          5994.039735099338
         ],
         "y": [
          0,
          0
         ],
         "z": [
          0,
          0
         ]
        },
        {
         "hovertemplate": "BallAndStick2[0].dend2(0.182119)<br>-65.000",
         "line": {
          "color": "#1fe0ff",
          "width": 2
         },
         "mode": "lines",
         "name": "",
         "type": "scatter3d",
         "uid": "964a591b-1c18-4d26-aeb9-2e8a40aeafc6",
         "x": [
          5994.039735099338,
          6027.152317880795
         ],
         "y": [
          0,
          0
         ],
         "z": [
          0,
          0
         ]
        },
        {
         "hovertemplate": "BallAndStick2[0].dend2(0.188742)<br>-65.000",
         "line": {
          "color": "#1fe0ff",
          "width": 2
         },
         "mode": "lines",
         "name": "",
         "type": "scatter3d",
         "uid": "cdd6dfae-be2b-44a6-901c-be5854a2a9d2",
         "x": [
          6027.152317880795,
          6060.264900662251
         ],
         "y": [
          0,
          0
         ],
         "z": [
          0,
          0
         ]
        },
        {
         "hovertemplate": "BallAndStick2[0].dend2(0.195364)<br>-65.000",
         "line": {
          "color": "#1fe0ff",
          "width": 2
         },
         "mode": "lines",
         "name": "",
         "type": "scatter3d",
         "uid": "9984ed54-d6fe-444f-87c7-856922905b62",
         "x": [
          6060.264900662251,
          6093.377483443708
         ],
         "y": [
          0,
          0
         ],
         "z": [
          0,
          0
         ]
        },
        {
         "hovertemplate": "BallAndStick2[0].dend2(0.201987)<br>-65.000",
         "line": {
          "color": "#1fe0ff",
          "width": 2
         },
         "mode": "lines",
         "name": "",
         "type": "scatter3d",
         "uid": "f88171d2-2188-4437-936a-077c3b72c1f5",
         "x": [
          6093.377483443708,
          6126.490066225166
         ],
         "y": [
          0,
          0
         ],
         "z": [
          0,
          0
         ]
        },
        {
         "hovertemplate": "BallAndStick2[0].dend2(0.208609)<br>-65.000",
         "line": {
          "color": "#1fe0ff",
          "width": 2
         },
         "mode": "lines",
         "name": "",
         "type": "scatter3d",
         "uid": "4318f30a-68e4-498c-94f7-eff180e54256",
         "x": [
          6126.490066225166,
          6159.602649006622
         ],
         "y": [
          0,
          0
         ],
         "z": [
          0,
          0
         ]
        },
        {
         "hovertemplate": "BallAndStick2[0].dend2(0.215232)<br>-65.000",
         "line": {
          "color": "#1fe0ff",
          "width": 2
         },
         "mode": "lines",
         "name": "",
         "type": "scatter3d",
         "uid": "e010626d-a2e8-4d27-82d0-f7fc9a816205",
         "x": [
          6159.602649006622,
          6192.715231788079
         ],
         "y": [
          0,
          0
         ],
         "z": [
          0,
          0
         ]
        },
        {
         "hovertemplate": "BallAndStick2[0].dend2(0.221854)<br>-65.000",
         "line": {
          "color": "#1fe0ff",
          "width": 2
         },
         "mode": "lines",
         "name": "",
         "type": "scatter3d",
         "uid": "3295ed45-6521-48b1-b399-abcbe4c4278b",
         "x": [
          6192.715231788079,
          6225.827814569537
         ],
         "y": [
          0,
          0
         ],
         "z": [
          0,
          0
         ]
        },
        {
         "hovertemplate": "BallAndStick2[0].dend2(0.228477)<br>-65.000",
         "line": {
          "color": "#1fe0ff",
          "width": 2
         },
         "mode": "lines",
         "name": "",
         "type": "scatter3d",
         "uid": "b8fa639b-c6c4-4fa1-8d27-daad59e4ce52",
         "x": [
          6225.827814569537,
          6258.940397350993
         ],
         "y": [
          0,
          0
         ],
         "z": [
          0,
          0
         ]
        },
        {
         "hovertemplate": "BallAndStick2[0].dend2(0.235099)<br>-65.000",
         "line": {
          "color": "#1fe0ff",
          "width": 2
         },
         "mode": "lines",
         "name": "",
         "type": "scatter3d",
         "uid": "34d12116-d3e6-4a22-a78f-6c4382589993",
         "x": [
          6258.940397350993,
          6292.05298013245
         ],
         "y": [
          0,
          0
         ],
         "z": [
          0,
          0
         ]
        },
        {
         "hovertemplate": "BallAndStick2[0].dend2(0.241722)<br>-65.000",
         "line": {
          "color": "#1fe0ff",
          "width": 2
         },
         "mode": "lines",
         "name": "",
         "type": "scatter3d",
         "uid": "6e2eeb4d-c55e-4009-8326-f402b1ddbb11",
         "x": [
          6292.05298013245,
          6325.165562913908
         ],
         "y": [
          0,
          0
         ],
         "z": [
          0,
          0
         ]
        },
        {
         "hovertemplate": "BallAndStick2[0].dend2(0.248344)<br>-65.000",
         "line": {
          "color": "#1fe0ff",
          "width": 2
         },
         "mode": "lines",
         "name": "",
         "type": "scatter3d",
         "uid": "b92f899a-94f1-4a04-9050-12ec2a391494",
         "x": [
          6325.165562913908,
          6358.278145695364
         ],
         "y": [
          0,
          0
         ],
         "z": [
          0,
          0
         ]
        },
        {
         "hovertemplate": "BallAndStick2[0].dend2(0.254967)<br>-65.000",
         "line": {
          "color": "#1fe0ff",
          "width": 2
         },
         "mode": "lines",
         "name": "",
         "type": "scatter3d",
         "uid": "73fb05e8-e46f-465f-a075-474ec7debb3e",
         "x": [
          6358.278145695364,
          6391.390728476821
         ],
         "y": [
          0,
          0
         ],
         "z": [
          0,
          0
         ]
        },
        {
         "hovertemplate": "BallAndStick2[0].dend2(0.261589)<br>-65.000",
         "line": {
          "color": "#1fe0ff",
          "width": 2
         },
         "mode": "lines",
         "name": "",
         "type": "scatter3d",
         "uid": "1de829c8-efca-42a8-ad01-64fbc28ebb2f",
         "x": [
          6391.390728476821,
          6424.503311258278
         ],
         "y": [
          0,
          0
         ],
         "z": [
          0,
          0
         ]
        },
        {
         "hovertemplate": "BallAndStick2[0].dend2(0.268212)<br>-65.000",
         "line": {
          "color": "#1fe0ff",
          "width": 2
         },
         "mode": "lines",
         "name": "",
         "type": "scatter3d",
         "uid": "bffa253a-7b51-44ca-b6a1-3f3e2774d427",
         "x": [
          6424.503311258278,
          6457.6158940397345
         ],
         "y": [
          0,
          0
         ],
         "z": [
          0,
          0
         ]
        },
        {
         "hovertemplate": "BallAndStick2[0].dend2(0.274834)<br>-65.000",
         "line": {
          "color": "#1fe0ff",
          "width": 2
         },
         "mode": "lines",
         "name": "",
         "type": "scatter3d",
         "uid": "93020882-11b3-4bcd-b4c7-69500138948a",
         "x": [
          6457.6158940397345,
          6490.728476821192
         ],
         "y": [
          0,
          0
         ],
         "z": [
          0,
          0
         ]
        },
        {
         "hovertemplate": "BallAndStick2[0].dend2(0.281457)<br>-65.000",
         "line": {
          "color": "#1fe0ff",
          "width": 2
         },
         "mode": "lines",
         "name": "",
         "type": "scatter3d",
         "uid": "0891b060-dc96-4720-b2fd-54696432a5a9",
         "x": [
          6490.728476821192,
          6523.841059602649
         ],
         "y": [
          0,
          0
         ],
         "z": [
          0,
          0
         ]
        },
        {
         "hovertemplate": "BallAndStick2[0].dend2(0.288079)<br>-65.000",
         "line": {
          "color": "#1fe0ff",
          "width": 2
         },
         "mode": "lines",
         "name": "",
         "type": "scatter3d",
         "uid": "2ca4018d-6771-4f95-84e9-268903a888b2",
         "x": [
          6523.841059602649,
          6556.9536423841055
         ],
         "y": [
          0,
          0
         ],
         "z": [
          0,
          0
         ]
        },
        {
         "hovertemplate": "BallAndStick2[0].dend2(0.294702)<br>-65.000",
         "line": {
          "color": "#1fe0ff",
          "width": 2
         },
         "mode": "lines",
         "name": "",
         "type": "scatter3d",
         "uid": "bc0698c4-565f-4a8f-82e8-37620733de0d",
         "x": [
          6556.9536423841055,
          6590.066225165563
         ],
         "y": [
          0,
          0
         ],
         "z": [
          0,
          0
         ]
        },
        {
         "hovertemplate": "BallAndStick2[0].dend2(0.301325)<br>-65.000",
         "line": {
          "color": "#1fe0ff",
          "width": 2
         },
         "mode": "lines",
         "name": "",
         "type": "scatter3d",
         "uid": "a7ffc1fd-c357-449e-b9b8-4ea00fc8af11",
         "x": [
          6590.066225165563,
          6623.17880794702
         ],
         "y": [
          0,
          0
         ],
         "z": [
          0,
          0
         ]
        },
        {
         "hovertemplate": "BallAndStick2[0].dend2(0.307947)<br>-65.000",
         "line": {
          "color": "#1fe0ff",
          "width": 2
         },
         "mode": "lines",
         "name": "",
         "type": "scatter3d",
         "uid": "3794b237-cd0b-4046-9cb2-ab1dbf8e11fc",
         "x": [
          6623.17880794702,
          6656.2913907284765
         ],
         "y": [
          0,
          0
         ],
         "z": [
          0,
          0
         ]
        },
        {
         "hovertemplate": "BallAndStick2[0].dend2(0.31457)<br>-65.000",
         "line": {
          "color": "#1fe0ff",
          "width": 2
         },
         "mode": "lines",
         "name": "",
         "type": "scatter3d",
         "uid": "6199e581-8ff9-4b6b-b658-0ae223292d9f",
         "x": [
          6656.2913907284765,
          6689.403973509934
         ],
         "y": [
          0,
          0
         ],
         "z": [
          0,
          0
         ]
        },
        {
         "hovertemplate": "BallAndStick2[0].dend2(0.321192)<br>-65.000",
         "line": {
          "color": "#1fe0ff",
          "width": 2
         },
         "mode": "lines",
         "name": "",
         "type": "scatter3d",
         "uid": "bcd2e6d0-9d80-4a2d-8326-e5d1075797f5",
         "x": [
          6689.403973509934,
          6722.516556291391
         ],
         "y": [
          0,
          0
         ],
         "z": [
          0,
          0
         ]
        },
        {
         "hovertemplate": "BallAndStick2[0].dend2(0.327815)<br>-65.000",
         "line": {
          "color": "#1fe0ff",
          "width": 2
         },
         "mode": "lines",
         "name": "",
         "type": "scatter3d",
         "uid": "faa5a879-a9bf-414c-8bfd-373fd357b8b8",
         "x": [
          6722.516556291391,
          6755.6291390728475
         ],
         "y": [
          0,
          0
         ],
         "z": [
          0,
          0
         ]
        },
        {
         "hovertemplate": "BallAndStick2[0].dend2(0.334437)<br>-65.000",
         "line": {
          "color": "#1fe0ff",
          "width": 2
         },
         "mode": "lines",
         "name": "",
         "type": "scatter3d",
         "uid": "3ec4327a-a295-494d-bc9f-073730329a0a",
         "x": [
          6755.6291390728475,
          6788.741721854304
         ],
         "y": [
          0,
          0
         ],
         "z": [
          0,
          0
         ]
        },
        {
         "hovertemplate": "BallAndStick2[0].dend2(0.34106)<br>-65.000",
         "line": {
          "color": "#1fe0ff",
          "width": 2
         },
         "mode": "lines",
         "name": "",
         "type": "scatter3d",
         "uid": "ea6e03b8-dbfc-41e7-bd64-ab33a331202d",
         "x": [
          6788.741721854304,
          6821.854304635761
         ],
         "y": [
          0,
          0
         ],
         "z": [
          0,
          0
         ]
        },
        {
         "hovertemplate": "BallAndStick2[0].dend2(0.347682)<br>-65.000",
         "line": {
          "color": "#1fe0ff",
          "width": 2
         },
         "mode": "lines",
         "name": "",
         "type": "scatter3d",
         "uid": "5bb6630e-4b48-40b7-ba74-e4c11e30a121",
         "x": [
          6821.854304635761,
          6854.9668874172185
         ],
         "y": [
          0,
          0
         ],
         "z": [
          0,
          0
         ]
        },
        {
         "hovertemplate": "BallAndStick2[0].dend2(0.354305)<br>-65.000",
         "line": {
          "color": "#1fe0ff",
          "width": 2
         },
         "mode": "lines",
         "name": "",
         "type": "scatter3d",
         "uid": "dead6953-4456-4290-908d-d14b317e52ce",
         "x": [
          6854.9668874172185,
          6888.079470198675
         ],
         "y": [
          0,
          0
         ],
         "z": [
          0,
          0
         ]
        },
        {
         "hovertemplate": "BallAndStick2[0].dend2(0.360927)<br>-65.000",
         "line": {
          "color": "#1fe0ff",
          "width": 2
         },
         "mode": "lines",
         "name": "",
         "type": "scatter3d",
         "uid": "f3fb40f9-f43f-4795-9977-9caffe524698",
         "x": [
          6888.079470198675,
          6921.192052980132
         ],
         "y": [
          0,
          0
         ],
         "z": [
          0,
          0
         ]
        },
        {
         "hovertemplate": "BallAndStick2[0].dend2(0.36755)<br>-65.000",
         "line": {
          "color": "#1fe0ff",
          "width": 2
         },
         "mode": "lines",
         "name": "",
         "type": "scatter3d",
         "uid": "ba106350-8738-43f1-9e0b-7c5b7f8aa9cd",
         "x": [
          6921.192052980132,
          6954.304635761589
         ],
         "y": [
          0,
          0
         ],
         "z": [
          0,
          0
         ]
        },
        {
         "hovertemplate": "BallAndStick2[0].dend2(0.374172)<br>-65.000",
         "line": {
          "color": "#1fe0ff",
          "width": 2
         },
         "mode": "lines",
         "name": "",
         "type": "scatter3d",
         "uid": "8afa4aa6-c45a-4e98-b05c-8ee3fa390d42",
         "x": [
          6954.304635761589,
          6987.417218543046
         ],
         "y": [
          0,
          0
         ],
         "z": [
          0,
          0
         ]
        },
        {
         "hovertemplate": "BallAndStick2[0].dend2(0.380795)<br>-65.000",
         "line": {
          "color": "#1fe0ff",
          "width": 2
         },
         "mode": "lines",
         "name": "",
         "type": "scatter3d",
         "uid": "d9b9bb9f-ea10-484e-bea2-1def41576588",
         "x": [
          6987.417218543046,
          7020.529801324503
         ],
         "y": [
          0,
          0
         ],
         "z": [
          0,
          0
         ]
        },
        {
         "hovertemplate": "BallAndStick2[0].dend2(0.387417)<br>-65.000",
         "line": {
          "color": "#1fe0ff",
          "width": 2
         },
         "mode": "lines",
         "name": "",
         "type": "scatter3d",
         "uid": "de5d28d0-45ba-4ccf-9389-53ec9fe8bee8",
         "x": [
          7020.529801324503,
          7053.64238410596
         ],
         "y": [
          0,
          0
         ],
         "z": [
          0,
          0
         ]
        },
        {
         "hovertemplate": "BallAndStick2[0].dend2(0.39404)<br>-65.000",
         "line": {
          "color": "#1fe0ff",
          "width": 2
         },
         "mode": "lines",
         "name": "",
         "type": "scatter3d",
         "uid": "237e2407-1bc4-4374-a575-0e40f5153106",
         "x": [
          7053.64238410596,
          7086.754966887417
         ],
         "y": [
          0,
          0
         ],
         "z": [
          0,
          0
         ]
        },
        {
         "hovertemplate": "BallAndStick2[0].dend2(0.400662)<br>-65.000",
         "line": {
          "color": "#1fe0ff",
          "width": 2
         },
         "mode": "lines",
         "name": "",
         "type": "scatter3d",
         "uid": "7112e5ce-2709-438c-9ae6-2af691303119",
         "x": [
          7086.754966887417,
          7119.867549668874
         ],
         "y": [
          0,
          0
         ],
         "z": [
          0,
          0
         ]
        },
        {
         "hovertemplate": "BallAndStick2[0].dend2(0.407285)<br>-65.000",
         "line": {
          "color": "#1fe0ff",
          "width": 2
         },
         "mode": "lines",
         "name": "",
         "type": "scatter3d",
         "uid": "e365a76c-1f43-4ccf-a17d-0c6bfc496a5b",
         "x": [
          7119.867549668874,
          7152.980132450331
         ],
         "y": [
          0,
          0
         ],
         "z": [
          0,
          0
         ]
        },
        {
         "hovertemplate": "BallAndStick2[0].dend2(0.413907)<br>-65.000",
         "line": {
          "color": "#1fe0ff",
          "width": 2
         },
         "mode": "lines",
         "name": "",
         "type": "scatter3d",
         "uid": "a3cddef8-fcf9-446b-8a9c-6fb28f951708",
         "x": [
          7152.980132450331,
          7186.092715231787
         ],
         "y": [
          0,
          0
         ],
         "z": [
          0,
          0
         ]
        },
        {
         "hovertemplate": "BallAndStick2[0].dend2(0.42053)<br>-65.000",
         "line": {
          "color": "#1fe0ff",
          "width": 2
         },
         "mode": "lines",
         "name": "",
         "type": "scatter3d",
         "uid": "549d98ff-8ca0-40da-a714-0317d7a54d6d",
         "x": [
          7186.092715231787,
          7219.205298013245
         ],
         "y": [
          0,
          0
         ],
         "z": [
          0,
          0
         ]
        },
        {
         "hovertemplate": "BallAndStick2[0].dend2(0.427152)<br>-65.000",
         "line": {
          "color": "#1fe0ff",
          "width": 2
         },
         "mode": "lines",
         "name": "",
         "type": "scatter3d",
         "uid": "8feda483-72b8-4d5d-b771-c9e96c5912ff",
         "x": [
          7219.205298013245,
          7252.317880794702
         ],
         "y": [
          0,
          0
         ],
         "z": [
          0,
          0
         ]
        },
        {
         "hovertemplate": "BallAndStick2[0].dend2(0.433775)<br>-65.000",
         "line": {
          "color": "#1fe0ff",
          "width": 2
         },
         "mode": "lines",
         "name": "",
         "type": "scatter3d",
         "uid": "438fd8ae-cb49-484f-a189-4430a0da697d",
         "x": [
          7252.317880794702,
          7285.430463576158
         ],
         "y": [
          0,
          0
         ],
         "z": [
          0,
          0
         ]
        },
        {
         "hovertemplate": "BallAndStick2[0].dend2(0.440397)<br>-65.000",
         "line": {
          "color": "#1fe0ff",
          "width": 2
         },
         "mode": "lines",
         "name": "",
         "type": "scatter3d",
         "uid": "467b2c85-a961-4595-83df-4e093cd19efe",
         "x": [
          7285.430463576158,
          7318.543046357616
         ],
         "y": [
          0,
          0
         ],
         "z": [
          0,
          0
         ]
        },
        {
         "hovertemplate": "BallAndStick2[0].dend2(0.44702)<br>-65.000",
         "line": {
          "color": "#1fe0ff",
          "width": 2
         },
         "mode": "lines",
         "name": "",
         "type": "scatter3d",
         "uid": "16a90945-573a-40da-9a22-68683db891e4",
         "x": [
          7318.543046357616,
          7351.6556291390725
         ],
         "y": [
          0,
          0
         ],
         "z": [
          0,
          0
         ]
        },
        {
         "hovertemplate": "BallAndStick2[0].dend2(0.453642)<br>-65.000",
         "line": {
          "color": "#1fe0ff",
          "width": 2
         },
         "mode": "lines",
         "name": "",
         "type": "scatter3d",
         "uid": "66f60df4-589c-4b69-b3fb-960fa0f3f461",
         "x": [
          7351.6556291390725,
          7384.768211920529
         ],
         "y": [
          0,
          0
         ],
         "z": [
          0,
          0
         ]
        },
        {
         "hovertemplate": "BallAndStick2[0].dend2(0.460265)<br>-65.000",
         "line": {
          "color": "#1fe0ff",
          "width": 2
         },
         "mode": "lines",
         "name": "",
         "type": "scatter3d",
         "uid": "fecfedc2-d7c2-42a2-ad4f-1891761a397b",
         "x": [
          7384.768211920529,
          7417.880794701987
         ],
         "y": [
          0,
          0
         ],
         "z": [
          0,
          0
         ]
        },
        {
         "hovertemplate": "BallAndStick2[0].dend2(0.466887)<br>-65.000",
         "line": {
          "color": "#1fe0ff",
          "width": 2
         },
         "mode": "lines",
         "name": "",
         "type": "scatter3d",
         "uid": "a45f6617-84a1-4a3d-8774-eb74da556559",
         "x": [
          7417.880794701987,
          7450.9933774834435
         ],
         "y": [
          0,
          0
         ],
         "z": [
          0,
          0
         ]
        },
        {
         "hovertemplate": "BallAndStick2[0].dend2(0.47351)<br>-65.000",
         "line": {
          "color": "#1fe0ff",
          "width": 2
         },
         "mode": "lines",
         "name": "",
         "type": "scatter3d",
         "uid": "a1157143-3728-42c5-86cf-754eebb96047",
         "x": [
          7450.9933774834435,
          7484.1059602649
         ],
         "y": [
          0,
          0
         ],
         "z": [
          0,
          0
         ]
        },
        {
         "hovertemplate": "BallAndStick2[0].dend2(0.480132)<br>-65.000",
         "line": {
          "color": "#1fe0ff",
          "width": 2
         },
         "mode": "lines",
         "name": "",
         "type": "scatter3d",
         "uid": "9a92feb0-60d0-48f7-b324-38fab4465f37",
         "x": [
          7484.1059602649,
          7517.218543046358
         ],
         "y": [
          0,
          0
         ],
         "z": [
          0,
          0
         ]
        },
        {
         "hovertemplate": "BallAndStick2[0].dend2(0.486755)<br>-65.000",
         "line": {
          "color": "#1fe0ff",
          "width": 2
         },
         "mode": "lines",
         "name": "",
         "type": "scatter3d",
         "uid": "e98e2ed2-c403-418c-b2b3-1281fd0a3175",
         "x": [
          7517.218543046358,
          7550.3311258278145
         ],
         "y": [
          0,
          0
         ],
         "z": [
          0,
          0
         ]
        },
        {
         "hovertemplate": "BallAndStick2[0].dend2(0.493377)<br>-65.000",
         "line": {
          "color": "#1fe0ff",
          "width": 2
         },
         "mode": "lines",
         "name": "",
         "type": "scatter3d",
         "uid": "f8876b08-ed68-4b8b-a637-e98fc60fdbf2",
         "x": [
          7550.3311258278145,
          7583.443708609271
         ],
         "y": [
          0,
          0
         ],
         "z": [
          0,
          0
         ]
        },
        {
         "hovertemplate": "BallAndStick2[0].dend2(0.5)<br>-65.000",
         "line": {
          "color": "#1fe0ff",
          "width": 2
         },
         "mode": "lines",
         "name": "",
         "type": "scatter3d",
         "uid": "1cd3ad27-1cb4-47a4-9cb7-30c61d39b188",
         "x": [
          7583.443708609271,
          7600,
          7616.556291390729
         ],
         "y": [
          0,
          0,
          0
         ],
         "z": [
          0,
          0,
          0
         ]
        },
        {
         "hovertemplate": "BallAndStick2[0].dend2(0.506623)<br>-65.000",
         "line": {
          "color": "#1fe0ff",
          "width": 2
         },
         "mode": "lines",
         "name": "",
         "type": "scatter3d",
         "uid": "64484fc4-7f23-47e6-a988-73390d7ed5fd",
         "x": [
          7616.556291390729,
          7649.668874172185
         ],
         "y": [
          0,
          0
         ],
         "z": [
          0,
          0
         ]
        },
        {
         "hovertemplate": "BallAndStick2[0].dend2(0.513245)<br>-65.000",
         "line": {
          "color": "#1fe0ff",
          "width": 2
         },
         "mode": "lines",
         "name": "",
         "type": "scatter3d",
         "uid": "607d992b-41d0-465b-947d-0273877e607f",
         "x": [
          7649.668874172185,
          7682.781456953642
         ],
         "y": [
          0,
          0
         ],
         "z": [
          0,
          0
         ]
        },
        {
         "hovertemplate": "BallAndStick2[0].dend2(0.519868)<br>-65.000",
         "line": {
          "color": "#1fe0ff",
          "width": 2
         },
         "mode": "lines",
         "name": "",
         "type": "scatter3d",
         "uid": "c9741f39-78c6-48ef-aa4d-ca2bcffdcde8",
         "x": [
          7682.781456953642,
          7715.894039735099
         ],
         "y": [
          0,
          0
         ],
         "z": [
          0,
          0
         ]
        },
        {
         "hovertemplate": "BallAndStick2[0].dend2(0.52649)<br>-65.000",
         "line": {
          "color": "#1fe0ff",
          "width": 2
         },
         "mode": "lines",
         "name": "",
         "type": "scatter3d",
         "uid": "60674c3d-5a49-441f-8244-da80f603a5d1",
         "x": [
          7715.894039735099,
          7749.006622516556
         ],
         "y": [
          0,
          0
         ],
         "z": [
          0,
          0
         ]
        },
        {
         "hovertemplate": "BallAndStick2[0].dend2(0.533113)<br>-65.000",
         "line": {
          "color": "#1fe0ff",
          "width": 2
         },
         "mode": "lines",
         "name": "",
         "type": "scatter3d",
         "uid": "f37b7aa7-0548-4f35-a367-b2a964150fdb",
         "x": [
          7749.006622516556,
          7782.119205298013
         ],
         "y": [
          0,
          0
         ],
         "z": [
          0,
          0
         ]
        },
        {
         "hovertemplate": "BallAndStick2[0].dend2(0.539735)<br>-65.000",
         "line": {
          "color": "#1fe0ff",
          "width": 2
         },
         "mode": "lines",
         "name": "",
         "type": "scatter3d",
         "uid": "fc703dce-6b22-4417-9890-273a574ab562",
         "x": [
          7782.119205298013,
          7815.23178807947
         ],
         "y": [
          0,
          0
         ],
         "z": [
          0,
          0
         ]
        },
        {
         "hovertemplate": "BallAndStick2[0].dend2(0.546358)<br>-65.000",
         "line": {
          "color": "#1fe0ff",
          "width": 2
         },
         "mode": "lines",
         "name": "",
         "type": "scatter3d",
         "uid": "6bd438d3-ab0f-42e8-9556-358823ff7611",
         "x": [
          7815.23178807947,
          7848.344370860927
         ],
         "y": [
          0,
          0
         ],
         "z": [
          0,
          0
         ]
        },
        {
         "hovertemplate": "BallAndStick2[0].dend2(0.55298)<br>-65.000",
         "line": {
          "color": "#1fe0ff",
          "width": 2
         },
         "mode": "lines",
         "name": "",
         "type": "scatter3d",
         "uid": "0e209b14-1d05-451c-a986-08bd690d6624",
         "x": [
          7848.344370860927,
          7881.456953642384
         ],
         "y": [
          0,
          0
         ],
         "z": [
          0,
          0
         ]
        },
        {
         "hovertemplate": "BallAndStick2[0].dend2(0.559603)<br>-65.000",
         "line": {
          "color": "#1fe0ff",
          "width": 2
         },
         "mode": "lines",
         "name": "",
         "type": "scatter3d",
         "uid": "603ce14c-a1a5-4c08-98e0-54361905638f",
         "x": [
          7881.456953642384,
          7914.569536423841
         ],
         "y": [
          0,
          0
         ],
         "z": [
          0,
          0
         ]
        },
        {
         "hovertemplate": "BallAndStick2[0].dend2(0.566225)<br>-65.000",
         "line": {
          "color": "#1fe0ff",
          "width": 2
         },
         "mode": "lines",
         "name": "",
         "type": "scatter3d",
         "uid": "09d2f1b9-9831-4a95-946f-31dc028a798c",
         "x": [
          7914.569536423841,
          7947.682119205298
         ],
         "y": [
          0,
          0
         ],
         "z": [
          0,
          0
         ]
        },
        {
         "hovertemplate": "BallAndStick2[0].dend2(0.572848)<br>-65.000",
         "line": {
          "color": "#1fe0ff",
          "width": 2
         },
         "mode": "lines",
         "name": "",
         "type": "scatter3d",
         "uid": "73e6200f-1391-46e0-924d-9b294a40a1bd",
         "x": [
          7947.682119205298,
          7980.794701986755
         ],
         "y": [
          0,
          0
         ],
         "z": [
          0,
          0
         ]
        },
        {
         "hovertemplate": "BallAndStick2[0].dend2(0.57947)<br>-65.000",
         "line": {
          "color": "#1fe0ff",
          "width": 2
         },
         "mode": "lines",
         "name": "",
         "type": "scatter3d",
         "uid": "bd8b26a2-2710-4dc8-8f73-d2b502301c2a",
         "x": [
          7980.794701986755,
          8013.907284768212
         ],
         "y": [
          0,
          0
         ],
         "z": [
          0,
          0
         ]
        },
        {
         "hovertemplate": "BallAndStick2[0].dend2(0.586093)<br>-65.000",
         "line": {
          "color": "#1fe0ff",
          "width": 2
         },
         "mode": "lines",
         "name": "",
         "type": "scatter3d",
         "uid": "ca0c2637-09c5-40c0-b421-d676b5f55de0",
         "x": [
          8013.907284768212,
          8047.019867549669
         ],
         "y": [
          0,
          0
         ],
         "z": [
          0,
          0
         ]
        },
        {
         "hovertemplate": "BallAndStick2[0].dend2(0.592715)<br>-65.000",
         "line": {
          "color": "#1fe0ff",
          "width": 2
         },
         "mode": "lines",
         "name": "",
         "type": "scatter3d",
         "uid": "5afb0bc5-59a3-41e0-9ce6-5f76d9e47e9f",
         "x": [
          8047.019867549669,
          8080.132450331126
         ],
         "y": [
          0,
          0
         ],
         "z": [
          0,
          0
         ]
        },
        {
         "hovertemplate": "BallAndStick2[0].dend2(0.599338)<br>-65.000",
         "line": {
          "color": "#1fe0ff",
          "width": 2
         },
         "mode": "lines",
         "name": "",
         "type": "scatter3d",
         "uid": "82fea955-717b-4a21-a9f2-e1420fbf3628",
         "x": [
          8080.132450331126,
          8113.245033112582
         ],
         "y": [
          0,
          0
         ],
         "z": [
          0,
          0
         ]
        },
        {
         "hovertemplate": "BallAndStick2[0].dend2(0.60596)<br>-65.000",
         "line": {
          "color": "#1fe0ff",
          "width": 2
         },
         "mode": "lines",
         "name": "",
         "type": "scatter3d",
         "uid": "41088abd-32dd-44a6-b88a-16e2a27206fd",
         "x": [
          8113.245033112582,
          8146.35761589404
         ],
         "y": [
          0,
          0
         ],
         "z": [
          0,
          0
         ]
        },
        {
         "hovertemplate": "BallAndStick2[0].dend2(0.612583)<br>-65.000",
         "line": {
          "color": "#1fe0ff",
          "width": 2
         },
         "mode": "lines",
         "name": "",
         "type": "scatter3d",
         "uid": "cac7f7da-736e-4458-9087-5ca891852fe3",
         "x": [
          8146.35761589404,
          8179.470198675496
         ],
         "y": [
          0,
          0
         ],
         "z": [
          0,
          0
         ]
        },
        {
         "hovertemplate": "BallAndStick2[0].dend2(0.619205)<br>-65.000",
         "line": {
          "color": "#1fe0ff",
          "width": 2
         },
         "mode": "lines",
         "name": "",
         "type": "scatter3d",
         "uid": "2c12dd7d-b0c4-494e-83af-5d04370e412e",
         "x": [
          8179.470198675496,
          8212.582781456953
         ],
         "y": [
          0,
          0
         ],
         "z": [
          0,
          0
         ]
        },
        {
         "hovertemplate": "BallAndStick2[0].dend2(0.625828)<br>-65.000",
         "line": {
          "color": "#1fe0ff",
          "width": 2
         },
         "mode": "lines",
         "name": "",
         "type": "scatter3d",
         "uid": "85bd357d-a0d9-4f1a-82ca-a15db84ea2a1",
         "x": [
          8212.582781456953,
          8245.69536423841
         ],
         "y": [
          0,
          0
         ],
         "z": [
          0,
          0
         ]
        },
        {
         "hovertemplate": "BallAndStick2[0].dend2(0.63245)<br>-65.000",
         "line": {
          "color": "#1fe0ff",
          "width": 2
         },
         "mode": "lines",
         "name": "",
         "type": "scatter3d",
         "uid": "3b41cd09-c449-4810-ba87-5ee309b6348e",
         "x": [
          8245.69536423841,
          8278.807947019868
         ],
         "y": [
          0,
          0
         ],
         "z": [
          0,
          0
         ]
        },
        {
         "hovertemplate": "BallAndStick2[0].dend2(0.639073)<br>-65.000",
         "line": {
          "color": "#1fe0ff",
          "width": 2
         },
         "mode": "lines",
         "name": "",
         "type": "scatter3d",
         "uid": "f9493411-87f3-4708-a660-68eadf2cb4fe",
         "x": [
          8278.807947019868,
          8311.920529801324
         ],
         "y": [
          0,
          0
         ],
         "z": [
          0,
          0
         ]
        },
        {
         "hovertemplate": "BallAndStick2[0].dend2(0.645695)<br>-65.000",
         "line": {
          "color": "#1fe0ff",
          "width": 2
         },
         "mode": "lines",
         "name": "",
         "type": "scatter3d",
         "uid": "b618bd9d-9467-4969-a8e0-82655b93fba4",
         "x": [
          8311.920529801324,
          8345.033112582782
         ],
         "y": [
          0,
          0
         ],
         "z": [
          0,
          0
         ]
        },
        {
         "hovertemplate": "BallAndStick2[0].dend2(0.652318)<br>-65.000",
         "line": {
          "color": "#1fe0ff",
          "width": 2
         },
         "mode": "lines",
         "name": "",
         "type": "scatter3d",
         "uid": "f5ef9dd5-cdc3-4589-a223-84ab31bf644a",
         "x": [
          8345.033112582782,
          8378.145695364237
         ],
         "y": [
          0,
          0
         ],
         "z": [
          0,
          0
         ]
        },
        {
         "hovertemplate": "BallAndStick2[0].dend2(0.65894)<br>-65.000",
         "line": {
          "color": "#1fe0ff",
          "width": 2
         },
         "mode": "lines",
         "name": "",
         "type": "scatter3d",
         "uid": "25d84420-bdcd-46b3-b102-c5207817a078",
         "x": [
          8378.145695364237,
          8411.258278145695
         ],
         "y": [
          0,
          0
         ],
         "z": [
          0,
          0
         ]
        },
        {
         "hovertemplate": "BallAndStick2[0].dend2(0.665563)<br>-65.000",
         "line": {
          "color": "#1fe0ff",
          "width": 2
         },
         "mode": "lines",
         "name": "",
         "type": "scatter3d",
         "uid": "c3867b17-8eb8-498b-a316-2301e949b381",
         "x": [
          8411.258278145695,
          8444.370860927153
         ],
         "y": [
          0,
          0
         ],
         "z": [
          0,
          0
         ]
        },
        {
         "hovertemplate": "BallAndStick2[0].dend2(0.672185)<br>-65.000",
         "line": {
          "color": "#1fe0ff",
          "width": 2
         },
         "mode": "lines",
         "name": "",
         "type": "scatter3d",
         "uid": "d745d235-fe7f-43ec-acf9-32cd54e3ef28",
         "x": [
          8444.370860927153,
          8477.483443708608
         ],
         "y": [
          0,
          0
         ],
         "z": [
          0,
          0
         ]
        },
        {
         "hovertemplate": "BallAndStick2[0].dend2(0.678808)<br>-65.000",
         "line": {
          "color": "#1fe0ff",
          "width": 2
         },
         "mode": "lines",
         "name": "",
         "type": "scatter3d",
         "uid": "153639c8-da72-4089-8fee-db8c4ef464f2",
         "x": [
          8477.483443708608,
          8510.596026490066
         ],
         "y": [
          0,
          0
         ],
         "z": [
          0,
          0
         ]
        },
        {
         "hovertemplate": "BallAndStick2[0].dend2(0.68543)<br>-65.000",
         "line": {
          "color": "#1fe0ff",
          "width": 2
         },
         "mode": "lines",
         "name": "",
         "type": "scatter3d",
         "uid": "242bc871-76c3-4ff2-9ac1-2f2dfb1d9a21",
         "x": [
          8510.596026490066,
          8543.708609271522
         ],
         "y": [
          0,
          0
         ],
         "z": [
          0,
          0
         ]
        },
        {
         "hovertemplate": "BallAndStick2[0].dend2(0.692053)<br>-65.000",
         "line": {
          "color": "#1fe0ff",
          "width": 2
         },
         "mode": "lines",
         "name": "",
         "type": "scatter3d",
         "uid": "2f88771d-20e8-4133-b039-74f0edb8e673",
         "x": [
          8543.708609271522,
          8576.82119205298
         ],
         "y": [
          0,
          0
         ],
         "z": [
          0,
          0
         ]
        },
        {
         "hovertemplate": "BallAndStick2[0].dend2(0.698675)<br>-65.000",
         "line": {
          "color": "#1fe0ff",
          "width": 2
         },
         "mode": "lines",
         "name": "",
         "type": "scatter3d",
         "uid": "9b7f7fa6-39bf-46a5-b474-a441a2a0a378",
         "x": [
          8576.82119205298,
          8609.933774834437
         ],
         "y": [
          0,
          0
         ],
         "z": [
          0,
          0
         ]
        },
        {
         "hovertemplate": "BallAndStick2[0].dend2(0.705298)<br>-65.000",
         "line": {
          "color": "#1fe0ff",
          "width": 2
         },
         "mode": "lines",
         "name": "",
         "type": "scatter3d",
         "uid": "36a969ee-805c-4559-9c60-0f68bd129c8a",
         "x": [
          8609.933774834437,
          8643.046357615895
         ],
         "y": [
          0,
          0
         ],
         "z": [
          0,
          0
         ]
        },
        {
         "hovertemplate": "BallAndStick2[0].dend2(0.711921)<br>-65.000",
         "line": {
          "color": "#1fe0ff",
          "width": 2
         },
         "mode": "lines",
         "name": "",
         "type": "scatter3d",
         "uid": "89267445-5140-4367-ba82-636866467ad9",
         "x": [
          8643.046357615895,
          8676.15894039735
         ],
         "y": [
          0,
          0
         ],
         "z": [
          0,
          0
         ]
        },
        {
         "hovertemplate": "BallAndStick2[0].dend2(0.718543)<br>-65.000",
         "line": {
          "color": "#1fe0ff",
          "width": 2
         },
         "mode": "lines",
         "name": "",
         "type": "scatter3d",
         "uid": "0e20417d-54de-4fe9-8dae-673063c41a30",
         "x": [
          8676.15894039735,
          8709.271523178808
         ],
         "y": [
          0,
          0
         ],
         "z": [
          0,
          0
         ]
        },
        {
         "hovertemplate": "BallAndStick2[0].dend2(0.725166)<br>-65.000",
         "line": {
          "color": "#1fe0ff",
          "width": 2
         },
         "mode": "lines",
         "name": "",
         "type": "scatter3d",
         "uid": "e43223f2-6f89-4433-a593-f21f1e755ed7",
         "x": [
          8709.271523178808,
          8742.384105960264
         ],
         "y": [
          0,
          0
         ],
         "z": [
          0,
          0
         ]
        },
        {
         "hovertemplate": "BallAndStick2[0].dend2(0.731788)<br>-65.000",
         "line": {
          "color": "#1fe0ff",
          "width": 2
         },
         "mode": "lines",
         "name": "",
         "type": "scatter3d",
         "uid": "0491478f-5fa4-45d6-b759-526429108af5",
         "x": [
          8742.384105960264,
          8775.496688741721
         ],
         "y": [
          0,
          0
         ],
         "z": [
          0,
          0
         ]
        },
        {
         "hovertemplate": "BallAndStick2[0].dend2(0.738411)<br>-65.000",
         "line": {
          "color": "#1fe0ff",
          "width": 2
         },
         "mode": "lines",
         "name": "",
         "type": "scatter3d",
         "uid": "06b25eac-51e1-4986-8605-70d7db746c70",
         "x": [
          8775.496688741721,
          8808.609271523179
         ],
         "y": [
          0,
          0
         ],
         "z": [
          0,
          0
         ]
        },
        {
         "hovertemplate": "BallAndStick2[0].dend2(0.745033)<br>-65.000",
         "line": {
          "color": "#1fe0ff",
          "width": 2
         },
         "mode": "lines",
         "name": "",
         "type": "scatter3d",
         "uid": "d99c839f-a914-406e-ba3c-a2ee1dd723f2",
         "x": [
          8808.609271523179,
          8841.721854304637
         ],
         "y": [
          0,
          0
         ],
         "z": [
          0,
          0
         ]
        },
        {
         "hovertemplate": "BallAndStick2[0].dend2(0.751656)<br>-65.000",
         "line": {
          "color": "#1fe0ff",
          "width": 2
         },
         "mode": "lines",
         "name": "",
         "type": "scatter3d",
         "uid": "5c85c357-97ba-43e1-a7f7-29122c19b5af",
         "x": [
          8841.721854304637,
          8874.834437086092
         ],
         "y": [
          0,
          0
         ],
         "z": [
          0,
          0
         ]
        },
        {
         "hovertemplate": "BallAndStick2[0].dend2(0.758278)<br>-65.000",
         "line": {
          "color": "#1fe0ff",
          "width": 2
         },
         "mode": "lines",
         "name": "",
         "type": "scatter3d",
         "uid": "611da4c5-32b5-4d4e-ba92-648e1e6b50b7",
         "x": [
          8874.834437086092,
          8907.94701986755
         ],
         "y": [
          0,
          0
         ],
         "z": [
          0,
          0
         ]
        },
        {
         "hovertemplate": "BallAndStick2[0].dend2(0.764901)<br>-65.000",
         "line": {
          "color": "#1fe0ff",
          "width": 2
         },
         "mode": "lines",
         "name": "",
         "type": "scatter3d",
         "uid": "38ecb24c-feac-42ce-a72d-cdd9cbc57e73",
         "x": [
          8907.94701986755,
          8941.059602649006
         ],
         "y": [
          0,
          0
         ],
         "z": [
          0,
          0
         ]
        },
        {
         "hovertemplate": "BallAndStick2[0].dend2(0.771523)<br>-65.000",
         "line": {
          "color": "#1fe0ff",
          "width": 2
         },
         "mode": "lines",
         "name": "",
         "type": "scatter3d",
         "uid": "0cc2f5ac-4228-47f6-b62a-61c6b05add98",
         "x": [
          8941.059602649006,
          8974.172185430463
         ],
         "y": [
          0,
          0
         ],
         "z": [
          0,
          0
         ]
        },
        {
         "hovertemplate": "BallAndStick2[0].dend2(0.778146)<br>-65.000",
         "line": {
          "color": "#1fe0ff",
          "width": 2
         },
         "mode": "lines",
         "name": "",
         "type": "scatter3d",
         "uid": "67bd7cd1-1a51-49ef-b583-5ae3108485c2",
         "x": [
          8974.172185430463,
          9007.28476821192
         ],
         "y": [
          0,
          0
         ],
         "z": [
          0,
          0
         ]
        },
        {
         "hovertemplate": "BallAndStick2[0].dend2(0.784768)<br>-65.000",
         "line": {
          "color": "#1fe0ff",
          "width": 2
         },
         "mode": "lines",
         "name": "",
         "type": "scatter3d",
         "uid": "7020cfcd-887a-487e-9931-c4a7d5b0df7a",
         "x": [
          9007.28476821192,
          9040.397350993377
         ],
         "y": [
          0,
          0
         ],
         "z": [
          0,
          0
         ]
        },
        {
         "hovertemplate": "BallAndStick2[0].dend2(0.791391)<br>-65.000",
         "line": {
          "color": "#1fe0ff",
          "width": 2
         },
         "mode": "lines",
         "name": "",
         "type": "scatter3d",
         "uid": "f248ceaf-e0b2-4d3d-9c98-57e0fb1140e3",
         "x": [
          9040.397350993377,
          9073.509933774834
         ],
         "y": [
          0,
          0
         ],
         "z": [
          0,
          0
         ]
        },
        {
         "hovertemplate": "BallAndStick2[0].dend2(0.798013)<br>-65.000",
         "line": {
          "color": "#1fe0ff",
          "width": 2
         },
         "mode": "lines",
         "name": "",
         "type": "scatter3d",
         "uid": "9a868562-57c9-4f5b-a924-2233cd9ec690",
         "x": [
          9073.509933774834,
          9106.62251655629
         ],
         "y": [
          0,
          0
         ],
         "z": [
          0,
          0
         ]
        },
        {
         "hovertemplate": "BallAndStick2[0].dend2(0.804636)<br>-65.000",
         "line": {
          "color": "#1fe0ff",
          "width": 2
         },
         "mode": "lines",
         "name": "",
         "type": "scatter3d",
         "uid": "bc7b4713-639c-488f-b70e-9a16b615aa1e",
         "x": [
          9106.62251655629,
          9139.735099337748
         ],
         "y": [
          0,
          0
         ],
         "z": [
          0,
          0
         ]
        },
        {
         "hovertemplate": "BallAndStick2[0].dend2(0.811258)<br>-65.000",
         "line": {
          "color": "#1fe0ff",
          "width": 2
         },
         "mode": "lines",
         "name": "",
         "type": "scatter3d",
         "uid": "7a0b5d68-a921-4a0a-842a-e48b89897665",
         "x": [
          9139.735099337748,
          9172.847682119205
         ],
         "y": [
          0,
          0
         ],
         "z": [
          0,
          0
         ]
        },
        {
         "hovertemplate": "BallAndStick2[0].dend2(0.817881)<br>-65.000",
         "line": {
          "color": "#1fe0ff",
          "width": 2
         },
         "mode": "lines",
         "name": "",
         "type": "scatter3d",
         "uid": "6b357c3d-3222-4a15-b6ab-049d9fe99e09",
         "x": [
          9172.847682119205,
          9205.960264900663
         ],
         "y": [
          0,
          0
         ],
         "z": [
          0,
          0
         ]
        },
        {
         "hovertemplate": "BallAndStick2[0].dend2(0.824503)<br>-65.000",
         "line": {
          "color": "#1fe0ff",
          "width": 2
         },
         "mode": "lines",
         "name": "",
         "type": "scatter3d",
         "uid": "bf751898-b3fc-420d-b0ba-f8583631f66e",
         "x": [
          9205.960264900663,
          9239.072847682119
         ],
         "y": [
          0,
          0
         ],
         "z": [
          0,
          0
         ]
        },
        {
         "hovertemplate": "BallAndStick2[0].dend2(0.831126)<br>-65.000",
         "line": {
          "color": "#1fe0ff",
          "width": 2
         },
         "mode": "lines",
         "name": "",
         "type": "scatter3d",
         "uid": "4a317dd6-483a-4df6-a11a-89adaea0ea0f",
         "x": [
          9239.072847682119,
          9272.185430463574
         ],
         "y": [
          0,
          0
         ],
         "z": [
          0,
          0
         ]
        },
        {
         "hovertemplate": "BallAndStick2[0].dend2(0.837748)<br>-65.000",
         "line": {
          "color": "#1fe0ff",
          "width": 2
         },
         "mode": "lines",
         "name": "",
         "type": "scatter3d",
         "uid": "d4ea09fb-8668-4fd3-80d3-cf0eff4122aa",
         "x": [
          9272.185430463574,
          9305.298013245032
         ],
         "y": [
          0,
          0
         ],
         "z": [
          0,
          0
         ]
        },
        {
         "hovertemplate": "BallAndStick2[0].dend2(0.844371)<br>-65.000",
         "line": {
          "color": "#1fe0ff",
          "width": 2
         },
         "mode": "lines",
         "name": "",
         "type": "scatter3d",
         "uid": "858b5b98-d988-4e5b-b789-c7e96a12a7f2",
         "x": [
          9305.298013245032,
          9338.41059602649
         ],
         "y": [
          0,
          0
         ],
         "z": [
          0,
          0
         ]
        },
        {
         "hovertemplate": "BallAndStick2[0].dend2(0.850993)<br>-65.000",
         "line": {
          "color": "#1fe0ff",
          "width": 2
         },
         "mode": "lines",
         "name": "",
         "type": "scatter3d",
         "uid": "eb936b7e-3664-424f-8ee2-c3207871a790",
         "x": [
          9338.41059602649,
          9371.523178807947
         ],
         "y": [
          0,
          0
         ],
         "z": [
          0,
          0
         ]
        },
        {
         "hovertemplate": "BallAndStick2[0].dend2(0.857616)<br>-65.000",
         "line": {
          "color": "#1fe0ff",
          "width": 2
         },
         "mode": "lines",
         "name": "",
         "type": "scatter3d",
         "uid": "bc02fdc8-db14-4481-8930-bcd4e5f8bd4c",
         "x": [
          9371.523178807947,
          9404.635761589405
         ],
         "y": [
          0,
          0
         ],
         "z": [
          0,
          0
         ]
        },
        {
         "hovertemplate": "BallAndStick2[0].dend2(0.864238)<br>-65.000",
         "line": {
          "color": "#1fe0ff",
          "width": 2
         },
         "mode": "lines",
         "name": "",
         "type": "scatter3d",
         "uid": "7c091d18-0fab-437a-93ad-2f0da0380b8a",
         "x": [
          9404.635761589405,
          9437.74834437086
         ],
         "y": [
          0,
          0
         ],
         "z": [
          0,
          0
         ]
        },
        {
         "hovertemplate": "BallAndStick2[0].dend2(0.870861)<br>-65.000",
         "line": {
          "color": "#1fe0ff",
          "width": 2
         },
         "mode": "lines",
         "name": "",
         "type": "scatter3d",
         "uid": "16086ae7-3c88-4230-a937-18a23d77df07",
         "x": [
          9437.74834437086,
          9470.860927152316
         ],
         "y": [
          0,
          0
         ],
         "z": [
          0,
          0
         ]
        },
        {
         "hovertemplate": "BallAndStick2[0].dend2(0.877483)<br>-65.000",
         "line": {
          "color": "#1fe0ff",
          "width": 2
         },
         "mode": "lines",
         "name": "",
         "type": "scatter3d",
         "uid": "08c787e3-4899-4e11-9997-cb6075eb8a86",
         "x": [
          9470.860927152316,
          9503.973509933774
         ],
         "y": [
          0,
          0
         ],
         "z": [
          0,
          0
         ]
        },
        {
         "hovertemplate": "BallAndStick2[0].dend2(0.884106)<br>-65.000",
         "line": {
          "color": "#1fe0ff",
          "width": 2
         },
         "mode": "lines",
         "name": "",
         "type": "scatter3d",
         "uid": "b06f4538-5da4-44a6-8700-19994905701d",
         "x": [
          9503.973509933774,
          9537.086092715232
         ],
         "y": [
          0,
          0
         ],
         "z": [
          0,
          0
         ]
        },
        {
         "hovertemplate": "BallAndStick2[0].dend2(0.890728)<br>-65.000",
         "line": {
          "color": "#1fe0ff",
          "width": 2
         },
         "mode": "lines",
         "name": "",
         "type": "scatter3d",
         "uid": "457e8443-5761-48cd-acf7-4154b040bc53",
         "x": [
          9537.086092715232,
          9570.19867549669
         ],
         "y": [
          0,
          0
         ],
         "z": [
          0,
          0
         ]
        },
        {
         "hovertemplate": "BallAndStick2[0].dend2(0.897351)<br>-65.000",
         "line": {
          "color": "#1fe0ff",
          "width": 2
         },
         "mode": "lines",
         "name": "",
         "type": "scatter3d",
         "uid": "4b2d5425-e434-4287-a5f0-d3ddb66eac60",
         "x": [
          9570.19867549669,
          9603.311258278145
         ],
         "y": [
          0,
          0
         ],
         "z": [
          0,
          0
         ]
        },
        {
         "hovertemplate": "BallAndStick2[0].dend2(0.903974)<br>-65.000",
         "line": {
          "color": "#1fe0ff",
          "width": 2
         },
         "mode": "lines",
         "name": "",
         "type": "scatter3d",
         "uid": "b81d5c1e-d66a-4449-a68b-04995011973e",
         "x": [
          9603.311258278145,
          9636.423841059603
         ],
         "y": [
          0,
          0
         ],
         "z": [
          0,
          0
         ]
        },
        {
         "hovertemplate": "BallAndStick2[0].dend2(0.910596)<br>-65.000",
         "line": {
          "color": "#1fe0ff",
          "width": 2
         },
         "mode": "lines",
         "name": "",
         "type": "scatter3d",
         "uid": "88dccbc9-1aa6-4ab5-804f-ba5c0ad8dee5",
         "x": [
          9636.423841059603,
          9669.536423841058
         ],
         "y": [
          0,
          0
         ],
         "z": [
          0,
          0
         ]
        },
        {
         "hovertemplate": "BallAndStick2[0].dend2(0.917219)<br>-65.000",
         "line": {
          "color": "#1fe0ff",
          "width": 2
         },
         "mode": "lines",
         "name": "",
         "type": "scatter3d",
         "uid": "f37d2135-49e3-4222-b046-a3c40d25dfa8",
         "x": [
          9669.536423841058,
          9702.649006622516
         ],
         "y": [
          0,
          0
         ],
         "z": [
          0,
          0
         ]
        },
        {
         "hovertemplate": "BallAndStick2[0].dend2(0.923841)<br>-65.000",
         "line": {
          "color": "#1fe0ff",
          "width": 2
         },
         "mode": "lines",
         "name": "",
         "type": "scatter3d",
         "uid": "8542831d-a063-495d-8b7e-99f7a5dc4f9e",
         "x": [
          9702.649006622516,
          9735.761589403974
         ],
         "y": [
          0,
          0
         ],
         "z": [
          0,
          0
         ]
        },
        {
         "hovertemplate": "BallAndStick2[0].dend2(0.930464)<br>-65.000",
         "line": {
          "color": "#1fe0ff",
          "width": 2
         },
         "mode": "lines",
         "name": "",
         "type": "scatter3d",
         "uid": "adb84543-9613-47b4-9750-cf08227567c8",
         "x": [
          9735.761589403974,
          9768.874172185431
         ],
         "y": [
          0,
          0
         ],
         "z": [
          0,
          0
         ]
        },
        {
         "hovertemplate": "BallAndStick2[0].dend2(0.937086)<br>-65.000",
         "line": {
          "color": "#1fe0ff",
          "width": 2
         },
         "mode": "lines",
         "name": "",
         "type": "scatter3d",
         "uid": "48780b95-83e4-4cfc-ab83-26203e11d58d",
         "x": [
          9768.874172185431,
          9801.986754966887
         ],
         "y": [
          0,
          0
         ],
         "z": [
          0,
          0
         ]
        },
        {
         "hovertemplate": "BallAndStick2[0].dend2(0.943709)<br>-65.000",
         "line": {
          "color": "#1fe0ff",
          "width": 2
         },
         "mode": "lines",
         "name": "",
         "type": "scatter3d",
         "uid": "d30a246d-b053-4f02-a0be-408194669608",
         "x": [
          9801.986754966887,
          9835.099337748343
         ],
         "y": [
          0,
          0
         ],
         "z": [
          0,
          0
         ]
        },
        {
         "hovertemplate": "BallAndStick2[0].dend2(0.950331)<br>-65.000",
         "line": {
          "color": "#1fe0ff",
          "width": 2
         },
         "mode": "lines",
         "name": "",
         "type": "scatter3d",
         "uid": "23cca432-b450-4da5-bc4f-eb3d9aceaa86",
         "x": [
          9835.099337748343,
          9868.2119205298
         ],
         "y": [
          0,
          0
         ],
         "z": [
          0,
          0
         ]
        },
        {
         "hovertemplate": "BallAndStick2[0].dend2(0.956954)<br>-65.000",
         "line": {
          "color": "#1fe0ff",
          "width": 2
         },
         "mode": "lines",
         "name": "",
         "type": "scatter3d",
         "uid": "a1d77d5b-7777-44b4-a431-1a10aba652b8",
         "x": [
          9868.2119205298,
          9901.324503311258
         ],
         "y": [
          0,
          0
         ],
         "z": [
          0,
          0
         ]
        },
        {
         "hovertemplate": "BallAndStick2[0].dend2(0.963576)<br>-65.000",
         "line": {
          "color": "#1fe0ff",
          "width": 2
         },
         "mode": "lines",
         "name": "",
         "type": "scatter3d",
         "uid": "548c53f2-d30e-409c-9bcc-499fa79c8ec0",
         "x": [
          9901.324503311258,
          9934.437086092716
         ],
         "y": [
          0,
          0
         ],
         "z": [
          0,
          0
         ]
        },
        {
         "hovertemplate": "BallAndStick2[0].dend2(0.970199)<br>-65.000",
         "line": {
          "color": "#1fe0ff",
          "width": 2
         },
         "mode": "lines",
         "name": "",
         "type": "scatter3d",
         "uid": "f7b29ab7-87dd-4eb6-ac24-8a58623bd2bf",
         "x": [
          9934.437086092716,
          9967.549668874171
         ],
         "y": [
          0,
          0
         ],
         "z": [
          0,
          0
         ]
        },
        {
         "hovertemplate": "BallAndStick2[0].dend2(0.976821)<br>-65.000",
         "line": {
          "color": "#1fe0ff",
          "width": 2
         },
         "mode": "lines",
         "name": "",
         "type": "scatter3d",
         "uid": "ac548ea9-c8f3-484f-b70f-ae277785968b",
         "x": [
          9967.549668874171,
          10000.662251655629
         ],
         "y": [
          0,
          0
         ],
         "z": [
          0,
          0
         ]
        },
        {
         "hovertemplate": "BallAndStick2[0].dend2(0.983444)<br>-65.000",
         "line": {
          "color": "#1fe0ff",
          "width": 2
         },
         "mode": "lines",
         "name": "",
         "type": "scatter3d",
         "uid": "c2ff7ab1-6bd1-4e80-9b8f-710888055100",
         "x": [
          10000.662251655629,
          10033.774834437085
         ],
         "y": [
          0,
          0
         ],
         "z": [
          0,
          0
         ]
        },
        {
         "hovertemplate": "BallAndStick2[0].dend2(0.990066)<br>-65.000",
         "line": {
          "color": "#1fe0ff",
          "width": 2
         },
         "mode": "lines",
         "name": "",
         "type": "scatter3d",
         "uid": "82b20c8b-23eb-4452-a5bf-9ebcd75d55e7",
         "x": [
          10033.774834437085,
          10066.887417218542
         ],
         "y": [
          0,
          0
         ],
         "z": [
          0,
          0
         ]
        },
        {
         "hovertemplate": "BallAndStick2[0].dend2(0.996689)<br>-65.000",
         "line": {
          "color": "#1fe0ff",
          "width": 2
         },
         "mode": "lines",
         "name": "",
         "type": "scatter3d",
         "uid": "b2e168ef-8354-451e-b830-dfa4d6e500b1",
         "x": [
          10066.887417218542,
          10100
         ],
         "y": [
          0,
          0
         ],
         "z": [
          0,
          0
         ]
        },
        {
         "marker": {
          "cmax": 0,
          "cmin": 0,
          "colorbar": {
           "thickness": 20,
           "title": {
            "text": "Max Shift"
           }
          },
          "colorscale": [
           [
            0,
            "rgb(0, 255, 255)"
           ],
           [
            0.00392156862745098,
            "rgb(1, 254, 255)"
           ],
           [
            0.00784313725490196,
            "rgb(2, 253, 255)"
           ],
           [
            0.011764705882352941,
            "rgb(3, 252, 255)"
           ],
           [
            0.01568627450980392,
            "rgb(4, 251, 255)"
           ],
           [
            0.0196078431372549,
            "rgb(5, 250, 255)"
           ],
           [
            0.023529411764705882,
            "rgb(6, 249, 255)"
           ],
           [
            0.027450980392156862,
            "rgb(7, 248, 255)"
           ],
           [
            0.03137254901960784,
            "rgb(8, 247, 255)"
           ],
           [
            0.03529411764705882,
            "rgb(9, 246, 255)"
           ],
           [
            0.0392156862745098,
            "rgb(10, 245, 255)"
           ],
           [
            0.043137254901960784,
            "rgb(11, 244, 255)"
           ],
           [
            0.047058823529411764,
            "rgb(12, 243, 255)"
           ],
           [
            0.050980392156862744,
            "rgb(13, 242, 255)"
           ],
           [
            0.054901960784313725,
            "rgb(14, 241, 255)"
           ],
           [
            0.058823529411764705,
            "rgb(15, 240, 255)"
           ],
           [
            0.06274509803921569,
            "rgb(16, 239, 255)"
           ],
           [
            0.06666666666666667,
            "rgb(17, 238, 255)"
           ],
           [
            0.07058823529411765,
            "rgb(18, 237, 255)"
           ],
           [
            0.07450980392156863,
            "rgb(19, 236, 255)"
           ],
           [
            0.0784313725490196,
            "rgb(20, 235, 255)"
           ],
           [
            0.08235294117647059,
            "rgb(21, 234, 255)"
           ],
           [
            0.08627450980392157,
            "rgb(22, 233, 255)"
           ],
           [
            0.09019607843137255,
            "rgb(23, 232, 255)"
           ],
           [
            0.09411764705882353,
            "rgb(24, 231, 255)"
           ],
           [
            0.09803921568627451,
            "rgb(25, 230, 255)"
           ],
           [
            0.10196078431372549,
            "rgb(26, 229, 255)"
           ],
           [
            0.10588235294117647,
            "rgb(27, 228, 255)"
           ],
           [
            0.10980392156862745,
            "rgb(28, 227, 255)"
           ],
           [
            0.11372549019607843,
            "rgb(29, 226, 255)"
           ],
           [
            0.11764705882352941,
            "rgb(30, 225, 255)"
           ],
           [
            0.12156862745098039,
            "rgb(31, 224, 255)"
           ],
           [
            0.12549019607843137,
            "rgb(32, 223, 255)"
           ],
           [
            0.12941176470588234,
            "rgb(32, 222, 255)"
           ],
           [
            0.13333333333333333,
            "rgb(34, 221, 255)"
           ],
           [
            0.13725490196078433,
            "rgb(35, 220, 255)"
           ],
           [
            0.1411764705882353,
            "rgb(36, 219, 255)"
           ],
           [
            0.14509803921568626,
            "rgb(36, 218, 255)"
           ],
           [
            0.14901960784313725,
            "rgb(38, 217, 255)"
           ],
           [
            0.15294117647058825,
            "rgb(39, 216, 255)"
           ],
           [
            0.1568627450980392,
            "rgb(40, 215, 255)"
           ],
           [
            0.16078431372549018,
            "rgb(40, 214, 255)"
           ],
           [
            0.16470588235294117,
            "rgb(42, 213, 255)"
           ],
           [
            0.16862745098039217,
            "rgb(43, 211, 255)"
           ],
           [
            0.17254901960784313,
            "rgb(44, 211, 255)"
           ],
           [
            0.1764705882352941,
            "rgb(44, 210, 255)"
           ],
           [
            0.1803921568627451,
            "rgb(46, 209, 255)"
           ],
           [
            0.1843137254901961,
            "rgb(47, 208, 255)"
           ],
           [
            0.18823529411764706,
            "rgb(48, 207, 255)"
           ],
           [
            0.19215686274509802,
            "rgb(48, 206, 255)"
           ],
           [
            0.19607843137254902,
            "rgb(50, 205, 255)"
           ],
           [
            0.2,
            "rgb(51, 204, 255)"
           ],
           [
            0.20392156862745098,
            "rgb(52, 203, 255)"
           ],
           [
            0.20784313725490194,
            "rgb(52, 202, 255)"
           ],
           [
            0.21176470588235294,
            "rgb(54, 201, 255)"
           ],
           [
            0.21568627450980393,
            "rgb(55, 200, 255)"
           ],
           [
            0.2196078431372549,
            "rgb(56, 199, 255)"
           ],
           [
            0.22352941176470587,
            "rgb(56, 198, 255)"
           ],
           [
            0.22745098039215686,
            "rgb(58, 197, 255)"
           ],
           [
            0.23137254901960785,
            "rgb(59, 195, 255)"
           ],
           [
            0.23529411764705882,
            "rgb(60, 195, 255)"
           ],
           [
            0.2392156862745098,
            "rgb(60, 194, 255)"
           ],
           [
            0.24313725490196078,
            "rgb(62, 193, 255)"
           ],
           [
            0.24705882352941178,
            "rgb(63, 192, 255)"
           ],
           [
            0.25098039215686274,
            "rgb(64, 191, 255)"
           ],
           [
            0.2549019607843137,
            "rgb(65, 190, 255)"
           ],
           [
            0.2588235294117647,
            "rgb(65, 189, 255)"
           ],
           [
            0.2627450980392157,
            "rgb(67, 188, 255)"
           ],
           [
            0.26666666666666666,
            "rgb(68, 187, 255)"
           ],
           [
            0.27058823529411763,
            "rgb(69, 186, 255)"
           ],
           [
            0.27450980392156865,
            "rgb(70, 185, 255)"
           ],
           [
            0.2784313725490196,
            "rgb(71, 184, 255)"
           ],
           [
            0.2823529411764706,
            "rgb(72, 183, 255)"
           ],
           [
            0.28627450980392155,
            "rgb(73, 182, 255)"
           ],
           [
            0.2901960784313725,
            "rgb(73, 181, 255)"
           ],
           [
            0.29411764705882354,
            "rgb(75, 179, 255)"
           ],
           [
            0.2980392156862745,
            "rgb(76, 179, 255)"
           ],
           [
            0.30196078431372547,
            "rgb(77, 178, 255)"
           ],
           [
            0.3058823529411765,
            "rgb(78, 177, 255)"
           ],
           [
            0.30980392156862746,
            "rgb(79, 176, 255)"
           ],
           [
            0.3137254901960784,
            "rgb(80, 175, 255)"
           ],
           [
            0.3176470588235294,
            "rgb(81, 174, 255)"
           ],
           [
            0.32156862745098036,
            "rgb(81, 173, 255)"
           ],
           [
            0.3254901960784314,
            "rgb(83, 172, 255)"
           ],
           [
            0.32941176470588235,
            "rgb(84, 171, 255)"
           ],
           [
            0.3333333333333333,
            "rgb(85, 170, 255)"
           ],
           [
            0.33725490196078434,
            "rgb(86, 169, 255)"
           ],
           [
            0.3411764705882353,
            "rgb(87, 168, 255)"
           ],
           [
            0.34509803921568627,
            "rgb(88, 167, 255)"
           ],
           [
            0.34901960784313724,
            "rgb(89, 166, 255)"
           ],
           [
            0.3529411764705882,
            "rgb(89, 165, 255)"
           ],
           [
            0.3568627450980392,
            "rgb(91, 163, 255)"
           ],
           [
            0.3607843137254902,
            "rgb(92, 163, 255)"
           ],
           [
            0.36470588235294116,
            "rgb(93, 162, 255)"
           ],
           [
            0.3686274509803922,
            "rgb(94, 161, 255)"
           ],
           [
            0.37254901960784315,
            "rgb(95, 160, 255)"
           ],
           [
            0.3764705882352941,
            "rgb(96, 159, 255)"
           ],
           [
            0.3803921568627451,
            "rgb(97, 158, 255)"
           ],
           [
            0.38431372549019605,
            "rgb(97, 157, 255)"
           ],
           [
            0.38823529411764707,
            "rgb(99, 156, 255)"
           ],
           [
            0.39215686274509803,
            "rgb(100, 155, 255)"
           ],
           [
            0.396078431372549,
            "rgb(101, 154, 255)"
           ],
           [
            0.4,
            "rgb(102, 153, 255)"
           ],
           [
            0.403921568627451,
            "rgb(103, 152, 255)"
           ],
           [
            0.40784313725490196,
            "rgb(104, 151, 255)"
           ],
           [
            0.4117647058823529,
            "rgb(105, 150, 255)"
           ],
           [
            0.4156862745098039,
            "rgb(105, 149, 255)"
           ],
           [
            0.4196078431372549,
            "rgb(107, 147, 255)"
           ],
           [
            0.4235294117647059,
            "rgb(108, 147, 255)"
           ],
           [
            0.42745098039215684,
            "rgb(109, 146, 255)"
           ],
           [
            0.43137254901960786,
            "rgb(110, 145, 255)"
           ],
           [
            0.43529411764705883,
            "rgb(111, 144, 255)"
           ],
           [
            0.4392156862745098,
            "rgb(112, 143, 255)"
           ],
           [
            0.44313725490196076,
            "rgb(113, 142, 255)"
           ],
           [
            0.44705882352941173,
            "rgb(113, 141, 255)"
           ],
           [
            0.45098039215686275,
            "rgb(115, 140, 255)"
           ],
           [
            0.4549019607843137,
            "rgb(116, 139, 255)"
           ],
           [
            0.4588235294117647,
            "rgb(117, 138, 255)"
           ],
           [
            0.4627450980392157,
            "rgb(118, 137, 255)"
           ],
           [
            0.4666666666666667,
            "rgb(119, 136, 255)"
           ],
           [
            0.47058823529411764,
            "rgb(120, 135, 255)"
           ],
           [
            0.4745098039215686,
            "rgb(121, 134, 255)"
           ],
           [
            0.4784313725490196,
            "rgb(121, 133, 255)"
           ],
           [
            0.4823529411764706,
            "rgb(123, 131, 255)"
           ],
           [
            0.48627450980392156,
            "rgb(124, 131, 255)"
           ],
           [
            0.49019607843137253,
            "rgb(125, 130, 255)"
           ],
           [
            0.49411764705882355,
            "rgb(126, 129, 255)"
           ],
           [
            0.4980392156862745,
            "rgb(127, 128, 255)"
           ],
           [
            0.5019607843137255,
            "rgb(128, 127, 255)"
           ],
           [
            0.5058823529411764,
            "rgb(129, 126, 255)"
           ],
           [
            0.5098039215686274,
            "rgb(130, 125, 255)"
           ],
           [
            0.5137254901960784,
            "rgb(131, 124, 255)"
           ],
           [
            0.5176470588235293,
            "rgb(131, 123, 255)"
           ],
           [
            0.5215686274509804,
            "rgb(133, 121, 255)"
           ],
           [
            0.5254901960784314,
            "rgb(134, 121, 255)"
           ],
           [
            0.5294117647058824,
            "rgb(135, 120, 255)"
           ],
           [
            0.5333333333333333,
            "rgb(136, 119, 255)"
           ],
           [
            0.5372549019607843,
            "rgb(137, 118, 255)"
           ],
           [
            0.5411764705882353,
            "rgb(138, 117, 255)"
           ],
           [
            0.5450980392156862,
            "rgb(139, 116, 255)"
           ],
           [
            0.5490196078431373,
            "rgb(140, 114, 255)"
           ],
           [
            0.5529411764705883,
            "rgb(141, 113, 255)"
           ],
           [
            0.5568627450980392,
            "rgb(142, 113, 255)"
           ],
           [
            0.5607843137254902,
            "rgb(143, 112, 255)"
           ],
           [
            0.5647058823529412,
            "rgb(144, 111, 255)"
           ],
           [
            0.5686274509803921,
            "rgb(145, 110, 255)"
           ],
           [
            0.5725490196078431,
            "rgb(146, 109, 255)"
           ],
           [
            0.5764705882352941,
            "rgb(147, 108, 255)"
           ],
           [
            0.580392156862745,
            "rgb(147, 107, 255)"
           ],
           [
            0.5843137254901961,
            "rgb(149, 105, 255)"
           ],
           [
            0.5882352941176471,
            "rgb(150, 105, 255)"
           ],
           [
            0.592156862745098,
            "rgb(151, 104, 255)"
           ],
           [
            0.596078431372549,
            "rgb(152, 103, 255)"
           ],
           [
            0.6,
            "rgb(153, 102, 255)"
           ],
           [
            0.6039215686274509,
            "rgb(154, 101, 255)"
           ],
           [
            0.6078431372549019,
            "rgb(155, 100, 255)"
           ],
           [
            0.611764705882353,
            "rgb(156, 98, 255)"
           ],
           [
            0.615686274509804,
            "rgb(157, 97, 255)"
           ],
           [
            0.6196078431372549,
            "rgb(158, 97, 255)"
           ],
           [
            0.6235294117647059,
            "rgb(159, 96, 255)"
           ],
           [
            0.6274509803921569,
            "rgb(160, 95, 255)"
           ],
           [
            0.6313725490196078,
            "rgb(161, 94, 255)"
           ],
           [
            0.6352941176470588,
            "rgb(162, 93, 255)"
           ],
           [
            0.6392156862745098,
            "rgb(163, 92, 255)"
           ],
           [
            0.6431372549019607,
            "rgb(163, 91, 255)"
           ],
           [
            0.6470588235294118,
            "rgb(165, 89, 255)"
           ],
           [
            0.6509803921568628,
            "rgb(166, 89, 255)"
           ],
           [
            0.6549019607843137,
            "rgb(167, 88, 255)"
           ],
           [
            0.6588235294117647,
            "rgb(168, 87, 255)"
           ],
           [
            0.6627450980392157,
            "rgb(169, 86, 255)"
           ],
           [
            0.6666666666666666,
            "rgb(170, 85, 255)"
           ],
           [
            0.6705882352941176,
            "rgb(171, 84, 255)"
           ],
           [
            0.6745098039215687,
            "rgb(172, 82, 255)"
           ],
           [
            0.6784313725490196,
            "rgb(173, 81, 255)"
           ],
           [
            0.6823529411764706,
            "rgb(174, 81, 255)"
           ],
           [
            0.6862745098039216,
            "rgb(175, 80, 255)"
           ],
           [
            0.6901960784313725,
            "rgb(176, 79, 255)"
           ],
           [
            0.6941176470588235,
            "rgb(177, 78, 255)"
           ],
           [
            0.6980392156862745,
            "rgb(178, 77, 255)"
           ],
           [
            0.7019607843137254,
            "rgb(179, 76, 255)"
           ],
           [
            0.7058823529411764,
            "rgb(179, 75, 255)"
           ],
           [
            0.7098039215686275,
            "rgb(181, 73, 255)"
           ],
           [
            0.7137254901960784,
            "rgb(182, 73, 255)"
           ],
           [
            0.7176470588235294,
            "rgb(183, 72, 255)"
           ],
           [
            0.7215686274509804,
            "rgb(184, 71, 255)"
           ],
           [
            0.7254901960784313,
            "rgb(185, 70, 255)"
           ],
           [
            0.7294117647058823,
            "rgb(186, 69, 255)"
           ],
           [
            0.7333333333333333,
            "rgb(187, 68, 255)"
           ],
           [
            0.7372549019607844,
            "rgb(188, 66, 255)"
           ],
           [
            0.7411764705882353,
            "rgb(189, 65, 255)"
           ],
           [
            0.7450980392156863,
            "rgb(190, 65, 255)"
           ],
           [
            0.7490196078431373,
            "rgb(191, 64, 255)"
           ],
           [
            0.7529411764705882,
            "rgb(192, 63, 255)"
           ],
           [
            0.7568627450980392,
            "rgb(193, 62, 255)"
           ],
           [
            0.7607843137254902,
            "rgb(194, 61, 255)"
           ],
           [
            0.7647058823529411,
            "rgb(195, 60, 255)"
           ],
           [
            0.7686274509803921,
            "rgb(195, 59, 255)"
           ],
           [
            0.7725490196078432,
            "rgb(197, 57, 255)"
           ],
           [
            0.7764705882352941,
            "rgb(198, 56, 255)"
           ],
           [
            0.7803921568627451,
            "rgb(199, 56, 255)"
           ],
           [
            0.7843137254901961,
            "rgb(200, 55, 255)"
           ],
           [
            0.788235294117647,
            "rgb(201, 54, 255)"
           ],
           [
            0.792156862745098,
            "rgb(202, 53, 255)"
           ],
           [
            0.796078431372549,
            "rgb(203, 52, 255)"
           ],
           [
            0.8,
            "rgb(204, 50, 255)"
           ],
           [
            0.803921568627451,
            "rgb(205, 49, 255)"
           ],
           [
            0.807843137254902,
            "rgb(206, 48, 255)"
           ],
           [
            0.8117647058823529,
            "rgb(207, 48, 255)"
           ],
           [
            0.8156862745098039,
            "rgb(208, 47, 255)"
           ],
           [
            0.8196078431372549,
            "rgb(209, 46, 255)"
           ],
           [
            0.8235294117647058,
            "rgb(210, 45, 255)"
           ],
           [
            0.8274509803921568,
            "rgb(211, 44, 255)"
           ],
           [
            0.8313725490196078,
            "rgb(211, 43, 255)"
           ],
           [
            0.8352941176470589,
            "rgb(213, 41, 255)"
           ],
           [
            0.8392156862745098,
            "rgb(214, 40, 255)"
           ],
           [
            0.8431372549019608,
            "rgb(215, 40, 255)"
           ],
           [
            0.8470588235294118,
            "rgb(216, 39, 255)"
           ],
           [
            0.8509803921568627,
            "rgb(217, 38, 255)"
           ],
           [
            0.8549019607843137,
            "rgb(218, 37, 255)"
           ],
           [
            0.8588235294117647,
            "rgb(219, 36, 255)"
           ],
           [
            0.8627450980392157,
            "rgb(220, 34, 255)"
           ],
           [
            0.8666666666666667,
            "rgb(221, 33, 255)"
           ],
           [
            0.8705882352941177,
            "rgb(222, 32, 255)"
           ],
           [
            0.8745098039215686,
            "rgb(223, 32, 255)"
           ],
           [
            0.8784313725490196,
            "rgb(224, 31, 255)"
           ],
           [
            0.8823529411764706,
            "rgb(225, 30, 255)"
           ],
           [
            0.8862745098039215,
            "rgb(226, 29, 255)"
           ],
           [
            0.8901960784313725,
            "rgb(227, 28, 255)"
           ],
           [
            0.8941176470588235,
            "rgb(227, 27, 255)"
           ],
           [
            0.8980392156862745,
            "rgb(229, 25, 255)"
           ],
           [
            0.9019607843137255,
            "rgb(230, 24, 255)"
           ],
           [
            0.9058823529411765,
            "rgb(231, 24, 255)"
           ],
           [
            0.9098039215686274,
            "rgb(232, 23, 255)"
           ],
           [
            0.9137254901960784,
            "rgb(233, 22, 255)"
           ],
           [
            0.9176470588235294,
            "rgb(234, 21, 255)"
           ],
           [
            0.9215686274509803,
            "rgb(235, 20, 255)"
           ],
           [
            0.9254901960784314,
            "rgb(236, 18, 255)"
           ],
           [
            0.9294117647058824,
            "rgb(237, 17, 255)"
           ],
           [
            0.9333333333333333,
            "rgb(238, 16, 255)"
           ],
           [
            0.9372549019607843,
            "rgb(239, 16, 255)"
           ],
           [
            0.9411764705882353,
            "rgb(240, 15, 255)"
           ],
           [
            0.9450980392156862,
            "rgb(241, 14, 255)"
           ],
           [
            0.9490196078431372,
            "rgb(242, 13, 255)"
           ],
           [
            0.9529411764705882,
            "rgb(243, 12, 255)"
           ],
           [
            0.9568627450980391,
            "rgb(243, 11, 255)"
           ],
           [
            0.9607843137254902,
            "rgb(245, 9, 255)"
           ],
           [
            0.9647058823529412,
            "rgb(246, 8, 255)"
           ],
           [
            0.9686274509803922,
            "rgb(247, 8, 255)"
           ],
           [
            0.9725490196078431,
            "rgb(248, 7, 255)"
           ],
           [
            0.9764705882352941,
            "rgb(249, 6, 255)"
           ],
           [
            0.9803921568627451,
            "rgb(250, 5, 255)"
           ],
           [
            0.984313725490196,
            "rgb(251, 4, 255)"
           ],
           [
            0.9882352941176471,
            "rgb(252, 2, 255)"
           ],
           [
            0.9921568627450981,
            "rgb(253, 1, 255)"
           ],
           [
            0.996078431372549,
            "rgb(254, 0, 255)"
           ],
           [
            1,
            "rgb(255, 0, 255)"
           ]
          ],
          "showscale": true
         },
         "mode": "markers",
         "type": "scatter",
         "uid": "1bdae9c5-778f-4900-8eed-08e4bb311352",
         "x": [
          0
         ],
         "y": [
          0
         ]
        }
       ],
       "layout": {
        "plot_bgcolor": "rgba(0,0,0,0)",
        "showlegend": false,
        "template": {
         "data": {
          "bar": [
           {
            "error_x": {
             "color": "#2a3f5f"
            },
            "error_y": {
             "color": "#2a3f5f"
            },
            "marker": {
             "line": {
              "color": "#E5ECF6",
              "width": 0.5
             },
             "pattern": {
              "fillmode": "overlay",
              "size": 10,
              "solidity": 0.2
             }
            },
            "type": "bar"
           }
          ],
          "barpolar": [
           {
            "marker": {
             "line": {
              "color": "#E5ECF6",
              "width": 0.5
             },
             "pattern": {
              "fillmode": "overlay",
              "size": 10,
              "solidity": 0.2
             }
            },
            "type": "barpolar"
           }
          ],
          "carpet": [
           {
            "aaxis": {
             "endlinecolor": "#2a3f5f",
             "gridcolor": "white",
             "linecolor": "white",
             "minorgridcolor": "white",
             "startlinecolor": "#2a3f5f"
            },
            "baxis": {
             "endlinecolor": "#2a3f5f",
             "gridcolor": "white",
             "linecolor": "white",
             "minorgridcolor": "white",
             "startlinecolor": "#2a3f5f"
            },
            "type": "carpet"
           }
          ],
          "choropleth": [
           {
            "colorbar": {
             "outlinewidth": 0,
             "ticks": ""
            },
            "type": "choropleth"
           }
          ],
          "contour": [
           {
            "colorbar": {
             "outlinewidth": 0,
             "ticks": ""
            },
            "colorscale": [
             [
              0,
              "#0d0887"
             ],
             [
              0.1111111111111111,
              "#46039f"
             ],
             [
              0.2222222222222222,
              "#7201a8"
             ],
             [
              0.3333333333333333,
              "#9c179e"
             ],
             [
              0.4444444444444444,
              "#bd3786"
             ],
             [
              0.5555555555555556,
              "#d8576b"
             ],
             [
              0.6666666666666666,
              "#ed7953"
             ],
             [
              0.7777777777777778,
              "#fb9f3a"
             ],
             [
              0.8888888888888888,
              "#fdca26"
             ],
             [
              1,
              "#f0f921"
             ]
            ],
            "type": "contour"
           }
          ],
          "contourcarpet": [
           {
            "colorbar": {
             "outlinewidth": 0,
             "ticks": ""
            },
            "type": "contourcarpet"
           }
          ],
          "heatmap": [
           {
            "colorbar": {
             "outlinewidth": 0,
             "ticks": ""
            },
            "colorscale": [
             [
              0,
              "#0d0887"
             ],
             [
              0.1111111111111111,
              "#46039f"
             ],
             [
              0.2222222222222222,
              "#7201a8"
             ],
             [
              0.3333333333333333,
              "#9c179e"
             ],
             [
              0.4444444444444444,
              "#bd3786"
             ],
             [
              0.5555555555555556,
              "#d8576b"
             ],
             [
              0.6666666666666666,
              "#ed7953"
             ],
             [
              0.7777777777777778,
              "#fb9f3a"
             ],
             [
              0.8888888888888888,
              "#fdca26"
             ],
             [
              1,
              "#f0f921"
             ]
            ],
            "type": "heatmap"
           }
          ],
          "heatmapgl": [
           {
            "colorbar": {
             "outlinewidth": 0,
             "ticks": ""
            },
            "colorscale": [
             [
              0,
              "#0d0887"
             ],
             [
              0.1111111111111111,
              "#46039f"
             ],
             [
              0.2222222222222222,
              "#7201a8"
             ],
             [
              0.3333333333333333,
              "#9c179e"
             ],
             [
              0.4444444444444444,
              "#bd3786"
             ],
             [
              0.5555555555555556,
              "#d8576b"
             ],
             [
              0.6666666666666666,
              "#ed7953"
             ],
             [
              0.7777777777777778,
              "#fb9f3a"
             ],
             [
              0.8888888888888888,
              "#fdca26"
             ],
             [
              1,
              "#f0f921"
             ]
            ],
            "type": "heatmapgl"
           }
          ],
          "histogram": [
           {
            "marker": {
             "pattern": {
              "fillmode": "overlay",
              "size": 10,
              "solidity": 0.2
             }
            },
            "type": "histogram"
           }
          ],
          "histogram2d": [
           {
            "colorbar": {
             "outlinewidth": 0,
             "ticks": ""
            },
            "colorscale": [
             [
              0,
              "#0d0887"
             ],
             [
              0.1111111111111111,
              "#46039f"
             ],
             [
              0.2222222222222222,
              "#7201a8"
             ],
             [
              0.3333333333333333,
              "#9c179e"
             ],
             [
              0.4444444444444444,
              "#bd3786"
             ],
             [
              0.5555555555555556,
              "#d8576b"
             ],
             [
              0.6666666666666666,
              "#ed7953"
             ],
             [
              0.7777777777777778,
              "#fb9f3a"
             ],
             [
              0.8888888888888888,
              "#fdca26"
             ],
             [
              1,
              "#f0f921"
             ]
            ],
            "type": "histogram2d"
           }
          ],
          "histogram2dcontour": [
           {
            "colorbar": {
             "outlinewidth": 0,
             "ticks": ""
            },
            "colorscale": [
             [
              0,
              "#0d0887"
             ],
             [
              0.1111111111111111,
              "#46039f"
             ],
             [
              0.2222222222222222,
              "#7201a8"
             ],
             [
              0.3333333333333333,
              "#9c179e"
             ],
             [
              0.4444444444444444,
              "#bd3786"
             ],
             [
              0.5555555555555556,
              "#d8576b"
             ],
             [
              0.6666666666666666,
              "#ed7953"
             ],
             [
              0.7777777777777778,
              "#fb9f3a"
             ],
             [
              0.8888888888888888,
              "#fdca26"
             ],
             [
              1,
              "#f0f921"
             ]
            ],
            "type": "histogram2dcontour"
           }
          ],
          "mesh3d": [
           {
            "colorbar": {
             "outlinewidth": 0,
             "ticks": ""
            },
            "type": "mesh3d"
           }
          ],
          "parcoords": [
           {
            "line": {
             "colorbar": {
              "outlinewidth": 0,
              "ticks": ""
             }
            },
            "type": "parcoords"
           }
          ],
          "pie": [
           {
            "automargin": true,
            "type": "pie"
           }
          ],
          "scatter": [
           {
            "fillpattern": {
             "fillmode": "overlay",
             "size": 10,
             "solidity": 0.2
            },
            "type": "scatter"
           }
          ],
          "scatter3d": [
           {
            "line": {
             "colorbar": {
              "outlinewidth": 0,
              "ticks": ""
             }
            },
            "marker": {
             "colorbar": {
              "outlinewidth": 0,
              "ticks": ""
             }
            },
            "type": "scatter3d"
           }
          ],
          "scattercarpet": [
           {
            "marker": {
             "colorbar": {
              "outlinewidth": 0,
              "ticks": ""
             }
            },
            "type": "scattercarpet"
           }
          ],
          "scattergeo": [
           {
            "marker": {
             "colorbar": {
              "outlinewidth": 0,
              "ticks": ""
             }
            },
            "type": "scattergeo"
           }
          ],
          "scattergl": [
           {
            "marker": {
             "colorbar": {
              "outlinewidth": 0,
              "ticks": ""
             }
            },
            "type": "scattergl"
           }
          ],
          "scattermapbox": [
           {
            "marker": {
             "colorbar": {
              "outlinewidth": 0,
              "ticks": ""
             }
            },
            "type": "scattermapbox"
           }
          ],
          "scatterpolar": [
           {
            "marker": {
             "colorbar": {
              "outlinewidth": 0,
              "ticks": ""
             }
            },
            "type": "scatterpolar"
           }
          ],
          "scatterpolargl": [
           {
            "marker": {
             "colorbar": {
              "outlinewidth": 0,
              "ticks": ""
             }
            },
            "type": "scatterpolargl"
           }
          ],
          "scatterternary": [
           {
            "marker": {
             "colorbar": {
              "outlinewidth": 0,
              "ticks": ""
             }
            },
            "type": "scatterternary"
           }
          ],
          "surface": [
           {
            "colorbar": {
             "outlinewidth": 0,
             "ticks": ""
            },
            "colorscale": [
             [
              0,
              "#0d0887"
             ],
             [
              0.1111111111111111,
              "#46039f"
             ],
             [
              0.2222222222222222,
              "#7201a8"
             ],
             [
              0.3333333333333333,
              "#9c179e"
             ],
             [
              0.4444444444444444,
              "#bd3786"
             ],
             [
              0.5555555555555556,
              "#d8576b"
             ],
             [
              0.6666666666666666,
              "#ed7953"
             ],
             [
              0.7777777777777778,
              "#fb9f3a"
             ],
             [
              0.8888888888888888,
              "#fdca26"
             ],
             [
              1,
              "#f0f921"
             ]
            ],
            "type": "surface"
           }
          ],
          "table": [
           {
            "cells": {
             "fill": {
              "color": "#EBF0F8"
             },
             "line": {
              "color": "white"
             }
            },
            "header": {
             "fill": {
              "color": "#C8D4E3"
             },
             "line": {
              "color": "white"
             }
            },
            "type": "table"
           }
          ]
         },
         "layout": {
          "annotationdefaults": {
           "arrowcolor": "#2a3f5f",
           "arrowhead": 0,
           "arrowwidth": 1
          },
          "autotypenumbers": "strict",
          "coloraxis": {
           "colorbar": {
            "outlinewidth": 0,
            "ticks": ""
           }
          },
          "colorscale": {
           "diverging": [
            [
             0,
             "#8e0152"
            ],
            [
             0.1,
             "#c51b7d"
            ],
            [
             0.2,
             "#de77ae"
            ],
            [
             0.3,
             "#f1b6da"
            ],
            [
             0.4,
             "#fde0ef"
            ],
            [
             0.5,
             "#f7f7f7"
            ],
            [
             0.6,
             "#e6f5d0"
            ],
            [
             0.7,
             "#b8e186"
            ],
            [
             0.8,
             "#7fbc41"
            ],
            [
             0.9,
             "#4d9221"
            ],
            [
             1,
             "#276419"
            ]
           ],
           "sequential": [
            [
             0,
             "#0d0887"
            ],
            [
             0.1111111111111111,
             "#46039f"
            ],
            [
             0.2222222222222222,
             "#7201a8"
            ],
            [
             0.3333333333333333,
             "#9c179e"
            ],
            [
             0.4444444444444444,
             "#bd3786"
            ],
            [
             0.5555555555555556,
             "#d8576b"
            ],
            [
             0.6666666666666666,
             "#ed7953"
            ],
            [
             0.7777777777777778,
             "#fb9f3a"
            ],
            [
             0.8888888888888888,
             "#fdca26"
            ],
            [
             1,
             "#f0f921"
            ]
           ],
           "sequentialminus": [
            [
             0,
             "#0d0887"
            ],
            [
             0.1111111111111111,
             "#46039f"
            ],
            [
             0.2222222222222222,
             "#7201a8"
            ],
            [
             0.3333333333333333,
             "#9c179e"
            ],
            [
             0.4444444444444444,
             "#bd3786"
            ],
            [
             0.5555555555555556,
             "#d8576b"
            ],
            [
             0.6666666666666666,
             "#ed7953"
            ],
            [
             0.7777777777777778,
             "#fb9f3a"
            ],
            [
             0.8888888888888888,
             "#fdca26"
            ],
            [
             1,
             "#f0f921"
            ]
           ]
          },
          "colorway": [
           "#636efa",
           "#EF553B",
           "#00cc96",
           "#ab63fa",
           "#FFA15A",
           "#19d3f3",
           "#FF6692",
           "#B6E880",
           "#FF97FF",
           "#FECB52"
          ],
          "font": {
           "color": "#2a3f5f"
          },
          "geo": {
           "bgcolor": "white",
           "lakecolor": "white",
           "landcolor": "#E5ECF6",
           "showlakes": true,
           "showland": true,
           "subunitcolor": "white"
          },
          "hoverlabel": {
           "align": "left"
          },
          "hovermode": "closest",
          "mapbox": {
           "style": "light"
          },
          "paper_bgcolor": "white",
          "plot_bgcolor": "#E5ECF6",
          "polar": {
           "angularaxis": {
            "gridcolor": "white",
            "linecolor": "white",
            "ticks": ""
           },
           "bgcolor": "#E5ECF6",
           "radialaxis": {
            "gridcolor": "white",
            "linecolor": "white",
            "ticks": ""
           }
          },
          "scene": {
           "xaxis": {
            "backgroundcolor": "#E5ECF6",
            "gridcolor": "white",
            "gridwidth": 2,
            "linecolor": "white",
            "showbackground": true,
            "ticks": "",
            "zerolinecolor": "white"
           },
           "yaxis": {
            "backgroundcolor": "#E5ECF6",
            "gridcolor": "white",
            "gridwidth": 2,
            "linecolor": "white",
            "showbackground": true,
            "ticks": "",
            "zerolinecolor": "white"
           },
           "zaxis": {
            "backgroundcolor": "#E5ECF6",
            "gridcolor": "white",
            "gridwidth": 2,
            "linecolor": "white",
            "showbackground": true,
            "ticks": "",
            "zerolinecolor": "white"
           }
          },
          "shapedefaults": {
           "line": {
            "color": "#2a3f5f"
           }
          },
          "ternary": {
           "aaxis": {
            "gridcolor": "white",
            "linecolor": "white",
            "ticks": ""
           },
           "baxis": {
            "gridcolor": "white",
            "linecolor": "white",
            "ticks": ""
           },
           "bgcolor": "#E5ECF6",
           "caxis": {
            "gridcolor": "white",
            "linecolor": "white",
            "ticks": ""
           }
          },
          "title": {
           "x": 0.05
          },
          "xaxis": {
           "automargin": true,
           "gridcolor": "white",
           "linecolor": "white",
           "ticks": "",
           "title": {
            "standoff": 15
           },
           "zerolinecolor": "white",
           "zerolinewidth": 2
          },
          "yaxis": {
           "automargin": true,
           "gridcolor": "white",
           "linecolor": "white",
           "ticks": "",
           "title": {
            "standoff": 15
           },
           "zerolinecolor": "white",
           "zerolinewidth": 2
          }
         }
        },
        "xaxis": {
         "showgrid": false,
         "showticklabels": false
        },
        "yaxis": {
         "showgrid": false,
         "showticklabels": false
        }
       }
      }
     },
     "metadata": {},
     "output_type": "display_data"
    },
    {
     "data": {
      "text/plain": [
       "0.0"
      ]
     },
     "execution_count": 4,
     "metadata": {},
     "output_type": "execute_result"
    }
   ],
   "source": [
    "# import functions.after_movieplot as after_plt\n",
    "\n",
    "# after_plt.plot_voltage_shape(folder,cell,max_shift)\n",
    "# h.finitialize(v_init)\n",
    "# h.continuerun(simtime)"
   ]
  },
  {
   "cell_type": "code",
   "execution_count": 6,
   "metadata": {},
   "outputs": [],
   "source": [
    "# plt.Figure()\n",
    "# plt.plot(t,soma_v,label=\"soma\")\n",
    "# plt.plot(t,dend_v,label=\"dend\")\n",
    "# plt.xlabel(\"time(ms)\")\n",
    "# plt.ylabel(\"Membrane Voltage (mV)\") #vint-vext~\n",
    "# plt.legend()\n",
    "# plt.show()"
   ]
  }
 ],
 "metadata": {
  "kernelspec": {
   "display_name": ".venv",
   "language": "python",
   "name": "python3"
  },
  "language_info": {
   "codemirror_mode": {
    "name": "ipython",
    "version": 3
   },
   "file_extension": ".py",
   "mimetype": "text/x-python",
   "name": "python",
   "nbconvert_exporter": "python",
   "pygments_lexer": "ipython3",
   "version": "3.12.5"
  }
 },
 "nbformat": 4,
 "nbformat_minor": 2
}
