{
 "cells": [
  {
   "cell_type": "code",
   "execution_count": 1,
   "metadata": {},
   "outputs": [
    {
     "name": "stdout",
     "output_type": "stream",
     "text": [
      "c:\\Users\\Pc\\Documents\\Charite\\NEURON\\Extracellular_test\\Homogeneous_E-field\n",
      "c:\\Users\\Pc\\Documents\\Charite\\NEURON\\Extracellular_test\\Homogeneous_E-field\\mechanisms\\nrnmech.dll\n"
     ]
    },
    {
     "data": {
      "text/plain": [
       "0.0"
      ]
     },
     "execution_count": 1,
     "metadata": {},
     "output_type": "execute_result"
    }
   ],
   "source": [
    "# Import neuron\n",
    "from neuron import h,gui\n",
    "\n",
    "# Import Mechanisms\n",
    "import os\n",
    "current_directory = os.getcwd()\n",
    "print(current_directory)\n",
    "path = os.path.join(current_directory, \"mechanisms\", \"nrnmech.dll\")\n",
    "print(path)\n",
    "h.nrn_load_dll(path)\n",
    "\n",
    "# Import utilities \n",
    "from neuron.units import ms,mV,um,V,m \n",
    "import matplotlib.pyplot as plt \n",
    "import numpy as np \n",
    "h.load_file(\"stdrun.hoc\")\n",
    "h.cvode_active(0) #turn off variable time step\n",
    "# h.load_file(\"anatscale.hoc\")"
   ]
  },
  {
   "cell_type": "code",
   "execution_count": 2,
   "metadata": {},
   "outputs": [
    {
     "name": "stdout",
     "output_type": "stream",
     "text": [
      "1 151\n",
      "After any change to cell geometry or nseg, be sure to invoke setpointers()\n"
     ]
    },
    {
     "data": {
      "text/plain": [
       "1.0"
      ]
     },
     "execution_count": 2,
     "metadata": {},
     "output_type": "execute_result"
    }
   ],
   "source": [
    "#Local Field Potential calculation\n",
    "#h.load_file(\"./functions/field.hoc\")\n",
    "\n",
    "##### Import cell model\n",
    "from functions.ballandstick import BallAndStick,BallAndStick_pas,BallAndStick2\n",
    "cell=BallAndStick2(0,0,0,0,0,0)\n",
    "print(cell.soma.nseg,cell.dend.nseg)\n",
    "\n",
    "# Interpolate and set pointers between xtra and extracellular\n",
    "h.load_file(\"./functions/interpxyz.hoc\")\n",
    "h.load_file(\"./functions/setpointers.hoc\")\n"
   ]
  },
  {
   "cell_type": "code",
   "execution_count": 3,
   "metadata": {},
   "outputs": [],
   "source": [
    "from functions.base_shape import base_shape\n",
    "shape=base_shape()"
   ]
  },
  {
   "cell_type": "code",
   "execution_count": 4,
   "metadata": {},
   "outputs": [],
   "source": [
    "from functions.calcrx import setelec,homogenous,set_uniform_field_between_plates\n",
    "\n",
    "v_plate=40*V #- potential difference between the plates\n",
    "distance=1*m #distance\n",
    "field_orientation=np.array([1,0,0])#along the x axis\n",
    "ref_point=[0,0,0] #reference point with a 0 e_extracellular\n",
    "\n",
    "set_uniform_field_between_plates(v_plate,distance,field_orientation,ref_point)"
   ]
  },
  {
   "cell_type": "code",
   "execution_count": 5,
   "metadata": {},
   "outputs": [],
   "source": [
    "dt=1*ms\n",
    "simtime=1000*ms\n",
    "depth=0\n",
    "modfreq=0\n",
    "v_init=-65*mV\n",
    "\n",
    "h.dt=dt\n",
    "h.v_init=v_init"
   ]
  },
  {
   "cell_type": "code",
   "execution_count": 6,
   "metadata": {},
   "outputs": [],
   "source": [
    "import functions.stim as stim\n",
    "ton=20\n",
    "amp=1000\n",
    "dur=900\n",
    "freq=10\n",
    "depth=1\n",
    "modfreq=5\n",
    "times,stim1=stim.ampmodulation_wiki(ton,amp,depth,dt,dur,simtime,freq,modfreq)"
   ]
  },
  {
   "cell_type": "code",
   "execution_count": 7,
   "metadata": {},
   "outputs": [
    {
     "name": "stdout",
     "output_type": "stream",
     "text": [
      "c:\\Users\\Pc\\Documents\\Charite\\NEURON\\Extracellular_test\\Homogeneous_E-field\n"
     ]
    }
   ],
   "source": [
    "simparams=[dt,simtime]\n",
    "stimparams=[v_plate,ton,amp,dur,freq,depth,modfreq]\n",
    "run_id=0\n",
    "#Save parameters to a file\n",
    "from functions.savedata import saveparams\n",
    "folder=saveparams(run_id,cell,simparams,stimparams)"
   ]
  },
  {
   "cell_type": "code",
   "execution_count": 8,
   "metadata": {},
   "outputs": [],
   "source": [
    "t=h.Vector().record(h._ref_t)\n",
    "is_xtra=h.Vector().record(h._ref_is_xtra)\n",
    "soma_v=h.Vector().record(cell.soma(0.5)._ref_v)\n",
    "dend_v=h.Vector().record(cell.dend(0.5)._ref_v)\n",
    "extracellular_v_soma = h.Vector().record(cell.soma(0.5)._ref_vext[0])\n"
   ]
  },
  {
   "cell_type": "code",
   "execution_count": 9,
   "metadata": {},
   "outputs": [],
   "source": [
    "import functions.calculate_max as calculate_max\n",
    "\n",
    "# results,callback=max_shift(cell)\n",
    "results, file, callback=calculate_max.master_callback(cell, folder, run_id,2)\n",
    "\n",
    "\n",
    "\n",
    "\n"
   ]
  },
  {
   "cell_type": "code",
   "execution_count": 10,
   "metadata": {},
   "outputs": [
    {
     "data": {
      "text/plain": [
       "0.0"
      ]
     },
     "execution_count": 10,
     "metadata": {},
     "output_type": "execute_result"
    }
   ],
   "source": [
    "h.finitialize(v_init)\n",
    "h.continuerun(simtime)"
   ]
  },
  {
   "cell_type": "code",
   "execution_count": 11,
   "metadata": {},
   "outputs": [
    {
     "name": "stdout",
     "output_type": "stream",
     "text": [
      "{'max_v': 0, 'min_v': 100000.0, 'max_seg': BallAndStick2[0].soma(0.5), 'min_seg': BallAndStick2[0].soma(0.5), 'max_sec': BallAndStick2[0].soma, 'min_sec': BallAndStick2[0].soma}\n",
      "max_v: <class 'int'>\n",
      "min_v: <class 'float'>\n",
      "max_seg: <class 'nrn.Segment'>\n",
      "min_seg: <class 'nrn.Segment'>\n",
      "max_sec: <class 'nrn.Section'>\n",
      "min_sec: <class 'nrn.Section'>\n"
     ]
    }
   ],
   "source": [
    "print(results)\n",
    "for key, value in results.items():\n",
    "    print(f\"{key}: {type(value)}\")"
   ]
  },
  {
   "cell_type": "code",
   "execution_count": 12,
   "metadata": {},
   "outputs": [
    {
     "name": "stdout",
     "output_type": "stream",
     "text": [
      "Max voltage: 0 at section BallAndStick2[0].soma, x=0.5\n",
      "Min voltage: 100000.0 at section BallAndStick2[0].soma, x=0.5\n"
     ]
    }
   ],
   "source": [
    "from functions.shapeplot_movie import max_min_shape\n",
    "mark_max, mark_min=max_min_shape(results,shape)"
   ]
  },
  {
   "cell_type": "code",
   "execution_count": null,
   "metadata": {},
   "outputs": [
    {
     "data": {
      "text/plain": [
       "1.0"
      ]
     },
     "execution_count": 13,
     "metadata": {},
     "output_type": "execute_result"
    }
   ],
   "source": [
    "h.finitialize(v_init)\n",
    "# ps=calculate_max.highlight_max_min_voltage(results,1)"
   ]
  },
  {
   "cell_type": "code",
   "execution_count": null,
   "metadata": {},
   "outputs": [
    {
     "data": {
      "image/png": "[encoded data removed]",
      "text/plain": [
       "<Figure size 640x480 with 1 Axes>"
      ]
     },
     "metadata": {},
     "output_type": "display_data"
    }
   ],
   "source": [
    "plt.Figure()\n",
    "plt.plot(t,extracellular_v_soma,label=\"potential\")\n",
    "plt.xlabel(\"time(ms)\")\n",
    "plt.ylabel(\"Extracellular Voltage (mV)\")\n",
    "plt.legend()\n",
    "plt.show()"
   ]
  },
  {
   "cell_type": "code",
   "execution_count": null,
   "metadata": {},
   "outputs": [
    {
     "data": {
      "image/png": "[encoded data removed]",
      "text/plain": [
       "<Figure size 640x480 with 1 Axes>"
      ]
     },
     "metadata": {},
     "output_type": "display_data"
    }
   ],
   "source": [
    "plt.Figure()\n",
    "plt.plot(t,soma_v,label=\"soma\")\n",
    "plt.plot(t,dend_v,label=\"dend\")\n",
    "plt.xlabel(\"time(ms)\")\n",
    "plt.ylabel(\"Membrane Voltage (mV)\") #vint-vext~\n",
    "plt.legend()\n",
    "plt.show()"
   ]
  },
  {
   "cell_type": "code",
   "execution_count": null,
   "metadata": {},
   "outputs": [
    {
     "data": {
      "image/png": "[encoded data removed]",
      "text/plain": [
       "<Figure size 640x480 with 1 Axes>"
      ]
     },
     "metadata": {},
     "output_type": "display_data"
    },
    {
     "ename": "",
     "evalue": "",
     "output_type": "error",
     "traceback": [
      "\u001b[1;31mThe Kernel crashed while executing code in the current cell or a previous cell. \n",
      "\u001b[1;31mPlease review the code in the cell(s) to identify a possible cause of the failure. \n",
      "\u001b[1;31mClick <a href='https://aka.ms/vscodeJupyterKernelCrash'>here</a> for more info. \n",
      "\u001b[1;31mView Jupyter <a href='command:jupyter.viewOutput'>log</a> for further details."
     ]
    }
   ],
   "source": [
    "plt.Figure()\n",
    "plt.plot(t,is_xtra)\n",
    "plt.xlabel(\"time(ms)\")\n",
    "plt.ylabel(\"IS_xtra\")\n",
    "plt.show()"
   ]
  }
 ],
 "metadata": {
  "kernelspec": {
   "display_name": ".venv",
   "language": "python",
   "name": "python3"
  },
  "language_info": {
   "codemirror_mode": {
    "name": "ipython",
    "version": 3
   },
   "file_extension": ".py",
   "mimetype": "text/x-python",
   "name": "python",
   "nbconvert_exporter": "python",
   "pygments_lexer": "ipython3",
   "version": "3.12.5"
  }
 },
 "nbformat": 4,
 "nbformat_minor": 2
}
