{
 "cells": [
  {
   "cell_type": "code",
   "execution_count": 1,
   "metadata": {},
   "outputs": [
    {
     "name": "stdout",
     "output_type": "stream",
     "text": [
      "c:\\Users\\Pc\\Documents\\Charite\\NEURON\\Extracellular_test\\Homogeneous_E-field\n",
      "c:\\Users\\Pc\\Documents\\Charite\\NEURON\\Extracellular_test\\Homogeneous_E-field\\mechanisms\\nrnmech.dll\n",
      "1 151\n",
      "After any change to cell geometry or nseg, be sure to invoke setpointers()\n",
      "c:\\Users\\Pc\\Documents\\Charite\\NEURON\\Extracellular_test\\Homogeneous_E-field\n"
     ]
    }
   ],
   "source": [
    "# Import neuron\n",
    "from neuron import h,gui\n",
    "\n",
    "# Import Mechanisms\n",
    "import os\n",
    "current_directory = os.getcwd()\n",
    "print(current_directory)\n",
    "path = os.path.join(current_directory, \"mechanisms\", \"nrnmech.dll\")\n",
    "print(path)\n",
    "h.nrn_load_dll(path)\n",
    "\n",
    "# Import utilities \n",
    "from neuron.units import ms,mV,um,V,m \n",
    "import matplotlib.pyplot as plt \n",
    "import numpy as np \n",
    "h.load_file(\"stdrun.hoc\")\n",
    "h.cvode_active(0) #turn off variable time step\n",
    "# h.load_file(\"anatscale.hoc\")\n",
    "\n",
    "\n",
    "#Local Field Potential calculation\n",
    "#h.load_file(\"./functions/field.hoc\")\n",
    "\n",
    "##### Import cell model\n",
    "from functions.ballandstick import BallAndStick,BallAndStick_pas,BallAndStick2\n",
    "cell=BallAndStick2(0,0,0,0,0,0)\n",
    "print(cell.soma.nseg,cell.dend.nseg)\n",
    "\n",
    "# Interpolate and set pointers between xtra and extracellular\n",
    "h.load_file(\"./functions/interpxyz.hoc\")\n",
    "h.load_file(\"./functions/setpointers.hoc\")\n",
    "\n",
    "from functions.calcrx import setelec,homogenous,set_uniform_field_between_plates\n",
    "\n",
    "v_plate=40*V #- potential difference between the plates\n",
    "distance=1*m #distance\n",
    "field_orientation=np.array([1,0,0])#along the x axis\n",
    "ref_point=[0,0,0] #reference point with a 0 e_extracellular\n",
    "\n",
    "set_uniform_field_between_plates(v_plate,distance,field_orientation,ref_point)\n",
    "\n",
    "\n",
    "dt=1*ms\n",
    "simtime=1000*ms\n",
    "depth=0\n",
    "modfreq=0\n",
    "v_init=-65*mV\n",
    "\n",
    "h.dt=dt\n",
    "h.v_init=v_init\n",
    "\n",
    "import functions.stim as stim\n",
    "ton=20\n",
    "amp=1000\n",
    "dur=900\n",
    "freq=10\n",
    "depth=1\n",
    "modfreq=5\n",
    "times,stim1=stim.ampmodulation_wiki(ton,amp,depth,dt,dur,simtime,freq,modfreq)\n",
    "\n",
    "\n",
    "\n",
    "simparams=[dt,simtime]\n",
    "stimparams=[v_plate,ton,amp,dur,freq,depth,modfreq]\n",
    "run_id=0\n",
    "#Save parameters to a file\n",
    "from functions.savedata import saveparams\n",
    "folder=saveparams(run_id,cell,simparams,stimparams)\n",
    "\n",
    "\n",
    "t=h.Vector().record(h._ref_t)\n",
    "is_xtra=h.Vector().record(h._ref_is_xtra)\n",
    "soma_v=h.Vector().record(cell.soma(0.5)._ref_v)\n",
    "dend_v=h.Vector().record(cell.dend(0.5)._ref_v)\n",
    "dend2_v=h.Vector().record(cell.dend2(0.5)._ref_v)\n",
    "extracellular_v_soma = h.Vector().record(cell.soma(0.5)._ref_vext[0])\n"
   ]
  },
  {
   "cell_type": "code",
   "execution_count": 2,
   "metadata": {},
   "outputs": [],
   "source": [
    "import functions.maxv_shplot as maxv_shplot\n",
    "maxshift, callback= maxv_shplot.max_shift(cell)\n"
   ]
  },
  {
   "cell_type": "code",
   "execution_count": 3,
   "metadata": {},
   "outputs": [
    {
     "data": {
      "text/plain": [
       "0.0"
      ]
     },
     "execution_count": 3,
     "metadata": {},
     "output_type": "execute_result"
    }
   ],
   "source": [
    "h.finitialize(v_init)\n",
    "h.continuerun(simtime)"
   ]
  },
  {
   "cell_type": "code",
   "execution_count": 4,
   "metadata": {},
   "outputs": [
    {
     "data": {
      "application/vnd.plotly.v1+json": {
       "config": {
        "plotlyServerURL": "https://plot.ly"
       },
       "data": [
        {
         "hovertemplate": "BallAndStick2[0].soma(0.5)<br>64.373",
         "line": {
          "color": "#fc02ff",
          "width": 2
         },
         "mode": "lines",
         "name": "",
         "type": "scatter3d",
         "uid": "1c6cef32-0f13-4bdc-a314-11ab7b8f5797",
         "x": [
          0,
          50,
          100
         ],
         "y": [
          0,
          0,
          0
         ],
         "z": [
          0,
          0,
          0
         ]
        },
        {
         "hovertemplate": "BallAndStick2[0].dend(0.00331126)<br>63.050",
         "line": {
          "color": "#f509ff",
          "width": 2
         },
         "mode": "lines",
         "name": "",
         "type": "scatter3d",
         "uid": "817996ec-2b1f-49ff-b77e-16cba8cfcd90",
         "x": [
          100,
          133.11258278145695
         ],
         "y": [
          0,
          0
         ],
         "z": [
          0,
          0
         ]
        },
        {
         "hovertemplate": "BallAndStick2[0].dend(0.00993377)<br>61.139",
         "line": {
          "color": "#ec12ff",
          "width": 2
         },
         "mode": "lines",
         "name": "",
         "type": "scatter3d",
         "uid": "213c8d5e-5b26-4e70-97fe-fff927d9c143",
         "x": [
          133.11258278145695,
          166.2251655629139
         ],
         "y": [
          0,
          0
         ],
         "z": [
          0,
          0
         ]
        },
        {
         "hovertemplate": "BallAndStick2[0].dend(0.0165563)<br>60.937",
         "line": {
          "color": "#ec12ff",
          "width": 2
         },
         "mode": "lines",
         "name": "",
         "type": "scatter3d",
         "uid": "0bc7472f-9977-45a0-8e6c-ce52fac067db",
         "x": [
          166.2251655629139,
          199.33774834437085
         ],
         "y": [
          0,
          0
         ],
         "z": [
          0,
          0
         ]
        },
        {
         "hovertemplate": "BallAndStick2[0].dend(0.0231788)<br>64.757",
         "line": {
          "color": "#fe00ff",
          "width": 2
         },
         "mode": "lines",
         "name": "",
         "type": "scatter3d",
         "uid": "04399c75-0d16-4b2b-a9cc-74fb024a6ca6",
         "x": [
          199.33774834437085,
          232.4503311258278
         ],
         "y": [
          0,
          0
         ],
         "z": [
          0,
          0
         ]
        },
        {
         "hovertemplate": "BallAndStick2[0].dend(0.0298013)<br>61.669",
         "line": {
          "color": "#ef10ff",
          "width": 2
         },
         "mode": "lines",
         "name": "",
         "type": "scatter3d",
         "uid": "cdb3000a-e205-441c-bdb0-bff1f7805d36",
         "x": [
          232.4503311258278,
          265.5629139072847
         ],
         "y": [
          0,
          0
         ],
         "z": [
          0,
          0
         ]
        },
        {
         "hovertemplate": "BallAndStick2[0].dend(0.0364238)<br>58.325",
         "line": {
          "color": "#df20ff",
          "width": 2
         },
         "mode": "lines",
         "name": "",
         "type": "scatter3d",
         "uid": "52643691-d0de-4613-ac47-a32eed491167",
         "x": [
          265.5629139072847,
          298.6754966887417
         ],
         "y": [
          0,
          0
         ],
         "z": [
          0,
          0
         ]
        },
        {
         "hovertemplate": "BallAndStick2[0].dend(0.0430464)<br>55.196",
         "line": {
          "color": "#d12eff",
          "width": 2
         },
         "mode": "lines",
         "name": "",
         "type": "scatter3d",
         "uid": "d7c5981f-dbeb-4047-87d2-d112035321d6",
         "x": [
          298.6754966887417,
          331.7880794701987
         ],
         "y": [
          0,
          0
         ],
         "z": [
          0,
          0
         ]
        },
        {
         "hovertemplate": "BallAndStick2[0].dend(0.0496689)<br>52.269",
         "line": {
          "color": "#c33cff",
          "width": 2
         },
         "mode": "lines",
         "name": "",
         "type": "scatter3d",
         "uid": "443dfe17-5c38-4b1b-a0f6-9208c84e2646",
         "x": [
          331.7880794701987,
          364.9006622516556
         ],
         "y": [
          0,
          0
         ],
         "z": [
          0,
          0
         ]
        },
        {
         "hovertemplate": "BallAndStick2[0].dend(0.0562914)<br>49.531",
         "line": {
          "color": "#b649ff",
          "width": 2
         },
         "mode": "lines",
         "name": "",
         "type": "scatter3d",
         "uid": "cbba1afd-fadb-41b2-9775-6ae169588bc9",
         "x": [
          364.9006622516556,
          398.0132450331125
         ],
         "y": [
          0,
          0
         ],
         "z": [
          0,
          0
         ]
        },
        {
         "hovertemplate": "BallAndStick2[0].dend(0.0629139)<br>46.969",
         "line": {
          "color": "#aa55ff",
          "width": 2
         },
         "mode": "lines",
         "name": "",
         "type": "scatter3d",
         "uid": "c0caae5b-9688-474a-bf47-3e4713b478db",
         "x": [
          398.0132450331125,
          431.1258278145695
         ],
         "y": [
          0,
          0
         ],
         "z": [
          0,
          0
         ]
        },
        {
         "hovertemplate": "BallAndStick2[0].dend(0.0695364)<br>45.218",
         "line": {
          "color": "#a25dff",
          "width": 2
         },
         "mode": "lines",
         "name": "",
         "type": "scatter3d",
         "uid": "be935329-7d84-4476-ab76-c45c6ecd8faa",
         "x": [
          431.1258278145695,
          464.2384105960265
         ],
         "y": [
          0,
          0
         ],
         "z": [
          0,
          0
         ]
        },
        {
         "hovertemplate": "BallAndStick2[0].dend(0.0761589)<br>43.660",
         "line": {
          "color": "#9a65ff",
          "width": 2
         },
         "mode": "lines",
         "name": "",
         "type": "scatter3d",
         "uid": "311d6153-eaf2-4e61-8c1b-3bd7b714b53a",
         "x": [
          464.2384105960265,
          497.3509933774834
         ],
         "y": [
          0,
          0
         ],
         "z": [
          0,
          0
         ]
        },
        {
         "hovertemplate": "BallAndStick2[0].dend(0.0827815)<br>42.151",
         "line": {
          "color": "#936cff",
          "width": 2
         },
         "mode": "lines",
         "name": "",
         "type": "scatter3d",
         "uid": "9b538d29-7640-46ee-83c3-2bada8fe5afd",
         "x": [
          497.3509933774834,
          530.4635761589403
         ],
         "y": [
          0,
          0
         ],
         "z": [
          0,
          0
         ]
        },
        {
         "hovertemplate": "BallAndStick2[0].dend(0.089404)<br>40.692",
         "line": {
          "color": "#8c72ff",
          "width": 2
         },
         "mode": "lines",
         "name": "",
         "type": "scatter3d",
         "uid": "be592283-f634-427f-a334-8aee0bcf7ab5",
         "x": [
          530.4635761589403,
          563.5761589403974
         ],
         "y": [
          0,
          0
         ],
         "z": [
          0,
          0
         ]
        },
        {
         "hovertemplate": "BallAndStick2[0].dend(0.0960265)<br>39.283",
         "line": {
          "color": "#8679ff",
          "width": 2
         },
         "mode": "lines",
         "name": "",
         "type": "scatter3d",
         "uid": "4c9319dd-f12c-49d5-bf74-205d9fdb8e8e",
         "x": [
          563.5761589403974,
          596.6887417218543
         ],
         "y": [
          0,
          0
         ],
         "z": [
          0,
          0
         ]
        },
        {
         "hovertemplate": "BallAndStick2[0].dend(0.102649)<br>37.923",
         "line": {
          "color": "#7f80ff",
          "width": 2
         },
         "mode": "lines",
         "name": "",
         "type": "scatter3d",
         "uid": "7b964607-cb9b-46bc-9e38-d76090f03687",
         "x": [
          596.6887417218543,
          629.8013245033112
         ],
         "y": [
          0,
          0
         ],
         "z": [
          0,
          0
         ]
        },
        {
         "hovertemplate": "BallAndStick2[0].dend(0.109272)<br>36.614",
         "line": {
          "color": "#7986ff",
          "width": 2
         },
         "mode": "lines",
         "name": "",
         "type": "scatter3d",
         "uid": "3abececf-76d4-443d-82cf-658ac2c2365a",
         "x": [
          629.8013245033112,
          662.9139072847681
         ],
         "y": [
          0,
          0
         ],
         "z": [
          0,
          0
         ]
        },
        {
         "hovertemplate": "BallAndStick2[0].dend(0.115894)<br>35.354",
         "line": {
          "color": "#738cff",
          "width": 2
         },
         "mode": "lines",
         "name": "",
         "type": "scatter3d",
         "uid": "1ac022d2-fb82-4ba6-99bc-06b3ea7a1051",
         "x": [
          662.9139072847681,
          696.026490066225
         ],
         "y": [
          0,
          0
         ],
         "z": [
          0,
          0
         ]
        },
        {
         "hovertemplate": "BallAndStick2[0].dend(0.122517)<br>34.143",
         "line": {
          "color": "#6d92ff",
          "width": 2
         },
         "mode": "lines",
         "name": "",
         "type": "scatter3d",
         "uid": "09b0be82-c95e-4669-b3bc-2bb25aed0eb3",
         "x": [
          696.026490066225,
          729.1390728476821
         ],
         "y": [
          0,
          0
         ],
         "z": [
          0,
          0
         ]
        },
        {
         "hovertemplate": "BallAndStick2[0].dend(0.129139)<br>32.980",
         "line": {
          "color": "#6897ff",
          "width": 2
         },
         "mode": "lines",
         "name": "",
         "type": "scatter3d",
         "uid": "597f9ded-2955-4ef6-8f0b-c3df929cace6",
         "x": [
          729.1390728476821,
          762.251655629139
         ],
         "y": [
          0,
          0
         ],
         "z": [
          0,
          0
         ]
        },
        {
         "hovertemplate": "BallAndStick2[0].dend(0.135762)<br>31.865",
         "line": {
          "color": "#639cff",
          "width": 2
         },
         "mode": "lines",
         "name": "",
         "type": "scatter3d",
         "uid": "0bf26546-bdf7-4c1b-bf3b-04e46e32553d",
         "x": [
          762.251655629139,
          795.3642384105959
         ],
         "y": [
          0,
          0
         ],
         "z": [
          0,
          0
         ]
        },
        {
         "hovertemplate": "BallAndStick2[0].dend(0.142384)<br>30.795",
         "line": {
          "color": "#5ea1ff",
          "width": 2
         },
         "mode": "lines",
         "name": "",
         "type": "scatter3d",
         "uid": "424da2a1-bdb9-4f28-9cb9-fd5cf9dcd85b",
         "x": [
          795.3642384105959,
          828.476821192053
         ],
         "y": [
          0,
          0
         ],
         "z": [
          0,
          0
         ]
        },
        {
         "hovertemplate": "BallAndStick2[0].dend(0.149007)<br>29.771",
         "line": {
          "color": "#59a6ff",
          "width": 2
         },
         "mode": "lines",
         "name": "",
         "type": "scatter3d",
         "uid": "94faa492-a60c-4323-8ca7-86e1e40ff6d6",
         "x": [
          828.476821192053,
          861.5894039735099
         ],
         "y": [
          0,
          0
         ],
         "z": [
          0,
          0
         ]
        },
        {
         "hovertemplate": "BallAndStick2[0].dend(0.155629)<br>28.790",
         "line": {
          "color": "#54abff",
          "width": 2
         },
         "mode": "lines",
         "name": "",
         "type": "scatter3d",
         "uid": "88d5b51b-a2ab-40c3-9cae-b21bdadbacb5",
         "x": [
          861.5894039735099,
          894.7019867549668
         ],
         "y": [
          0,
          0
         ],
         "z": [
          0,
          0
         ]
        },
        {
         "hovertemplate": "BallAndStick2[0].dend(0.162252)<br>27.853",
         "line": {
          "color": "#50afff",
          "width": 2
         },
         "mode": "lines",
         "name": "",
         "type": "scatter3d",
         "uid": "0c11ef23-d10e-48e6-88ba-805d13cb3937",
         "x": [
          894.7019867549668,
          927.8145695364237
         ],
         "y": [
          0,
          0
         ],
         "z": [
          0,
          0
         ]
        },
        {
         "hovertemplate": "BallAndStick2[0].dend(0.168874)<br>26.957",
         "line": {
          "color": "#4cb3ff",
          "width": 2
         },
         "mode": "lines",
         "name": "",
         "type": "scatter3d",
         "uid": "e84f85b6-5898-4221-99be-f8887ab46a5d",
         "x": [
          927.8145695364237,
          960.9271523178807
         ],
         "y": [
          0,
          0
         ],
         "z": [
          0,
          0
         ]
        },
        {
         "hovertemplate": "BallAndStick2[0].dend(0.175497)<br>26.101",
         "line": {
          "color": "#48b7ff",
          "width": 2
         },
         "mode": "lines",
         "name": "",
         "type": "scatter3d",
         "uid": "41eb0a07-cfad-442d-bbac-0ce1f8c071b9",
         "x": [
          960.9271523178807,
          994.0397350993377
         ],
         "y": [
          0,
          0
         ],
         "z": [
          0,
          0
         ]
        },
        {
         "hovertemplate": "BallAndStick2[0].dend(0.182119)<br>25.284",
         "line": {
          "color": "#44bbff",
          "width": 2
         },
         "mode": "lines",
         "name": "",
         "type": "scatter3d",
         "uid": "2d8af3f4-543d-41c1-8f5f-83eba03419e5",
         "x": [
          994.0397350993377,
          1027.1523178807947
         ],
         "y": [
          0,
          0
         ],
         "z": [
          0,
          0
         ]
        },
        {
         "hovertemplate": "BallAndStick2[0].dend(0.188742)<br>24.506",
         "line": {
          "color": "#40bfff",
          "width": 2
         },
         "mode": "lines",
         "name": "",
         "type": "scatter3d",
         "uid": "5e537cb7-7f20-4054-b8f4-0ad8ded04b4f",
         "x": [
          1027.1523178807947,
          1060.2649006622514
         ],
         "y": [
          0,
          0
         ],
         "z": [
          0,
          0
         ]
        },
        {
         "hovertemplate": "BallAndStick2[0].dend(0.195364)<br>23.763",
         "line": {
          "color": "#3cc2ff",
          "width": 2
         },
         "mode": "lines",
         "name": "",
         "type": "scatter3d",
         "uid": "4a581408-90c0-490a-8149-151604e16221",
         "x": [
          1060.2649006622514,
          1093.3774834437086
         ],
         "y": [
          0,
          0
         ],
         "z": [
          0,
          0
         ]
        },
        {
         "hovertemplate": "BallAndStick2[0].dend(0.201987)<br>23.056",
         "line": {
          "color": "#38c6ff",
          "width": 2
         },
         "mode": "lines",
         "name": "",
         "type": "scatter3d",
         "uid": "23c730d6-8287-451f-b329-5bc8e68c15e8",
         "x": [
          1093.3774834437086,
          1126.4900662251655
         ],
         "y": [
          0,
          0
         ],
         "z": [
          0,
          0
         ]
        },
        {
         "hovertemplate": "BallAndStick2[0].dend(0.208609)<br>22.382",
         "line": {
          "color": "#36c9ff",
          "width": 2
         },
         "mode": "lines",
         "name": "",
         "type": "scatter3d",
         "uid": "eea9163a-3a18-45c8-b55b-a3b7b01fb19e",
         "x": [
          1126.4900662251655,
          1159.6026490066224
         ],
         "y": [
          0,
          0
         ],
         "z": [
          0,
          0
         ]
        },
        {
         "hovertemplate": "BallAndStick2[0].dend(0.215232)<br>21.741",
         "line": {
          "color": "#33ccff",
          "width": 2
         },
         "mode": "lines",
         "name": "",
         "type": "scatter3d",
         "uid": "c4d8c815-28cf-4733-840c-44e4ec08283c",
         "x": [
          1159.6026490066224,
          1192.7152317880793
         ],
         "y": [
          0,
          0
         ],
         "z": [
          0,
          0
         ]
        },
        {
         "hovertemplate": "BallAndStick2[0].dend(0.221854)<br>21.131",
         "line": {
          "color": "#30cfff",
          "width": 2
         },
         "mode": "lines",
         "name": "",
         "type": "scatter3d",
         "uid": "0e6d75f6-b9aa-487c-846e-6796055cfc64",
         "x": [
          1192.7152317880793,
          1225.8278145695363
         ],
         "y": [
          0,
          0
         ],
         "z": [
          0,
          0
         ]
        },
        {
         "hovertemplate": "BallAndStick2[0].dend(0.228477)<br>20.552",
         "line": {
          "color": "#2cd2ff",
          "width": 2
         },
         "mode": "lines",
         "name": "",
         "type": "scatter3d",
         "uid": "38699527-7b16-442f-bcc6-2eec904a7f45",
         "x": [
          1225.8278145695363,
          1258.9403973509932
         ],
         "y": [
          0,
          0
         ],
         "z": [
          0,
          0
         ]
        },
        {
         "hovertemplate": "BallAndStick2[0].dend(0.235099)<br>20.001",
         "line": {
          "color": "#2bd3ff",
          "width": 2
         },
         "mode": "lines",
         "name": "",
         "type": "scatter3d",
         "uid": "3d056d7d-8070-4841-be9b-cb4283653168",
         "x": [
          1258.9403973509932,
          1292.05298013245
         ],
         "y": [
          0,
          0
         ],
         "z": [
          0,
          0
         ]
        },
        {
         "hovertemplate": "BallAndStick2[0].dend(0.241722)<br>19.478",
         "line": {
          "color": "#28d7ff",
          "width": 2
         },
         "mode": "lines",
         "name": "",
         "type": "scatter3d",
         "uid": "54a84b91-61e2-4882-bdda-ebf39d51ae5c",
         "x": [
          1292.05298013245,
          1325.1655629139073
         ],
         "y": [
          0,
          0
         ],
         "z": [
          0,
          0
         ]
        },
        {
         "hovertemplate": "BallAndStick2[0].dend(0.248344)<br>18.981",
         "line": {
          "color": "#26d9ff",
          "width": 2
         },
         "mode": "lines",
         "name": "",
         "type": "scatter3d",
         "uid": "daf77f0d-3a5f-43b7-8864-1afc076f91f2",
         "x": [
          1325.1655629139073,
          1358.2781456953642
         ],
         "y": [
          0,
          0
         ],
         "z": [
          0,
          0
         ]
        },
        {
         "hovertemplate": "BallAndStick2[0].dend(0.254967)<br>18.509",
         "line": {
          "color": "#24dbff",
          "width": 2
         },
         "mode": "lines",
         "name": "",
         "type": "scatter3d",
         "uid": "98986e5b-dd7c-45a2-b7ef-340bc4435eef",
         "x": [
          1358.2781456953642,
          1391.390728476821
         ],
         "y": [
          0,
          0
         ],
         "z": [
          0,
          0
         ]
        },
        {
         "hovertemplate": "BallAndStick2[0].dend(0.261589)<br>18.062",
         "line": {
          "color": "#22ddff",
          "width": 2
         },
         "mode": "lines",
         "name": "",
         "type": "scatter3d",
         "uid": "e0af2cab-b40b-4c8d-a974-bcbb0dc8ddc7",
         "x": [
          1391.390728476821,
          1424.503311258278
         ],
         "y": [
          0,
          0
         ],
         "z": [
          0,
          0
         ]
        },
        {
         "hovertemplate": "BallAndStick2[0].dend(0.268212)<br>17.656",
         "line": {
          "color": "#20dfff",
          "width": 2
         },
         "mode": "lines",
         "name": "",
         "type": "scatter3d",
         "uid": "d0fcfb62-8196-4503-9e46-d886edd7c32f",
         "x": [
          1424.503311258278,
          1457.615894039735
         ],
         "y": [
          0,
          0
         ],
         "z": [
          0,
          0
         ]
        },
        {
         "hovertemplate": "BallAndStick2[0].dend(0.274834)<br>17.356",
         "line": {
          "color": "#1ee1ff",
          "width": 2
         },
         "mode": "lines",
         "name": "",
         "type": "scatter3d",
         "uid": "f7acda30-bdc0-40d0-bf75-d86275eca057",
         "x": [
          1457.615894039735,
          1490.7284768211919
         ],
         "y": [
          0,
          0
         ],
         "z": [
          0,
          0
         ]
        },
        {
         "hovertemplate": "BallAndStick2[0].dend(0.281457)<br>17.066",
         "line": {
          "color": "#1de2ff",
          "width": 2
         },
         "mode": "lines",
         "name": "",
         "type": "scatter3d",
         "uid": "9f4e3a43-b3fc-40aa-96f5-4e6676ebf138",
         "x": [
          1490.7284768211919,
          1523.8410596026488
         ],
         "y": [
          0,
          0
         ],
         "z": [
          0,
          0
         ]
        },
        {
         "hovertemplate": "BallAndStick2[0].dend(0.288079)<br>16.785",
         "line": {
          "color": "#1ce3ff",
          "width": 2
         },
         "mode": "lines",
         "name": "",
         "type": "scatter3d",
         "uid": "80b24d4e-e156-41f7-b28b-14f1abd38a37",
         "x": [
          1523.8410596026488,
          1556.953642384106
         ],
         "y": [
          0,
          0
         ],
         "z": [
          0,
          0
         ]
        },
        {
         "hovertemplate": "BallAndStick2[0].dend(0.294702)<br>16.512",
         "line": {
          "color": "#1ae5ff",
          "width": 2
         },
         "mode": "lines",
         "name": "",
         "type": "scatter3d",
         "uid": "3adf1391-a671-4abc-a1e9-072d2aa09857",
         "x": [
          1556.953642384106,
          1590.0662251655629
         ],
         "y": [
          0,
          0
         ],
         "z": [
          0,
          0
         ]
        },
        {
         "hovertemplate": "BallAndStick2[0].dend(0.301325)<br>16.250",
         "line": {
          "color": "#19e6ff",
          "width": 2
         },
         "mode": "lines",
         "name": "",
         "type": "scatter3d",
         "uid": "3d4ff4a6-bd60-41fb-bfcf-490b78c851c2",
         "x": [
          1590.0662251655629,
          1623.1788079470198
         ],
         "y": [
          0,
          0
         ],
         "z": [
          0,
          0
         ]
        },
        {
         "hovertemplate": "BallAndStick2[0].dend(0.307947)<br>15.996",
         "line": {
          "color": "#18e7ff",
          "width": 2
         },
         "mode": "lines",
         "name": "",
         "type": "scatter3d",
         "uid": "034a834f-47ab-4968-9ab4-9a6b84a85422",
         "x": [
          1623.1788079470198,
          1656.2913907284767
         ],
         "y": [
          0,
          0
         ],
         "z": [
          0,
          0
         ]
        },
        {
         "hovertemplate": "BallAndStick2[0].dend(0.31457)<br>15.751",
         "line": {
          "color": "#17e8ff",
          "width": 2
         },
         "mode": "lines",
         "name": "",
         "type": "scatter3d",
         "uid": "8cc3849a-fbfd-4383-a5fc-f9ff742ed81c",
         "x": [
          1656.2913907284767,
          1689.4039735099336
         ],
         "y": [
          0,
          0
         ],
         "z": [
          0,
          0
         ]
        },
        {
         "hovertemplate": "BallAndStick2[0].dend(0.321192)<br>15.516",
         "line": {
          "color": "#16e9ff",
          "width": 2
         },
         "mode": "lines",
         "name": "",
         "type": "scatter3d",
         "uid": "6c62a6c2-071f-4236-b0f9-cdc9a2c1dcf7",
         "x": [
          1689.4039735099336,
          1722.5165562913905
         ],
         "y": [
          0,
          0
         ],
         "z": [
          0,
          0
         ]
        },
        {
         "hovertemplate": "BallAndStick2[0].dend(0.327815)<br>15.289",
         "line": {
          "color": "#15eaff",
          "width": 2
         },
         "mode": "lines",
         "name": "",
         "type": "scatter3d",
         "uid": "1d4e1e10-23e8-4d97-9975-490e925d8fc0",
         "x": [
          1722.5165562913905,
          1755.6291390728475
         ],
         "y": [
          0,
          0
         ],
         "z": [
          0,
          0
         ]
        },
        {
         "hovertemplate": "BallAndStick2[0].dend(0.334437)<br>15.070",
         "line": {
          "color": "#14ebff",
          "width": 2
         },
         "mode": "lines",
         "name": "",
         "type": "scatter3d",
         "uid": "a93cf989-9585-4adf-bc38-452b4a5c9dd1",
         "x": [
          1755.6291390728475,
          1788.7417218543044
         ],
         "y": [
          0,
          0
         ],
         "z": [
          0,
          0
         ]
        },
        {
         "hovertemplate": "BallAndStick2[0].dend(0.34106)<br>14.861",
         "line": {
          "color": "#13ecff",
          "width": 2
         },
         "mode": "lines",
         "name": "",
         "type": "scatter3d",
         "uid": "3f1301ba-50f4-49f0-a0e6-41aced2caab7",
         "x": [
          1788.7417218543044,
          1821.8543046357613
         ],
         "y": [
          0,
          0
         ],
         "z": [
          0,
          0
         ]
        },
        {
         "hovertemplate": "BallAndStick2[0].dend(0.347682)<br>14.659",
         "line": {
          "color": "#12edff",
          "width": 2
         },
         "mode": "lines",
         "name": "",
         "type": "scatter3d",
         "uid": "6d10d762-4b56-4934-99ce-4e9c122b9ab1",
         "x": [
          1821.8543046357613,
          1854.9668874172185
         ],
         "y": [
          0,
          0
         ],
         "z": [
          0,
          0
         ]
        },
        {
         "hovertemplate": "BallAndStick2[0].dend(0.354305)<br>14.466",
         "line": {
          "color": "#11eeff",
          "width": 2
         },
         "mode": "lines",
         "name": "",
         "type": "scatter3d",
         "uid": "b3a3b2a7-0515-4174-9f4b-69f9627bd94d",
         "x": [
          1854.9668874172185,
          1888.0794701986754
         ],
         "y": [
          0,
          0
         ],
         "z": [
          0,
          0
         ]
        },
        {
         "hovertemplate": "BallAndStick2[0].dend(0.360927)<br>14.280",
         "line": {
          "color": "#10efff",
          "width": 2
         },
         "mode": "lines",
         "name": "",
         "type": "scatter3d",
         "uid": "d2ad0a64-ceb9-464a-8510-051162d84799",
         "x": [
          1888.0794701986754,
          1921.1920529801323
         ],
         "y": [
          0,
          0
         ],
         "z": [
          0,
          0
         ]
        },
        {
         "hovertemplate": "BallAndStick2[0].dend(0.36755)<br>14.102",
         "line": {
          "color": "#0ff0ff",
          "width": 2
         },
         "mode": "lines",
         "name": "",
         "type": "scatter3d",
         "uid": "0afff335-edd4-4b91-96c0-34baf2e02b7a",
         "x": [
          1921.1920529801323,
          1954.3046357615892
         ],
         "y": [
          0,
          0
         ],
         "z": [
          0,
          0
         ]
        },
        {
         "hovertemplate": "BallAndStick2[0].dend(0.374172)<br>13.931",
         "line": {
          "color": "#0ef1ff",
          "width": 2
         },
         "mode": "lines",
         "name": "",
         "type": "scatter3d",
         "uid": "e32ddd2e-58dc-4172-8314-b890b6c507bb",
         "x": [
          1954.3046357615892,
          1987.4172185430461
         ],
         "y": [
          0,
          0
         ],
         "z": [
          0,
          0
         ]
        },
        {
         "hovertemplate": "BallAndStick2[0].dend(0.380795)<br>13.768",
         "line": {
          "color": "#0ef1ff",
          "width": 2
         },
         "mode": "lines",
         "name": "",
         "type": "scatter3d",
         "uid": "cd45acbb-b3d6-4cdc-996b-7ff8233eaf39",
         "x": [
          1987.4172185430461,
          2020.529801324503
         ],
         "y": [
          0,
          0
         ],
         "z": [
          0,
          0
         ]
        },
        {
         "hovertemplate": "BallAndStick2[0].dend(0.387417)<br>13.612",
         "line": {
          "color": "#0df2ff",
          "width": 2
         },
         "mode": "lines",
         "name": "",
         "type": "scatter3d",
         "uid": "2826fa25-740a-4de5-b3a4-768e96a43c4b",
         "x": [
          2020.529801324503,
          2053.64238410596
         ],
         "y": [
          0,
          0
         ],
         "z": [
          0,
          0
         ]
        },
        {
         "hovertemplate": "BallAndStick2[0].dend(0.39404)<br>13.462",
         "line": {
          "color": "#0cf3ff",
          "width": 2
         },
         "mode": "lines",
         "name": "",
         "type": "scatter3d",
         "uid": "97176fc0-ec7b-4255-a87b-404e9d4b6a66",
         "x": [
          2053.64238410596,
          2086.754966887417
         ],
         "y": [
          0,
          0
         ],
         "z": [
          0,
          0
         ]
        },
        {
         "hovertemplate": "BallAndStick2[0].dend(0.400662)<br>13.319",
         "line": {
          "color": "#0bf4ff",
          "width": 2
         },
         "mode": "lines",
         "name": "",
         "type": "scatter3d",
         "uid": "a5bbaaed-14eb-4ad4-bd0f-b7dc7b7b2b49",
         "x": [
          2086.754966887417,
          2119.867549668874
         ],
         "y": [
          0,
          0
         ],
         "z": [
          0,
          0
         ]
        },
        {
         "hovertemplate": "BallAndStick2[0].dend(0.407285)<br>13.183",
         "line": {
          "color": "#0bf4ff",
          "width": 2
         },
         "mode": "lines",
         "name": "",
         "type": "scatter3d",
         "uid": "54d797cf-1136-49e7-bc2d-db4dbae33961",
         "x": [
          2119.867549668874,
          2152.980132450331
         ],
         "y": [
          0,
          0
         ],
         "z": [
          0,
          0
         ]
        },
        {
         "hovertemplate": "BallAndStick2[0].dend(0.413907)<br>13.052",
         "line": {
          "color": "#0af5ff",
          "width": 2
         },
         "mode": "lines",
         "name": "",
         "type": "scatter3d",
         "uid": "92b7a9f2-3ee0-44ec-b80e-bd3a0857ef7c",
         "x": [
          2152.980132450331,
          2186.0927152317877
         ],
         "y": [
          0,
          0
         ],
         "z": [
          0,
          0
         ]
        },
        {
         "hovertemplate": "BallAndStick2[0].dend(0.42053)<br>12.928",
         "line": {
          "color": "#0af5ff",
          "width": 2
         },
         "mode": "lines",
         "name": "",
         "type": "scatter3d",
         "uid": "6909d9dd-219d-4398-a45d-2417d95a50a1",
         "x": [
          2186.0927152317877,
          2219.205298013245
         ],
         "y": [
          0,
          0
         ],
         "z": [
          0,
          0
         ]
        },
        {
         "hovertemplate": "BallAndStick2[0].dend(0.427152)<br>12.809",
         "line": {
          "color": "#09f6ff",
          "width": 2
         },
         "mode": "lines",
         "name": "",
         "type": "scatter3d",
         "uid": "8a1bd737-2528-4b71-a60b-d42a06fee72f",
         "x": [
          2219.205298013245,
          2252.317880794702
         ],
         "y": [
          0,
          0
         ],
         "z": [
          0,
          0
         ]
        },
        {
         "hovertemplate": "BallAndStick2[0].dend(0.433775)<br>12.708",
         "line": {
          "color": "#09f6ff",
          "width": 2
         },
         "mode": "lines",
         "name": "",
         "type": "scatter3d",
         "uid": "685875ed-7458-4335-9b24-6a899274a250",
         "x": [
          2252.317880794702,
          2285.4304635761587
         ],
         "y": [
          0,
          0
         ],
         "z": [
          0,
          0
         ]
        },
        {
         "hovertemplate": "BallAndStick2[0].dend(0.440397)<br>12.623",
         "line": {
          "color": "#08f7ff",
          "width": 2
         },
         "mode": "lines",
         "name": "",
         "type": "scatter3d",
         "uid": "d985828e-897d-445c-8fd4-3daa094e65b5",
         "x": [
          2285.4304635761587,
          2318.543046357616
         ],
         "y": [
          0,
          0
         ],
         "z": [
          0,
          0
         ]
        },
        {
         "hovertemplate": "BallAndStick2[0].dend(0.44702)<br>12.540",
         "line": {
          "color": "#08f7ff",
          "width": 2
         },
         "mode": "lines",
         "name": "",
         "type": "scatter3d",
         "uid": "ee56b5cc-5570-4681-ab15-e7173368bc99",
         "x": [
          2318.543046357616,
          2351.6556291390725
         ],
         "y": [
          0,
          0
         ],
         "z": [
          0,
          0
         ]
        },
        {
         "hovertemplate": "BallAndStick2[0].dend(0.453642)<br>12.461",
         "line": {
          "color": "#07f8ff",
          "width": 2
         },
         "mode": "lines",
         "name": "",
         "type": "scatter3d",
         "uid": "ca25b1f0-9fcd-4073-b94b-5eb9dc3529d5",
         "x": [
          2351.6556291390725,
          2384.7682119205297
         ],
         "y": [
          0,
          0
         ],
         "z": [
          0,
          0
         ]
        },
        {
         "hovertemplate": "BallAndStick2[0].dend(0.460265)<br>12.384",
         "line": {
          "color": "#07f8ff",
          "width": 2
         },
         "mode": "lines",
         "name": "",
         "type": "scatter3d",
         "uid": "50e97d35-710d-49c3-8521-cad85534939c",
         "x": [
          2384.7682119205297,
          2417.8807947019864
         ],
         "y": [
          0,
          0
         ],
         "z": [
          0,
          0
         ]
        },
        {
         "hovertemplate": "BallAndStick2[0].dend(0.466887)<br>12.310",
         "line": {
          "color": "#07f8ff",
          "width": 2
         },
         "mode": "lines",
         "name": "",
         "type": "scatter3d",
         "uid": "dd084d2a-1b8d-4e4d-93c9-38121c64a3d6",
         "x": [
          2417.8807947019864,
          2450.9933774834435
         ],
         "y": [
          0,
          0
         ],
         "z": [
          0,
          0
         ]
        },
        {
         "hovertemplate": "BallAndStick2[0].dend(0.47351)<br>12.238",
         "line": {
          "color": "#06f9ff",
          "width": 2
         },
         "mode": "lines",
         "name": "",
         "type": "scatter3d",
         "uid": "00e1718c-7ff5-442e-a4d1-49bb71eb810e",
         "x": [
          2450.9933774834435,
          2484.1059602649
         ],
         "y": [
          0,
          0
         ],
         "z": [
          0,
          0
         ]
        },
        {
         "hovertemplate": "BallAndStick2[0].dend(0.480132)<br>12.169",
         "line": {
          "color": "#06f9ff",
          "width": 2
         },
         "mode": "lines",
         "name": "",
         "type": "scatter3d",
         "uid": "b86e6ed6-6b60-4d06-947a-eceddbb72203",
         "x": [
          2484.1059602649,
          2517.2185430463574
         ],
         "y": [
          0,
          0
         ],
         "z": [
          0,
          0
         ]
        },
        {
         "hovertemplate": "BallAndStick2[0].dend(0.486755)<br>12.102",
         "line": {
          "color": "#06f9ff",
          "width": 2
         },
         "mode": "lines",
         "name": "",
         "type": "scatter3d",
         "uid": "1da9231b-2d03-4fd9-9d39-a2b80b194351",
         "x": [
          2517.2185430463574,
          2550.3311258278145
         ],
         "y": [
          0,
          0
         ],
         "z": [
          0,
          0
         ]
        },
        {
         "hovertemplate": "BallAndStick2[0].dend(0.493377)<br>12.038",
         "line": {
          "color": "#05faff",
          "width": 2
         },
         "mode": "lines",
         "name": "",
         "type": "scatter3d",
         "uid": "e96fdb1f-9fa2-4c1e-9d51-ae63ea323bd0",
         "x": [
          2550.3311258278145,
          2583.443708609271
         ],
         "y": [
          0,
          0
         ],
         "z": [
          0,
          0
         ]
        },
        {
         "hovertemplate": "BallAndStick2[0].dend(0.5)<br>11.976",
         "line": {
          "color": "#05faff",
          "width": 2
         },
         "mode": "lines",
         "name": "",
         "type": "scatter3d",
         "uid": "9d5878eb-0bad-4beb-9ff2-b1569599e844",
         "x": [
          2583.443708609271,
          2600,
          2616.5562913907283
         ],
         "y": [
          0,
          0,
          0
         ],
         "z": [
          0,
          0,
          0
         ]
        },
        {
         "hovertemplate": "BallAndStick2[0].dend(0.506623)<br>11.916",
         "line": {
          "color": "#05faff",
          "width": 2
         },
         "mode": "lines",
         "name": "",
         "type": "scatter3d",
         "uid": "9cb0a08e-8d33-410e-a5ff-f39777a482df",
         "x": [
          2616.5562913907283,
          2649.668874172185
         ],
         "y": [
          0,
          0
         ],
         "z": [
          0,
          0
         ]
        },
        {
         "hovertemplate": "BallAndStick2[0].dend(0.513245)<br>11.859",
         "line": {
          "color": "#05faff",
          "width": 2
         },
         "mode": "lines",
         "name": "",
         "type": "scatter3d",
         "uid": "e269ee0c-2eb6-4dfb-bb72-81cd0ce68ba7",
         "x": [
          2649.668874172185,
          2682.781456953642
         ],
         "y": [
          0,
          0
         ],
         "z": [
          0,
          0
         ]
        },
        {
         "hovertemplate": "BallAndStick2[0].dend(0.519868)<br>11.804",
         "line": {
          "color": "#04fbff",
          "width": 2
         },
         "mode": "lines",
         "name": "",
         "type": "scatter3d",
         "uid": "df679eb4-260c-4bff-85ef-9bf3cf37902e",
         "x": [
          2682.781456953642,
          2715.894039735099
         ],
         "y": [
          0,
          0
         ],
         "z": [
          0,
          0
         ]
        },
        {
         "hovertemplate": "BallAndStick2[0].dend(0.52649)<br>11.751",
         "line": {
          "color": "#04fbff",
          "width": 2
         },
         "mode": "lines",
         "name": "",
         "type": "scatter3d",
         "uid": "ba6e54b1-c5aa-4ed0-87fa-19ba2d4a223f",
         "x": [
          2715.894039735099,
          2749.006622516556
         ],
         "y": [
          0,
          0
         ],
         "z": [
          0,
          0
         ]
        },
        {
         "hovertemplate": "BallAndStick2[0].dend(0.533113)<br>11.701",
         "line": {
          "color": "#04fbff",
          "width": 2
         },
         "mode": "lines",
         "name": "",
         "type": "scatter3d",
         "uid": "39290f17-6e7a-46cd-857a-5528bbb15ddc",
         "x": [
          2749.006622516556,
          2782.119205298013
         ],
         "y": [
          0,
          0
         ],
         "z": [
          0,
          0
         ]
        },
        {
         "hovertemplate": "BallAndStick2[0].dend(0.539735)<br>11.652",
         "line": {
          "color": "#04fbff",
          "width": 2
         },
         "mode": "lines",
         "name": "",
         "type": "scatter3d",
         "uid": "83ee83dc-4925-454d-9de3-6d1b613911b3",
         "x": [
          2782.119205298013,
          2815.23178807947
         ],
         "y": [
          0,
          0
         ],
         "z": [
          0,
          0
         ]
        },
        {
         "hovertemplate": "BallAndStick2[0].dend(0.546358)<br>11.606",
         "line": {
          "color": "#03fcff",
          "width": 2
         },
         "mode": "lines",
         "name": "",
         "type": "scatter3d",
         "uid": "07041e13-eab0-45e6-a7bc-1f945178ac77",
         "x": [
          2815.23178807947,
          2848.344370860927
         ],
         "y": [
          0,
          0
         ],
         "z": [
          0,
          0
         ]
        },
        {
         "hovertemplate": "BallAndStick2[0].dend(0.55298)<br>11.561",
         "line": {
          "color": "#03fcff",
          "width": 2
         },
         "mode": "lines",
         "name": "",
         "type": "scatter3d",
         "uid": "8eac72e9-0b46-4a37-b4a0-8fbbba9d0907",
         "x": [
          2848.344370860927,
          2881.4569536423837
         ],
         "y": [
          0,
          0
         ],
         "z": [
          0,
          0
         ]
        },
        {
         "hovertemplate": "BallAndStick2[0].dend(0.559603)<br>11.518",
         "line": {
          "color": "#03fcff",
          "width": 2
         },
         "mode": "lines",
         "name": "",
         "type": "scatter3d",
         "uid": "5be25274-c723-464b-ac02-df97e876b6ef",
         "x": [
          2881.4569536423837,
          2914.569536423841
         ],
         "y": [
          0,
          0
         ],
         "z": [
          0,
          0
         ]
        },
        {
         "hovertemplate": "BallAndStick2[0].dend(0.566225)<br>11.477",
         "line": {
          "color": "#03fcff",
          "width": 2
         },
         "mode": "lines",
         "name": "",
         "type": "scatter3d",
         "uid": "04175f50-3ecc-4d63-9f98-47d3ef53f596",
         "x": [
          2914.569536423841,
          2947.6821192052976
         ],
         "y": [
          0,
          0
         ],
         "z": [
          0,
          0
         ]
        },
        {
         "hovertemplate": "BallAndStick2[0].dend(0.572848)<br>11.438",
         "line": {
          "color": "#03fcff",
          "width": 2
         },
         "mode": "lines",
         "name": "",
         "type": "scatter3d",
         "uid": "6324441a-9e22-4980-bd0e-694817da8a32",
         "x": [
          2947.6821192052976,
          2980.7947019867547
         ],
         "y": [
          0,
          0
         ],
         "z": [
          0,
          0
         ]
        },
        {
         "hovertemplate": "BallAndStick2[0].dend(0.57947)<br>11.401",
         "line": {
          "color": "#02fdff",
          "width": 2
         },
         "mode": "lines",
         "name": "",
         "type": "scatter3d",
         "uid": "abc106ea-7c27-4488-87dc-3cef81389b9f",
         "x": [
          2980.7947019867547,
          3013.907284768212
         ],
         "y": [
          0,
          0
         ],
         "z": [
          0,
          0
         ]
        },
        {
         "hovertemplate": "BallAndStick2[0].dend(0.586093)<br>11.373",
         "line": {
          "color": "#02fdff",
          "width": 2
         },
         "mode": "lines",
         "name": "",
         "type": "scatter3d",
         "uid": "6b2cc3d8-b327-4e3d-b50c-4940963a1084",
         "x": [
          3013.907284768212,
          3047.0198675496686
         ],
         "y": [
          0,
          0
         ],
         "z": [
          0,
          0
         ]
        },
        {
         "hovertemplate": "BallAndStick2[0].dend(0.592715)<br>11.345",
         "line": {
          "color": "#02fdff",
          "width": 2
         },
         "mode": "lines",
         "name": "",
         "type": "scatter3d",
         "uid": "9bcfc9d9-18ef-4f40-9628-1b31af629a04",
         "x": [
          3047.0198675496686,
          3080.1324503311257
         ],
         "y": [
          0,
          0
         ],
         "z": [
          0,
          0
         ]
        },
        {
         "hovertemplate": "BallAndStick2[0].dend(0.599338)<br>11.318",
         "line": {
          "color": "#02fdff",
          "width": 2
         },
         "mode": "lines",
         "name": "",
         "type": "scatter3d",
         "uid": "1560a10d-c4d2-4b8e-b612-00db68da44a0",
         "x": [
          3080.1324503311257,
          3113.2450331125824
         ],
         "y": [
          0,
          0
         ],
         "z": [
          0,
          0
         ]
        },
        {
         "hovertemplate": "BallAndStick2[0].dend(0.60596)<br>11.292",
         "line": {
          "color": "#02fdff",
          "width": 2
         },
         "mode": "lines",
         "name": "",
         "type": "scatter3d",
         "uid": "f88300b1-5707-463d-82c0-71c85db513e3",
         "x": [
          3113.2450331125824,
          3146.3576158940396
         ],
         "y": [
          0,
          0
         ],
         "z": [
          0,
          0
         ]
        },
        {
         "hovertemplate": "BallAndStick2[0].dend(0.612583)<br>11.267",
         "line": {
          "color": "#02fdff",
          "width": 2
         },
         "mode": "lines",
         "name": "",
         "type": "scatter3d",
         "uid": "d77a8e79-b3b7-4c2c-ba64-bc8aa9a11b33",
         "x": [
          3146.3576158940396,
          3179.4701986754962
         ],
         "y": [
          0,
          0
         ],
         "z": [
          0,
          0
         ]
        },
        {
         "hovertemplate": "BallAndStick2[0].dend(0.619205)<br>11.243",
         "line": {
          "color": "#02fdff",
          "width": 2
         },
         "mode": "lines",
         "name": "",
         "type": "scatter3d",
         "uid": "54d8efee-0bdb-4961-bc5a-e3f176d29f55",
         "x": [
          3179.4701986754962,
          3212.5827814569534
         ],
         "y": [
          0,
          0
         ],
         "z": [
          0,
          0
         ]
        },
        {
         "hovertemplate": "BallAndStick2[0].dend(0.625828)<br>11.219",
         "line": {
          "color": "#02fdff",
          "width": 2
         },
         "mode": "lines",
         "name": "",
         "type": "scatter3d",
         "uid": "e3dd43b5-6f91-43ce-af6e-02260c89141d",
         "x": [
          3212.5827814569534,
          3245.69536423841
         ],
         "y": [
          0,
          0
         ],
         "z": [
          0,
          0
         ]
        },
        {
         "hovertemplate": "BallAndStick2[0].dend(0.63245)<br>11.197",
         "line": {
          "color": "#01feff",
          "width": 2
         },
         "mode": "lines",
         "name": "",
         "type": "scatter3d",
         "uid": "b84a320d-1603-41bc-960e-5abecb208ccb",
         "x": [
          3245.69536423841,
          3278.8079470198672
         ],
         "y": [
          0,
          0
         ],
         "z": [
          0,
          0
         ]
        },
        {
         "hovertemplate": "BallAndStick2[0].dend(0.639073)<br>11.175",
         "line": {
          "color": "#01feff",
          "width": 2
         },
         "mode": "lines",
         "name": "",
         "type": "scatter3d",
         "uid": "9501eb9a-7436-45b0-a1af-534ef428bd5b",
         "x": [
          3278.8079470198672,
          3311.9205298013244
         ],
         "y": [
          0,
          0
         ],
         "z": [
          0,
          0
         ]
        },
        {
         "hovertemplate": "BallAndStick2[0].dend(0.645695)<br>11.154",
         "line": {
          "color": "#01feff",
          "width": 2
         },
         "mode": "lines",
         "name": "",
         "type": "scatter3d",
         "uid": "7c9598c5-32a6-42e3-a5cf-8ebf0bfe2141",
         "x": [
          3311.9205298013244,
          3345.033112582781
         ],
         "y": [
          0,
          0
         ],
         "z": [
          0,
          0
         ]
        },
        {
         "hovertemplate": "BallAndStick2[0].dend(0.652318)<br>11.134",
         "line": {
          "color": "#01feff",
          "width": 2
         },
         "mode": "lines",
         "name": "",
         "type": "scatter3d",
         "uid": "66077491-0545-4de2-b533-e465473a369d",
         "x": [
          3345.033112582781,
          3378.1456953642382
         ],
         "y": [
          0,
          0
         ],
         "z": [
          0,
          0
         ]
        },
        {
         "hovertemplate": "BallAndStick2[0].dend(0.65894)<br>11.115",
         "line": {
          "color": "#01feff",
          "width": 2
         },
         "mode": "lines",
         "name": "",
         "type": "scatter3d",
         "uid": "64de065a-2467-42b3-860a-190c0fba8f03",
         "x": [
          3378.1456953642382,
          3411.258278145695
         ],
         "y": [
          0,
          0
         ],
         "z": [
          0,
          0
         ]
        },
        {
         "hovertemplate": "BallAndStick2[0].dend(0.665563)<br>11.096",
         "line": {
          "color": "#01feff",
          "width": 2
         },
         "mode": "lines",
         "name": "",
         "type": "scatter3d",
         "uid": "e0ce8b95-1c65-415b-a228-511cae2624b3",
         "x": [
          3411.258278145695,
          3444.370860927152
         ],
         "y": [
          0,
          0
         ],
         "z": [
          0,
          0
         ]
        },
        {
         "hovertemplate": "BallAndStick2[0].dend(0.672185)<br>11.078",
         "line": {
          "color": "#01feff",
          "width": 2
         },
         "mode": "lines",
         "name": "",
         "type": "scatter3d",
         "uid": "b0cccc68-a394-4e72-b375-38100a2ead2b",
         "x": [
          3444.370860927152,
          3477.483443708609
         ],
         "y": [
          0,
          0
         ],
         "z": [
          0,
          0
         ]
        },
        {
         "hovertemplate": "BallAndStick2[0].dend(0.678808)<br>11.061",
         "line": {
          "color": "#01feff",
          "width": 2
         },
         "mode": "lines",
         "name": "",
         "type": "scatter3d",
         "uid": "91639cd9-01c3-4a6e-8743-6f84b2bb3f25",
         "x": [
          3477.483443708609,
          3510.596026490066
         ],
         "y": [
          0,
          0
         ],
         "z": [
          0,
          0
         ]
        },
        {
         "hovertemplate": "BallAndStick2[0].dend(0.68543)<br>11.045",
         "line": {
          "color": "#01feff",
          "width": 2
         },
         "mode": "lines",
         "name": "",
         "type": "scatter3d",
         "uid": "c2b02025-dca1-4eaa-b570-b43b1459260d",
         "x": [
          3510.596026490066,
          3543.7086092715226
         ],
         "y": [
          0,
          0
         ],
         "z": [
          0,
          0
         ]
        },
        {
         "hovertemplate": "BallAndStick2[0].dend(0.692053)<br>11.029",
         "line": {
          "color": "#01feff",
          "width": 2
         },
         "mode": "lines",
         "name": "",
         "type": "scatter3d",
         "uid": "826b5b4e-1277-4e2e-92b0-981f01ad6148",
         "x": [
          3543.7086092715226,
          3576.8211920529798
         ],
         "y": [
          0,
          0
         ],
         "z": [
          0,
          0
         ]
        },
        {
         "hovertemplate": "BallAndStick2[0].dend(0.698675)<br>11.014",
         "line": {
          "color": "#01feff",
          "width": 2
         },
         "mode": "lines",
         "name": "",
         "type": "scatter3d",
         "uid": "51b0ed93-76ce-4ef9-8540-1460bcee5f37",
         "x": [
          3576.8211920529798,
          3609.933774834437
         ],
         "y": [
          0,
          0
         ],
         "z": [
          0,
          0
         ]
        },
        {
         "hovertemplate": "BallAndStick2[0].dend(0.705298)<br>11.000",
         "line": {
          "color": "#01feff",
          "width": 2
         },
         "mode": "lines",
         "name": "",
         "type": "scatter3d",
         "uid": "a9e3d076-be0a-42ff-be00-2322fe0156ac",
         "x": [
          3609.933774834437,
          3643.0463576158936
         ],
         "y": [
          0,
          0
         ],
         "z": [
          0,
          0
         ]
        },
        {
         "hovertemplate": "BallAndStick2[0].dend(0.711921)<br>10.986",
         "line": {
          "color": "#00ffff",
          "width": 2
         },
         "mode": "lines",
         "name": "",
         "type": "scatter3d",
         "uid": "e8abeee7-e325-4b58-bb98-927628804fce",
         "x": [
          3643.0463576158936,
          3676.1589403973508
         ],
         "y": [
          0,
          0
         ],
         "z": [
          0,
          0
         ]
        },
        {
         "hovertemplate": "BallAndStick2[0].dend(0.718543)<br>10.973",
         "line": {
          "color": "#00ffff",
          "width": 2
         },
         "mode": "lines",
         "name": "",
         "type": "scatter3d",
         "uid": "e4bdc6f8-8d7f-41db-bcd1-6f1d11c2699b",
         "x": [
          3676.1589403973508,
          3709.2715231788075
         ],
         "y": [
          0,
          0
         ],
         "z": [
          0,
          0
         ]
        },
        {
         "hovertemplate": "BallAndStick2[0].dend(0.725166)<br>10.961",
         "line": {
          "color": "#00ffff",
          "width": 2
         },
         "mode": "lines",
         "name": "",
         "type": "scatter3d",
         "uid": "409722a7-6449-4b1b-991e-b6a096126ac4",
         "x": [
          3709.2715231788075,
          3742.3841059602646
         ],
         "y": [
          0,
          0
         ],
         "z": [
          0,
          0
         ]
        },
        {
         "hovertemplate": "BallAndStick2[0].dend(0.731788)<br>10.951",
         "line": {
          "color": "#00ffff",
          "width": 2
         },
         "mode": "lines",
         "name": "",
         "type": "scatter3d",
         "uid": "a31164a9-8129-4d51-893e-2d8336d426fe",
         "x": [
          3742.3841059602646,
          3775.4966887417213
         ],
         "y": [
          0,
          0
         ],
         "z": [
          0,
          0
         ]
        },
        {
         "hovertemplate": "BallAndStick2[0].dend(0.738411)<br>10.942",
         "line": {
          "color": "#00ffff",
          "width": 2
         },
         "mode": "lines",
         "name": "",
         "type": "scatter3d",
         "uid": "cee88734-81e1-44ed-a813-f74edd7b4552",
         "x": [
          3775.4966887417213,
          3808.6092715231784
         ],
         "y": [
          0,
          0
         ],
         "z": [
          0,
          0
         ]
        },
        {
         "hovertemplate": "BallAndStick2[0].dend(0.745033)<br>10.933",
         "line": {
          "color": "#00ffff",
          "width": 2
         },
         "mode": "lines",
         "name": "",
         "type": "scatter3d",
         "uid": "7d3b4414-6b82-495f-a57c-e4b6619b96f5",
         "x": [
          3808.6092715231784,
          3841.7218543046356
         ],
         "y": [
          0,
          0
         ],
         "z": [
          0,
          0
         ]
        },
        {
         "hovertemplate": "BallAndStick2[0].dend(0.751656)<br>10.924",
         "line": {
          "color": "#00ffff",
          "width": 2
         },
         "mode": "lines",
         "name": "",
         "type": "scatter3d",
         "uid": "e32b7c3a-c7bc-43b0-a873-272eb6bdaa46",
         "x": [
          3841.7218543046356,
          3874.8344370860923
         ],
         "y": [
          0,
          0
         ],
         "z": [
          0,
          0
         ]
        },
        {
         "hovertemplate": "BallAndStick2[0].dend(0.758278)<br>10.915",
         "line": {
          "color": "#00ffff",
          "width": 2
         },
         "mode": "lines",
         "name": "",
         "type": "scatter3d",
         "uid": "4a3388de-21c6-4715-bad4-0300a88ea5ed",
         "x": [
          3874.8344370860923,
          3907.9470198675494
         ],
         "y": [
          0,
          0
         ],
         "z": [
          0,
          0
         ]
        },
        {
         "hovertemplate": "BallAndStick2[0].dend(0.764901)<br>10.907",
         "line": {
          "color": "#00ffff",
          "width": 2
         },
         "mode": "lines",
         "name": "",
         "type": "scatter3d",
         "uid": "7aa7031f-8e0a-4c8e-8153-1e3eea6bfd78",
         "x": [
          3907.9470198675494,
          3941.059602649006
         ],
         "y": [
          0,
          0
         ],
         "z": [
          0,
          0
         ]
        },
        {
         "hovertemplate": "BallAndStick2[0].dend(0.771523)<br>10.899",
         "line": {
          "color": "#00ffff",
          "width": 2
         },
         "mode": "lines",
         "name": "",
         "type": "scatter3d",
         "uid": "8db16580-6cee-47c7-bede-df1c409949db",
         "x": [
          3941.059602649006,
          3974.1721854304633
         ],
         "y": [
          0,
          0
         ],
         "z": [
          0,
          0
         ]
        },
        {
         "hovertemplate": "BallAndStick2[0].dend(0.778146)<br>10.891",
         "line": {
          "color": "#00ffff",
          "width": 2
         },
         "mode": "lines",
         "name": "",
         "type": "scatter3d",
         "uid": "b69c83c0-7bd7-4b5f-9e39-f43c2398cfac",
         "x": [
          3974.1721854304633,
          4007.28476821192
         ],
         "y": [
          0,
          0
         ],
         "z": [
          0,
          0
         ]
        },
        {
         "hovertemplate": "BallAndStick2[0].dend(0.784768)<br>10.884",
         "line": {
          "color": "#00ffff",
          "width": 2
         },
         "mode": "lines",
         "name": "",
         "type": "scatter3d",
         "uid": "c69c916a-59c8-49da-9aa0-3f67c1dc6041",
         "x": [
          4007.28476821192,
          4040.397350993377
         ],
         "y": [
          0,
          0
         ],
         "z": [
          0,
          0
         ]
        },
        {
         "hovertemplate": "BallAndStick2[0].dend(0.791391)<br>10.877",
         "line": {
          "color": "#00ffff",
          "width": 2
         },
         "mode": "lines",
         "name": "",
         "type": "scatter3d",
         "uid": "66b85035-282c-4283-b1af-9cdb3a2eb7a3",
         "x": [
          4040.397350993377,
          4073.5099337748343
         ],
         "y": [
          0,
          0
         ],
         "z": [
          0,
          0
         ]
        },
        {
         "hovertemplate": "BallAndStick2[0].dend(0.798013)<br>10.870",
         "line": {
          "color": "#00ffff",
          "width": 2
         },
         "mode": "lines",
         "name": "",
         "type": "scatter3d",
         "uid": "b2aa76a1-19b1-4d9a-8a97-9f1e251399eb",
         "x": [
          4073.5099337748343,
          4106.622516556291
         ],
         "y": [
          0,
          0
         ],
         "z": [
          0,
          0
         ]
        },
        {
         "hovertemplate": "BallAndStick2[0].dend(0.804636)<br>10.864",
         "line": {
          "color": "#00ffff",
          "width": 2
         },
         "mode": "lines",
         "name": "",
         "type": "scatter3d",
         "uid": "9f16d83a-71c8-4e85-9018-65efe165f042",
         "x": [
          4106.622516556291,
          4139.735099337748
         ],
         "y": [
          0,
          0
         ],
         "z": [
          0,
          0
         ]
        },
        {
         "hovertemplate": "BallAndStick2[0].dend(0.811258)<br>10.857",
         "line": {
          "color": "#00ffff",
          "width": 2
         },
         "mode": "lines",
         "name": "",
         "type": "scatter3d",
         "uid": "89c1a6ba-e9a2-471b-9b48-5ccf7413b2af",
         "x": [
          4139.735099337748,
          4172.847682119205
         ],
         "y": [
          0,
          0
         ],
         "z": [
          0,
          0
         ]
        },
        {
         "hovertemplate": "BallAndStick2[0].dend(0.817881)<br>10.852",
         "line": {
          "color": "#00ffff",
          "width": 2
         },
         "mode": "lines",
         "name": "",
         "type": "scatter3d",
         "uid": "edf7fe12-b326-453e-b5ce-02527591e203",
         "x": [
          4172.847682119205,
          4205.960264900662
         ],
         "y": [
          0,
          0
         ],
         "z": [
          0,
          0
         ]
        },
        {
         "hovertemplate": "BallAndStick2[0].dend(0.824503)<br>10.846",
         "line": {
          "color": "#00ffff",
          "width": 2
         },
         "mode": "lines",
         "name": "",
         "type": "scatter3d",
         "uid": "b355a39e-eacf-4d86-bf67-18fdf94e9082",
         "x": [
          4205.960264900662,
          4239.072847682119
         ],
         "y": [
          0,
          0
         ],
         "z": [
          0,
          0
         ]
        },
        {
         "hovertemplate": "BallAndStick2[0].dend(0.831126)<br>10.841",
         "line": {
          "color": "#00ffff",
          "width": 2
         },
         "mode": "lines",
         "name": "",
         "type": "scatter3d",
         "uid": "7f57c990-7889-4557-834f-b4092e2979a6",
         "x": [
          4239.072847682119,
          4272.185430463575
         ],
         "y": [
          0,
          0
         ],
         "z": [
          0,
          0
         ]
        },
        {
         "hovertemplate": "BallAndStick2[0].dend(0.837748)<br>10.835",
         "line": {
          "color": "#00ffff",
          "width": 2
         },
         "mode": "lines",
         "name": "",
         "type": "scatter3d",
         "uid": "f684a637-db3a-463c-b9e7-51fc0037cad6",
         "x": [
          4272.185430463575,
          4305.298013245033
         ],
         "y": [
          0,
          0
         ],
         "z": [
          0,
          0
         ]
        },
        {
         "hovertemplate": "BallAndStick2[0].dend(0.844371)<br>10.831",
         "line": {
          "color": "#00ffff",
          "width": 2
         },
         "mode": "lines",
         "name": "",
         "type": "scatter3d",
         "uid": "15a38bcd-4a45-45c7-aada-5fd14a94864a",
         "x": [
          4305.298013245033,
          4338.41059602649
         ],
         "y": [
          0,
          0
         ],
         "z": [
          0,
          0
         ]
        },
        {
         "hovertemplate": "BallAndStick2[0].dend(0.850993)<br>10.826",
         "line": {
          "color": "#00ffff",
          "width": 2
         },
         "mode": "lines",
         "name": "",
         "type": "scatter3d",
         "uid": "b85a6256-2959-4028-b810-45c29a4255e2",
         "x": [
          4338.41059602649,
          4371.523178807946
         ],
         "y": [
          0,
          0
         ],
         "z": [
          0,
          0
         ]
        },
        {
         "hovertemplate": "BallAndStick2[0].dend(0.857616)<br>10.821",
         "line": {
          "color": "#00ffff",
          "width": 2
         },
         "mode": "lines",
         "name": "",
         "type": "scatter3d",
         "uid": "0ea7c984-149a-4a29-badc-89b91bb69d10",
         "x": [
          4371.523178807946,
          4404.635761589404
         ],
         "y": [
          0,
          0
         ],
         "z": [
          0,
          0
         ]
        },
        {
         "hovertemplate": "BallAndStick2[0].dend(0.864238)<br>10.817",
         "line": {
          "color": "#00ffff",
          "width": 2
         },
         "mode": "lines",
         "name": "",
         "type": "scatter3d",
         "uid": "0e778fb3-d638-430c-977e-eb8a6915f39e",
         "x": [
          4404.635761589404,
          4437.748344370861
         ],
         "y": [
          0,
          0
         ],
         "z": [
          0,
          0
         ]
        },
        {
         "hovertemplate": "BallAndStick2[0].dend(0.870861)<br>10.813",
         "line": {
          "color": "#00ffff",
          "width": 2
         },
         "mode": "lines",
         "name": "",
         "type": "scatter3d",
         "uid": "0a180884-6d98-4394-8b8a-fe4ac7723071",
         "x": [
          4437.748344370861,
          4470.860927152317
         ],
         "y": [
          0,
          0
         ],
         "z": [
          0,
          0
         ]
        },
        {
         "hovertemplate": "BallAndStick2[0].dend(0.877483)<br>10.810",
         "line": {
          "color": "#00ffff",
          "width": 2
         },
         "mode": "lines",
         "name": "",
         "type": "scatter3d",
         "uid": "10724a2d-6529-4b15-bbe3-8657966b0279",
         "x": [
          4470.860927152317,
          4503.973509933774
         ],
         "y": [
          0,
          0
         ],
         "z": [
          0,
          0
         ]
        },
        {
         "hovertemplate": "BallAndStick2[0].dend(0.884106)<br>10.806",
         "line": {
          "color": "#00ffff",
          "width": 2
         },
         "mode": "lines",
         "name": "",
         "type": "scatter3d",
         "uid": "fd4b36b3-cd2a-454a-98eb-7a5d62a3a72e",
         "x": [
          4503.973509933774,
          4537.086092715232
         ],
         "y": [
          0,
          0
         ],
         "z": [
          0,
          0
         ]
        },
        {
         "hovertemplate": "BallAndStick2[0].dend(0.890728)<br>10.803",
         "line": {
          "color": "#00ffff",
          "width": 2
         },
         "mode": "lines",
         "name": "",
         "type": "scatter3d",
         "uid": "f744efc2-7711-4e42-8225-fcbc64db49ec",
         "x": [
          4537.086092715232,
          4570.198675496688
         ],
         "y": [
          0,
          0
         ],
         "z": [
          0,
          0
         ]
        },
        {
         "hovertemplate": "BallAndStick2[0].dend(0.897351)<br>10.799",
         "line": {
          "color": "#00ffff",
          "width": 2
         },
         "mode": "lines",
         "name": "",
         "type": "scatter3d",
         "uid": "ccd62d7a-5fdb-406d-807d-cb215d2e7c02",
         "x": [
          4570.198675496688,
          4603.311258278145
         ],
         "y": [
          0,
          0
         ],
         "z": [
          0,
          0
         ]
        },
        {
         "hovertemplate": "BallAndStick2[0].dend(0.903974)<br>10.796",
         "line": {
          "color": "#00ffff",
          "width": 2
         },
         "mode": "lines",
         "name": "",
         "type": "scatter3d",
         "uid": "b68e265f-c3ac-4256-9746-f9b81a7294a0",
         "x": [
          4603.311258278145,
          4636.423841059603
         ],
         "y": [
          0,
          0
         ],
         "z": [
          0,
          0
         ]
        },
        {
         "hovertemplate": "BallAndStick2[0].dend(0.910596)<br>10.794",
         "line": {
          "color": "#00ffff",
          "width": 2
         },
         "mode": "lines",
         "name": "",
         "type": "scatter3d",
         "uid": "154a97db-67af-44d7-a7e9-d6888b06de1e",
         "x": [
          4636.423841059603,
          4669.536423841059
         ],
         "y": [
          0,
          0
         ],
         "z": [
          0,
          0
         ]
        },
        {
         "hovertemplate": "BallAndStick2[0].dend(0.917219)<br>10.791",
         "line": {
          "color": "#00ffff",
          "width": 2
         },
         "mode": "lines",
         "name": "",
         "type": "scatter3d",
         "uid": "044028b0-4c42-43b8-9f13-471cc4785c98",
         "x": [
          4669.536423841059,
          4702.649006622516
         ],
         "y": [
          0,
          0
         ],
         "z": [
          0,
          0
         ]
        },
        {
         "hovertemplate": "BallAndStick2[0].dend(0.923841)<br>10.789",
         "line": {
          "color": "#00ffff",
          "width": 2
         },
         "mode": "lines",
         "name": "",
         "type": "scatter3d",
         "uid": "db315594-cd2e-4ac1-8fd3-7b2c42b6c714",
         "x": [
          4702.649006622516,
          4735.761589403973
         ],
         "y": [
          0,
          0
         ],
         "z": [
          0,
          0
         ]
        },
        {
         "hovertemplate": "BallAndStick2[0].dend(0.930464)<br>10.786",
         "line": {
          "color": "#00ffff",
          "width": 2
         },
         "mode": "lines",
         "name": "",
         "type": "scatter3d",
         "uid": "39364ce3-3daa-44c5-9e05-f4023112ab4a",
         "x": [
          4735.761589403973,
          4768.87417218543
         ],
         "y": [
          0,
          0
         ],
         "z": [
          0,
          0
         ]
        },
        {
         "hovertemplate": "BallAndStick2[0].dend(0.937086)<br>10.784",
         "line": {
          "color": "#00ffff",
          "width": 2
         },
         "mode": "lines",
         "name": "",
         "type": "scatter3d",
         "uid": "6058f2e4-75a5-4c15-b58d-49196980166d",
         "x": [
          4768.87417218543,
          4801.986754966887
         ],
         "y": [
          0,
          0
         ],
         "z": [
          0,
          0
         ]
        },
        {
         "hovertemplate": "BallAndStick2[0].dend(0.943709)<br>10.782",
         "line": {
          "color": "#00ffff",
          "width": 2
         },
         "mode": "lines",
         "name": "",
         "type": "scatter3d",
         "uid": "1d686a72-1abe-4fe4-ac5d-354e43c07224",
         "x": [
          4801.986754966887,
          4835.099337748344
         ],
         "y": [
          0,
          0
         ],
         "z": [
          0,
          0
         ]
        },
        {
         "hovertemplate": "BallAndStick2[0].dend(0.950331)<br>10.780",
         "line": {
          "color": "#00ffff",
          "width": 2
         },
         "mode": "lines",
         "name": "",
         "type": "scatter3d",
         "uid": "6b10b637-4cb1-4757-a133-2deade6fbcf8",
         "x": [
          4835.099337748344,
          4868.2119205298
         ],
         "y": [
          0,
          0
         ],
         "z": [
          0,
          0
         ]
        },
        {
         "hovertemplate": "BallAndStick2[0].dend(0.956954)<br>10.779",
         "line": {
          "color": "#00ffff",
          "width": 2
         },
         "mode": "lines",
         "name": "",
         "type": "scatter3d",
         "uid": "6310fb9e-699b-4f59-a375-9cf15abcbff6",
         "x": [
          4868.2119205298,
          4901.324503311258
         ],
         "y": [
          0,
          0
         ],
         "z": [
          0,
          0
         ]
        },
        {
         "hovertemplate": "BallAndStick2[0].dend(0.963576)<br>10.777",
         "line": {
          "color": "#00ffff",
          "width": 2
         },
         "mode": "lines",
         "name": "",
         "type": "scatter3d",
         "uid": "2e9165a7-a9d9-48ea-9392-795a550d79f7",
         "x": [
          4901.324503311258,
          4934.437086092715
         ],
         "y": [
          0,
          0
         ],
         "z": [
          0,
          0
         ]
        },
        {
         "hovertemplate": "BallAndStick2[0].dend(0.970199)<br>10.780",
         "line": {
          "color": "#00ffff",
          "width": 2
         },
         "mode": "lines",
         "name": "",
         "type": "scatter3d",
         "uid": "01361d5e-bd84-4d37-8023-b6315646e5db",
         "x": [
          4934.437086092715,
          4967.549668874171
         ],
         "y": [
          0,
          0
         ],
         "z": [
          0,
          0
         ]
        },
        {
         "hovertemplate": "BallAndStick2[0].dend(0.976821)<br>10.792",
         "line": {
          "color": "#00ffff",
          "width": 2
         },
         "mode": "lines",
         "name": "",
         "type": "scatter3d",
         "uid": "d485e738-a12c-4354-bdb6-55289aa042f9",
         "x": [
          4967.549668874171,
          5000.662251655629
         ],
         "y": [
          0,
          0
         ],
         "z": [
          0,
          0
         ]
        },
        {
         "hovertemplate": "BallAndStick2[0].dend(0.983444)<br>10.805",
         "line": {
          "color": "#00ffff",
          "width": 2
         },
         "mode": "lines",
         "name": "",
         "type": "scatter3d",
         "uid": "0af96ac9-9b25-4108-86b4-89a766d16386",
         "x": [
          5000.662251655629,
          5033.774834437086
         ],
         "y": [
          0,
          0
         ],
         "z": [
          0,
          0
         ]
        },
        {
         "hovertemplate": "BallAndStick2[0].dend(0.990066)<br>10.817",
         "line": {
          "color": "#00ffff",
          "width": 2
         },
         "mode": "lines",
         "name": "",
         "type": "scatter3d",
         "uid": "28664d67-f59e-43be-8332-2a1f186a94d7",
         "x": [
          5033.774834437086,
          5066.887417218542
         ],
         "y": [
          0,
          0
         ],
         "z": [
          0,
          0
         ]
        },
        {
         "hovertemplate": "BallAndStick2[0].dend(0.996689)<br>10.830",
         "line": {
          "color": "#00ffff",
          "width": 2
         },
         "mode": "lines",
         "name": "",
         "type": "scatter3d",
         "uid": "436609b0-ab9f-4818-a551-230a5cae59ab",
         "x": [
          5066.887417218542,
          5099.999999999999
         ],
         "y": [
          0,
          0
         ],
         "z": [
          0,
          0
         ]
        },
        {
         "hovertemplate": "BallAndStick2[0].dend2(0.00331126)<br>10.844",
         "line": {
          "color": "#00ffff",
          "width": 2
         },
         "mode": "lines",
         "name": "",
         "type": "scatter3d",
         "uid": "a479e6aa-a225-4734-bcbf-270c6ad5e08a",
         "x": [
          5100,
          5133.112582781457
         ],
         "y": [
          0,
          0
         ],
         "z": [
          0,
          0
         ]
        },
        {
         "hovertemplate": "BallAndStick2[0].dend2(0.00993377)<br>10.857",
         "line": {
          "color": "#00ffff",
          "width": 2
         },
         "mode": "lines",
         "name": "",
         "type": "scatter3d",
         "uid": "1ba687cc-efcf-4689-abb3-5a146e9882e0",
         "x": [
          5133.112582781457,
          5166.225165562914
         ],
         "y": [
          0,
          0
         ],
         "z": [
          0,
          0
         ]
        },
        {
         "hovertemplate": "BallAndStick2[0].dend2(0.0165563)<br>10.870",
         "line": {
          "color": "#00ffff",
          "width": 2
         },
         "mode": "lines",
         "name": "",
         "type": "scatter3d",
         "uid": "919c4f7d-7f8f-472f-9068-a7dad618133a",
         "x": [
          5166.225165562914,
          5199.337748344371
         ],
         "y": [
          0,
          0
         ],
         "z": [
          0,
          0
         ]
        },
        {
         "hovertemplate": "BallAndStick2[0].dend2(0.0231788)<br>10.884",
         "line": {
          "color": "#00ffff",
          "width": 2
         },
         "mode": "lines",
         "name": "",
         "type": "scatter3d",
         "uid": "428ed978-72ac-4629-8e25-56ed460611b8",
         "x": [
          5199.337748344371,
          5232.450331125828
         ],
         "y": [
          0,
          0
         ],
         "z": [
          0,
          0
         ]
        },
        {
         "hovertemplate": "BallAndStick2[0].dend2(0.0298013)<br>10.898",
         "line": {
          "color": "#00ffff",
          "width": 2
         },
         "mode": "lines",
         "name": "",
         "type": "scatter3d",
         "uid": "4073c3d0-6e03-4601-bdfe-72cc0029a9d3",
         "x": [
          5232.450331125828,
          5265.562913907284
         ],
         "y": [
          0,
          0
         ],
         "z": [
          0,
          0
         ]
        },
        {
         "hovertemplate": "BallAndStick2[0].dend2(0.0364238)<br>10.913",
         "line": {
          "color": "#00ffff",
          "width": 2
         },
         "mode": "lines",
         "name": "",
         "type": "scatter3d",
         "uid": "41d0168c-fa19-46a8-9bc1-84bf3d280d96",
         "x": [
          5265.562913907284,
          5298.675496688742
         ],
         "y": [
          0,
          0
         ],
         "z": [
          0,
          0
         ]
        },
        {
         "hovertemplate": "BallAndStick2[0].dend2(0.0430464)<br>10.927",
         "line": {
          "color": "#00ffff",
          "width": 2
         },
         "mode": "lines",
         "name": "",
         "type": "scatter3d",
         "uid": "16346a9b-262a-423c-9e03-6261de781332",
         "x": [
          5298.675496688742,
          5331.788079470199
         ],
         "y": [
          0,
          0
         ],
         "z": [
          0,
          0
         ]
        },
        {
         "hovertemplate": "BallAndStick2[0].dend2(0.0496689)<br>10.942",
         "line": {
          "color": "#00ffff",
          "width": 2
         },
         "mode": "lines",
         "name": "",
         "type": "scatter3d",
         "uid": "dbb187ac-52a0-4a92-ac06-114540202961",
         "x": [
          5331.788079470199,
          5364.900662251655
         ],
         "y": [
          0,
          0
         ],
         "z": [
          0,
          0
         ]
        },
        {
         "hovertemplate": "BallAndStick2[0].dend2(0.0562914)<br>10.957",
         "line": {
          "color": "#00ffff",
          "width": 2
         },
         "mode": "lines",
         "name": "",
         "type": "scatter3d",
         "uid": "63bc748d-9c40-4839-ba6d-4a4e303465ea",
         "x": [
          5364.900662251655,
          5398.013245033113
         ],
         "y": [
          0,
          0
         ],
         "z": [
          0,
          0
         ]
        },
        {
         "hovertemplate": "BallAndStick2[0].dend2(0.0629139)<br>10.973",
         "line": {
          "color": "#00ffff",
          "width": 2
         },
         "mode": "lines",
         "name": "",
         "type": "scatter3d",
         "uid": "b7ae7746-eafd-4ffe-ba97-b1f682b88a50",
         "x": [
          5398.013245033113,
          5431.12582781457
         ],
         "y": [
          0,
          0
         ],
         "z": [
          0,
          0
         ]
        },
        {
         "hovertemplate": "BallAndStick2[0].dend2(0.0695364)<br>10.989",
         "line": {
          "color": "#00ffff",
          "width": 2
         },
         "mode": "lines",
         "name": "",
         "type": "scatter3d",
         "uid": "8764cab4-34e9-4565-9307-8d6f36c87fbd",
         "x": [
          5431.12582781457,
          5464.238410596026
         ],
         "y": [
          0,
          0
         ],
         "z": [
          0,
          0
         ]
        },
        {
         "hovertemplate": "BallAndStick2[0].dend2(0.0761589)<br>11.005",
         "line": {
          "color": "#01feff",
          "width": 2
         },
         "mode": "lines",
         "name": "",
         "type": "scatter3d",
         "uid": "ee08b381-1c6f-45f9-93c4-80fd4eb26b8b",
         "x": [
          5464.238410596026,
          5497.350993377483
         ],
         "y": [
          0,
          0
         ],
         "z": [
          0,
          0
         ]
        },
        {
         "hovertemplate": "BallAndStick2[0].dend2(0.0827815)<br>11.022",
         "line": {
          "color": "#01feff",
          "width": 2
         },
         "mode": "lines",
         "name": "",
         "type": "scatter3d",
         "uid": "0b25afea-a4a3-4056-afd5-893e04774e36",
         "x": [
          5497.350993377483,
          5530.463576158941
         ],
         "y": [
          0,
          0
         ],
         "z": [
          0,
          0
         ]
        },
        {
         "hovertemplate": "BallAndStick2[0].dend2(0.089404)<br>11.039",
         "line": {
          "color": "#01feff",
          "width": 2
         },
         "mode": "lines",
         "name": "",
         "type": "scatter3d",
         "uid": "ba18a999-91ed-43bf-b757-21e0f515dddb",
         "x": [
          5530.463576158941,
          5563.576158940397
         ],
         "y": [
          0,
          0
         ],
         "z": [
          0,
          0
         ]
        },
        {
         "hovertemplate": "BallAndStick2[0].dend2(0.0960265)<br>11.056",
         "line": {
          "color": "#01feff",
          "width": 2
         },
         "mode": "lines",
         "name": "",
         "type": "scatter3d",
         "uid": "07e0705e-04a5-4679-b6fe-21bc223d980f",
         "x": [
          5563.576158940397,
          5596.688741721854
         ],
         "y": [
          0,
          0
         ],
         "z": [
          0,
          0
         ]
        },
        {
         "hovertemplate": "BallAndStick2[0].dend2(0.102649)<br>11.074",
         "line": {
          "color": "#01feff",
          "width": 2
         },
         "mode": "lines",
         "name": "",
         "type": "scatter3d",
         "uid": "5458ae8e-f3fd-4883-8c2e-b819ff2a24f5",
         "x": [
          5596.688741721854,
          5629.801324503311
         ],
         "y": [
          0,
          0
         ],
         "z": [
          0,
          0
         ]
        },
        {
         "hovertemplate": "BallAndStick2[0].dend2(0.109272)<br>11.093",
         "line": {
          "color": "#01feff",
          "width": 2
         },
         "mode": "lines",
         "name": "",
         "type": "scatter3d",
         "uid": "38f8185c-21d9-493c-9d3f-4098f0a93e39",
         "x": [
          5629.801324503311,
          5662.913907284768
         ],
         "y": [
          0,
          0
         ],
         "z": [
          0,
          0
         ]
        },
        {
         "hovertemplate": "BallAndStick2[0].dend2(0.115894)<br>11.112",
         "line": {
          "color": "#01feff",
          "width": 2
         },
         "mode": "lines",
         "name": "",
         "type": "scatter3d",
         "uid": "2581cc5b-747e-45eb-8254-283029a9f17f",
         "x": [
          5662.913907284768,
          5696.026490066225
         ],
         "y": [
          0,
          0
         ],
         "z": [
          0,
          0
         ]
        },
        {
         "hovertemplate": "BallAndStick2[0].dend2(0.122517)<br>11.131",
         "line": {
          "color": "#01feff",
          "width": 2
         },
         "mode": "lines",
         "name": "",
         "type": "scatter3d",
         "uid": "616ad6d9-73a8-4ee8-bd91-0f3a72e8f29f",
         "x": [
          5696.026490066225,
          5729.139072847682
         ],
         "y": [
          0,
          0
         ],
         "z": [
          0,
          0
         ]
        },
        {
         "hovertemplate": "BallAndStick2[0].dend2(0.129139)<br>11.152",
         "line": {
          "color": "#01feff",
          "width": 2
         },
         "mode": "lines",
         "name": "",
         "type": "scatter3d",
         "uid": "59fd0e48-0216-47b8-a1ba-439c02a1a104",
         "x": [
          5729.139072847682,
          5762.251655629139
         ],
         "y": [
          0,
          0
         ],
         "z": [
          0,
          0
         ]
        },
        {
         "hovertemplate": "BallAndStick2[0].dend2(0.135762)<br>11.172",
         "line": {
          "color": "#01feff",
          "width": 2
         },
         "mode": "lines",
         "name": "",
         "type": "scatter3d",
         "uid": "676249d0-3202-4c19-959e-bc7813ad39cb",
         "x": [
          5762.251655629139,
          5795.364238410596
         ],
         "y": [
          0,
          0
         ],
         "z": [
          0,
          0
         ]
        },
        {
         "hovertemplate": "BallAndStick2[0].dend2(0.142384)<br>11.194",
         "line": {
          "color": "#01feff",
          "width": 2
         },
         "mode": "lines",
         "name": "",
         "type": "scatter3d",
         "uid": "4ad60770-ad1b-4a0c-a5b5-8a4f6d69f6b6",
         "x": [
          5795.364238410596,
          5828.476821192053
         ],
         "y": [
          0,
          0
         ],
         "z": [
          0,
          0
         ]
        },
        {
         "hovertemplate": "BallAndStick2[0].dend2(0.149007)<br>11.216",
         "line": {
          "color": "#02fdff",
          "width": 2
         },
         "mode": "lines",
         "name": "",
         "type": "scatter3d",
         "uid": "f04adcfb-4cf9-4348-a64d-4cf2123a6fe9",
         "x": [
          5828.476821192053,
          5861.58940397351
         ],
         "y": [
          0,
          0
         ],
         "z": [
          0,
          0
         ]
        },
        {
         "hovertemplate": "BallAndStick2[0].dend2(0.155629)<br>11.239",
         "line": {
          "color": "#02fdff",
          "width": 2
         },
         "mode": "lines",
         "name": "",
         "type": "scatter3d",
         "uid": "d23425d5-0ec1-41e3-bc37-77d506230a00",
         "x": [
          5861.58940397351,
          5894.701986754967
         ],
         "y": [
          0,
          0
         ],
         "z": [
          0,
          0
         ]
        },
        {
         "hovertemplate": "BallAndStick2[0].dend2(0.162252)<br>11.262",
         "line": {
          "color": "#02fdff",
          "width": 2
         },
         "mode": "lines",
         "name": "",
         "type": "scatter3d",
         "uid": "bed294f7-80d7-4bb7-9b23-f0cc2928a032",
         "x": [
          5894.701986754967,
          5927.814569536424
         ],
         "y": [
          0,
          0
         ],
         "z": [
          0,
          0
         ]
        },
        {
         "hovertemplate": "BallAndStick2[0].dend2(0.168874)<br>11.287",
         "line": {
          "color": "#02fdff",
          "width": 2
         },
         "mode": "lines",
         "name": "",
         "type": "scatter3d",
         "uid": "964480c1-7d7d-493f-b43d-7b84e255638d",
         "x": [
          5927.814569536424,
          5960.92715231788
         ],
         "y": [
          0,
          0
         ],
         "z": [
          0,
          0
         ]
        },
        {
         "hovertemplate": "BallAndStick2[0].dend2(0.175497)<br>11.312",
         "line": {
          "color": "#02fdff",
          "width": 2
         },
         "mode": "lines",
         "name": "",
         "type": "scatter3d",
         "uid": "0825e04f-4511-4807-acd8-b1c8260c0fc0",
         "x": [
          5960.92715231788,
          5994.039735099338
         ],
         "y": [
          0,
          0
         ],
         "z": [
          0,
          0
         ]
        },
        {
         "hovertemplate": "BallAndStick2[0].dend2(0.182119)<br>11.338",
         "line": {
          "color": "#02fdff",
          "width": 2
         },
         "mode": "lines",
         "name": "",
         "type": "scatter3d",
         "uid": "57411f73-fb7b-41be-98e5-4bd45c630ad0",
         "x": [
          5994.039735099338,
          6027.152317880795
         ],
         "y": [
          0,
          0
         ],
         "z": [
          0,
          0
         ]
        },
        {
         "hovertemplate": "BallAndStick2[0].dend2(0.188742)<br>11.364",
         "line": {
          "color": "#02fdff",
          "width": 2
         },
         "mode": "lines",
         "name": "",
         "type": "scatter3d",
         "uid": "24d1bd60-4a75-4a4a-85a6-474d3f5a1fc6",
         "x": [
          6027.152317880795,
          6060.264900662251
         ],
         "y": [
          0,
          0
         ],
         "z": [
          0,
          0
         ]
        },
        {
         "hovertemplate": "BallAndStick2[0].dend2(0.195364)<br>11.392",
         "line": {
          "color": "#02fdff",
          "width": 2
         },
         "mode": "lines",
         "name": "",
         "type": "scatter3d",
         "uid": "fa5ab81b-d2a7-4592-93f0-c8bf46e23d35",
         "x": [
          6060.264900662251,
          6093.377483443708
         ],
         "y": [
          0,
          0
         ],
         "z": [
          0,
          0
         ]
        },
        {
         "hovertemplate": "BallAndStick2[0].dend2(0.201987)<br>11.420",
         "line": {
          "color": "#03fcff",
          "width": 2
         },
         "mode": "lines",
         "name": "",
         "type": "scatter3d",
         "uid": "5d8b586b-c12b-469b-90b2-65feb9b76103",
         "x": [
          6093.377483443708,
          6126.490066225166
         ],
         "y": [
          0,
          0
         ],
         "z": [
          0,
          0
         ]
        },
        {
         "hovertemplate": "BallAndStick2[0].dend2(0.208609)<br>11.450",
         "line": {
          "color": "#03fcff",
          "width": 2
         },
         "mode": "lines",
         "name": "",
         "type": "scatter3d",
         "uid": "33f04c96-7cc8-4958-88fd-5ccdb315940c",
         "x": [
          6126.490066225166,
          6159.602649006622
         ],
         "y": [
          0,
          0
         ],
         "z": [
          0,
          0
         ]
        },
        {
         "hovertemplate": "BallAndStick2[0].dend2(0.215232)<br>11.480",
         "line": {
          "color": "#03fcff",
          "width": 2
         },
         "mode": "lines",
         "name": "",
         "type": "scatter3d",
         "uid": "e1d437ff-4734-443f-993a-62583ff451f0",
         "x": [
          6159.602649006622,
          6192.715231788079
         ],
         "y": [
          0,
          0
         ],
         "z": [
          0,
          0
         ]
        },
        {
         "hovertemplate": "BallAndStick2[0].dend2(0.221854)<br>11.512",
         "line": {
          "color": "#03fcff",
          "width": 2
         },
         "mode": "lines",
         "name": "",
         "type": "scatter3d",
         "uid": "c5e6e84d-a4da-4a6b-bdaf-941fb45ad9c4",
         "x": [
          6192.715231788079,
          6225.827814569537
         ],
         "y": [
          0,
          0
         ],
         "z": [
          0,
          0
         ]
        },
        {
         "hovertemplate": "BallAndStick2[0].dend2(0.228477)<br>11.544",
         "line": {
          "color": "#03fcff",
          "width": 2
         },
         "mode": "lines",
         "name": "",
         "type": "scatter3d",
         "uid": "90e0082a-dad3-4720-ab85-da2ce0356109",
         "x": [
          6225.827814569537,
          6258.940397350993
         ],
         "y": [
          0,
          0
         ],
         "z": [
          0,
          0
         ]
        },
        {
         "hovertemplate": "BallAndStick2[0].dend2(0.235099)<br>11.578",
         "line": {
          "color": "#03fcff",
          "width": 2
         },
         "mode": "lines",
         "name": "",
         "type": "scatter3d",
         "uid": "96876322-1926-419d-b483-780ee2b7c424",
         "x": [
          6258.940397350993,
          6292.05298013245
         ],
         "y": [
          0,
          0
         ],
         "z": [
          0,
          0
         ]
        },
        {
         "hovertemplate": "BallAndStick2[0].dend2(0.241722)<br>11.613",
         "line": {
          "color": "#03fcff",
          "width": 2
         },
         "mode": "lines",
         "name": "",
         "type": "scatter3d",
         "uid": "889fd647-f5c6-4154-ab1f-eb43c3ed5f64",
         "x": [
          6292.05298013245,
          6325.165562913908
         ],
         "y": [
          0,
          0
         ],
         "z": [
          0,
          0
         ]
        },
        {
         "hovertemplate": "BallAndStick2[0].dend2(0.248344)<br>11.649",
         "line": {
          "color": "#04fbff",
          "width": 2
         },
         "mode": "lines",
         "name": "",
         "type": "scatter3d",
         "uid": "576456a2-0966-411f-8cf4-41d415963727",
         "x": [
          6325.165562913908,
          6358.278145695364
         ],
         "y": [
          0,
          0
         ],
         "z": [
          0,
          0
         ]
        },
        {
         "hovertemplate": "BallAndStick2[0].dend2(0.254967)<br>11.686",
         "line": {
          "color": "#04fbff",
          "width": 2
         },
         "mode": "lines",
         "name": "",
         "type": "scatter3d",
         "uid": "315cee89-94b7-4729-9214-06c9a4480e99",
         "x": [
          6358.278145695364,
          6391.390728476821
         ],
         "y": [
          0,
          0
         ],
         "z": [
          0,
          0
         ]
        },
        {
         "hovertemplate": "BallAndStick2[0].dend2(0.261589)<br>11.725",
         "line": {
          "color": "#04fbff",
          "width": 2
         },
         "mode": "lines",
         "name": "",
         "type": "scatter3d",
         "uid": "ab0528a3-ebe9-40a4-8ac8-d441975e586c",
         "x": [
          6391.390728476821,
          6424.503311258278
         ],
         "y": [
          0,
          0
         ],
         "z": [
          0,
          0
         ]
        },
        {
         "hovertemplate": "BallAndStick2[0].dend2(0.268212)<br>11.765",
         "line": {
          "color": "#04fbff",
          "width": 2
         },
         "mode": "lines",
         "name": "",
         "type": "scatter3d",
         "uid": "dbbfd81f-8ced-4a1e-8503-c0e70e28a25b",
         "x": [
          6424.503311258278,
          6457.6158940397345
         ],
         "y": [
          0,
          0
         ],
         "z": [
          0,
          0
         ]
        },
        {
         "hovertemplate": "BallAndStick2[0].dend2(0.274834)<br>11.807",
         "line": {
          "color": "#04fbff",
          "width": 2
         },
         "mode": "lines",
         "name": "",
         "type": "scatter3d",
         "uid": "fefa31ef-675e-49f1-9a74-0daff7817d12",
         "x": [
          6457.6158940397345,
          6490.728476821192
         ],
         "y": [
          0,
          0
         ],
         "z": [
          0,
          0
         ]
        },
        {
         "hovertemplate": "BallAndStick2[0].dend2(0.281457)<br>11.850",
         "line": {
          "color": "#05faff",
          "width": 2
         },
         "mode": "lines",
         "name": "",
         "type": "scatter3d",
         "uid": "f32912bc-f79e-4530-9e3f-40ec67952aed",
         "x": [
          6490.728476821192,
          6523.841059602649
         ],
         "y": [
          0,
          0
         ],
         "z": [
          0,
          0
         ]
        },
        {
         "hovertemplate": "BallAndStick2[0].dend2(0.288079)<br>11.895",
         "line": {
          "color": "#05faff",
          "width": 2
         },
         "mode": "lines",
         "name": "",
         "type": "scatter3d",
         "uid": "78e7cd91-7478-4e34-affc-9838b4fe7fe2",
         "x": [
          6523.841059602649,
          6556.9536423841055
         ],
         "y": [
          0,
          0
         ],
         "z": [
          0,
          0
         ]
        },
        {
         "hovertemplate": "BallAndStick2[0].dend2(0.294702)<br>11.941",
         "line": {
          "color": "#05faff",
          "width": 2
         },
         "mode": "lines",
         "name": "",
         "type": "scatter3d",
         "uid": "338ce81f-5b00-4e93-9350-a6a17e2c9591",
         "x": [
          6556.9536423841055,
          6590.066225165563
         ],
         "y": [
          0,
          0
         ],
         "z": [
          0,
          0
         ]
        },
        {
         "hovertemplate": "BallAndStick2[0].dend2(0.301325)<br>11.989",
         "line": {
          "color": "#05faff",
          "width": 2
         },
         "mode": "lines",
         "name": "",
         "type": "scatter3d",
         "uid": "9d0a73c8-6816-4533-bfab-5da4c769f861",
         "x": [
          6590.066225165563,
          6623.17880794702
         ],
         "y": [
          0,
          0
         ],
         "z": [
          0,
          0
         ]
        },
        {
         "hovertemplate": "BallAndStick2[0].dend2(0.307947)<br>12.038",
         "line": {
          "color": "#05faff",
          "width": 2
         },
         "mode": "lines",
         "name": "",
         "type": "scatter3d",
         "uid": "d7cfebd6-c4ef-4ab4-9653-887202194c82",
         "x": [
          6623.17880794702,
          6656.2913907284765
         ],
         "y": [
          0,
          0
         ],
         "z": [
          0,
          0
         ]
        },
        {
         "hovertemplate": "BallAndStick2[0].dend2(0.31457)<br>12.090",
         "line": {
          "color": "#06f9ff",
          "width": 2
         },
         "mode": "lines",
         "name": "",
         "type": "scatter3d",
         "uid": "65089b7d-82fa-4c0b-b724-6f5d027754b8",
         "x": [
          6656.2913907284765,
          6689.403973509934
         ],
         "y": [
          0,
          0
         ],
         "z": [
          0,
          0
         ]
        },
        {
         "hovertemplate": "BallAndStick2[0].dend2(0.321192)<br>12.143",
         "line": {
          "color": "#06f9ff",
          "width": 2
         },
         "mode": "lines",
         "name": "",
         "type": "scatter3d",
         "uid": "e563a8ce-bb87-4633-a8e4-83cf1bbec4af",
         "x": [
          6689.403973509934,
          6722.516556291391
         ],
         "y": [
          0,
          0
         ],
         "z": [
          0,
          0
         ]
        },
        {
         "hovertemplate": "BallAndStick2[0].dend2(0.327815)<br>12.198",
         "line": {
          "color": "#06f9ff",
          "width": 2
         },
         "mode": "lines",
         "name": "",
         "type": "scatter3d",
         "uid": "97dec71f-0f5c-41b7-95ad-531960bc3452",
         "x": [
          6722.516556291391,
          6755.6291390728475
         ],
         "y": [
          0,
          0
         ],
         "z": [
          0,
          0
         ]
        },
        {
         "hovertemplate": "BallAndStick2[0].dend2(0.334437)<br>12.255",
         "line": {
          "color": "#06f9ff",
          "width": 2
         },
         "mode": "lines",
         "name": "",
         "type": "scatter3d",
         "uid": "97e7d47e-2176-4ae3-9dcb-088a7bf26dba",
         "x": [
          6755.6291390728475,
          6788.741721854304
         ],
         "y": [
          0,
          0
         ],
         "z": [
          0,
          0
         ]
        },
        {
         "hovertemplate": "BallAndStick2[0].dend2(0.34106)<br>12.315",
         "line": {
          "color": "#07f8ff",
          "width": 2
         },
         "mode": "lines",
         "name": "",
         "type": "scatter3d",
         "uid": "600665dc-084e-4232-b34c-9ec4e2b5af53",
         "x": [
          6788.741721854304,
          6821.854304635761
         ],
         "y": [
          0,
          0
         ],
         "z": [
          0,
          0
         ]
        },
        {
         "hovertemplate": "BallAndStick2[0].dend2(0.347682)<br>12.376",
         "line": {
          "color": "#07f8ff",
          "width": 2
         },
         "mode": "lines",
         "name": "",
         "type": "scatter3d",
         "uid": "d44a3b24-dc08-48c3-ad32-ec0a04254507",
         "x": [
          6821.854304635761,
          6854.9668874172185
         ],
         "y": [
          0,
          0
         ],
         "z": [
          0,
          0
         ]
        },
        {
         "hovertemplate": "BallAndStick2[0].dend2(0.354305)<br>12.439",
         "line": {
          "color": "#07f8ff",
          "width": 2
         },
         "mode": "lines",
         "name": "",
         "type": "scatter3d",
         "uid": "b8e3a9c1-1ba6-4d2b-9a6a-2b38edb1d404",
         "x": [
          6854.9668874172185,
          6888.079470198675
         ],
         "y": [
          0,
          0
         ],
         "z": [
          0,
          0
         ]
        },
        {
         "hovertemplate": "BallAndStick2[0].dend2(0.360927)<br>12.505",
         "line": {
          "color": "#08f7ff",
          "width": 2
         },
         "mode": "lines",
         "name": "",
         "type": "scatter3d",
         "uid": "87f7e10d-35ed-4150-8be6-18606498d5db",
         "x": [
          6888.079470198675,
          6921.192052980132
         ],
         "y": [
          0,
          0
         ],
         "z": [
          0,
          0
         ]
        },
        {
         "hovertemplate": "BallAndStick2[0].dend2(0.36755)<br>12.573",
         "line": {
          "color": "#08f7ff",
          "width": 2
         },
         "mode": "lines",
         "name": "",
         "type": "scatter3d",
         "uid": "574bfed2-1639-45f2-8480-903e3ec93eda",
         "x": [
          6921.192052980132,
          6954.304635761589
         ],
         "y": [
          0,
          0
         ],
         "z": [
          0,
          0
         ]
        },
        {
         "hovertemplate": "BallAndStick2[0].dend2(0.374172)<br>12.644",
         "line": {
          "color": "#08f7ff",
          "width": 2
         },
         "mode": "lines",
         "name": "",
         "type": "scatter3d",
         "uid": "edb5b708-1237-4807-a74c-cb32a972d612",
         "x": [
          6954.304635761589,
          6987.417218543046
         ],
         "y": [
          0,
          0
         ],
         "z": [
          0,
          0
         ]
        },
        {
         "hovertemplate": "BallAndStick2[0].dend2(0.380795)<br>12.717",
         "line": {
          "color": "#09f6ff",
          "width": 2
         },
         "mode": "lines",
         "name": "",
         "type": "scatter3d",
         "uid": "751585e8-2e41-465e-a24b-d1345e4d51d7",
         "x": [
          6987.417218543046,
          7020.529801324503
         ],
         "y": [
          0,
          0
         ],
         "z": [
          0,
          0
         ]
        },
        {
         "hovertemplate": "BallAndStick2[0].dend2(0.387417)<br>12.794",
         "line": {
          "color": "#09f6ff",
          "width": 2
         },
         "mode": "lines",
         "name": "",
         "type": "scatter3d",
         "uid": "b8a5aa72-098e-4990-aa59-49b2506319a4",
         "x": [
          7020.529801324503,
          7053.64238410596
         ],
         "y": [
          0,
          0
         ],
         "z": [
          0,
          0
         ]
        },
        {
         "hovertemplate": "BallAndStick2[0].dend2(0.39404)<br>12.873",
         "line": {
          "color": "#09f6ff",
          "width": 2
         },
         "mode": "lines",
         "name": "",
         "type": "scatter3d",
         "uid": "8b56f64b-81de-42d1-ae01-23a8b52f6aaa",
         "x": [
          7053.64238410596,
          7086.754966887417
         ],
         "y": [
          0,
          0
         ],
         "z": [
          0,
          0
         ]
        },
        {
         "hovertemplate": "BallAndStick2[0].dend2(0.400662)<br>12.955",
         "line": {
          "color": "#0af5ff",
          "width": 2
         },
         "mode": "lines",
         "name": "",
         "type": "scatter3d",
         "uid": "fab91eac-de59-46b3-ad33-103eb8b98fd0",
         "x": [
          7086.754966887417,
          7119.867549668874
         ],
         "y": [
          0,
          0
         ],
         "z": [
          0,
          0
         ]
        },
        {
         "hovertemplate": "BallAndStick2[0].dend2(0.407285)<br>13.041",
         "line": {
          "color": "#0af5ff",
          "width": 2
         },
         "mode": "lines",
         "name": "",
         "type": "scatter3d",
         "uid": "05c3a12b-24dc-4598-acf8-4c6796b08bad",
         "x": [
          7119.867549668874,
          7152.980132450331
         ],
         "y": [
          0,
          0
         ],
         "z": [
          0,
          0
         ]
        },
        {
         "hovertemplate": "BallAndStick2[0].dend2(0.413907)<br>13.129",
         "line": {
          "color": "#0bf4ff",
          "width": 2
         },
         "mode": "lines",
         "name": "",
         "type": "scatter3d",
         "uid": "80c7824a-3ced-4ced-8992-c64432477b23",
         "x": [
          7152.980132450331,
          7186.092715231787
         ],
         "y": [
          0,
          0
         ],
         "z": [
          0,
          0
         ]
        },
        {
         "hovertemplate": "BallAndStick2[0].dend2(0.42053)<br>13.220",
         "line": {
          "color": "#0bf4ff",
          "width": 2
         },
         "mode": "lines",
         "name": "",
         "type": "scatter3d",
         "uid": "58316ac5-b118-4375-b6a3-012d8795e843",
         "x": [
          7186.092715231787,
          7219.205298013245
         ],
         "y": [
          0,
          0
         ],
         "z": [
          0,
          0
         ]
        },
        {
         "hovertemplate": "BallAndStick2[0].dend2(0.427152)<br>13.315",
         "line": {
          "color": "#0bf4ff",
          "width": 2
         },
         "mode": "lines",
         "name": "",
         "type": "scatter3d",
         "uid": "dad95d4d-ed80-4dcd-967a-a7e9ae189f61",
         "x": [
          7219.205298013245,
          7252.317880794702
         ],
         "y": [
          0,
          0
         ],
         "z": [
          0,
          0
         ]
        },
        {
         "hovertemplate": "BallAndStick2[0].dend2(0.433775)<br>13.414",
         "line": {
          "color": "#0cf3ff",
          "width": 2
         },
         "mode": "lines",
         "name": "",
         "type": "scatter3d",
         "uid": "6c3e2009-87c2-4537-a63d-3bc8452d662c",
         "x": [
          7252.317880794702,
          7285.430463576158
         ],
         "y": [
          0,
          0
         ],
         "z": [
          0,
          0
         ]
        },
        {
         "hovertemplate": "BallAndStick2[0].dend2(0.440397)<br>13.516",
         "line": {
          "color": "#0cf3ff",
          "width": 2
         },
         "mode": "lines",
         "name": "",
         "type": "scatter3d",
         "uid": "2ff1e75b-3cc7-44a6-bce8-e19ffc043c6e",
         "x": [
          7285.430463576158,
          7318.543046357616
         ],
         "y": [
          0,
          0
         ],
         "z": [
          0,
          0
         ]
        },
        {
         "hovertemplate": "BallAndStick2[0].dend2(0.44702)<br>13.621",
         "line": {
          "color": "#0df2ff",
          "width": 2
         },
         "mode": "lines",
         "name": "",
         "type": "scatter3d",
         "uid": "708aac38-c66d-4e85-baff-af84867105a2",
         "x": [
          7318.543046357616,
          7351.6556291390725
         ],
         "y": [
          0,
          0
         ],
         "z": [
          0,
          0
         ]
        },
        {
         "hovertemplate": "BallAndStick2[0].dend2(0.453642)<br>13.731",
         "line": {
          "color": "#0df2ff",
          "width": 2
         },
         "mode": "lines",
         "name": "",
         "type": "scatter3d",
         "uid": "4d1f701d-2545-45d3-891b-1962371db352",
         "x": [
          7351.6556291390725,
          7384.768211920529
         ],
         "y": [
          0,
          0
         ],
         "z": [
          0,
          0
         ]
        },
        {
         "hovertemplate": "BallAndStick2[0].dend2(0.460265)<br>13.844",
         "line": {
          "color": "#0ef1ff",
          "width": 2
         },
         "mode": "lines",
         "name": "",
         "type": "scatter3d",
         "uid": "9b1406f9-54fb-4bad-8805-0afffc7f0f6b",
         "x": [
          7384.768211920529,
          7417.880794701987
         ],
         "y": [
          0,
          0
         ],
         "z": [
          0,
          0
         ]
        },
        {
         "hovertemplate": "BallAndStick2[0].dend2(0.466887)<br>13.962",
         "line": {
          "color": "#0ef1ff",
          "width": 2
         },
         "mode": "lines",
         "name": "",
         "type": "scatter3d",
         "uid": "c4796065-e13c-413a-a5f7-ab384435b02c",
         "x": [
          7417.880794701987,
          7450.9933774834435
         ],
         "y": [
          0,
          0
         ],
         "z": [
          0,
          0
         ]
        },
        {
         "hovertemplate": "BallAndStick2[0].dend2(0.47351)<br>14.084",
         "line": {
          "color": "#0ff0ff",
          "width": 2
         },
         "mode": "lines",
         "name": "",
         "type": "scatter3d",
         "uid": "4394403e-5c14-4a5a-b469-8965d4872abe",
         "x": [
          7450.9933774834435,
          7484.1059602649
         ],
         "y": [
          0,
          0
         ],
         "z": [
          0,
          0
         ]
        },
        {
         "hovertemplate": "BallAndStick2[0].dend2(0.480132)<br>14.210",
         "line": {
          "color": "#10efff",
          "width": 2
         },
         "mode": "lines",
         "name": "",
         "type": "scatter3d",
         "uid": "d835c511-457d-443c-80f7-2a739914e410",
         "x": [
          7484.1059602649,
          7517.218543046358
         ],
         "y": [
          0,
          0
         ],
         "z": [
          0,
          0
         ]
        },
        {
         "hovertemplate": "BallAndStick2[0].dend2(0.486755)<br>14.341",
         "line": {
          "color": "#10efff",
          "width": 2
         },
         "mode": "lines",
         "name": "",
         "type": "scatter3d",
         "uid": "c5d4e2a1-daf4-4c2a-bb82-11087810b47a",
         "x": [
          7517.218543046358,
          7550.3311258278145
         ],
         "y": [
          0,
          0
         ],
         "z": [
          0,
          0
         ]
        },
        {
         "hovertemplate": "BallAndStick2[0].dend2(0.493377)<br>14.478",
         "line": {
          "color": "#11eeff",
          "width": 2
         },
         "mode": "lines",
         "name": "",
         "type": "scatter3d",
         "uid": "c867312c-1ae6-494f-a50e-9d0560f391a6",
         "x": [
          7550.3311258278145,
          7583.443708609271
         ],
         "y": [
          0,
          0
         ],
         "z": [
          0,
          0
         ]
        },
        {
         "hovertemplate": "BallAndStick2[0].dend2(0.5)<br>14.620",
         "line": {
          "color": "#12edff",
          "width": 2
         },
         "mode": "lines",
         "name": "",
         "type": "scatter3d",
         "uid": "be27d5dc-2edf-46c2-bb31-4384a1932e37",
         "x": [
          7583.443708609271,
          7600,
          7616.556291390729
         ],
         "y": [
          0,
          0,
          0
         ],
         "z": [
          0,
          0,
          0
         ]
        },
        {
         "hovertemplate": "BallAndStick2[0].dend2(0.506623)<br>14.767",
         "line": {
          "color": "#12edff",
          "width": 2
         },
         "mode": "lines",
         "name": "",
         "type": "scatter3d",
         "uid": "ed17e9d9-8330-42b8-84a2-758cb1fdb9c8",
         "x": [
          7616.556291390729,
          7649.668874172185
         ],
         "y": [
          0,
          0
         ],
         "z": [
          0,
          0
         ]
        },
        {
         "hovertemplate": "BallAndStick2[0].dend2(0.513245)<br>14.919",
         "line": {
          "color": "#13ecff",
          "width": 2
         },
         "mode": "lines",
         "name": "",
         "type": "scatter3d",
         "uid": "e2210693-2505-4aa8-bb5b-54c744d84a4e",
         "x": [
          7649.668874172185,
          7682.781456953642
         ],
         "y": [
          0,
          0
         ],
         "z": [
          0,
          0
         ]
        },
        {
         "hovertemplate": "BallAndStick2[0].dend2(0.519868)<br>15.078",
         "line": {
          "color": "#14ebff",
          "width": 2
         },
         "mode": "lines",
         "name": "",
         "type": "scatter3d",
         "uid": "eef0ceec-49a2-4942-9e4a-ec8f97fba915",
         "x": [
          7682.781456953642,
          7715.894039735099
         ],
         "y": [
          0,
          0
         ],
         "z": [
          0,
          0
         ]
        },
        {
         "hovertemplate": "BallAndStick2[0].dend2(0.52649)<br>15.242",
         "line": {
          "color": "#15eaff",
          "width": 2
         },
         "mode": "lines",
         "name": "",
         "type": "scatter3d",
         "uid": "ee864bf5-9c62-4b5c-8762-1ff5f5063a44",
         "x": [
          7715.894039735099,
          7749.006622516556
         ],
         "y": [
          0,
          0
         ],
         "z": [
          0,
          0
         ]
        },
        {
         "hovertemplate": "BallAndStick2[0].dend2(0.533113)<br>15.412",
         "line": {
          "color": "#15eaff",
          "width": 2
         },
         "mode": "lines",
         "name": "",
         "type": "scatter3d",
         "uid": "53790d52-d7f5-44cb-8399-47fc10a63294",
         "x": [
          7749.006622516556,
          7782.119205298013
         ],
         "y": [
          0,
          0
         ],
         "z": [
          0,
          0
         ]
        },
        {
         "hovertemplate": "BallAndStick2[0].dend2(0.539735)<br>15.588",
         "line": {
          "color": "#16e9ff",
          "width": 2
         },
         "mode": "lines",
         "name": "",
         "type": "scatter3d",
         "uid": "1d243a0e-452d-44a5-b78d-411b800f5f64",
         "x": [
          7782.119205298013,
          7815.23178807947
         ],
         "y": [
          0,
          0
         ],
         "z": [
          0,
          0
         ]
        },
        {
         "hovertemplate": "BallAndStick2[0].dend2(0.546358)<br>15.771",
         "line": {
          "color": "#17e8ff",
          "width": 2
         },
         "mode": "lines",
         "name": "",
         "type": "scatter3d",
         "uid": "89dbb451-ae59-4334-bfdf-22deb24d7b92",
         "x": [
          7815.23178807947,
          7848.344370860927
         ],
         "y": [
          0,
          0
         ],
         "z": [
          0,
          0
         ]
        },
        {
         "hovertemplate": "BallAndStick2[0].dend2(0.55298)<br>15.960",
         "line": {
          "color": "#18e7ff",
          "width": 2
         },
         "mode": "lines",
         "name": "",
         "type": "scatter3d",
         "uid": "cb0d0e60-aa37-4ae0-b457-52be99f8a110",
         "x": [
          7848.344370860927,
          7881.456953642384
         ],
         "y": [
          0,
          0
         ],
         "z": [
          0,
          0
         ]
        },
        {
         "hovertemplate": "BallAndStick2[0].dend2(0.559603)<br>16.157",
         "line": {
          "color": "#19e6ff",
          "width": 2
         },
         "mode": "lines",
         "name": "",
         "type": "scatter3d",
         "uid": "0b23b168-ad99-425c-b5c3-b6bcacc2ad08",
         "x": [
          7881.456953642384,
          7914.569536423841
         ],
         "y": [
          0,
          0
         ],
         "z": [
          0,
          0
         ]
        },
        {
         "hovertemplate": "BallAndStick2[0].dend2(0.566225)<br>16.361",
         "line": {
          "color": "#1ae5ff",
          "width": 2
         },
         "mode": "lines",
         "name": "",
         "type": "scatter3d",
         "uid": "d944c2e0-306c-4ba5-a091-994e25ab751a",
         "x": [
          7914.569536423841,
          7947.682119205298
         ],
         "y": [
          0,
          0
         ],
         "z": [
          0,
          0
         ]
        },
        {
         "hovertemplate": "BallAndStick2[0].dend2(0.572848)<br>16.572",
         "line": {
          "color": "#1be4ff",
          "width": 2
         },
         "mode": "lines",
         "name": "",
         "type": "scatter3d",
         "uid": "f2711e32-433e-417d-b5f9-383f41d30b71",
         "x": [
          7947.682119205298,
          7980.794701986755
         ],
         "y": [
          0,
          0
         ],
         "z": [
          0,
          0
         ]
        },
        {
         "hovertemplate": "BallAndStick2[0].dend2(0.57947)<br>16.791",
         "line": {
          "color": "#1ce3ff",
          "width": 2
         },
         "mode": "lines",
         "name": "",
         "type": "scatter3d",
         "uid": "777367f1-1cef-4b4f-a20c-9601b7c1fb36",
         "x": [
          7980.794701986755,
          8013.907284768212
         ],
         "y": [
          0,
          0
         ],
         "z": [
          0,
          0
         ]
        },
        {
         "hovertemplate": "BallAndStick2[0].dend2(0.586093)<br>17.018",
         "line": {
          "color": "#1de2ff",
          "width": 2
         },
         "mode": "lines",
         "name": "",
         "type": "scatter3d",
         "uid": "596d03aa-7a1a-4928-8d97-0488ce84ff8c",
         "x": [
          8013.907284768212,
          8047.019867549669
         ],
         "y": [
          0,
          0
         ],
         "z": [
          0,
          0
         ]
        },
        {
         "hovertemplate": "BallAndStick2[0].dend2(0.592715)<br>17.253",
         "line": {
          "color": "#1ee1ff",
          "width": 2
         },
         "mode": "lines",
         "name": "",
         "type": "scatter3d",
         "uid": "5d538551-af62-4daf-8eba-fda8bcece82e",
         "x": [
          8047.019867549669,
          8080.132450331126
         ],
         "y": [
          0,
          0
         ],
         "z": [
          0,
          0
         ]
        },
        {
         "hovertemplate": "BallAndStick2[0].dend2(0.599338)<br>17.497",
         "line": {
          "color": "#1fe0ff",
          "width": 2
         },
         "mode": "lines",
         "name": "",
         "type": "scatter3d",
         "uid": "4069e3e7-8420-420c-842e-e2dd911bc6ad",
         "x": [
          8080.132450331126,
          8113.245033112582
         ],
         "y": [
          0,
          0
         ],
         "z": [
          0,
          0
         ]
        },
        {
         "hovertemplate": "BallAndStick2[0].dend2(0.60596)<br>17.752",
         "line": {
          "color": "#20dfff",
          "width": 2
         },
         "mode": "lines",
         "name": "",
         "type": "scatter3d",
         "uid": "78b3b1ab-a17f-4173-8737-eda2600771de",
         "x": [
          8113.245033112582,
          8146.35761589404
         ],
         "y": [
          0,
          0
         ],
         "z": [
          0,
          0
         ]
        },
        {
         "hovertemplate": "BallAndStick2[0].dend2(0.612583)<br>18.016",
         "line": {
          "color": "#22ddff",
          "width": 2
         },
         "mode": "lines",
         "name": "",
         "type": "scatter3d",
         "uid": "813da771-9ca3-4bf5-94fe-3409fa22b037",
         "x": [
          8146.35761589404,
          8179.470198675496
         ],
         "y": [
          0,
          0
         ],
         "z": [
          0,
          0
         ]
        },
        {
         "hovertemplate": "BallAndStick2[0].dend2(0.619205)<br>18.290",
         "line": {
          "color": "#23dcff",
          "width": 2
         },
         "mode": "lines",
         "name": "",
         "type": "scatter3d",
         "uid": "8c8850c7-cfda-4069-8ac7-fcadbfea6da6",
         "x": [
          8179.470198675496,
          8212.582781456953
         ],
         "y": [
          0,
          0
         ],
         "z": [
          0,
          0
         ]
        },
        {
         "hovertemplate": "BallAndStick2[0].dend2(0.625828)<br>18.574",
         "line": {
          "color": "#24dbff",
          "width": 2
         },
         "mode": "lines",
         "name": "",
         "type": "scatter3d",
         "uid": "c4511705-a54a-4975-acf4-4fd7aca0f5ef",
         "x": [
          8212.582781456953,
          8245.69536423841
         ],
         "y": [
          0,
          0
         ],
         "z": [
          0,
          0
         ]
        },
        {
         "hovertemplate": "BallAndStick2[0].dend2(0.63245)<br>18.869",
         "line": {
          "color": "#26d9ff",
          "width": 2
         },
         "mode": "lines",
         "name": "",
         "type": "scatter3d",
         "uid": "e8f123e3-54e7-4553-88cd-2a83259427b5",
         "x": [
          8245.69536423841,
          8278.807947019868
         ],
         "y": [
          0,
          0
         ],
         "z": [
          0,
          0
         ]
        },
        {
         "hovertemplate": "BallAndStick2[0].dend2(0.639073)<br>19.174",
         "line": {
          "color": "#27d8ff",
          "width": 2
         },
         "mode": "lines",
         "name": "",
         "type": "scatter3d",
         "uid": "2b87ceb7-d736-453e-aa9b-29a9d3d6d124",
         "x": [
          8278.807947019868,
          8311.920529801324
         ],
         "y": [
          0,
          0
         ],
         "z": [
          0,
          0
         ]
        },
        {
         "hovertemplate": "BallAndStick2[0].dend2(0.645695)<br>19.491",
         "line": {
          "color": "#28d6ff",
          "width": 2
         },
         "mode": "lines",
         "name": "",
         "type": "scatter3d",
         "uid": "5a93dd19-e3b5-4bff-9f26-b8395e5baed9",
         "x": [
          8311.920529801324,
          8345.033112582782
         ],
         "y": [
          0,
          0
         ],
         "z": [
          0,
          0
         ]
        },
        {
         "hovertemplate": "BallAndStick2[0].dend2(0.652318)<br>19.819",
         "line": {
          "color": "#2ad5ff",
          "width": 2
         },
         "mode": "lines",
         "name": "",
         "type": "scatter3d",
         "uid": "f4312f7b-10e8-455f-8b83-e5050f013262",
         "x": [
          8345.033112582782,
          8378.145695364237
         ],
         "y": [
          0,
          0
         ],
         "z": [
          0,
          0
         ]
        },
        {
         "hovertemplate": "BallAndStick2[0].dend2(0.65894)<br>20.160",
         "line": {
          "color": "#2cd3ff",
          "width": 2
         },
         "mode": "lines",
         "name": "",
         "type": "scatter3d",
         "uid": "474c9876-871f-4461-b9d0-f9d1e08aaae7",
         "x": [
          8378.145695364237,
          8411.258278145695
         ],
         "y": [
          0,
          0
         ],
         "z": [
          0,
          0
         ]
        },
        {
         "hovertemplate": "BallAndStick2[0].dend2(0.665563)<br>20.513",
         "line": {
          "color": "#2cd2ff",
          "width": 2
         },
         "mode": "lines",
         "name": "",
         "type": "scatter3d",
         "uid": "e5cf7567-da26-4343-97dd-cab5f881c754",
         "x": [
          8411.258278145695,
          8444.370860927153
         ],
         "y": [
          0,
          0
         ],
         "z": [
          0,
          0
         ]
        },
        {
         "hovertemplate": "BallAndStick2[0].dend2(0.672185)<br>20.879",
         "line": {
          "color": "#2fd0ff",
          "width": 2
         },
         "mode": "lines",
         "name": "",
         "type": "scatter3d",
         "uid": "5fd69fc0-2ad4-45f6-bc5e-ba1c32578bde",
         "x": [
          8444.370860927153,
          8477.483443708608
         ],
         "y": [
          0,
          0
         ],
         "z": [
          0,
          0
         ]
        },
        {
         "hovertemplate": "BallAndStick2[0].dend2(0.678808)<br>21.258",
         "line": {
          "color": "#30ceff",
          "width": 2
         },
         "mode": "lines",
         "name": "",
         "type": "scatter3d",
         "uid": "e0d02ce8-ba42-4c37-8569-45296badd856",
         "x": [
          8477.483443708608,
          8510.596026490066
         ],
         "y": [
          0,
          0
         ],
         "z": [
          0,
          0
         ]
        },
        {
         "hovertemplate": "BallAndStick2[0].dend2(0.68543)<br>21.652",
         "line": {
          "color": "#33ccff",
          "width": 2
         },
         "mode": "lines",
         "name": "",
         "type": "scatter3d",
         "uid": "69aacd73-de0a-4ef5-92ab-61be126bac0c",
         "x": [
          8510.596026490066,
          8543.708609271522
         ],
         "y": [
          0,
          0
         ],
         "z": [
          0,
          0
         ]
        },
        {
         "hovertemplate": "BallAndStick2[0].dend2(0.692053)<br>22.060",
         "line": {
          "color": "#34caff",
          "width": 2
         },
         "mode": "lines",
         "name": "",
         "type": "scatter3d",
         "uid": "991129ce-0a36-49a3-87c8-05c5b0bb163b",
         "x": [
          8543.708609271522,
          8576.82119205298
         ],
         "y": [
          0,
          0
         ],
         "z": [
          0,
          0
         ]
        },
        {
         "hovertemplate": "BallAndStick2[0].dend2(0.698675)<br>22.483",
         "line": {
          "color": "#37c8ff",
          "width": 2
         },
         "mode": "lines",
         "name": "",
         "type": "scatter3d",
         "uid": "784015f4-853b-42d6-82dd-f133d03364ff",
         "x": [
          8576.82119205298,
          8609.933774834437
         ],
         "y": [
          0,
          0
         ],
         "z": [
          0,
          0
         ]
        },
        {
         "hovertemplate": "BallAndStick2[0].dend2(0.705298)<br>22.921",
         "line": {
          "color": "#38c6ff",
          "width": 2
         },
         "mode": "lines",
         "name": "",
         "type": "scatter3d",
         "uid": "ce472ef0-e722-4dd5-94d9-166f119c033a",
         "x": [
          8609.933774834437,
          8643.046357615895
         ],
         "y": [
          0,
          0
         ],
         "z": [
          0,
          0
         ]
        },
        {
         "hovertemplate": "BallAndStick2[0].dend2(0.711921)<br>23.377",
         "line": {
          "color": "#3bc3ff",
          "width": 2
         },
         "mode": "lines",
         "name": "",
         "type": "scatter3d",
         "uid": "d0e7f7c6-1408-44ae-a0b9-d7c0c730ee04",
         "x": [
          8643.046357615895,
          8676.15894039735
         ],
         "y": [
          0,
          0
         ],
         "z": [
          0,
          0
         ]
        },
        {
         "hovertemplate": "BallAndStick2[0].dend2(0.718543)<br>23.852",
         "line": {
          "color": "#3cc2ff",
          "width": 2
         },
         "mode": "lines",
         "name": "",
         "type": "scatter3d",
         "uid": "d22185d8-c0d9-4322-8a33-b012435d05f5",
         "x": [
          8676.15894039735,
          8709.271523178808
         ],
         "y": [
          0,
          0
         ],
         "z": [
          0,
          0
         ]
        },
        {
         "hovertemplate": "BallAndStick2[0].dend2(0.725166)<br>24.344",
         "line": {
          "color": "#3fc0ff",
          "width": 2
         },
         "mode": "lines",
         "name": "",
         "type": "scatter3d",
         "uid": "6156e0e2-0f5d-49bc-9593-a98e54dabdf6",
         "x": [
          8709.271523178808,
          8742.384105960264
         ],
         "y": [
          0,
          0
         ],
         "z": [
          0,
          0
         ]
        },
        {
         "hovertemplate": "BallAndStick2[0].dend2(0.731788)<br>24.855",
         "line": {
          "color": "#41bdff",
          "width": 2
         },
         "mode": "lines",
         "name": "",
         "type": "scatter3d",
         "uid": "21df3ff3-8167-4b42-87d6-635df82b6053",
         "x": [
          8742.384105960264,
          8775.496688741721
         ],
         "y": [
          0,
          0
         ],
         "z": [
          0,
          0
         ]
        },
        {
         "hovertemplate": "BallAndStick2[0].dend2(0.738411)<br>25.384",
         "line": {
          "color": "#44bbff",
          "width": 2
         },
         "mode": "lines",
         "name": "",
         "type": "scatter3d",
         "uid": "2654f133-bab6-4b6b-a504-9aee84ff8c48",
         "x": [
          8775.496688741721,
          8808.609271523179
         ],
         "y": [
          0,
          0
         ],
         "z": [
          0,
          0
         ]
        },
        {
         "hovertemplate": "BallAndStick2[0].dend2(0.745033)<br>25.934",
         "line": {
          "color": "#47b8ff",
          "width": 2
         },
         "mode": "lines",
         "name": "",
         "type": "scatter3d",
         "uid": "1f1e0647-3ffa-464b-87b5-da21f9c5ff42",
         "x": [
          8808.609271523179,
          8841.721854304637
         ],
         "y": [
          0,
          0
         ],
         "z": [
          0,
          0
         ]
        },
        {
         "hovertemplate": "BallAndStick2[0].dend2(0.751656)<br>26.503",
         "line": {
          "color": "#49b5ff",
          "width": 2
         },
         "mode": "lines",
         "name": "",
         "type": "scatter3d",
         "uid": "517716da-3450-40c3-a5c3-1d82420e09d7",
         "x": [
          8841.721854304637,
          8874.834437086092
         ],
         "y": [
          0,
          0
         ],
         "z": [
          0,
          0
         ]
        },
        {
         "hovertemplate": "BallAndStick2[0].dend2(0.758278)<br>27.093",
         "line": {
          "color": "#4cb3ff",
          "width": 2
         },
         "mode": "lines",
         "name": "",
         "type": "scatter3d",
         "uid": "80f32e3d-69d5-40bd-bf00-13fb92105003",
         "x": [
          8874.834437086092,
          8907.94701986755
         ],
         "y": [
          0,
          0
         ],
         "z": [
          0,
          0
         ]
        },
        {
         "hovertemplate": "BallAndStick2[0].dend2(0.764901)<br>27.705",
         "line": {
          "color": "#4fb0ff",
          "width": 2
         },
         "mode": "lines",
         "name": "",
         "type": "scatter3d",
         "uid": "6a9eeeed-a3d4-45e9-a1e3-0df0f505ca19",
         "x": [
          8907.94701986755,
          8941.059602649006
         ],
         "y": [
          0,
          0
         ],
         "z": [
          0,
          0
         ]
        },
        {
         "hovertemplate": "BallAndStick2[0].dend2(0.771523)<br>28.340",
         "line": {
          "color": "#51adff",
          "width": 2
         },
         "mode": "lines",
         "name": "",
         "type": "scatter3d",
         "uid": "f5a2c9a8-570c-4e62-be1b-3cfc2268de1e",
         "x": [
          8941.059602649006,
          8974.172185430463
         ],
         "y": [
          0,
          0
         ],
         "z": [
          0,
          0
         ]
        },
        {
         "hovertemplate": "BallAndStick2[0].dend2(0.778146)<br>28.998",
         "line": {
          "color": "#55aaff",
          "width": 2
         },
         "mode": "lines",
         "name": "",
         "type": "scatter3d",
         "uid": "77562047-c9c1-4823-b028-6ca970a677e2",
         "x": [
          8974.172185430463,
          9007.28476821192
         ],
         "y": [
          0,
          0
         ],
         "z": [
          0,
          0
         ]
        },
        {
         "hovertemplate": "BallAndStick2[0].dend2(0.784768)<br>29.680",
         "line": {
          "color": "#58a7ff",
          "width": 2
         },
         "mode": "lines",
         "name": "",
         "type": "scatter3d",
         "uid": "8155d2ab-ce32-4b75-bf2a-a30e48b4f8c4",
         "x": [
          9007.28476821192,
          9040.397350993377
         ],
         "y": [
          0,
          0
         ],
         "z": [
          0,
          0
         ]
        },
        {
         "hovertemplate": "BallAndStick2[0].dend2(0.791391)<br>30.387",
         "line": {
          "color": "#5ca3ff",
          "width": 2
         },
         "mode": "lines",
         "name": "",
         "type": "scatter3d",
         "uid": "74c81240-a7c8-4a85-ba3c-1e52f2bad343",
         "x": [
          9040.397350993377,
          9073.509933774834
         ],
         "y": [
          0,
          0
         ],
         "z": [
          0,
          0
         ]
        },
        {
         "hovertemplate": "BallAndStick2[0].dend2(0.798013)<br>31.120",
         "line": {
          "color": "#5fa0ff",
          "width": 2
         },
         "mode": "lines",
         "name": "",
         "type": "scatter3d",
         "uid": "454b5db7-6e9a-497f-90fe-e7436535274e",
         "x": [
          9073.509933774834,
          9106.62251655629
         ],
         "y": [
          0,
          0
         ],
         "z": [
          0,
          0
         ]
        },
        {
         "hovertemplate": "BallAndStick2[0].dend2(0.804636)<br>31.880",
         "line": {
          "color": "#639cff",
          "width": 2
         },
         "mode": "lines",
         "name": "",
         "type": "scatter3d",
         "uid": "94344c7a-c458-4269-a0fa-75e021e7ff7a",
         "x": [
          9106.62251655629,
          9139.735099337748
         ],
         "y": [
          0,
          0
         ],
         "z": [
          0,
          0
         ]
        },
        {
         "hovertemplate": "BallAndStick2[0].dend2(0.811258)<br>32.668",
         "line": {
          "color": "#6798ff",
          "width": 2
         },
         "mode": "lines",
         "name": "",
         "type": "scatter3d",
         "uid": "4b57fd9f-8584-4e58-9d7c-c2cc7c774b39",
         "x": [
          9139.735099337748,
          9172.847682119205
         ],
         "y": [
          0,
          0
         ],
         "z": [
          0,
          0
         ]
        },
        {
         "hovertemplate": "BallAndStick2[0].dend2(0.817881)<br>33.485",
         "line": {
          "color": "#6995ff",
          "width": 2
         },
         "mode": "lines",
         "name": "",
         "type": "scatter3d",
         "uid": "1bdb0351-54f0-4a72-a335-fc7dbe6f482e",
         "x": [
          9172.847682119205,
          9205.960264900663
         ],
         "y": [
          0,
          0
         ],
         "z": [
          0,
          0
         ]
        },
        {
         "hovertemplate": "BallAndStick2[0].dend2(0.824503)<br>34.339",
         "line": {
          "color": "#6e91ff",
          "width": 2
         },
         "mode": "lines",
         "name": "",
         "type": "scatter3d",
         "uid": "998608dd-e156-44f5-ac49-8ae17a0d5407",
         "x": [
          9205.960264900663,
          9239.072847682119
         ],
         "y": [
          0,
          0
         ],
         "z": [
          0,
          0
         ]
        },
        {
         "hovertemplate": "BallAndStick2[0].dend2(0.831126)<br>35.224",
         "line": {
          "color": "#738cff",
          "width": 2
         },
         "mode": "lines",
         "name": "",
         "type": "scatter3d",
         "uid": "327c2f57-1228-4adb-8e40-cdb879725b6d",
         "x": [
          9239.072847682119,
          9272.185430463574
         ],
         "y": [
          0,
          0
         ],
         "z": [
          0,
          0
         ]
        },
        {
         "hovertemplate": "BallAndStick2[0].dend2(0.837748)<br>36.142",
         "line": {
          "color": "#7788ff",
          "width": 2
         },
         "mode": "lines",
         "name": "",
         "type": "scatter3d",
         "uid": "5432b9e2-f6b9-46f7-940b-f56541c0c277",
         "x": [
          9272.185430463574,
          9305.298013245032
         ],
         "y": [
          0,
          0
         ],
         "z": [
          0,
          0
         ]
        },
        {
         "hovertemplate": "BallAndStick2[0].dend2(0.844371)<br>37.094",
         "line": {
          "color": "#7b83ff",
          "width": 2
         },
         "mode": "lines",
         "name": "",
         "type": "scatter3d",
         "uid": "8e14ac55-e20c-433b-85c9-86c082b23d80",
         "x": [
          9305.298013245032,
          9338.41059602649
         ],
         "y": [
          0,
          0
         ],
         "z": [
          0,
          0
         ]
        },
        {
         "hovertemplate": "BallAndStick2[0].dend2(0.850993)<br>38.081",
         "line": {
          "color": "#807fff",
          "width": 2
         },
         "mode": "lines",
         "name": "",
         "type": "scatter3d",
         "uid": "223503e6-e2a0-42dd-874c-4eef72930a91",
         "x": [
          9338.41059602649,
          9371.523178807947
         ],
         "y": [
          0,
          0
         ],
         "z": [
          0,
          0
         ]
        },
        {
         "hovertemplate": "BallAndStick2[0].dend2(0.857616)<br>39.104",
         "line": {
          "color": "#8579ff",
          "width": 2
         },
         "mode": "lines",
         "name": "",
         "type": "scatter3d",
         "uid": "e9754ee4-403c-48c3-b3b8-362e0bfb3668",
         "x": [
          9371.523178807947,
          9404.635761589405
         ],
         "y": [
          0,
          0
         ],
         "z": [
          0,
          0
         ]
        },
        {
         "hovertemplate": "BallAndStick2[0].dend2(0.864238)<br>40.165",
         "line": {
          "color": "#8a75ff",
          "width": 2
         },
         "mode": "lines",
         "name": "",
         "type": "scatter3d",
         "uid": "77e70fe4-5b9c-45cd-be39-2ae8a2ca8c17",
         "x": [
          9404.635761589405,
          9437.74834437086
         ],
         "y": [
          0,
          0
         ],
         "z": [
          0,
          0
         ]
        },
        {
         "hovertemplate": "BallAndStick2[0].dend2(0.870861)<br>41.265",
         "line": {
          "color": "#8f70ff",
          "width": 2
         },
         "mode": "lines",
         "name": "",
         "type": "scatter3d",
         "uid": "a4f1d4d0-142a-4f6c-972a-873cbf0cbbef",
         "x": [
          9437.74834437086,
          9470.860927152316
         ],
         "y": [
          0,
          0
         ],
         "z": [
          0,
          0
         ]
        },
        {
         "hovertemplate": "BallAndStick2[0].dend2(0.877483)<br>42.406",
         "line": {
          "color": "#936bff",
          "width": 2
         },
         "mode": "lines",
         "name": "",
         "type": "scatter3d",
         "uid": "ecb233dc-d70a-4522-998f-e4d61df1794d",
         "x": [
          9470.860927152316,
          9503.973509933774
         ],
         "y": [
          0,
          0
         ],
         "z": [
          0,
          0
         ]
        },
        {
         "hovertemplate": "BallAndStick2[0].dend2(0.884106)<br>43.588",
         "line": {
          "color": "#9a65ff",
          "width": 2
         },
         "mode": "lines",
         "name": "",
         "type": "scatter3d",
         "uid": "d9794bec-508a-4c22-a418-83c6e166aa2b",
         "x": [
          9503.973509933774,
          9537.086092715232
         ],
         "y": [
          0,
          0
         ],
         "z": [
          0,
          0
         ]
        },
        {
         "hovertemplate": "BallAndStick2[0].dend2(0.890728)<br>44.815",
         "line": {
          "color": "#a05fff",
          "width": 2
         },
         "mode": "lines",
         "name": "",
         "type": "scatter3d",
         "uid": "232bf0e4-e0ec-4013-ac6c-83b239cd5d5a",
         "x": [
          9537.086092715232,
          9570.19867549669
         ],
         "y": [
          0,
          0
         ],
         "z": [
          0,
          0
         ]
        },
        {
         "hovertemplate": "BallAndStick2[0].dend2(0.897351)<br>46.086",
         "line": {
          "color": "#a659ff",
          "width": 2
         },
         "mode": "lines",
         "name": "",
         "type": "scatter3d",
         "uid": "de2ff8e2-b634-4106-8ffc-466a283ff3da",
         "x": [
          9570.19867549669,
          9603.311258278145
         ],
         "y": [
          0,
          0
         ],
         "z": [
          0,
          0
         ]
        },
        {
         "hovertemplate": "BallAndStick2[0].dend2(0.903974)<br>47.404",
         "line": {
          "color": "#ac52ff",
          "width": 2
         },
         "mode": "lines",
         "name": "",
         "type": "scatter3d",
         "uid": "dd081e11-de7d-48b3-8389-359595097afb",
         "x": [
          9603.311258278145,
          9636.423841059603
         ],
         "y": [
          0,
          0
         ],
         "z": [
          0,
          0
         ]
        },
        {
         "hovertemplate": "BallAndStick2[0].dend2(0.910596)<br>48.771",
         "line": {
          "color": "#b24dff",
          "width": 2
         },
         "mode": "lines",
         "name": "",
         "type": "scatter3d",
         "uid": "13696167-f21b-4f16-b111-2ff1b1abf2ee",
         "x": [
          9636.423841059603,
          9669.536423841058
         ],
         "y": [
          0,
          0
         ],
         "z": [
          0,
          0
         ]
        },
        {
         "hovertemplate": "BallAndStick2[0].dend2(0.917219)<br>50.187",
         "line": {
          "color": "#b946ff",
          "width": 2
         },
         "mode": "lines",
         "name": "",
         "type": "scatter3d",
         "uid": "20946d1f-ae50-496d-8e21-dc4f0f8f76f9",
         "x": [
          9669.536423841058,
          9702.649006622516
         ],
         "y": [
          0,
          0
         ],
         "z": [
          0,
          0
         ]
        },
        {
         "hovertemplate": "BallAndStick2[0].dend2(0.923841)<br>51.656",
         "line": {
          "color": "#c03fff",
          "width": 2
         },
         "mode": "lines",
         "name": "",
         "type": "scatter3d",
         "uid": "b91e68ef-52f5-448f-9b8d-f9438ee877de",
         "x": [
          9702.649006622516,
          9735.761589403974
         ],
         "y": [
          0,
          0
         ],
         "z": [
          0,
          0
         ]
        },
        {
         "hovertemplate": "BallAndStick2[0].dend2(0.930464)<br>53.186",
         "line": {
          "color": "#c738ff",
          "width": 2
         },
         "mode": "lines",
         "name": "",
         "type": "scatter3d",
         "uid": "899578de-6a76-4468-9778-044eb329166d",
         "x": [
          9735.761589403974,
          9768.874172185431
         ],
         "y": [
          0,
          0
         ],
         "z": [
          0,
          0
         ]
        },
        {
         "hovertemplate": "BallAndStick2[0].dend2(0.937086)<br>54.777",
         "line": {
          "color": "#cf30ff",
          "width": 2
         },
         "mode": "lines",
         "name": "",
         "type": "scatter3d",
         "uid": "4bcbee0e-28b3-4ea6-8a31-0ba7a20fc3da",
         "x": [
          9768.874172185431,
          9801.986754966887
         ],
         "y": [
          0,
          0
         ],
         "z": [
          0,
          0
         ]
        },
        {
         "hovertemplate": "BallAndStick2[0].dend2(0.943709)<br>56.427",
         "line": {
          "color": "#d628ff",
          "width": 2
         },
         "mode": "lines",
         "name": "",
         "type": "scatter3d",
         "uid": "e4796790-0fc7-4c37-b437-8585ba73260a",
         "x": [
          9801.986754966887,
          9835.099337748343
         ],
         "y": [
          0,
          0
         ],
         "z": [
          0,
          0
         ]
        },
        {
         "hovertemplate": "BallAndStick2[0].dend2(0.950331)<br>58.138",
         "line": {
          "color": "#de20ff",
          "width": 2
         },
         "mode": "lines",
         "name": "",
         "type": "scatter3d",
         "uid": "efcab45f-9d52-488f-bb6e-392b49450a40",
         "x": [
          9835.099337748343,
          9868.2119205298
         ],
         "y": [
          0,
          0
         ],
         "z": [
          0,
          0
         ]
        },
        {
         "hovertemplate": "BallAndStick2[0].dend2(0.956954)<br>59.912",
         "line": {
          "color": "#e718ff",
          "width": 2
         },
         "mode": "lines",
         "name": "",
         "type": "scatter3d",
         "uid": "a66e9eaf-2238-4324-91a6-e211f8df4b93",
         "x": [
          9868.2119205298,
          9901.324503311258
         ],
         "y": [
          0,
          0
         ],
         "z": [
          0,
          0
         ]
        },
        {
         "hovertemplate": "BallAndStick2[0].dend2(0.963576)<br>61.752",
         "line": {
          "color": "#ef10ff",
          "width": 2
         },
         "mode": "lines",
         "name": "",
         "type": "scatter3d",
         "uid": "bb9d8a71-a285-4c6f-b8b9-431b99c3bb48",
         "x": [
          9901.324503311258,
          9934.437086092716
         ],
         "y": [
          0,
          0
         ],
         "z": [
          0,
          0
         ]
        },
        {
         "hovertemplate": "BallAndStick2[0].dend2(0.970199)<br>63.659",
         "line": {
          "color": "#f807ff",
          "width": 2
         },
         "mode": "lines",
         "name": "",
         "type": "scatter3d",
         "uid": "5a426322-f046-41e2-9b8b-387e219fd4bb",
         "x": [
          9934.437086092716,
          9967.549668874171
         ],
         "y": [
          0,
          0
         ],
         "z": [
          0,
          0
         ]
        },
        {
         "hovertemplate": "BallAndStick2[0].dend2(0.976821)<br>64.892",
         "line": {
          "color": "#fe00ff",
          "width": 2
         },
         "mode": "lines",
         "name": "",
         "type": "scatter3d",
         "uid": "b724bf43-c5bd-47c7-93ed-a6dd61a52c3a",
         "x": [
          9967.549668874171,
          10000.662251655629
         ],
         "y": [
          0,
          0
         ],
         "z": [
          0,
          0
         ]
        },
        {
         "hovertemplate": "BallAndStick2[0].dend2(0.983444)<br>64.519",
         "line": {
          "color": "#fc02ff",
          "width": 2
         },
         "mode": "lines",
         "name": "",
         "type": "scatter3d",
         "uid": "9abc9f3c-4644-4425-adf6-778564aeab74",
         "x": [
          10000.662251655629,
          10033.774834437085
         ],
         "y": [
          0,
          0
         ],
         "z": [
          0,
          0
         ]
        },
        {
         "hovertemplate": "BallAndStick2[0].dend2(0.990066)<br>64.967",
         "line": {
          "color": "#ff00ff",
          "width": 2
         },
         "mode": "lines",
         "name": "",
         "type": "scatter3d",
         "uid": "40161a2e-952e-4742-a09d-2dec8edc6b61",
         "x": [
          10033.774834437085,
          10066.887417218542
         ],
         "y": [
          0,
          0
         ],
         "z": [
          0,
          0
         ]
        },
        {
         "hovertemplate": "BallAndStick2[0].dend2(0.996689)<br>64.729",
         "line": {
          "color": "#fd01ff",
          "width": 2
         },
         "mode": "lines",
         "name": "",
         "type": "scatter3d",
         "uid": "a990184f-7f5b-4fad-943f-918c72453b54",
         "x": [
          10066.887417218542,
          10100
         ],
         "y": [
          0,
          0
         ],
         "z": [
          0,
          0
         ]
        },
        {
         "marker": {
          "cmax": 64.96687656765688,
          "cmin": 10.77712174895747,
          "colorbar": {
           "thickness": 20,
           "title": {
            "text": "Max Shift"
           }
          },
          "colorscale": [
           [
            0,
            "rgb(0, 255, 255)"
           ],
           [
            0.00392156862745098,
            "rgb(1, 254, 255)"
           ],
           [
            0.00784313725490196,
            "rgb(2, 253, 255)"
           ],
           [
            0.011764705882352941,
            "rgb(3, 252, 255)"
           ],
           [
            0.01568627450980392,
            "rgb(4, 251, 255)"
           ],
           [
            0.0196078431372549,
            "rgb(5, 250, 255)"
           ],
           [
            0.023529411764705882,
            "rgb(6, 249, 255)"
           ],
           [
            0.027450980392156862,
            "rgb(7, 248, 255)"
           ],
           [
            0.03137254901960784,
            "rgb(8, 247, 255)"
           ],
           [
            0.03529411764705882,
            "rgb(9, 246, 255)"
           ],
           [
            0.0392156862745098,
            "rgb(10, 245, 255)"
           ],
           [
            0.043137254901960784,
            "rgb(11, 244, 255)"
           ],
           [
            0.047058823529411764,
            "rgb(12, 243, 255)"
           ],
           [
            0.050980392156862744,
            "rgb(13, 242, 255)"
           ],
           [
            0.054901960784313725,
            "rgb(14, 241, 255)"
           ],
           [
            0.058823529411764705,
            "rgb(15, 240, 255)"
           ],
           [
            0.06274509803921569,
            "rgb(16, 239, 255)"
           ],
           [
            0.06666666666666667,
            "rgb(17, 238, 255)"
           ],
           [
            0.07058823529411765,
            "rgb(18, 237, 255)"
           ],
           [
            0.07450980392156863,
            "rgb(19, 236, 255)"
           ],
           [
            0.0784313725490196,
            "rgb(20, 235, 255)"
           ],
           [
            0.08235294117647059,
            "rgb(21, 234, 255)"
           ],
           [
            0.08627450980392157,
            "rgb(22, 233, 255)"
           ],
           [
            0.09019607843137255,
            "rgb(23, 232, 255)"
           ],
           [
            0.09411764705882353,
            "rgb(24, 231, 255)"
           ],
           [
            0.09803921568627451,
            "rgb(25, 230, 255)"
           ],
           [
            0.10196078431372549,
            "rgb(26, 229, 255)"
           ],
           [
            0.10588235294117647,
            "rgb(27, 228, 255)"
           ],
           [
            0.10980392156862745,
            "rgb(28, 227, 255)"
           ],
           [
            0.11372549019607843,
            "rgb(29, 226, 255)"
           ],
           [
            0.11764705882352941,
            "rgb(30, 225, 255)"
           ],
           [
            0.12156862745098039,
            "rgb(31, 224, 255)"
           ],
           [
            0.12549019607843137,
            "rgb(32, 223, 255)"
           ],
           [
            0.12941176470588234,
            "rgb(32, 222, 255)"
           ],
           [
            0.13333333333333333,
            "rgb(34, 221, 255)"
           ],
           [
            0.13725490196078433,
            "rgb(35, 220, 255)"
           ],
           [
            0.1411764705882353,
            "rgb(36, 219, 255)"
           ],
           [
            0.14509803921568626,
            "rgb(36, 218, 255)"
           ],
           [
            0.14901960784313725,
            "rgb(38, 217, 255)"
           ],
           [
            0.15294117647058825,
            "rgb(39, 216, 255)"
           ],
           [
            0.1568627450980392,
            "rgb(40, 215, 255)"
           ],
           [
            0.16078431372549018,
            "rgb(40, 214, 255)"
           ],
           [
            0.16470588235294117,
            "rgb(42, 213, 255)"
           ],
           [
            0.16862745098039217,
            "rgb(43, 211, 255)"
           ],
           [
            0.17254901960784313,
            "rgb(44, 211, 255)"
           ],
           [
            0.1764705882352941,
            "rgb(44, 210, 255)"
           ],
           [
            0.1803921568627451,
            "rgb(46, 209, 255)"
           ],
           [
            0.1843137254901961,
            "rgb(47, 208, 255)"
           ],
           [
            0.18823529411764706,
            "rgb(48, 207, 255)"
           ],
           [
            0.19215686274509802,
            "rgb(48, 206, 255)"
           ],
           [
            0.19607843137254902,
            "rgb(50, 205, 255)"
           ],
           [
            0.2,
            "rgb(51, 204, 255)"
           ],
           [
            0.20392156862745098,
            "rgb(52, 203, 255)"
           ],
           [
            0.20784313725490194,
            "rgb(52, 202, 255)"
           ],
           [
            0.21176470588235294,
            "rgb(54, 201, 255)"
           ],
           [
            0.21568627450980393,
            "rgb(55, 200, 255)"
           ],
           [
            0.2196078431372549,
            "rgb(56, 199, 255)"
           ],
           [
            0.22352941176470587,
            "rgb(56, 198, 255)"
           ],
           [
            0.22745098039215686,
            "rgb(58, 197, 255)"
           ],
           [
            0.23137254901960785,
            "rgb(59, 195, 255)"
           ],
           [
            0.23529411764705882,
            "rgb(60, 195, 255)"
           ],
           [
            0.2392156862745098,
            "rgb(60, 194, 255)"
           ],
           [
            0.24313725490196078,
            "rgb(62, 193, 255)"
           ],
           [
            0.24705882352941178,
            "rgb(63, 192, 255)"
           ],
           [
            0.25098039215686274,
            "rgb(64, 191, 255)"
           ],
           [
            0.2549019607843137,
            "rgb(65, 190, 255)"
           ],
           [
            0.2588235294117647,
            "rgb(65, 189, 255)"
           ],
           [
            0.2627450980392157,
            "rgb(67, 188, 255)"
           ],
           [
            0.26666666666666666,
            "rgb(68, 187, 255)"
           ],
           [
            0.27058823529411763,
            "rgb(69, 186, 255)"
           ],
           [
            0.27450980392156865,
            "rgb(70, 185, 255)"
           ],
           [
            0.2784313725490196,
            "rgb(71, 184, 255)"
           ],
           [
            0.2823529411764706,
            "rgb(72, 183, 255)"
           ],
           [
            0.28627450980392155,
            "rgb(73, 182, 255)"
           ],
           [
            0.2901960784313725,
            "rgb(73, 181, 255)"
           ],
           [
            0.29411764705882354,
            "rgb(75, 179, 255)"
           ],
           [
            0.2980392156862745,
            "rgb(76, 179, 255)"
           ],
           [
            0.30196078431372547,
            "rgb(77, 178, 255)"
           ],
           [
            0.3058823529411765,
            "rgb(78, 177, 255)"
           ],
           [
            0.30980392156862746,
            "rgb(79, 176, 255)"
           ],
           [
            0.3137254901960784,
            "rgb(80, 175, 255)"
           ],
           [
            0.3176470588235294,
            "rgb(81, 174, 255)"
           ],
           [
            0.32156862745098036,
            "rgb(81, 173, 255)"
           ],
           [
            0.3254901960784314,
            "rgb(83, 172, 255)"
           ],
           [
            0.32941176470588235,
            "rgb(84, 171, 255)"
           ],
           [
            0.3333333333333333,
            "rgb(85, 170, 255)"
           ],
           [
            0.33725490196078434,
            "rgb(86, 169, 255)"
           ],
           [
            0.3411764705882353,
            "rgb(87, 168, 255)"
           ],
           [
            0.34509803921568627,
            "rgb(88, 167, 255)"
           ],
           [
            0.34901960784313724,
            "rgb(89, 166, 255)"
           ],
           [
            0.3529411764705882,
            "rgb(89, 165, 255)"
           ],
           [
            0.3568627450980392,
            "rgb(91, 163, 255)"
           ],
           [
            0.3607843137254902,
            "rgb(92, 163, 255)"
           ],
           [
            0.36470588235294116,
            "rgb(93, 162, 255)"
           ],
           [
            0.3686274509803922,
            "rgb(94, 161, 255)"
           ],
           [
            0.37254901960784315,
            "rgb(95, 160, 255)"
           ],
           [
            0.3764705882352941,
            "rgb(96, 159, 255)"
           ],
           [
            0.3803921568627451,
            "rgb(97, 158, 255)"
           ],
           [
            0.38431372549019605,
            "rgb(97, 157, 255)"
           ],
           [
            0.38823529411764707,
            "rgb(99, 156, 255)"
           ],
           [
            0.39215686274509803,
            "rgb(100, 155, 255)"
           ],
           [
            0.396078431372549,
            "rgb(101, 154, 255)"
           ],
           [
            0.4,
            "rgb(102, 153, 255)"
           ],
           [
            0.403921568627451,
            "rgb(103, 152, 255)"
           ],
           [
            0.40784313725490196,
            "rgb(104, 151, 255)"
           ],
           [
            0.4117647058823529,
            "rgb(105, 150, 255)"
           ],
           [
            0.4156862745098039,
            "rgb(105, 149, 255)"
           ],
           [
            0.4196078431372549,
            "rgb(107, 147, 255)"
           ],
           [
            0.4235294117647059,
            "rgb(108, 147, 255)"
           ],
           [
            0.42745098039215684,
            "rgb(109, 146, 255)"
           ],
           [
            0.43137254901960786,
            "rgb(110, 145, 255)"
           ],
           [
            0.43529411764705883,
            "rgb(111, 144, 255)"
           ],
           [
            0.4392156862745098,
            "rgb(112, 143, 255)"
           ],
           [
            0.44313725490196076,
            "rgb(113, 142, 255)"
           ],
           [
            0.44705882352941173,
            "rgb(113, 141, 255)"
           ],
           [
            0.45098039215686275,
            "rgb(115, 140, 255)"
           ],
           [
            0.4549019607843137,
            "rgb(116, 139, 255)"
           ],
           [
            0.4588235294117647,
            "rgb(117, 138, 255)"
           ],
           [
            0.4627450980392157,
            "rgb(118, 137, 255)"
           ],
           [
            0.4666666666666667,
            "rgb(119, 136, 255)"
           ],
           [
            0.47058823529411764,
            "rgb(120, 135, 255)"
           ],
           [
            0.4745098039215686,
            "rgb(121, 134, 255)"
           ],
           [
            0.4784313725490196,
            "rgb(121, 133, 255)"
           ],
           [
            0.4823529411764706,
            "rgb(123, 131, 255)"
           ],
           [
            0.48627450980392156,
            "rgb(124, 131, 255)"
           ],
           [
            0.49019607843137253,
            "rgb(125, 130, 255)"
           ],
           [
            0.49411764705882355,
            "rgb(126, 129, 255)"
           ],
           [
            0.4980392156862745,
            "rgb(127, 128, 255)"
           ],
           [
            0.5019607843137255,
            "rgb(128, 127, 255)"
           ],
           [
            0.5058823529411764,
            "rgb(129, 126, 255)"
           ],
           [
            0.5098039215686274,
            "rgb(130, 125, 255)"
           ],
           [
            0.5137254901960784,
            "rgb(131, 124, 255)"
           ],
           [
            0.5176470588235293,
            "rgb(131, 123, 255)"
           ],
           [
            0.5215686274509804,
            "rgb(133, 121, 255)"
           ],
           [
            0.5254901960784314,
            "rgb(134, 121, 255)"
           ],
           [
            0.5294117647058824,
            "rgb(135, 120, 255)"
           ],
           [
            0.5333333333333333,
            "rgb(136, 119, 255)"
           ],
           [
            0.5372549019607843,
            "rgb(137, 118, 255)"
           ],
           [
            0.5411764705882353,
            "rgb(138, 117, 255)"
           ],
           [
            0.5450980392156862,
            "rgb(139, 116, 255)"
           ],
           [
            0.5490196078431373,
            "rgb(140, 114, 255)"
           ],
           [
            0.5529411764705883,
            "rgb(141, 113, 255)"
           ],
           [
            0.5568627450980392,
            "rgb(142, 113, 255)"
           ],
           [
            0.5607843137254902,
            "rgb(143, 112, 255)"
           ],
           [
            0.5647058823529412,
            "rgb(144, 111, 255)"
           ],
           [
            0.5686274509803921,
            "rgb(145, 110, 255)"
           ],
           [
            0.5725490196078431,
            "rgb(146, 109, 255)"
           ],
           [
            0.5764705882352941,
            "rgb(147, 108, 255)"
           ],
           [
            0.580392156862745,
            "rgb(147, 107, 255)"
           ],
           [
            0.5843137254901961,
            "rgb(149, 105, 255)"
           ],
           [
            0.5882352941176471,
            "rgb(150, 105, 255)"
           ],
           [
            0.592156862745098,
            "rgb(151, 104, 255)"
           ],
           [
            0.596078431372549,
            "rgb(152, 103, 255)"
           ],
           [
            0.6,
            "rgb(153, 102, 255)"
           ],
           [
            0.6039215686274509,
            "rgb(154, 101, 255)"
           ],
           [
            0.6078431372549019,
            "rgb(155, 100, 255)"
           ],
           [
            0.611764705882353,
            "rgb(156, 98, 255)"
           ],
           [
            0.615686274509804,
            "rgb(157, 97, 255)"
           ],
           [
            0.6196078431372549,
            "rgb(158, 97, 255)"
           ],
           [
            0.6235294117647059,
            "rgb(159, 96, 255)"
           ],
           [
            0.6274509803921569,
            "rgb(160, 95, 255)"
           ],
           [
            0.6313725490196078,
            "rgb(161, 94, 255)"
           ],
           [
            0.6352941176470588,
            "rgb(162, 93, 255)"
           ],
           [
            0.6392156862745098,
            "rgb(163, 92, 255)"
           ],
           [
            0.6431372549019607,
            "rgb(163, 91, 255)"
           ],
           [
            0.6470588235294118,
            "rgb(165, 89, 255)"
           ],
           [
            0.6509803921568628,
            "rgb(166, 89, 255)"
           ],
           [
            0.6549019607843137,
            "rgb(167, 88, 255)"
           ],
           [
            0.6588235294117647,
            "rgb(168, 87, 255)"
           ],
           [
            0.6627450980392157,
            "rgb(169, 86, 255)"
           ],
           [
            0.6666666666666666,
            "rgb(170, 85, 255)"
           ],
           [
            0.6705882352941176,
            "rgb(171, 84, 255)"
           ],
           [
            0.6745098039215687,
            "rgb(172, 82, 255)"
           ],
           [
            0.6784313725490196,
            "rgb(173, 81, 255)"
           ],
           [
            0.6823529411764706,
            "rgb(174, 81, 255)"
           ],
           [
            0.6862745098039216,
            "rgb(175, 80, 255)"
           ],
           [
            0.6901960784313725,
            "rgb(176, 79, 255)"
           ],
           [
            0.6941176470588235,
            "rgb(177, 78, 255)"
           ],
           [
            0.6980392156862745,
            "rgb(178, 77, 255)"
           ],
           [
            0.7019607843137254,
            "rgb(179, 76, 255)"
           ],
           [
            0.7058823529411764,
            "rgb(179, 75, 255)"
           ],
           [
            0.7098039215686275,
            "rgb(181, 73, 255)"
           ],
           [
            0.7137254901960784,
            "rgb(182, 73, 255)"
           ],
           [
            0.7176470588235294,
            "rgb(183, 72, 255)"
           ],
           [
            0.7215686274509804,
            "rgb(184, 71, 255)"
           ],
           [
            0.7254901960784313,
            "rgb(185, 70, 255)"
           ],
           [
            0.7294117647058823,
            "rgb(186, 69, 255)"
           ],
           [
            0.7333333333333333,
            "rgb(187, 68, 255)"
           ],
           [
            0.7372549019607844,
            "rgb(188, 66, 255)"
           ],
           [
            0.7411764705882353,
            "rgb(189, 65, 255)"
           ],
           [
            0.7450980392156863,
            "rgb(190, 65, 255)"
           ],
           [
            0.7490196078431373,
            "rgb(191, 64, 255)"
           ],
           [
            0.7529411764705882,
            "rgb(192, 63, 255)"
           ],
           [
            0.7568627450980392,
            "rgb(193, 62, 255)"
           ],
           [
            0.7607843137254902,
            "rgb(194, 61, 255)"
           ],
           [
            0.7647058823529411,
            "rgb(195, 60, 255)"
           ],
           [
            0.7686274509803921,
            "rgb(195, 59, 255)"
           ],
           [
            0.7725490196078432,
            "rgb(197, 57, 255)"
           ],
           [
            0.7764705882352941,
            "rgb(198, 56, 255)"
           ],
           [
            0.7803921568627451,
            "rgb(199, 56, 255)"
           ],
           [
            0.7843137254901961,
            "rgb(200, 55, 255)"
           ],
           [
            0.788235294117647,
            "rgb(201, 54, 255)"
           ],
           [
            0.792156862745098,
            "rgb(202, 53, 255)"
           ],
           [
            0.796078431372549,
            "rgb(203, 52, 255)"
           ],
           [
            0.8,
            "rgb(204, 50, 255)"
           ],
           [
            0.803921568627451,
            "rgb(205, 49, 255)"
           ],
           [
            0.807843137254902,
            "rgb(206, 48, 255)"
           ],
           [
            0.8117647058823529,
            "rgb(207, 48, 255)"
           ],
           [
            0.8156862745098039,
            "rgb(208, 47, 255)"
           ],
           [
            0.8196078431372549,
            "rgb(209, 46, 255)"
           ],
           [
            0.8235294117647058,
            "rgb(210, 45, 255)"
           ],
           [
            0.8274509803921568,
            "rgb(211, 44, 255)"
           ],
           [
            0.8313725490196078,
            "rgb(211, 43, 255)"
           ],
           [
            0.8352941176470589,
            "rgb(213, 41, 255)"
           ],
           [
            0.8392156862745098,
            "rgb(214, 40, 255)"
           ],
           [
            0.8431372549019608,
            "rgb(215, 40, 255)"
           ],
           [
            0.8470588235294118,
            "rgb(216, 39, 255)"
           ],
           [
            0.8509803921568627,
            "rgb(217, 38, 255)"
           ],
           [
            0.8549019607843137,
            "rgb(218, 37, 255)"
           ],
           [
            0.8588235294117647,
            "rgb(219, 36, 255)"
           ],
           [
            0.8627450980392157,
            "rgb(220, 34, 255)"
           ],
           [
            0.8666666666666667,
            "rgb(221, 33, 255)"
           ],
           [
            0.8705882352941177,
            "rgb(222, 32, 255)"
           ],
           [
            0.8745098039215686,
            "rgb(223, 32, 255)"
           ],
           [
            0.8784313725490196,
            "rgb(224, 31, 255)"
           ],
           [
            0.8823529411764706,
            "rgb(225, 30, 255)"
           ],
           [
            0.8862745098039215,
            "rgb(226, 29, 255)"
           ],
           [
            0.8901960784313725,
            "rgb(227, 28, 255)"
           ],
           [
            0.8941176470588235,
            "rgb(227, 27, 255)"
           ],
           [
            0.8980392156862745,
            "rgb(229, 25, 255)"
           ],
           [
            0.9019607843137255,
            "rgb(230, 24, 255)"
           ],
           [
            0.9058823529411765,
            "rgb(231, 24, 255)"
           ],
           [
            0.9098039215686274,
            "rgb(232, 23, 255)"
           ],
           [
            0.9137254901960784,
            "rgb(233, 22, 255)"
           ],
           [
            0.9176470588235294,
            "rgb(234, 21, 255)"
           ],
           [
            0.9215686274509803,
            "rgb(235, 20, 255)"
           ],
           [
            0.9254901960784314,
            "rgb(236, 18, 255)"
           ],
           [
            0.9294117647058824,
            "rgb(237, 17, 255)"
           ],
           [
            0.9333333333333333,
            "rgb(238, 16, 255)"
           ],
           [
            0.9372549019607843,
            "rgb(239, 16, 255)"
           ],
           [
            0.9411764705882353,
            "rgb(240, 15, 255)"
           ],
           [
            0.9450980392156862,
            "rgb(241, 14, 255)"
           ],
           [
            0.9490196078431372,
            "rgb(242, 13, 255)"
           ],
           [
            0.9529411764705882,
            "rgb(243, 12, 255)"
           ],
           [
            0.9568627450980391,
            "rgb(243, 11, 255)"
           ],
           [
            0.9607843137254902,
            "rgb(245, 9, 255)"
           ],
           [
            0.9647058823529412,
            "rgb(246, 8, 255)"
           ],
           [
            0.9686274509803922,
            "rgb(247, 8, 255)"
           ],
           [
            0.9725490196078431,
            "rgb(248, 7, 255)"
           ],
           [
            0.9764705882352941,
            "rgb(249, 6, 255)"
           ],
           [
            0.9803921568627451,
            "rgb(250, 5, 255)"
           ],
           [
            0.984313725490196,
            "rgb(251, 4, 255)"
           ],
           [
            0.9882352941176471,
            "rgb(252, 2, 255)"
           ],
           [
            0.9921568627450981,
            "rgb(253, 1, 255)"
           ],
           [
            0.996078431372549,
            "rgb(254, 0, 255)"
           ],
           [
            1,
            "rgb(255, 0, 255)"
           ]
          ],
          "showscale": true
         },
         "mode": "markers",
         "type": "scatter",
         "uid": "37751251-0ada-46d8-9f09-54fbc19828d6",
         "x": [
          0
         ],
         "y": [
          0
         ]
        }
       ],
       "layout": {
        "plot_bgcolor": "rgba(0,0,0,0)",
        "showlegend": false,
        "template": {
         "data": {
          "bar": [
           {
            "error_x": {
             "color": "#2a3f5f"
            },
            "error_y": {
             "color": "#2a3f5f"
            },
            "marker": {
             "line": {
              "color": "#E5ECF6",
              "width": 0.5
             },
             "pattern": {
              "fillmode": "overlay",
              "size": 10,
              "solidity": 0.2
             }
            },
            "type": "bar"
           }
          ],
          "barpolar": [
           {
            "marker": {
             "line": {
              "color": "#E5ECF6",
              "width": 0.5
             },
             "pattern": {
              "fillmode": "overlay",
              "size": 10,
              "solidity": 0.2
             }
            },
            "type": "barpolar"
           }
          ],
          "carpet": [
           {
            "aaxis": {
             "endlinecolor": "#2a3f5f",
             "gridcolor": "white",
             "linecolor": "white",
             "minorgridcolor": "white",
             "startlinecolor": "#2a3f5f"
            },
            "baxis": {
             "endlinecolor": "#2a3f5f",
             "gridcolor": "white",
             "linecolor": "white",
             "minorgridcolor": "white",
             "startlinecolor": "#2a3f5f"
            },
            "type": "carpet"
           }
          ],
          "choropleth": [
           {
            "colorbar": {
             "outlinewidth": 0,
             "ticks": ""
            },
            "type": "choropleth"
           }
          ],
          "contour": [
           {
            "colorbar": {
             "outlinewidth": 0,
             "ticks": ""
            },
            "colorscale": [
             [
              0,
              "#0d0887"
             ],
             [
              0.1111111111111111,
              "#46039f"
             ],
             [
              0.2222222222222222,
              "#7201a8"
             ],
             [
              0.3333333333333333,
              "#9c179e"
             ],
             [
              0.4444444444444444,
              "#bd3786"
             ],
             [
              0.5555555555555556,
              "#d8576b"
             ],
             [
              0.6666666666666666,
              "#ed7953"
             ],
             [
              0.7777777777777778,
              "#fb9f3a"
             ],
             [
              0.8888888888888888,
              "#fdca26"
             ],
             [
              1,
              "#f0f921"
             ]
            ],
            "type": "contour"
           }
          ],
          "contourcarpet": [
           {
            "colorbar": {
             "outlinewidth": 0,
             "ticks": ""
            },
            "type": "contourcarpet"
           }
          ],
          "heatmap": [
           {
            "colorbar": {
             "outlinewidth": 0,
             "ticks": ""
            },
            "colorscale": [
             [
              0,
              "#0d0887"
             ],
             [
              0.1111111111111111,
              "#46039f"
             ],
             [
              0.2222222222222222,
              "#7201a8"
             ],
             [
              0.3333333333333333,
              "#9c179e"
             ],
             [
              0.4444444444444444,
              "#bd3786"
             ],
             [
              0.5555555555555556,
              "#d8576b"
             ],
             [
              0.6666666666666666,
              "#ed7953"
             ],
             [
              0.7777777777777778,
              "#fb9f3a"
             ],
             [
              0.8888888888888888,
              "#fdca26"
             ],
             [
              1,
              "#f0f921"
             ]
            ],
            "type": "heatmap"
           }
          ],
          "heatmapgl": [
           {
            "colorbar": {
             "outlinewidth": 0,
             "ticks": ""
            },
            "colorscale": [
             [
              0,
              "#0d0887"
             ],
             [
              0.1111111111111111,
              "#46039f"
             ],
             [
              0.2222222222222222,
              "#7201a8"
             ],
             [
              0.3333333333333333,
              "#9c179e"
             ],
             [
              0.4444444444444444,
              "#bd3786"
             ],
             [
              0.5555555555555556,
              "#d8576b"
             ],
             [
              0.6666666666666666,
              "#ed7953"
             ],
             [
              0.7777777777777778,
              "#fb9f3a"
             ],
             [
              0.8888888888888888,
              "#fdca26"
             ],
             [
              1,
              "#f0f921"
             ]
            ],
            "type": "heatmapgl"
           }
          ],
          "histogram": [
           {
            "marker": {
             "pattern": {
              "fillmode": "overlay",
              "size": 10,
              "solidity": 0.2
             }
            },
            "type": "histogram"
           }
          ],
          "histogram2d": [
           {
            "colorbar": {
             "outlinewidth": 0,
             "ticks": ""
            },
            "colorscale": [
             [
              0,
              "#0d0887"
             ],
             [
              0.1111111111111111,
              "#46039f"
             ],
             [
              0.2222222222222222,
              "#7201a8"
             ],
             [
              0.3333333333333333,
              "#9c179e"
             ],
             [
              0.4444444444444444,
              "#bd3786"
             ],
             [
              0.5555555555555556,
              "#d8576b"
             ],
             [
              0.6666666666666666,
              "#ed7953"
             ],
             [
              0.7777777777777778,
              "#fb9f3a"
             ],
             [
              0.8888888888888888,
              "#fdca26"
             ],
             [
              1,
              "#f0f921"
             ]
            ],
            "type": "histogram2d"
           }
          ],
          "histogram2dcontour": [
           {
            "colorbar": {
             "outlinewidth": 0,
             "ticks": ""
            },
            "colorscale": [
             [
              0,
              "#0d0887"
             ],
             [
              0.1111111111111111,
              "#46039f"
             ],
             [
              0.2222222222222222,
              "#7201a8"
             ],
             [
              0.3333333333333333,
              "#9c179e"
             ],
             [
              0.4444444444444444,
              "#bd3786"
             ],
             [
              0.5555555555555556,
              "#d8576b"
             ],
             [
              0.6666666666666666,
              "#ed7953"
             ],
             [
              0.7777777777777778,
              "#fb9f3a"
             ],
             [
              0.8888888888888888,
              "#fdca26"
             ],
             [
              1,
              "#f0f921"
             ]
            ],
            "type": "histogram2dcontour"
           }
          ],
          "mesh3d": [
           {
            "colorbar": {
             "outlinewidth": 0,
             "ticks": ""
            },
            "type": "mesh3d"
           }
          ],
          "parcoords": [
           {
            "line": {
             "colorbar": {
              "outlinewidth": 0,
              "ticks": ""
             }
            },
            "type": "parcoords"
           }
          ],
          "pie": [
           {
            "automargin": true,
            "type": "pie"
           }
          ],
          "scatter": [
           {
            "fillpattern": {
             "fillmode": "overlay",
             "size": 10,
             "solidity": 0.2
            },
            "type": "scatter"
           }
          ],
          "scatter3d": [
           {
            "line": {
             "colorbar": {
              "outlinewidth": 0,
              "ticks": ""
             }
            },
            "marker": {
             "colorbar": {
              "outlinewidth": 0,
              "ticks": ""
             }
            },
            "type": "scatter3d"
           }
          ],
          "scattercarpet": [
           {
            "marker": {
             "colorbar": {
              "outlinewidth": 0,
              "ticks": ""
             }
            },
            "type": "scattercarpet"
           }
          ],
          "scattergeo": [
           {
            "marker": {
             "colorbar": {
              "outlinewidth": 0,
              "ticks": ""
             }
            },
            "type": "scattergeo"
           }
          ],
          "scattergl": [
           {
            "marker": {
             "colorbar": {
              "outlinewidth": 0,
              "ticks": ""
             }
            },
            "type": "scattergl"
           }
          ],
          "scattermapbox": [
           {
            "marker": {
             "colorbar": {
              "outlinewidth": 0,
              "ticks": ""
             }
            },
            "type": "scattermapbox"
           }
          ],
          "scatterpolar": [
           {
            "marker": {
             "colorbar": {
              "outlinewidth": 0,
              "ticks": ""
             }
            },
            "type": "scatterpolar"
           }
          ],
          "scatterpolargl": [
           {
            "marker": {
             "colorbar": {
              "outlinewidth": 0,
              "ticks": ""
             }
            },
            "type": "scatterpolargl"
           }
          ],
          "scatterternary": [
           {
            "marker": {
             "colorbar": {
              "outlinewidth": 0,
              "ticks": ""
             }
            },
            "type": "scatterternary"
           }
          ],
          "surface": [
           {
            "colorbar": {
             "outlinewidth": 0,
             "ticks": ""
            },
            "colorscale": [
             [
              0,
              "#0d0887"
             ],
             [
              0.1111111111111111,
              "#46039f"
             ],
             [
              0.2222222222222222,
              "#7201a8"
             ],
             [
              0.3333333333333333,
              "#9c179e"
             ],
             [
              0.4444444444444444,
              "#bd3786"
             ],
             [
              0.5555555555555556,
              "#d8576b"
             ],
             [
              0.6666666666666666,
              "#ed7953"
             ],
             [
              0.7777777777777778,
              "#fb9f3a"
             ],
             [
              0.8888888888888888,
              "#fdca26"
             ],
             [
              1,
              "#f0f921"
             ]
            ],
            "type": "surface"
           }
          ],
          "table": [
           {
            "cells": {
             "fill": {
              "color": "#EBF0F8"
             },
             "line": {
              "color": "white"
             }
            },
            "header": {
             "fill": {
              "color": "#C8D4E3"
             },
             "line": {
              "color": "white"
             }
            },
            "type": "table"
           }
          ]
         },
         "layout": {
          "annotationdefaults": {
           "arrowcolor": "#2a3f5f",
           "arrowhead": 0,
           "arrowwidth": 1
          },
          "autotypenumbers": "strict",
          "coloraxis": {
           "colorbar": {
            "outlinewidth": 0,
            "ticks": ""
           }
          },
          "colorscale": {
           "diverging": [
            [
             0,
             "#8e0152"
            ],
            [
             0.1,
             "#c51b7d"
            ],
            [
             0.2,
             "#de77ae"
            ],
            [
             0.3,
             "#f1b6da"
            ],
            [
             0.4,
             "#fde0ef"
            ],
            [
             0.5,
             "#f7f7f7"
            ],
            [
             0.6,
             "#e6f5d0"
            ],
            [
             0.7,
             "#b8e186"
            ],
            [
             0.8,
             "#7fbc41"
            ],
            [
             0.9,
             "#4d9221"
            ],
            [
             1,
             "#276419"
            ]
           ],
           "sequential": [
            [
             0,
             "#0d0887"
            ],
            [
             0.1111111111111111,
             "#46039f"
            ],
            [
             0.2222222222222222,
             "#7201a8"
            ],
            [
             0.3333333333333333,
             "#9c179e"
            ],
            [
             0.4444444444444444,
             "#bd3786"
            ],
            [
             0.5555555555555556,
             "#d8576b"
            ],
            [
             0.6666666666666666,
             "#ed7953"
            ],
            [
             0.7777777777777778,
             "#fb9f3a"
            ],
            [
             0.8888888888888888,
             "#fdca26"
            ],
            [
             1,
             "#f0f921"
            ]
           ],
           "sequentialminus": [
            [
             0,
             "#0d0887"
            ],
            [
             0.1111111111111111,
             "#46039f"
            ],
            [
             0.2222222222222222,
             "#7201a8"
            ],
            [
             0.3333333333333333,
             "#9c179e"
            ],
            [
             0.4444444444444444,
             "#bd3786"
            ],
            [
             0.5555555555555556,
             "#d8576b"
            ],
            [
             0.6666666666666666,
             "#ed7953"
            ],
            [
             0.7777777777777778,
             "#fb9f3a"
            ],
            [
             0.8888888888888888,
             "#fdca26"
            ],
            [
             1,
             "#f0f921"
            ]
           ]
          },
          "colorway": [
           "#636efa",
           "#EF553B",
           "#00cc96",
           "#ab63fa",
           "#FFA15A",
           "#19d3f3",
           "#FF6692",
           "#B6E880",
           "#FF97FF",
           "#FECB52"
          ],
          "font": {
           "color": "#2a3f5f"
          },
          "geo": {
           "bgcolor": "white",
           "lakecolor": "white",
           "landcolor": "#E5ECF6",
           "showlakes": true,
           "showland": true,
           "subunitcolor": "white"
          },
          "hoverlabel": {
           "align": "left"
          },
          "hovermode": "closest",
          "mapbox": {
           "style": "light"
          },
          "paper_bgcolor": "white",
          "plot_bgcolor": "#E5ECF6",
          "polar": {
           "angularaxis": {
            "gridcolor": "white",
            "linecolor": "white",
            "ticks": ""
           },
           "bgcolor": "#E5ECF6",
           "radialaxis": {
            "gridcolor": "white",
            "linecolor": "white",
            "ticks": ""
           }
          },
          "scene": {
           "xaxis": {
            "backgroundcolor": "#E5ECF6",
            "gridcolor": "white",
            "gridwidth": 2,
            "linecolor": "white",
            "showbackground": true,
            "ticks": "",
            "zerolinecolor": "white"
           },
           "yaxis": {
            "backgroundcolor": "#E5ECF6",
            "gridcolor": "white",
            "gridwidth": 2,
            "linecolor": "white",
            "showbackground": true,
            "ticks": "",
            "zerolinecolor": "white"
           },
           "zaxis": {
            "backgroundcolor": "#E5ECF6",
            "gridcolor": "white",
            "gridwidth": 2,
            "linecolor": "white",
            "showbackground": true,
            "ticks": "",
            "zerolinecolor": "white"
           }
          },
          "shapedefaults": {
           "line": {
            "color": "#2a3f5f"
           }
          },
          "ternary": {
           "aaxis": {
            "gridcolor": "white",
            "linecolor": "white",
            "ticks": ""
           },
           "baxis": {
            "gridcolor": "white",
            "linecolor": "white",
            "ticks": ""
           },
           "bgcolor": "#E5ECF6",
           "caxis": {
            "gridcolor": "white",
            "linecolor": "white",
            "ticks": ""
           }
          },
          "title": {
           "x": 0.05
          },
          "xaxis": {
           "automargin": true,
           "gridcolor": "white",
           "linecolor": "white",
           "ticks": "",
           "title": {
            "standoff": 15
           },
           "zerolinecolor": "white",
           "zerolinewidth": 2
          },
          "yaxis": {
           "automargin": true,
           "gridcolor": "white",
           "linecolor": "white",
           "ticks": "",
           "title": {
            "standoff": 15
           },
           "zerolinecolor": "white",
           "zerolinewidth": 2
          }
         }
        },
        "xaxis": {
         "showgrid": false,
         "showticklabels": false
        },
        "yaxis": {
         "showgrid": false,
         "showticklabels": false
        }
       }
      }
     },
     "metadata": {},
     "output_type": "display_data"
    }
   ],
   "source": [
    "fig=maxv_shplot.plot_maxshift(maxshift,folder,cell)\n"
   ]
  },
  {
   "cell_type": "code",
   "execution_count": null,
   "metadata": {},
   "outputs": [
    {
     "name": "stdout",
     "output_type": "stream",
     "text": [
      "[64.37318126521001, 63.05004283075715, 61.13929616971897, 60.936737485876186, 64.75691643064488, 61.66880096903016, 58.32467968974245, 55.19598977610481, 52.2689420121733, 49.53062796155791, 46.9689637715081, 45.218414572618094, 43.660156067756, 42.15109339988342, 40.691818471828405, 39.282612529367896, 37.9234858606876, 36.61421351639667, 35.35436740921168, 34.143345121843645, 32.98039572357737, 31.864642870286296, 30.795105438999435, 29.770715926460753, 28.790336821238327, 27.85277514114808, 26.956795308406832, 26.10113052607882, 25.28449279703888, 24.50558171950631, 23.76309217964217, 23.05572105093595, 22.382173000315795, 21.741165491880174, 21.131433070882615, 20.551731003041915, 20.00083833733877, 19.477560454144545, 18.98073115475765, 18.509214343154376, 18.061905345950997, 17.656332831782066, 17.356431840980733, 17.065818629073476, 16.784507181662534, 16.51247627971121, 16.249673491298402, 15.996018836733057, 15.75140815000887, 15.515716156353285, 15.288799286049183, 15.070498242943266, 14.86064034509537, 14.659041653995416, 14.465508907790223, 14.279841273022022, 14.101831928482568, 13.931269493932326, 13.767939315621021, 13.611624619773977, 13.462107544476673, 13.319170059697072, 13.1825947845294, 13.052165710123987, 12.927668836183706, 12.808892728356653, 12.70756284321994, 12.622649498399468, 12.5404192446898, 12.460854322060747, 12.383930635230378, 12.309618460800401, 12.2378831021555, 12.168685495100348, 12.101982767106811, 12.037728752924295, 11.975874469187715, 11.916368550539786, 11.85915764966957, 11.804186803555538, 11.751399768090828, 11.70073932316047, 11.652147550135311, 11.60556608364562, 11.560936339398594, 11.518199719708875, 11.477297798319618, 11.438172486002628, 11.401286010999343, 11.372571375907626, 11.344774774681312, 11.31788744871141, 11.291899024195338, 11.26679769201094, 11.242570375020478, 11.21920288346923, 11.196680059118897, 11.174985908732971, 11.154103727506701, 11.13401621301157, 11.114705570200456, 11.096153607996271, 11.07834182796529, 11.06125150555281, 11.044863764338238, 11.029159643744272, 11.014120160615391, 10.999726365059438, 10.985959390927597, 10.972800501288297, 10.96141796902895, 10.951468661964704, 10.941864411460351, 10.932600654793333, 10.923672423383309, 10.915074391483635, 10.906800921456437, 10.898846105806726, 10.891203806143693, 10.88386768923241, 10.876831260291233, 10.870087893685657, 10.863630861161788, 10.857453357757677, 10.851548525524095, 10.845909475180974, 10.840529305829683, 10.83540112283628, 10.830518053994645, 10.825873264074211, 10.821459967850572, 10.81727144171387, 10.813301033943205, 10.809542173732538, 10.805988379047328, 10.802633263388003, 10.79947054153169, 10.796494034319409, 10.793697672552454, 10.791075500057381, 10.78862167597623, 10.786330476333973, 10.784196294933224, 10.782213643621489, 10.780377151974989, 10.778681566438244, 10.77712174895747, 10.779543195073543, 10.792057483992394, 10.80469364355146, 10.817468115197492, 10.830397512461552, 10.843511063506881, 10.856853861316068, 10.870406182762821, 10.884185872423757, 10.89821106144079, 10.912500190200873, 10.92707203138309, 10.941945713400415, 10.957140744263612, 10.972677035895323, 10.988574928923562, 11.004855217982104, 11.021539177549599, 11.038648588355898, 11.056205764387322, 11.074233580522012, 11.09275550082846, 11.111795607559003, 11.131378630872376, 11.151529979320898, 11.172295114757674, 11.193771321980194, 11.215906757574558, 11.238730451021908, 11.262272302709718, 11.286563121129532, 11.311634661158479, 11.33751966347073, 11.364251895124227, 11.39186619136931, 11.420398498730279, 11.449885919407265, 11.480366757052188, 11.511880563970713, 11.544468189806231, 11.578171831759676, 11.613035086407024, 11.649103003170652, 11.686422139509048, 11.725040617885725, 11.76517826669403, 11.806831640031753, 11.849961658588704, 11.894624556378098, 11.940878507154018, 11.988783696285438, 12.038402395031952, 12.089799037308879, 12.143040299029671, 12.198195180117963, 12.25533508928445, 12.314533931664975, 12.375868199423472, 12.439417065422312, 12.5052624800677, 12.573489271442192, 12.644185248839413, 12.717494097075921, 12.79396696708777, 12.87323442005522, 12.955399641398728, 13.040569485241804, 13.12885460616112, 13.220369595475923, 13.315233122237807, 13.413568079080747, 13.51550173310335, 13.621165881954077, 13.730697015302148, 13.84423648187731, 13.961930662272778, 14.083931147708618, 14.210394924960163, 14.341484567663741, 14.477694922895395, 14.619636080890018, 14.766807194211857, 14.919399651350055, 15.077611702673615, 15.241648704556113, 15.41172337198671, 15.588056039960662, 15.770874933950708, 15.960416449772062, 16.156925443161995, 16.360655529408277, 16.57186939337069, 16.790839110250687, 17.0178464774772, 17.253183358088236, 17.49715203600131, 17.751635317631894, 18.015906279906233, 18.289934542073325, 18.574076199618425, 18.86870014166049, 19.17418850475572, 19.490937142510006, 19.819356111545275, 20.159870174376792, 20.51291931978404, 20.87895930127145, 21.258462194238263, 21.651916972496792, 22.059830104799744, 22.48272617205921, 22.921148505963544, 23.37700969715521, 23.8519117157753, 24.344361866153946, 24.85500026442344, 25.38449004255289, 25.93351816425934, 26.50279626936986, 27.093061547605572, 27.70507764279556, 28.33963558856474, 28.997554776569913, 29.67968395839589, 30.386902282262028, 31.120120365729605, 31.8802814056327, 32.668362326503626, 33.48537496880759, 34.3389217174843, 35.224082097579384, 36.14194650717492, 37.09370729378857, 38.08059966884004, 39.10390322618219, 40.16494351356635, 41.26509365884634, 42.40577605280018, 43.58846409050153, 44.814683973244726, 46.086016573087925, 47.40409936215352, 48.770628408893245, 50.187360443598386, 51.65611499551545, 53.18602322126162, 54.77717723094166, 56.42713317475983, 58.1380351248909, 59.912104245032104, 61.75164152163339, 63.65903059034163, 64.89229920567612, 64.51887988663748, 64.96687656765688, 64.72896660389694]\n"
     ]
    }
   ],
   "source": [
    "print(maxshift)"
   ]
  },
  {
   "cell_type": "code",
   "execution_count": 6,
   "metadata": {},
   "outputs": [
    {
     "data": {
      "image/png": "[encoded data removed]",
      "text/plain": [
       "<Figure size 640x480 with 1 Axes>"
      ]
     },
     "metadata": {},
     "output_type": "display_data"
    }
   ],
   "source": [
    "plt.Figure()\n",
    "plt.plot(t,extracellular_v_soma,label=\"potential\")\n",
    "plt.xlabel(\"time(ms)\")\n",
    "plt.ylabel(\"Extracellular Voltage (mV)\")\n",
    "plt.legend()\n",
    "plt.show()"
   ]
  },
  {
   "cell_type": "code",
   "execution_count": null,
   "metadata": {},
   "outputs": [
    {
     "data": {
      "image/png": "[encoded data removed]",
      "text/plain": [
       "<Figure size 640x480 with 1 Axes>"
      ]
     },
     "metadata": {},
     "output_type": "display_data"
    },
    {
     "ename": "",
     "evalue": "",
     "output_type": "error",
     "traceback": [
      "\u001b[1;31mThe Kernel crashed while executing code in the current cell or a previous cell. \n",
      "\u001b[1;31mPlease review the code in the cell(s) to identify a possible cause of the failure. \n",
      "\u001b[1;31mClick <a href='https://aka.ms/vscodeJupyterKernelCrash'>here</a> for more info. \n",
      "\u001b[1;31mView Jupyter <a href='command:jupyter.viewOutput'>log</a> for further details."
     ]
    }
   ],
   "source": [
    "plt.Figure()\n",
    "plt.plot(t,soma_v,label=\"soma\")\n",
    "plt.plot(t,dend_v,label=\"dend\")\n",
    "plt.plot(t,dend2_v,label=\"dend2\")\n",
    "plt.xlabel(\"time(ms)\")\n",
    "plt.ylabel(\"Membrane Voltage (mV)\") #vint-vext~\n",
    "plt.legend()\n",
    "plt.show()"
   ]
  }
 ],
 "metadata": {
  "kernelspec": {
   "display_name": ".venv",
   "language": "python",
   "name": "python3"
  },
  "language_info": {
   "codemirror_mode": {
    "name": "ipython",
    "version": 3
   },
   "file_extension": ".py",
   "mimetype": "text/x-python",
   "name": "python",
   "nbconvert_exporter": "python",
   "pygments_lexer": "ipython3",
   "version": "3.12.5"
  }
 },
 "nbformat": 4,
 "nbformat_minor": 2
}
