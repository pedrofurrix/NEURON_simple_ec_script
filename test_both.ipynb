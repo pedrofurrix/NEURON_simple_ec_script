{
 "cells": [
  {
   "cell_type": "code",
   "execution_count": 1,
   "metadata": {},
   "outputs": [
    {
     "name": "stdout",
     "output_type": "stream",
     "text": [
      "c:\\Users\\Pc\\Documents\\Charite\\NEURON\\Extracellular_test\\Homogeneous_E-field\n",
      "c:\\Users\\Pc\\Documents\\Charite\\NEURON\\Extracellular_test\\Homogeneous_E-field\\mechanisms\\nrnmech.dll\n"
     ]
    },
    {
     "data": {
      "text/plain": [
       "0.0"
      ]
     },
     "execution_count": 1,
     "metadata": {},
     "output_type": "execute_result"
    }
   ],
   "source": [
    "# Import neuron\n",
    "from neuron import h\n",
    "\n",
    "# Import Mechanisms\n",
    "import os\n",
    "current_directory = os.getcwd()\n",
    "print(current_directory)\n",
    "path = os.path.join(current_directory, \"mechanisms\", \"nrnmech.dll\")\n",
    "print(path)\n",
    "h.nrn_load_dll(path)\n",
    "\n",
    "# Import utilities \n",
    "from neuron.units import ms,mV,um,V,m \n",
    "import matplotlib.pyplot as plt \n",
    "import numpy as np \n",
    "h.load_file(\"stdrun.hoc\")\n",
    "h.cvode_active(0) #turn off variable time step\n",
    "# h.load_file(\"anatscale.hoc\")"
   ]
  },
  {
   "cell_type": "code",
   "execution_count": 2,
   "metadata": {},
   "outputs": [
    {
     "name": "stdout",
     "output_type": "stream",
     "text": [
      "1 299\n",
      "After any change to cell geometry or nseg, be sure to invoke setpointers()\n"
     ]
    },
    {
     "data": {
      "text/plain": [
       "1.0"
      ]
     },
     "execution_count": 2,
     "metadata": {},
     "output_type": "execute_result"
    }
   ],
   "source": [
    "#Local Field Potential calculation\n",
    "#h.load_file(\"./functions/field.hoc\")\n",
    "\n",
    "##### Import cell model\n",
    "from functions.ballandstick import BallAndStick,BallAndStick_pas\n",
    "cell=BallAndStick(0,0,0,0,0,0)\n",
    "print(cell.soma.nseg,cell.dend.nseg)\n",
    "\n",
    "# Interpolate and set pointers between xtra and extracellular\n",
    "h.load_file(\"./functions/interpxyz.hoc\")\n",
    "h.load_file(\"./functions/setpointers.hoc\")"
   ]
  },
  {
   "cell_type": "code",
   "execution_count": 3,
   "metadata": {},
   "outputs": [],
   "source": [
    "from functions.calcrx import setelec,homogenous,set_uniform_field_between_plates\n",
    "\n",
    "v_plate=40*V #- potential difference between the plates\n",
    "distance=1*m #distance\n",
    "field_orientation=np.array([1,0,0])#along the x axis\n",
    "ref_point=[0,0,0] #reference point with a 0 e_extracellular\n",
    "\n",
    "set_uniform_field_between_plates(v_plate,distance,field_orientation,ref_point)"
   ]
  },
  {
   "cell_type": "code",
   "execution_count": 4,
   "metadata": {},
   "outputs": [],
   "source": [
    "dt=1*ms\n",
    "simtime=1000*ms\n",
    "depth=0\n",
    "modfreq=0\n",
    "v_init=-65*mV\n",
    "\n",
    "h.dt=dt\n",
    "h.v_init=v_init"
   ]
  },
  {
   "cell_type": "code",
   "execution_count": 5,
   "metadata": {},
   "outputs": [],
   "source": [
    "import functions.stim as stim\n",
    "ton=20\n",
    "amp=1000\n",
    "dur=900\n",
    "freq=10\n",
    "depth=1\n",
    "modfreq=5\n",
    "times,stim1=stim.ampmodulation_wiki(ton,amp,depth,dt,dur,simtime,freq,modfreq)"
   ]
  },
  {
   "cell_type": "code",
   "execution_count": 6,
   "metadata": {},
   "outputs": [
    {
     "name": "stdout",
     "output_type": "stream",
     "text": [
      "c:\\Users\\Pc\\Documents\\Charite\\NEURON\\Extracellular_test\\Homogeneous_E-field\n"
     ]
    }
   ],
   "source": [
    "simparams=[dt,simtime]\n",
    "stimparams=[v_plate,ton,amp,dur,freq,depth,modfreq]\n",
    "run_id=0\n",
    "#Save parameters to a file\n",
    "from functions.savedata import saveparams\n",
    "folder=saveparams(run_id,cell,simparams,stimparams)"
   ]
  },
  {
   "cell_type": "code",
   "execution_count": 7,
   "metadata": {},
   "outputs": [],
   "source": [
    "t=h.Vector().record(h._ref_t)\n",
    "is_xtra=h.Vector().record(h._ref_is_xtra)\n",
    "soma_v=h.Vector().record(cell.soma(0.5)._ref_v)\n",
    "dend_v=h.Vector().record(cell.dend(0.5)._ref_v)\n",
    "extracellular_v_soma = h.Vector().record(cell.soma(0.5)._ref_vext[0])"
   ]
  },
  {
   "cell_type": "code",
   "execution_count": 8,
   "metadata": {},
   "outputs": [],
   "source": [
    "from functions.calculate_max import max_shift,master_callback\n",
    "\n",
    "# results,callback=max_shift(cell)\n",
    "results, file, callbac = master_callback(cell, folder, run_id)"
   ]
  },
  {
   "cell_type": "code",
   "execution_count": 9,
   "metadata": {},
   "outputs": [
    {
     "data": {
      "text/plain": [
       "0.0"
      ]
     },
     "execution_count": 9,
     "metadata": {},
     "output_type": "execute_result"
    }
   ],
   "source": [
    "h.finitialize(v_init)\n",
    "h.continuerun(simtime)"
   ]
  },
  {
   "cell_type": "code",
   "execution_count": 10,
   "metadata": {},
   "outputs": [
    {
     "name": "stdout",
     "output_type": "stream",
     "text": [
      "{'max_v': 15.145056355912663, 'min_v': -115.67392970592743, 'max_seg': BallAndStick[0].soma(0.5), 'min_seg': BallAndStick[0].dend(0.998328), 'max_sec': BallAndStick[0].soma, 'min_sec': BallAndStick[0].dend}\n"
     ]
    }
   ],
   "source": [
    "print(results)"
   ]
  },
  {
   "cell_type": "code",
   "execution_count": null,
   "metadata": {},
   "outputs": [
    {
     "name": "stderr",
     "output_type": "stream",
     "text": [
      "NEURON: interpreter stack type error\n",
      " near line 0\n",
      " ^\n",
      "        PlotShape[0].mark(0.5, ..., 2, 6, 1)\n"
     ]
    },
    {
     "ename": "RuntimeError",
     "evalue": "hocobj_call error",
     "output_type": "error",
     "traceback": [
      "\u001b[1;31m---------------------------------------------------------------------------\u001b[0m",
      "\u001b[1;31mRuntimeError\u001b[0m                              Traceback (most recent call last)",
      "Cell \u001b[1;32mIn[11], line 2\u001b[0m\n\u001b[0;32m      1\u001b[0m \u001b[38;5;28;01mimport\u001b[39;00m \u001b[38;5;21;01mfunctions\u001b[39;00m\u001b[38;5;21;01m.\u001b[39;00m\u001b[38;5;21;01mshapeplot_movie\u001b[39;00m \u001b[38;5;28;01mas\u001b[39;00m \u001b[38;5;21;01mshplot\u001b[39;00m\n\u001b[1;32m----> 2\u001b[0m \u001b[43mshplot\u001b[49m\u001b[38;5;241;43m.\u001b[39;49m\u001b[43mplot_view_mark\u001b[49m\u001b[43m(\u001b[49m\u001b[43mresults\u001b[49m\u001b[43m)\u001b[49m \n",
      "File \u001b[1;32mc:\\Users\\Pc\\Documents\\Charite\\NEURON\\Extracellular_test\\Homogeneous_E-field\\functions\\shapeplot_movie.py:67\u001b[0m, in \u001b[0;36mplot_view_mark\u001b[1;34m(results)\u001b[0m\n\u001b[0;32m     65\u001b[0m \u001b[38;5;28;01mif\u001b[39;00m \u001b[38;5;124m\"\u001b[39m\u001b[38;5;124mmax_seg\u001b[39m\u001b[38;5;124m\"\u001b[39m \u001b[38;5;129;01min\u001b[39;00m results:\n\u001b[0;32m     66\u001b[0m     seg \u001b[38;5;241m=\u001b[39m results[\u001b[38;5;124m\"\u001b[39m\u001b[38;5;124mmax_seg\u001b[39m\u001b[38;5;124m\"\u001b[39m]\n\u001b[1;32m---> 67\u001b[0m     \u001b[43mps\u001b[49m\u001b[38;5;241;43m.\u001b[39;49m\u001b[43mmark\u001b[49m\u001b[43m(\u001b[49m\u001b[43mseg\u001b[49m\u001b[38;5;241;43m.\u001b[39;49m\u001b[43mx\u001b[49m\u001b[43m,\u001b[49m\u001b[43m \u001b[49m\u001b[43mseg\u001b[49m\u001b[38;5;241;43m.\u001b[39;49m\u001b[43msec\u001b[49m\u001b[43m,\u001b[49m\u001b[43m \u001b[49m\u001b[38;5;241;43m2\u001b[39;49m\u001b[43m,\u001b[49m\u001b[43m \u001b[49m\u001b[38;5;241;43m6\u001b[39;49m\u001b[43m,\u001b[49m\u001b[43m \u001b[49m\u001b[38;5;241;43m1\u001b[39;49m\u001b[43m)\u001b[49m  \u001b[38;5;66;03m# Positional arguments: x, section, color, size, marker\u001b[39;00m\n\u001b[0;32m     69\u001b[0m \u001b[38;5;66;03m# Mark the segment with the minimum voltage\u001b[39;00m\n\u001b[0;32m     70\u001b[0m \u001b[38;5;28;01mif\u001b[39;00m \u001b[38;5;124m\"\u001b[39m\u001b[38;5;124mmin_seg\u001b[39m\u001b[38;5;124m\"\u001b[39m \u001b[38;5;129;01min\u001b[39;00m results:\n",
      "\u001b[1;31mRuntimeError\u001b[0m: hocobj_call error"
     ]
    },
    {
     "ename": "",
     "evalue": "",
     "output_type": "error",
     "traceback": [
      "\u001b[1;31mThe Kernel crashed while executing code in the current cell or a previous cell. \n",
      "\u001b[1;31mPlease review the code in the cell(s) to identify a possible cause of the failure. \n",
      "\u001b[1;31mClick <a href='https://aka.ms/vscodeJupyterKernelCrash'>here</a> for more info. \n",
      "\u001b[1;31mView Jupyter <a href='command:jupyter.viewOutput'>log</a> for further details."
     ]
    }
   ],
   "source": [
    "import functions.shapeplot_movie as shplot\n",
    "shplot.plot_view_mark(results) "
   ]
  },
  {
   "cell_type": "code",
   "execution_count": null,
   "metadata": {},
   "outputs": [],
   "source": []
  }
 ],
 "metadata": {
  "kernelspec": {
   "display_name": ".venv",
   "language": "python",
   "name": "python3"
  },
  "language_info": {
   "codemirror_mode": {
    "name": "ipython",
    "version": 3
   },
   "file_extension": ".py",
   "mimetype": "text/x-python",
   "name": "python",
   "nbconvert_exporter": "python",
   "pygments_lexer": "ipython3",
   "version": "3.12.5"
  }
 },
 "nbformat": 4,
 "nbformat_minor": 2
}
